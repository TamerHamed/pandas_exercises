{
  "nbformat": 4,
  "nbformat_minor": 0,
  "metadata": {
    "kernelspec": {
      "display_name": "Python 3",
      "language": "python",
      "name": "python3"
    },
    "language_info": {
      "codemirror_mode": {
        "name": "ipython",
        "version": 3
      },
      "file_extension": ".py",
      "mimetype": "text/x-python",
      "name": "python",
      "nbconvert_exporter": "python",
      "pygments_lexer": "ipython3",
      "version": "3.7.3"
    },
    "colab": {
      "name": "01-classnotes-users.ipynb",
      "provenance": []
    }
  },
  "cells": [
    {
      "cell_type": "markdown",
      "metadata": {
        "id": "dDDW57Svq5iy",
        "colab_type": "text"
      },
      "source": [
        "## Exploratory Data Analysis (EDA)"
      ]
    },
    {
      "cell_type": "code",
      "metadata": {
        "id": "rcze7m6vq5i0",
        "colab_type": "code",
        "colab": {}
      },
      "source": [
        "import pandas as pd\n",
        "import os\n",
        "from pathlib import Path\n",
        "import numpy as np"
      ],
      "execution_count": null,
      "outputs": []
    },
    {
      "cell_type": "markdown",
      "metadata": {
        "id": "uUf55cN4q5i3",
        "colab_type": "text"
      },
      "source": [
        "#### Read in the `users` dataset"
      ]
    },
    {
      "cell_type": "code",
      "metadata": {
        "id": "g0BL14_vq5i4",
        "colab_type": "code",
        "colab": {}
      },
      "source": [
        "# wher are we?\n",
        "home = Path.cwd()"
      ],
      "execution_count": null,
      "outputs": []
    },
    {
      "cell_type": "code",
      "metadata": {
        "id": "XSX0U-_yq5i9",
        "colab_type": "code",
        "colab": {},
        "outputId": "d53b10be-d586-4b1f-e657-ae7632be30c1"
      },
      "source": [
        "# where is the data?\n",
        "data_dir = Path.joinpath(home.parent, 'data')\n",
        "data_dir"
      ],
      "execution_count": null,
      "outputs": [
        {
          "output_type": "execute_result",
          "data": {
            "text/plain": [
              "PosixPath('/Users/austinlasseter/atelier/generalassembly/python-2-dc/09-pandas-eda-1/data')"
            ]
          },
          "metadata": {
            "tags": []
          },
          "execution_count": 4
        }
      ]
    },
    {
      "cell_type": "code",
      "metadata": {
        "id": "5jtxCUjQq5jA",
        "colab_type": "code",
        "colab": {},
        "outputId": "06e2e89a-0170-4a22-89af-8581333cfebd"
      },
      "source": [
        "# what's in there?\n",
        "os.listdir(data_dir)"
      ],
      "execution_count": null,
      "outputs": [
        {
          "output_type": "execute_result",
          "data": {
            "text/plain": [
              "['Production.ProductSubcategory.csv',\n",
              " 'drinks.csv',\n",
              " 'imdb_1000.csv',\n",
              " 'ufo.csv',\n",
              " 'Sales.SalesOrderHeader.csv',\n",
              " 'titanic.csv',\n",
              " 'u.user',\n",
              " 'Sales.SalesOrderDetail.csv',\n",
              " 'Production.Product.csv']"
            ]
          },
          "metadata": {
            "tags": []
          },
          "execution_count": 5
        }
      ]
    },
    {
      "cell_type": "code",
      "metadata": {
        "id": "2ND6jPHRq5jD",
        "colab_type": "code",
        "colab": {}
      },
      "source": [
        "# create path to our file\n",
        "path2file = Path.joinpath(data_dir, 'u.user')"
      ],
      "execution_count": null,
      "outputs": []
    },
    {
      "cell_type": "code",
      "metadata": {
        "id": "aS69R32Wq5jG",
        "colab_type": "code",
        "colab": {},
        "outputId": "2c2e20ea-6eb8-4438-b627-c16928f871ad"
      },
      "source": [
        "# why is this wrong?\n",
        "users = pd.read_csv(path2file, sep='|')\n",
        "# user = pd.read_table(path2file)\n",
        "\n",
        "users.head()"
      ],
      "execution_count": null,
      "outputs": [
        {
          "output_type": "execute_result",
          "data": {
            "text/html": [
              "<div>\n",
              "<style scoped>\n",
              "    .dataframe tbody tr th:only-of-type {\n",
              "        vertical-align: middle;\n",
              "    }\n",
              "\n",
              "    .dataframe tbody tr th {\n",
              "        vertical-align: top;\n",
              "    }\n",
              "\n",
              "    .dataframe thead th {\n",
              "        text-align: right;\n",
              "    }\n",
              "</style>\n",
              "<table border=\"1\" class=\"dataframe\">\n",
              "  <thead>\n",
              "    <tr style=\"text-align: right;\">\n",
              "      <th></th>\n",
              "      <th>user_id</th>\n",
              "      <th>age</th>\n",
              "      <th>gender</th>\n",
              "      <th>occupation</th>\n",
              "      <th>zip_code</th>\n",
              "    </tr>\n",
              "  </thead>\n",
              "  <tbody>\n",
              "    <tr>\n",
              "      <th>0</th>\n",
              "      <td>1</td>\n",
              "      <td>24</td>\n",
              "      <td>M</td>\n",
              "      <td>technician</td>\n",
              "      <td>85711</td>\n",
              "    </tr>\n",
              "    <tr>\n",
              "      <th>1</th>\n",
              "      <td>2</td>\n",
              "      <td>53</td>\n",
              "      <td>F</td>\n",
              "      <td>other</td>\n",
              "      <td>94043</td>\n",
              "    </tr>\n",
              "    <tr>\n",
              "      <th>2</th>\n",
              "      <td>3</td>\n",
              "      <td>23</td>\n",
              "      <td>M</td>\n",
              "      <td>writer</td>\n",
              "      <td>32067</td>\n",
              "    </tr>\n",
              "    <tr>\n",
              "      <th>3</th>\n",
              "      <td>4</td>\n",
              "      <td>24</td>\n",
              "      <td>M</td>\n",
              "      <td>technician</td>\n",
              "      <td>43537</td>\n",
              "    </tr>\n",
              "    <tr>\n",
              "      <th>4</th>\n",
              "      <td>5</td>\n",
              "      <td>33</td>\n",
              "      <td>F</td>\n",
              "      <td>other</td>\n",
              "      <td>15213</td>\n",
              "    </tr>\n",
              "  </tbody>\n",
              "</table>\n",
              "</div>"
            ],
            "text/plain": [
              "   user_id  age gender  occupation zip_code\n",
              "0        1   24      M  technician    85711\n",
              "1        2   53      F       other    94043\n",
              "2        3   23      M      writer    32067\n",
              "3        4   24      M  technician    43537\n",
              "4        5   33      F       other    15213"
            ]
          },
          "metadata": {
            "tags": []
          },
          "execution_count": 14
        }
      ]
    },
    {
      "cell_type": "markdown",
      "metadata": {
        "id": "3_UH51wxq5jI",
        "colab_type": "text"
      },
      "source": [
        "### Preliminary Examination Steps"
      ]
    },
    {
      "cell_type": "code",
      "metadata": {
        "id": "RRXFaGPnq5jJ",
        "colab_type": "code",
        "colab": {},
        "outputId": "50e65943-4954-46f5-da28-10dc7c1887b4"
      },
      "source": [
        "# what's my type?\n",
        "type(users)"
      ],
      "execution_count": null,
      "outputs": [
        {
          "output_type": "execute_result",
          "data": {
            "text/plain": [
              "pandas.core.frame.DataFrame"
            ]
          },
          "metadata": {
            "tags": []
          },
          "execution_count": 15
        }
      ]
    },
    {
      "cell_type": "code",
      "metadata": {
        "id": "pwlHqFn7q5jP",
        "colab_type": "code",
        "colab": {},
        "outputId": "d5124572-e0dc-46c7-b604-b4d9a1e679cd"
      },
      "source": [
        "# what's the index?\n",
        "users.index"
      ],
      "execution_count": null,
      "outputs": [
        {
          "output_type": "execute_result",
          "data": {
            "text/plain": [
              "RangeIndex(start=0, stop=943, step=1)"
            ]
          },
          "metadata": {
            "tags": []
          },
          "execution_count": 16
        }
      ]
    },
    {
      "cell_type": "code",
      "metadata": {
        "id": "2N0lvyv9q5jR",
        "colab_type": "code",
        "colab": {},
        "outputId": "9c437602-43e7-46c7-bae4-d221427fac5d"
      },
      "source": [
        "# what are the columns?\n",
        "users.columns"
      ],
      "execution_count": null,
      "outputs": [
        {
          "output_type": "execute_result",
          "data": {
            "text/plain": [
              "Index(['user_id', 'age', 'gender', 'occupation', 'zip_code'], dtype='object')"
            ]
          },
          "metadata": {
            "tags": []
          },
          "execution_count": 17
        }
      ]
    },
    {
      "cell_type": "code",
      "metadata": {
        "id": "eG_ZVnMLq5jT",
        "colab_type": "code",
        "colab": {},
        "outputId": "6c3b90ef-a4b3-4cd6-c4cf-4213bc66e649"
      },
      "source": [
        "# what is the data type of each column?\n",
        "users.dtypes"
      ],
      "execution_count": null,
      "outputs": [
        {
          "output_type": "execute_result",
          "data": {
            "text/plain": [
              "user_id        int64\n",
              "age            int64\n",
              "gender        object\n",
              "occupation    object\n",
              "zip_code      object\n",
              "dtype: object"
            ]
          },
          "metadata": {
            "tags": []
          },
          "execution_count": 18
        }
      ]
    },
    {
      "cell_type": "code",
      "metadata": {
        "id": "RuF4JPJnq5jW",
        "colab_type": "code",
        "colab": {},
        "outputId": "792830f3-1a54-4427-bfe5-76597485ea1a"
      },
      "source": [
        "# what is a Pandas dataframe?\n",
        "# it's an array of Numpy array\n",
        "users.values[2]"
      ],
      "execution_count": null,
      "outputs": [
        {
          "output_type": "execute_result",
          "data": {
            "text/plain": [
              "array([3, 23, 'M', 'writer', '32067'], dtype=object)"
            ]
          },
          "metadata": {
            "tags": []
          },
          "execution_count": 21
        }
      ]
    },
    {
      "cell_type": "code",
      "metadata": {
        "id": "_mTszkFHq5jY",
        "colab_type": "code",
        "colab": {},
        "outputId": "7a0ef52a-b26b-4f45-e966-d4322758b59b"
      },
      "source": [
        "users.index[2]"
      ],
      "execution_count": null,
      "outputs": [
        {
          "output_type": "execute_result",
          "data": {
            "text/plain": [
              "2"
            ]
          },
          "metadata": {
            "tags": []
          },
          "execution_count": 22
        }
      ]
    },
    {
      "cell_type": "code",
      "metadata": {
        "id": "GUuLlJi8q5jc",
        "colab_type": "code",
        "colab": {},
        "outputId": "923508c7-b985-4114-de85-e7375968db17"
      },
      "source": [
        "# concise summary of df\n",
        "users.info()"
      ],
      "execution_count": null,
      "outputs": [
        {
          "output_type": "stream",
          "text": [
            "<class 'pandas.core.frame.DataFrame'>\n",
            "RangeIndex: 943 entries, 0 to 942\n",
            "Data columns (total 5 columns):\n",
            "user_id       943 non-null int64\n",
            "age           943 non-null int64\n",
            "gender        943 non-null object\n",
            "occupation    943 non-null object\n",
            "zip_code      943 non-null object\n",
            "dtypes: int64(2), object(3)\n",
            "memory usage: 36.9+ KB\n"
          ],
          "name": "stdout"
        }
      ]
    },
    {
      "cell_type": "code",
      "metadata": {
        "id": "d_dsXAU5q5jf",
        "colab_type": "code",
        "colab": {},
        "outputId": "b6eabd11-3e0c-4fb6-a061-437e1cf9317a"
      },
      "source": [
        "# describe numeric cols\n",
        "users.describe()"
      ],
      "execution_count": null,
      "outputs": [
        {
          "output_type": "execute_result",
          "data": {
            "text/html": [
              "<div>\n",
              "<style scoped>\n",
              "    .dataframe tbody tr th:only-of-type {\n",
              "        vertical-align: middle;\n",
              "    }\n",
              "\n",
              "    .dataframe tbody tr th {\n",
              "        vertical-align: top;\n",
              "    }\n",
              "\n",
              "    .dataframe thead th {\n",
              "        text-align: right;\n",
              "    }\n",
              "</style>\n",
              "<table border=\"1\" class=\"dataframe\">\n",
              "  <thead>\n",
              "    <tr style=\"text-align: right;\">\n",
              "      <th></th>\n",
              "      <th>user_id</th>\n",
              "      <th>age</th>\n",
              "    </tr>\n",
              "  </thead>\n",
              "  <tbody>\n",
              "    <tr>\n",
              "      <th>count</th>\n",
              "      <td>943.000000</td>\n",
              "      <td>943.000000</td>\n",
              "    </tr>\n",
              "    <tr>\n",
              "      <th>mean</th>\n",
              "      <td>472.000000</td>\n",
              "      <td>34.051962</td>\n",
              "    </tr>\n",
              "    <tr>\n",
              "      <th>std</th>\n",
              "      <td>272.364951</td>\n",
              "      <td>12.192740</td>\n",
              "    </tr>\n",
              "    <tr>\n",
              "      <th>min</th>\n",
              "      <td>1.000000</td>\n",
              "      <td>7.000000</td>\n",
              "    </tr>\n",
              "    <tr>\n",
              "      <th>25%</th>\n",
              "      <td>236.500000</td>\n",
              "      <td>25.000000</td>\n",
              "    </tr>\n",
              "    <tr>\n",
              "      <th>50%</th>\n",
              "      <td>472.000000</td>\n",
              "      <td>31.000000</td>\n",
              "    </tr>\n",
              "    <tr>\n",
              "      <th>75%</th>\n",
              "      <td>707.500000</td>\n",
              "      <td>43.000000</td>\n",
              "    </tr>\n",
              "    <tr>\n",
              "      <th>max</th>\n",
              "      <td>943.000000</td>\n",
              "      <td>73.000000</td>\n",
              "    </tr>\n",
              "  </tbody>\n",
              "</table>\n",
              "</div>"
            ],
            "text/plain": [
              "          user_id         age\n",
              "count  943.000000  943.000000\n",
              "mean   472.000000   34.051962\n",
              "std    272.364951   12.192740\n",
              "min      1.000000    7.000000\n",
              "25%    236.500000   25.000000\n",
              "50%    472.000000   31.000000\n",
              "75%    707.500000   43.000000\n",
              "max    943.000000   73.000000"
            ]
          },
          "metadata": {
            "tags": []
          },
          "execution_count": 24
        }
      ]
    },
    {
      "cell_type": "code",
      "metadata": {
        "id": "-eGjDZW2q5jh",
        "colab_type": "code",
        "colab": {},
        "outputId": "dd39e40e-a6bc-4e2f-d80c-1b1d52ca5bc5"
      },
      "source": [
        "# you can also describe non-numeric columns:\n",
        "users.describe(include=['object'])\n",
        "users.describe(include='all')"
      ],
      "execution_count": null,
      "outputs": [
        {
          "output_type": "execute_result",
          "data": {
            "text/html": [
              "<div>\n",
              "<style scoped>\n",
              "    .dataframe tbody tr th:only-of-type {\n",
              "        vertical-align: middle;\n",
              "    }\n",
              "\n",
              "    .dataframe tbody tr th {\n",
              "        vertical-align: top;\n",
              "    }\n",
              "\n",
              "    .dataframe thead th {\n",
              "        text-align: right;\n",
              "    }\n",
              "</style>\n",
              "<table border=\"1\" class=\"dataframe\">\n",
              "  <thead>\n",
              "    <tr style=\"text-align: right;\">\n",
              "      <th></th>\n",
              "      <th>user_id</th>\n",
              "      <th>age</th>\n",
              "      <th>gender</th>\n",
              "      <th>occupation</th>\n",
              "      <th>zip_code</th>\n",
              "    </tr>\n",
              "  </thead>\n",
              "  <tbody>\n",
              "    <tr>\n",
              "      <th>count</th>\n",
              "      <td>943.000000</td>\n",
              "      <td>943.000000</td>\n",
              "      <td>943</td>\n",
              "      <td>943</td>\n",
              "      <td>943</td>\n",
              "    </tr>\n",
              "    <tr>\n",
              "      <th>unique</th>\n",
              "      <td>NaN</td>\n",
              "      <td>NaN</td>\n",
              "      <td>2</td>\n",
              "      <td>21</td>\n",
              "      <td>795</td>\n",
              "    </tr>\n",
              "    <tr>\n",
              "      <th>top</th>\n",
              "      <td>NaN</td>\n",
              "      <td>NaN</td>\n",
              "      <td>M</td>\n",
              "      <td>student</td>\n",
              "      <td>55414</td>\n",
              "    </tr>\n",
              "    <tr>\n",
              "      <th>freq</th>\n",
              "      <td>NaN</td>\n",
              "      <td>NaN</td>\n",
              "      <td>670</td>\n",
              "      <td>196</td>\n",
              "      <td>9</td>\n",
              "    </tr>\n",
              "    <tr>\n",
              "      <th>mean</th>\n",
              "      <td>472.000000</td>\n",
              "      <td>34.051962</td>\n",
              "      <td>NaN</td>\n",
              "      <td>NaN</td>\n",
              "      <td>NaN</td>\n",
              "    </tr>\n",
              "    <tr>\n",
              "      <th>std</th>\n",
              "      <td>272.364951</td>\n",
              "      <td>12.192740</td>\n",
              "      <td>NaN</td>\n",
              "      <td>NaN</td>\n",
              "      <td>NaN</td>\n",
              "    </tr>\n",
              "    <tr>\n",
              "      <th>min</th>\n",
              "      <td>1.000000</td>\n",
              "      <td>7.000000</td>\n",
              "      <td>NaN</td>\n",
              "      <td>NaN</td>\n",
              "      <td>NaN</td>\n",
              "    </tr>\n",
              "    <tr>\n",
              "      <th>25%</th>\n",
              "      <td>236.500000</td>\n",
              "      <td>25.000000</td>\n",
              "      <td>NaN</td>\n",
              "      <td>NaN</td>\n",
              "      <td>NaN</td>\n",
              "    </tr>\n",
              "    <tr>\n",
              "      <th>50%</th>\n",
              "      <td>472.000000</td>\n",
              "      <td>31.000000</td>\n",
              "      <td>NaN</td>\n",
              "      <td>NaN</td>\n",
              "      <td>NaN</td>\n",
              "    </tr>\n",
              "    <tr>\n",
              "      <th>75%</th>\n",
              "      <td>707.500000</td>\n",
              "      <td>43.000000</td>\n",
              "      <td>NaN</td>\n",
              "      <td>NaN</td>\n",
              "      <td>NaN</td>\n",
              "    </tr>\n",
              "    <tr>\n",
              "      <th>max</th>\n",
              "      <td>943.000000</td>\n",
              "      <td>73.000000</td>\n",
              "      <td>NaN</td>\n",
              "      <td>NaN</td>\n",
              "      <td>NaN</td>\n",
              "    </tr>\n",
              "  </tbody>\n",
              "</table>\n",
              "</div>"
            ],
            "text/plain": [
              "           user_id         age gender occupation zip_code\n",
              "count   943.000000  943.000000    943        943      943\n",
              "unique         NaN         NaN      2         21      795\n",
              "top            NaN         NaN      M    student    55414\n",
              "freq           NaN         NaN    670        196        9\n",
              "mean    472.000000   34.051962    NaN        NaN      NaN\n",
              "std     272.364951   12.192740    NaN        NaN      NaN\n",
              "min       1.000000    7.000000    NaN        NaN      NaN\n",
              "25%     236.500000   25.000000    NaN        NaN      NaN\n",
              "50%     472.000000   31.000000    NaN        NaN      NaN\n",
              "75%     707.500000   43.000000    NaN        NaN      NaN\n",
              "max     943.000000   73.000000    NaN        NaN      NaN"
            ]
          },
          "metadata": {
            "tags": []
          },
          "execution_count": 35
        }
      ]
    },
    {
      "cell_type": "code",
      "metadata": {
        "id": "C5jxWTpWq5jj",
        "colab_type": "code",
        "colab": {},
        "outputId": "df6e6d5d-e38c-478c-95f0-f051c12bf1ae"
      },
      "source": [
        "# missing data?\n",
        "users.isnull().sum()"
      ],
      "execution_count": null,
      "outputs": [
        {
          "output_type": "execute_result",
          "data": {
            "text/plain": [
              "user_id       0\n",
              "age           0\n",
              "gender        0\n",
              "occupation    0\n",
              "zip_code      0\n",
              "dtype: int64"
            ]
          },
          "metadata": {
            "tags": []
          },
          "execution_count": 25
        }
      ]
    },
    {
      "cell_type": "markdown",
      "metadata": {
        "id": "n4DymesPq5jl",
        "colab_type": "text"
      },
      "source": [
        "### Take a look at individual columns"
      ]
    },
    {
      "cell_type": "code",
      "metadata": {
        "id": "REXyRTcwq5jm",
        "colab_type": "code",
        "colab": {},
        "outputId": "536fb33f-08de-4472-abbb-01f14958e61e"
      },
      "source": [
        "# select 1 column\n",
        "users['gender'].tail()"
      ],
      "execution_count": null,
      "outputs": [
        {
          "output_type": "execute_result",
          "data": {
            "text/plain": [
              "938    F\n",
              "939    M\n",
              "940    M\n",
              "941    F\n",
              "942    M\n",
              "Name: gender, dtype: object"
            ]
          },
          "metadata": {
            "tags": []
          },
          "execution_count": 30
        }
      ]
    },
    {
      "cell_type": "code",
      "metadata": {
        "id": "hcWPiP2iq5jp",
        "colab_type": "code",
        "colab": {},
        "outputId": "bac8ec56-aa80-41ce-e76a-db0ee6047a08"
      },
      "source": [
        "# select 2 cols\n",
        "users[['gender', 'occupation']].sample(4)"
      ],
      "execution_count": null,
      "outputs": [
        {
          "output_type": "execute_result",
          "data": {
            "text/html": [
              "<div>\n",
              "<style scoped>\n",
              "    .dataframe tbody tr th:only-of-type {\n",
              "        vertical-align: middle;\n",
              "    }\n",
              "\n",
              "    .dataframe tbody tr th {\n",
              "        vertical-align: top;\n",
              "    }\n",
              "\n",
              "    .dataframe thead th {\n",
              "        text-align: right;\n",
              "    }\n",
              "</style>\n",
              "<table border=\"1\" class=\"dataframe\">\n",
              "  <thead>\n",
              "    <tr style=\"text-align: right;\">\n",
              "      <th></th>\n",
              "      <th>gender</th>\n",
              "      <th>occupation</th>\n",
              "    </tr>\n",
              "  </thead>\n",
              "  <tbody>\n",
              "    <tr>\n",
              "      <th>507</th>\n",
              "      <td>M</td>\n",
              "      <td>marketing</td>\n",
              "    </tr>\n",
              "    <tr>\n",
              "      <th>731</th>\n",
              "      <td>F</td>\n",
              "      <td>other</td>\n",
              "    </tr>\n",
              "    <tr>\n",
              "      <th>329</th>\n",
              "      <td>F</td>\n",
              "      <td>educator</td>\n",
              "    </tr>\n",
              "    <tr>\n",
              "      <th>736</th>\n",
              "      <td>M</td>\n",
              "      <td>programmer</td>\n",
              "    </tr>\n",
              "  </tbody>\n",
              "</table>\n",
              "</div>"
            ],
            "text/plain": [
              "    gender  occupation\n",
              "507      M   marketing\n",
              "731      F       other\n",
              "329      F    educator\n",
              "736      M  programmer"
            ]
          },
          "metadata": {
            "tags": []
          },
          "execution_count": 28
        }
      ]
    },
    {
      "cell_type": "code",
      "metadata": {
        "id": "9fvGNfjnq5js",
        "colab_type": "code",
        "colab": {},
        "outputId": "4830f2fe-5359-4cf7-c80c-9754dc5b10ed"
      },
      "source": [
        "# what is the column type?\n",
        "type(users['gender'])"
      ],
      "execution_count": null,
      "outputs": [
        {
          "output_type": "execute_result",
          "data": {
            "text/plain": [
              "pandas.core.series.Series"
            ]
          },
          "metadata": {
            "tags": []
          },
          "execution_count": 31
        }
      ]
    },
    {
      "cell_type": "markdown",
      "metadata": {
        "id": "i130b5JCq5ju",
        "colab_type": "text"
      },
      "source": [
        "### a few col methods"
      ]
    },
    {
      "cell_type": "code",
      "metadata": {
        "id": "_REtmoVVq5jv",
        "colab_type": "code",
        "colab": {},
        "outputId": "162c42b6-631c-4a51-aaa8-911b5e2d9dba"
      },
      "source": [
        "# mean of numeric cols\n",
        "users['age'].mean()\n",
        "users['age'].median()\n",
        "users['age'].std()\n",
        "users['age'].min()\n",
        "users['age'].max()\n",
        "users['age'].count()"
      ],
      "execution_count": null,
      "outputs": [
        {
          "output_type": "execute_result",
          "data": {
            "text/plain": [
              "943"
            ]
          },
          "metadata": {
            "tags": []
          },
          "execution_count": 41
        }
      ]
    },
    {
      "cell_type": "code",
      "metadata": {
        "id": "V8XYegMoq5jx",
        "colab_type": "code",
        "colab": {},
        "outputId": "7a3a1b09-15f6-4ad3-be4f-81fa6ecac22d"
      },
      "source": [
        "# methods for string (non-numeric) columns\n",
        "users['gender'].value_counts()\n",
        "users['gender'].value_counts().sort_values(ascending=False)\n",
        "users['gender'].value_counts().sort_index()\n",
        "users['gender'].value_counts().values\n",
        "users['gender'].value_counts().index"
      ],
      "execution_count": null,
      "outputs": [
        {
          "output_type": "execute_result",
          "data": {
            "text/plain": [
              "Index(['M', 'F'], dtype='object')"
            ]
          },
          "metadata": {
            "tags": []
          },
          "execution_count": 47
        }
      ]
    },
    {
      "cell_type": "markdown",
      "metadata": {
        "id": "bX67ZmJVq5jz",
        "colab_type": "text"
      },
      "source": [
        "### Filtering and Sorting Columns"
      ]
    },
    {
      "cell_type": "markdown",
      "metadata": {
        "id": "aFil2jg3q5j1",
        "colab_type": "text"
      },
      "source": [
        "###### heading"
      ]
    },
    {
      "cell_type": "markdown",
      "metadata": {
        "id": "6TxYXK7Aq5j1",
        "colab_type": "text"
      },
      "source": [
        "esc - m - shift return"
      ]
    },
    {
      "cell_type": "code",
      "metadata": {
        "id": "6HLvpFgRq5j1",
        "colab_type": "code",
        "colab": {},
        "outputId": "8a8e0342-bb39-49d5-dffd-e84c2045298f"
      },
      "source": [
        "# create a series of booleans\n",
        "young_bool = users['age']<20\n",
        "young_bool[:5]"
      ],
      "execution_count": null,
      "outputs": [
        {
          "output_type": "execute_result",
          "data": {
            "text/plain": [
              "0    False\n",
              "1    False\n",
              "2    False\n",
              "3    False\n",
              "4    False\n",
              "Name: age, dtype: bool"
            ]
          },
          "metadata": {
            "tags": []
          },
          "execution_count": 51
        }
      ]
    },
    {
      "cell_type": "code",
      "metadata": {
        "id": "v8mYidyVq5j3",
        "colab_type": "code",
        "colab": {},
        "outputId": "8ff14764-fc19-42ed-a3c9-3c8e23f18a00"
      },
      "source": [
        "# apply that filter to my df\n",
        "users[young_bool].head(5)"
      ],
      "execution_count": null,
      "outputs": [
        {
          "output_type": "execute_result",
          "data": {
            "text/html": [
              "<div>\n",
              "<style scoped>\n",
              "    .dataframe tbody tr th:only-of-type {\n",
              "        vertical-align: middle;\n",
              "    }\n",
              "\n",
              "    .dataframe tbody tr th {\n",
              "        vertical-align: top;\n",
              "    }\n",
              "\n",
              "    .dataframe thead th {\n",
              "        text-align: right;\n",
              "    }\n",
              "</style>\n",
              "<table border=\"1\" class=\"dataframe\">\n",
              "  <thead>\n",
              "    <tr style=\"text-align: right;\">\n",
              "      <th></th>\n",
              "      <th>user_id</th>\n",
              "      <th>age</th>\n",
              "      <th>gender</th>\n",
              "      <th>occupation</th>\n",
              "      <th>zip_code</th>\n",
              "    </tr>\n",
              "  </thead>\n",
              "  <tbody>\n",
              "    <tr>\n",
              "      <th>29</th>\n",
              "      <td>30</td>\n",
              "      <td>7</td>\n",
              "      <td>M</td>\n",
              "      <td>student</td>\n",
              "      <td>55436</td>\n",
              "    </tr>\n",
              "    <tr>\n",
              "      <th>35</th>\n",
              "      <td>36</td>\n",
              "      <td>19</td>\n",
              "      <td>F</td>\n",
              "      <td>student</td>\n",
              "      <td>93117</td>\n",
              "    </tr>\n",
              "    <tr>\n",
              "      <th>51</th>\n",
              "      <td>52</td>\n",
              "      <td>18</td>\n",
              "      <td>F</td>\n",
              "      <td>student</td>\n",
              "      <td>55105</td>\n",
              "    </tr>\n",
              "    <tr>\n",
              "      <th>56</th>\n",
              "      <td>57</td>\n",
              "      <td>16</td>\n",
              "      <td>M</td>\n",
              "      <td>none</td>\n",
              "      <td>84010</td>\n",
              "    </tr>\n",
              "    <tr>\n",
              "      <th>66</th>\n",
              "      <td>67</td>\n",
              "      <td>17</td>\n",
              "      <td>M</td>\n",
              "      <td>student</td>\n",
              "      <td>60402</td>\n",
              "    </tr>\n",
              "  </tbody>\n",
              "</table>\n",
              "</div>"
            ],
            "text/plain": [
              "    user_id  age gender occupation zip_code\n",
              "29       30    7      M    student    55436\n",
              "35       36   19      F    student    93117\n",
              "51       52   18      F    student    55105\n",
              "56       57   16      M       none    84010\n",
              "66       67   17      M    student    60402"
            ]
          },
          "metadata": {
            "tags": []
          },
          "execution_count": 52
        }
      ]
    },
    {
      "cell_type": "code",
      "metadata": {
        "id": "d3gA-qFtq5j5",
        "colab_type": "code",
        "colab": {},
        "outputId": "92df3d1d-20e5-463a-f1b1-148a70f4b230"
      },
      "source": [
        "# combine into a single step\n",
        "users[     users['age']<20    ].tail()"
      ],
      "execution_count": null,
      "outputs": [
        {
          "output_type": "execute_result",
          "data": {
            "text/html": [
              "<div>\n",
              "<style scoped>\n",
              "    .dataframe tbody tr th:only-of-type {\n",
              "        vertical-align: middle;\n",
              "    }\n",
              "\n",
              "    .dataframe tbody tr th {\n",
              "        vertical-align: top;\n",
              "    }\n",
              "\n",
              "    .dataframe thead th {\n",
              "        text-align: right;\n",
              "    }\n",
              "</style>\n",
              "<table border=\"1\" class=\"dataframe\">\n",
              "  <thead>\n",
              "    <tr style=\"text-align: right;\">\n",
              "      <th></th>\n",
              "      <th>user_id</th>\n",
              "      <th>age</th>\n",
              "      <th>gender</th>\n",
              "      <th>occupation</th>\n",
              "      <th>zip_code</th>\n",
              "    </tr>\n",
              "  </thead>\n",
              "  <tbody>\n",
              "    <tr>\n",
              "      <th>871</th>\n",
              "      <td>872</td>\n",
              "      <td>19</td>\n",
              "      <td>F</td>\n",
              "      <td>student</td>\n",
              "      <td>74078</td>\n",
              "    </tr>\n",
              "    <tr>\n",
              "      <th>879</th>\n",
              "      <td>880</td>\n",
              "      <td>13</td>\n",
              "      <td>M</td>\n",
              "      <td>student</td>\n",
              "      <td>83702</td>\n",
              "    </tr>\n",
              "    <tr>\n",
              "      <th>886</th>\n",
              "      <td>887</td>\n",
              "      <td>14</td>\n",
              "      <td>F</td>\n",
              "      <td>student</td>\n",
              "      <td>27249</td>\n",
              "    </tr>\n",
              "    <tr>\n",
              "      <th>903</th>\n",
              "      <td>904</td>\n",
              "      <td>17</td>\n",
              "      <td>F</td>\n",
              "      <td>student</td>\n",
              "      <td>61073</td>\n",
              "    </tr>\n",
              "    <tr>\n",
              "      <th>924</th>\n",
              "      <td>925</td>\n",
              "      <td>18</td>\n",
              "      <td>F</td>\n",
              "      <td>salesman</td>\n",
              "      <td>49036</td>\n",
              "    </tr>\n",
              "  </tbody>\n",
              "</table>\n",
              "</div>"
            ],
            "text/plain": [
              "     user_id  age gender occupation zip_code\n",
              "871      872   19      F    student    74078\n",
              "879      880   13      M    student    83702\n",
              "886      887   14      F    student    27249\n",
              "903      904   17      F    student    61073\n",
              "924      925   18      F   salesman    49036"
            ]
          },
          "metadata": {
            "tags": []
          },
          "execution_count": 53
        }
      ]
    },
    {
      "cell_type": "code",
      "metadata": {
        "id": "sEabMSmDq5j7",
        "colab_type": "code",
        "colab": {},
        "outputId": "999d4ad5-71ff-4a41-83e2-67fa8f055fbd"
      },
      "source": [
        "# you can select 1 column from the filtered results\n",
        "newdf =  users[users['age']<20]    \n",
        "newdf['occupation'].head()"
      ],
      "execution_count": null,
      "outputs": [
        {
          "output_type": "execute_result",
          "data": {
            "text/plain": [
              "29    student\n",
              "35    student\n",
              "51    student\n",
              "56       none\n",
              "66    student\n",
              "Name: occupation, dtype: object"
            ]
          },
          "metadata": {
            "tags": []
          },
          "execution_count": 59
        }
      ]
    },
    {
      "cell_type": "code",
      "metadata": {
        "id": "QzroY27Gq5j_",
        "colab_type": "code",
        "colab": {},
        "outputId": "6e8f3eba-065f-4aaf-ffe3-686f0a9a528f"
      },
      "source": [
        "# you can call any other method on this\n",
        "users[users['age']<20]['occupation'].value_counts()    \n",
        "users[users['age']<20]['occupation'].describe()"
      ],
      "execution_count": null,
      "outputs": [
        {
          "output_type": "execute_result",
          "data": {
            "text/plain": [
              "count          77\n",
              "unique          7\n",
              "top       student\n",
              "freq           64\n",
              "Name: occupation, dtype: object"
            ]
          },
          "metadata": {
            "tags": []
          },
          "execution_count": 62
        }
      ]
    },
    {
      "cell_type": "markdown",
      "metadata": {
        "id": "T3iN3WZVq5kB",
        "colab_type": "text"
      },
      "source": [
        "## Multiple conditions"
      ]
    },
    {
      "cell_type": "code",
      "metadata": {
        "id": "e2KNchmqq5kB",
        "colab_type": "code",
        "colab": {},
        "outputId": "ad2b2a36-de53-4415-d942-7a0f15359bbf"
      },
      "source": [
        "users[(users['age']<20) & (users['gender']=='M')].describe()"
      ],
      "execution_count": null,
      "outputs": [
        {
          "output_type": "execute_result",
          "data": {
            "text/html": [
              "<div>\n",
              "<style scoped>\n",
              "    .dataframe tbody tr th:only-of-type {\n",
              "        vertical-align: middle;\n",
              "    }\n",
              "\n",
              "    .dataframe tbody tr th {\n",
              "        vertical-align: top;\n",
              "    }\n",
              "\n",
              "    .dataframe thead th {\n",
              "        text-align: right;\n",
              "    }\n",
              "</style>\n",
              "<table border=\"1\" class=\"dataframe\">\n",
              "  <thead>\n",
              "    <tr style=\"text-align: right;\">\n",
              "      <th></th>\n",
              "      <th>user_id</th>\n",
              "      <th>age</th>\n",
              "    </tr>\n",
              "  </thead>\n",
              "  <tbody>\n",
              "    <tr>\n",
              "      <th>count</th>\n",
              "      <td>45.000000</td>\n",
              "      <td>45.000000</td>\n",
              "    </tr>\n",
              "    <tr>\n",
              "      <th>mean</th>\n",
              "      <td>448.311111</td>\n",
              "      <td>16.844444</td>\n",
              "    </tr>\n",
              "    <tr>\n",
              "      <th>std</th>\n",
              "      <td>240.713317</td>\n",
              "      <td>2.671019</td>\n",
              "    </tr>\n",
              "    <tr>\n",
              "      <th>min</th>\n",
              "      <td>30.000000</td>\n",
              "      <td>7.000000</td>\n",
              "    </tr>\n",
              "    <tr>\n",
              "      <th>25%</th>\n",
              "      <td>289.000000</td>\n",
              "      <td>16.000000</td>\n",
              "    </tr>\n",
              "    <tr>\n",
              "      <th>50%</th>\n",
              "      <td>451.000000</td>\n",
              "      <td>17.000000</td>\n",
              "    </tr>\n",
              "    <tr>\n",
              "      <th>75%</th>\n",
              "      <td>624.000000</td>\n",
              "      <td>19.000000</td>\n",
              "    </tr>\n",
              "    <tr>\n",
              "      <th>max</th>\n",
              "      <td>880.000000</td>\n",
              "      <td>19.000000</td>\n",
              "    </tr>\n",
              "  </tbody>\n",
              "</table>\n",
              "</div>"
            ],
            "text/plain": [
              "          user_id        age\n",
              "count   45.000000  45.000000\n",
              "mean   448.311111  16.844444\n",
              "std    240.713317   2.671019\n",
              "min     30.000000   7.000000\n",
              "25%    289.000000  16.000000\n",
              "50%    451.000000  17.000000\n",
              "75%    624.000000  19.000000\n",
              "max    880.000000  19.000000"
            ]
          },
          "metadata": {
            "tags": []
          },
          "execution_count": 64
        }
      ]
    },
    {
      "cell_type": "code",
      "metadata": {
        "id": "D-hj90-Eq5kD",
        "colab_type": "code",
        "colab": {},
        "outputId": "b91e4328-6c77-49a0-fe57-0964780d05ad"
      },
      "source": [
        "# Pipe for 'or'\n",
        "users[(users['age']<20) | (users['gender']=='M')].tail()"
      ],
      "execution_count": null,
      "outputs": [
        {
          "output_type": "execute_result",
          "data": {
            "text/html": [
              "<div>\n",
              "<style scoped>\n",
              "    .dataframe tbody tr th:only-of-type {\n",
              "        vertical-align: middle;\n",
              "    }\n",
              "\n",
              "    .dataframe tbody tr th {\n",
              "        vertical-align: top;\n",
              "    }\n",
              "\n",
              "    .dataframe thead th {\n",
              "        text-align: right;\n",
              "    }\n",
              "</style>\n",
              "<table border=\"1\" class=\"dataframe\">\n",
              "  <thead>\n",
              "    <tr style=\"text-align: right;\">\n",
              "      <th></th>\n",
              "      <th>user_id</th>\n",
              "      <th>age</th>\n",
              "      <th>gender</th>\n",
              "      <th>occupation</th>\n",
              "      <th>zip_code</th>\n",
              "    </tr>\n",
              "  </thead>\n",
              "  <tbody>\n",
              "    <tr>\n",
              "      <th>935</th>\n",
              "      <td>936</td>\n",
              "      <td>24</td>\n",
              "      <td>M</td>\n",
              "      <td>other</td>\n",
              "      <td>32789</td>\n",
              "    </tr>\n",
              "    <tr>\n",
              "      <th>936</th>\n",
              "      <td>937</td>\n",
              "      <td>48</td>\n",
              "      <td>M</td>\n",
              "      <td>educator</td>\n",
              "      <td>98072</td>\n",
              "    </tr>\n",
              "    <tr>\n",
              "      <th>939</th>\n",
              "      <td>940</td>\n",
              "      <td>32</td>\n",
              "      <td>M</td>\n",
              "      <td>administrator</td>\n",
              "      <td>02215</td>\n",
              "    </tr>\n",
              "    <tr>\n",
              "      <th>940</th>\n",
              "      <td>941</td>\n",
              "      <td>20</td>\n",
              "      <td>M</td>\n",
              "      <td>student</td>\n",
              "      <td>97229</td>\n",
              "    </tr>\n",
              "    <tr>\n",
              "      <th>942</th>\n",
              "      <td>943</td>\n",
              "      <td>22</td>\n",
              "      <td>M</td>\n",
              "      <td>student</td>\n",
              "      <td>77841</td>\n",
              "    </tr>\n",
              "  </tbody>\n",
              "</table>\n",
              "</div>"
            ],
            "text/plain": [
              "     user_id  age gender     occupation zip_code\n",
              "935      936   24      M          other    32789\n",
              "936      937   48      M       educator    98072\n",
              "939      940   32      M  administrator    02215\n",
              "940      941   20      M        student    97229\n",
              "942      943   22      M        student    77841"
            ]
          },
          "metadata": {
            "tags": []
          },
          "execution_count": 66
        }
      ]
    },
    {
      "cell_type": "code",
      "metadata": {
        "id": "tkIRXs8Wq5kF",
        "colab_type": "code",
        "colab": {},
        "outputId": "2c012aef-7d1a-4bd5-df4e-d04f3a21e63b"
      },
      "source": [
        "# you can also filter on a predefined list\n",
        "list_of_occupations = ['doctor', 'lawyer', 'student']\n",
        "users[users['occupation'].isin(list_of_occupations)]['gender'].head()"
      ],
      "execution_count": null,
      "outputs": [
        {
          "output_type": "execute_result",
          "data": {
            "text/plain": [
              "8     M\n",
              "9     M\n",
              "29    M\n",
              "31    F\n",
              "32    M\n",
              "Name: gender, dtype: object"
            ]
          },
          "metadata": {
            "tags": []
          },
          "execution_count": 68
        }
      ]
    },
    {
      "cell_type": "markdown",
      "metadata": {
        "id": "ZsETU_fqq5kI",
        "colab_type": "text"
      },
      "source": [
        "### Sorting"
      ]
    },
    {
      "cell_type": "code",
      "metadata": {
        "id": "TDRIc68qq5kI",
        "colab_type": "code",
        "colab": {},
        "outputId": "f9b79e5f-ad7f-49c4-ba2f-3012a3633293"
      },
      "source": [
        "# sort the entire df by one variable/column\n",
        "users.sort_values('age').head(3)"
      ],
      "execution_count": null,
      "outputs": [
        {
          "output_type": "execute_result",
          "data": {
            "text/html": [
              "<div>\n",
              "<style scoped>\n",
              "    .dataframe tbody tr th:only-of-type {\n",
              "        vertical-align: middle;\n",
              "    }\n",
              "\n",
              "    .dataframe tbody tr th {\n",
              "        vertical-align: top;\n",
              "    }\n",
              "\n",
              "    .dataframe thead th {\n",
              "        text-align: right;\n",
              "    }\n",
              "</style>\n",
              "<table border=\"1\" class=\"dataframe\">\n",
              "  <thead>\n",
              "    <tr style=\"text-align: right;\">\n",
              "      <th></th>\n",
              "      <th>user_id</th>\n",
              "      <th>age</th>\n",
              "      <th>gender</th>\n",
              "      <th>occupation</th>\n",
              "      <th>zip_code</th>\n",
              "    </tr>\n",
              "  </thead>\n",
              "  <tbody>\n",
              "    <tr>\n",
              "      <th>29</th>\n",
              "      <td>30</td>\n",
              "      <td>7</td>\n",
              "      <td>M</td>\n",
              "      <td>student</td>\n",
              "      <td>55436</td>\n",
              "    </tr>\n",
              "    <tr>\n",
              "      <th>470</th>\n",
              "      <td>471</td>\n",
              "      <td>10</td>\n",
              "      <td>M</td>\n",
              "      <td>student</td>\n",
              "      <td>77459</td>\n",
              "    </tr>\n",
              "    <tr>\n",
              "      <th>288</th>\n",
              "      <td>289</td>\n",
              "      <td>11</td>\n",
              "      <td>M</td>\n",
              "      <td>none</td>\n",
              "      <td>94619</td>\n",
              "    </tr>\n",
              "  </tbody>\n",
              "</table>\n",
              "</div>"
            ],
            "text/plain": [
              "     user_id  age gender occupation zip_code\n",
              "29        30    7      M    student    55436\n",
              "470      471   10      M    student    77459\n",
              "288      289   11      M       none    94619"
            ]
          },
          "metadata": {
            "tags": []
          },
          "execution_count": 70
        }
      ]
    },
    {
      "cell_type": "code",
      "metadata": {
        "id": "OHJ2lfO9q5kK",
        "colab_type": "code",
        "colab": {},
        "outputId": "7988a7a6-b45d-4161-a2bb-215f54fad197"
      },
      "source": [
        "# default is asc, you can also choose desc order\n",
        "users.sort_values('age', ascending=True).tail(3)"
      ],
      "execution_count": null,
      "outputs": [
        {
          "output_type": "execute_result",
          "data": {
            "text/html": [
              "<div>\n",
              "<style scoped>\n",
              "    .dataframe tbody tr th:only-of-type {\n",
              "        vertical-align: middle;\n",
              "    }\n",
              "\n",
              "    .dataframe tbody tr th {\n",
              "        vertical-align: top;\n",
              "    }\n",
              "\n",
              "    .dataframe thead th {\n",
              "        text-align: right;\n",
              "    }\n",
              "</style>\n",
              "<table border=\"1\" class=\"dataframe\">\n",
              "  <thead>\n",
              "    <tr style=\"text-align: right;\">\n",
              "      <th></th>\n",
              "      <th>user_id</th>\n",
              "      <th>age</th>\n",
              "      <th>gender</th>\n",
              "      <th>occupation</th>\n",
              "      <th>zip_code</th>\n",
              "    </tr>\n",
              "  </thead>\n",
              "  <tbody>\n",
              "    <tr>\n",
              "      <th>802</th>\n",
              "      <td>803</td>\n",
              "      <td>70</td>\n",
              "      <td>M</td>\n",
              "      <td>administrator</td>\n",
              "      <td>78212</td>\n",
              "    </tr>\n",
              "    <tr>\n",
              "      <th>859</th>\n",
              "      <td>860</td>\n",
              "      <td>70</td>\n",
              "      <td>F</td>\n",
              "      <td>retired</td>\n",
              "      <td>48322</td>\n",
              "    </tr>\n",
              "    <tr>\n",
              "      <th>480</th>\n",
              "      <td>481</td>\n",
              "      <td>73</td>\n",
              "      <td>M</td>\n",
              "      <td>retired</td>\n",
              "      <td>37771</td>\n",
              "    </tr>\n",
              "  </tbody>\n",
              "</table>\n",
              "</div>"
            ],
            "text/plain": [
              "     user_id  age gender     occupation zip_code\n",
              "802      803   70      M  administrator    78212\n",
              "859      860   70      F        retired    48322\n",
              "480      481   73      M        retired    37771"
            ]
          },
          "metadata": {
            "tags": []
          },
          "execution_count": 72
        }
      ]
    },
    {
      "cell_type": "code",
      "metadata": {
        "collapsed": true,
        "id": "jYK-3jMiq5kM",
        "colab_type": "code",
        "colab": {},
        "outputId": "b560de59-2a6a-4c58-9543-63ec00f48b92"
      },
      "source": [
        "# set a column as the new index\n",
        "users.set_index('user_id')"
      ],
      "execution_count": null,
      "outputs": [
        {
          "output_type": "execute_result",
          "data": {
            "text/html": [
              "<div>\n",
              "<style scoped>\n",
              "    .dataframe tbody tr th:only-of-type {\n",
              "        vertical-align: middle;\n",
              "    }\n",
              "\n",
              "    .dataframe tbody tr th {\n",
              "        vertical-align: top;\n",
              "    }\n",
              "\n",
              "    .dataframe thead th {\n",
              "        text-align: right;\n",
              "    }\n",
              "</style>\n",
              "<table border=\"1\" class=\"dataframe\">\n",
              "  <thead>\n",
              "    <tr style=\"text-align: right;\">\n",
              "      <th></th>\n",
              "      <th>age</th>\n",
              "      <th>gender</th>\n",
              "      <th>occupation</th>\n",
              "      <th>zip_code</th>\n",
              "    </tr>\n",
              "    <tr>\n",
              "      <th>user_id</th>\n",
              "      <th></th>\n",
              "      <th></th>\n",
              "      <th></th>\n",
              "      <th></th>\n",
              "    </tr>\n",
              "  </thead>\n",
              "  <tbody>\n",
              "    <tr>\n",
              "      <th>1</th>\n",
              "      <td>24</td>\n",
              "      <td>M</td>\n",
              "      <td>technician</td>\n",
              "      <td>85711</td>\n",
              "    </tr>\n",
              "    <tr>\n",
              "      <th>2</th>\n",
              "      <td>53</td>\n",
              "      <td>F</td>\n",
              "      <td>other</td>\n",
              "      <td>94043</td>\n",
              "    </tr>\n",
              "    <tr>\n",
              "      <th>3</th>\n",
              "      <td>23</td>\n",
              "      <td>M</td>\n",
              "      <td>writer</td>\n",
              "      <td>32067</td>\n",
              "    </tr>\n",
              "    <tr>\n",
              "      <th>4</th>\n",
              "      <td>24</td>\n",
              "      <td>M</td>\n",
              "      <td>technician</td>\n",
              "      <td>43537</td>\n",
              "    </tr>\n",
              "    <tr>\n",
              "      <th>5</th>\n",
              "      <td>33</td>\n",
              "      <td>F</td>\n",
              "      <td>other</td>\n",
              "      <td>15213</td>\n",
              "    </tr>\n",
              "    <tr>\n",
              "      <th>6</th>\n",
              "      <td>42</td>\n",
              "      <td>M</td>\n",
              "      <td>executive</td>\n",
              "      <td>98101</td>\n",
              "    </tr>\n",
              "    <tr>\n",
              "      <th>7</th>\n",
              "      <td>57</td>\n",
              "      <td>M</td>\n",
              "      <td>administrator</td>\n",
              "      <td>91344</td>\n",
              "    </tr>\n",
              "    <tr>\n",
              "      <th>8</th>\n",
              "      <td>36</td>\n",
              "      <td>M</td>\n",
              "      <td>administrator</td>\n",
              "      <td>05201</td>\n",
              "    </tr>\n",
              "    <tr>\n",
              "      <th>9</th>\n",
              "      <td>29</td>\n",
              "      <td>M</td>\n",
              "      <td>student</td>\n",
              "      <td>01002</td>\n",
              "    </tr>\n",
              "    <tr>\n",
              "      <th>10</th>\n",
              "      <td>53</td>\n",
              "      <td>M</td>\n",
              "      <td>lawyer</td>\n",
              "      <td>90703</td>\n",
              "    </tr>\n",
              "    <tr>\n",
              "      <th>11</th>\n",
              "      <td>39</td>\n",
              "      <td>F</td>\n",
              "      <td>other</td>\n",
              "      <td>30329</td>\n",
              "    </tr>\n",
              "    <tr>\n",
              "      <th>12</th>\n",
              "      <td>28</td>\n",
              "      <td>F</td>\n",
              "      <td>other</td>\n",
              "      <td>06405</td>\n",
              "    </tr>\n",
              "    <tr>\n",
              "      <th>13</th>\n",
              "      <td>47</td>\n",
              "      <td>M</td>\n",
              "      <td>educator</td>\n",
              "      <td>29206</td>\n",
              "    </tr>\n",
              "    <tr>\n",
              "      <th>14</th>\n",
              "      <td>45</td>\n",
              "      <td>M</td>\n",
              "      <td>scientist</td>\n",
              "      <td>55106</td>\n",
              "    </tr>\n",
              "    <tr>\n",
              "      <th>15</th>\n",
              "      <td>49</td>\n",
              "      <td>F</td>\n",
              "      <td>educator</td>\n",
              "      <td>97301</td>\n",
              "    </tr>\n",
              "    <tr>\n",
              "      <th>16</th>\n",
              "      <td>21</td>\n",
              "      <td>M</td>\n",
              "      <td>entertainment</td>\n",
              "      <td>10309</td>\n",
              "    </tr>\n",
              "    <tr>\n",
              "      <th>17</th>\n",
              "      <td>30</td>\n",
              "      <td>M</td>\n",
              "      <td>programmer</td>\n",
              "      <td>06355</td>\n",
              "    </tr>\n",
              "    <tr>\n",
              "      <th>18</th>\n",
              "      <td>35</td>\n",
              "      <td>F</td>\n",
              "      <td>other</td>\n",
              "      <td>37212</td>\n",
              "    </tr>\n",
              "    <tr>\n",
              "      <th>19</th>\n",
              "      <td>40</td>\n",
              "      <td>M</td>\n",
              "      <td>librarian</td>\n",
              "      <td>02138</td>\n",
              "    </tr>\n",
              "    <tr>\n",
              "      <th>20</th>\n",
              "      <td>42</td>\n",
              "      <td>F</td>\n",
              "      <td>homemaker</td>\n",
              "      <td>95660</td>\n",
              "    </tr>\n",
              "    <tr>\n",
              "      <th>21</th>\n",
              "      <td>26</td>\n",
              "      <td>M</td>\n",
              "      <td>writer</td>\n",
              "      <td>30068</td>\n",
              "    </tr>\n",
              "    <tr>\n",
              "      <th>22</th>\n",
              "      <td>25</td>\n",
              "      <td>M</td>\n",
              "      <td>writer</td>\n",
              "      <td>40206</td>\n",
              "    </tr>\n",
              "    <tr>\n",
              "      <th>23</th>\n",
              "      <td>30</td>\n",
              "      <td>F</td>\n",
              "      <td>artist</td>\n",
              "      <td>48197</td>\n",
              "    </tr>\n",
              "    <tr>\n",
              "      <th>24</th>\n",
              "      <td>21</td>\n",
              "      <td>F</td>\n",
              "      <td>artist</td>\n",
              "      <td>94533</td>\n",
              "    </tr>\n",
              "    <tr>\n",
              "      <th>25</th>\n",
              "      <td>39</td>\n",
              "      <td>M</td>\n",
              "      <td>engineer</td>\n",
              "      <td>55107</td>\n",
              "    </tr>\n",
              "    <tr>\n",
              "      <th>26</th>\n",
              "      <td>49</td>\n",
              "      <td>M</td>\n",
              "      <td>engineer</td>\n",
              "      <td>21044</td>\n",
              "    </tr>\n",
              "    <tr>\n",
              "      <th>27</th>\n",
              "      <td>40</td>\n",
              "      <td>F</td>\n",
              "      <td>librarian</td>\n",
              "      <td>30030</td>\n",
              "    </tr>\n",
              "    <tr>\n",
              "      <th>28</th>\n",
              "      <td>32</td>\n",
              "      <td>M</td>\n",
              "      <td>writer</td>\n",
              "      <td>55369</td>\n",
              "    </tr>\n",
              "    <tr>\n",
              "      <th>29</th>\n",
              "      <td>41</td>\n",
              "      <td>M</td>\n",
              "      <td>programmer</td>\n",
              "      <td>94043</td>\n",
              "    </tr>\n",
              "    <tr>\n",
              "      <th>30</th>\n",
              "      <td>7</td>\n",
              "      <td>M</td>\n",
              "      <td>student</td>\n",
              "      <td>55436</td>\n",
              "    </tr>\n",
              "    <tr>\n",
              "      <th>...</th>\n",
              "      <td>...</td>\n",
              "      <td>...</td>\n",
              "      <td>...</td>\n",
              "      <td>...</td>\n",
              "    </tr>\n",
              "    <tr>\n",
              "      <th>914</th>\n",
              "      <td>44</td>\n",
              "      <td>F</td>\n",
              "      <td>other</td>\n",
              "      <td>08105</td>\n",
              "    </tr>\n",
              "    <tr>\n",
              "      <th>915</th>\n",
              "      <td>50</td>\n",
              "      <td>M</td>\n",
              "      <td>entertainment</td>\n",
              "      <td>60614</td>\n",
              "    </tr>\n",
              "    <tr>\n",
              "      <th>916</th>\n",
              "      <td>27</td>\n",
              "      <td>M</td>\n",
              "      <td>engineer</td>\n",
              "      <td>N2L5N</td>\n",
              "    </tr>\n",
              "    <tr>\n",
              "      <th>917</th>\n",
              "      <td>22</td>\n",
              "      <td>F</td>\n",
              "      <td>student</td>\n",
              "      <td>20006</td>\n",
              "    </tr>\n",
              "    <tr>\n",
              "      <th>918</th>\n",
              "      <td>40</td>\n",
              "      <td>M</td>\n",
              "      <td>scientist</td>\n",
              "      <td>70116</td>\n",
              "    </tr>\n",
              "    <tr>\n",
              "      <th>919</th>\n",
              "      <td>25</td>\n",
              "      <td>M</td>\n",
              "      <td>other</td>\n",
              "      <td>14216</td>\n",
              "    </tr>\n",
              "    <tr>\n",
              "      <th>920</th>\n",
              "      <td>30</td>\n",
              "      <td>F</td>\n",
              "      <td>artist</td>\n",
              "      <td>90008</td>\n",
              "    </tr>\n",
              "    <tr>\n",
              "      <th>921</th>\n",
              "      <td>20</td>\n",
              "      <td>F</td>\n",
              "      <td>student</td>\n",
              "      <td>98801</td>\n",
              "    </tr>\n",
              "    <tr>\n",
              "      <th>922</th>\n",
              "      <td>29</td>\n",
              "      <td>F</td>\n",
              "      <td>administrator</td>\n",
              "      <td>21114</td>\n",
              "    </tr>\n",
              "    <tr>\n",
              "      <th>923</th>\n",
              "      <td>21</td>\n",
              "      <td>M</td>\n",
              "      <td>student</td>\n",
              "      <td>E2E3R</td>\n",
              "    </tr>\n",
              "    <tr>\n",
              "      <th>924</th>\n",
              "      <td>29</td>\n",
              "      <td>M</td>\n",
              "      <td>other</td>\n",
              "      <td>11753</td>\n",
              "    </tr>\n",
              "    <tr>\n",
              "      <th>925</th>\n",
              "      <td>18</td>\n",
              "      <td>F</td>\n",
              "      <td>salesman</td>\n",
              "      <td>49036</td>\n",
              "    </tr>\n",
              "    <tr>\n",
              "      <th>926</th>\n",
              "      <td>49</td>\n",
              "      <td>M</td>\n",
              "      <td>entertainment</td>\n",
              "      <td>01701</td>\n",
              "    </tr>\n",
              "    <tr>\n",
              "      <th>927</th>\n",
              "      <td>23</td>\n",
              "      <td>M</td>\n",
              "      <td>programmer</td>\n",
              "      <td>55428</td>\n",
              "    </tr>\n",
              "    <tr>\n",
              "      <th>928</th>\n",
              "      <td>21</td>\n",
              "      <td>M</td>\n",
              "      <td>student</td>\n",
              "      <td>55408</td>\n",
              "    </tr>\n",
              "    <tr>\n",
              "      <th>929</th>\n",
              "      <td>44</td>\n",
              "      <td>M</td>\n",
              "      <td>scientist</td>\n",
              "      <td>53711</td>\n",
              "    </tr>\n",
              "    <tr>\n",
              "      <th>930</th>\n",
              "      <td>28</td>\n",
              "      <td>F</td>\n",
              "      <td>scientist</td>\n",
              "      <td>07310</td>\n",
              "    </tr>\n",
              "    <tr>\n",
              "      <th>931</th>\n",
              "      <td>60</td>\n",
              "      <td>M</td>\n",
              "      <td>educator</td>\n",
              "      <td>33556</td>\n",
              "    </tr>\n",
              "    <tr>\n",
              "      <th>932</th>\n",
              "      <td>58</td>\n",
              "      <td>M</td>\n",
              "      <td>educator</td>\n",
              "      <td>06437</td>\n",
              "    </tr>\n",
              "    <tr>\n",
              "      <th>933</th>\n",
              "      <td>28</td>\n",
              "      <td>M</td>\n",
              "      <td>student</td>\n",
              "      <td>48105</td>\n",
              "    </tr>\n",
              "    <tr>\n",
              "      <th>934</th>\n",
              "      <td>61</td>\n",
              "      <td>M</td>\n",
              "      <td>engineer</td>\n",
              "      <td>22902</td>\n",
              "    </tr>\n",
              "    <tr>\n",
              "      <th>935</th>\n",
              "      <td>42</td>\n",
              "      <td>M</td>\n",
              "      <td>doctor</td>\n",
              "      <td>66221</td>\n",
              "    </tr>\n",
              "    <tr>\n",
              "      <th>936</th>\n",
              "      <td>24</td>\n",
              "      <td>M</td>\n",
              "      <td>other</td>\n",
              "      <td>32789</td>\n",
              "    </tr>\n",
              "    <tr>\n",
              "      <th>937</th>\n",
              "      <td>48</td>\n",
              "      <td>M</td>\n",
              "      <td>educator</td>\n",
              "      <td>98072</td>\n",
              "    </tr>\n",
              "    <tr>\n",
              "      <th>938</th>\n",
              "      <td>38</td>\n",
              "      <td>F</td>\n",
              "      <td>technician</td>\n",
              "      <td>55038</td>\n",
              "    </tr>\n",
              "    <tr>\n",
              "      <th>939</th>\n",
              "      <td>26</td>\n",
              "      <td>F</td>\n",
              "      <td>student</td>\n",
              "      <td>33319</td>\n",
              "    </tr>\n",
              "    <tr>\n",
              "      <th>940</th>\n",
              "      <td>32</td>\n",
              "      <td>M</td>\n",
              "      <td>administrator</td>\n",
              "      <td>02215</td>\n",
              "    </tr>\n",
              "    <tr>\n",
              "      <th>941</th>\n",
              "      <td>20</td>\n",
              "      <td>M</td>\n",
              "      <td>student</td>\n",
              "      <td>97229</td>\n",
              "    </tr>\n",
              "    <tr>\n",
              "      <th>942</th>\n",
              "      <td>48</td>\n",
              "      <td>F</td>\n",
              "      <td>librarian</td>\n",
              "      <td>78209</td>\n",
              "    </tr>\n",
              "    <tr>\n",
              "      <th>943</th>\n",
              "      <td>22</td>\n",
              "      <td>M</td>\n",
              "      <td>student</td>\n",
              "      <td>77841</td>\n",
              "    </tr>\n",
              "  </tbody>\n",
              "</table>\n",
              "<p>943 rows × 4 columns</p>\n",
              "</div>"
            ],
            "text/plain": [
              "         age gender     occupation zip_code\n",
              "user_id                                    \n",
              "1         24      M     technician    85711\n",
              "2         53      F          other    94043\n",
              "3         23      M         writer    32067\n",
              "4         24      M     technician    43537\n",
              "5         33      F          other    15213\n",
              "6         42      M      executive    98101\n",
              "7         57      M  administrator    91344\n",
              "8         36      M  administrator    05201\n",
              "9         29      M        student    01002\n",
              "10        53      M         lawyer    90703\n",
              "11        39      F          other    30329\n",
              "12        28      F          other    06405\n",
              "13        47      M       educator    29206\n",
              "14        45      M      scientist    55106\n",
              "15        49      F       educator    97301\n",
              "16        21      M  entertainment    10309\n",
              "17        30      M     programmer    06355\n",
              "18        35      F          other    37212\n",
              "19        40      M      librarian    02138\n",
              "20        42      F      homemaker    95660\n",
              "21        26      M         writer    30068\n",
              "22        25      M         writer    40206\n",
              "23        30      F         artist    48197\n",
              "24        21      F         artist    94533\n",
              "25        39      M       engineer    55107\n",
              "26        49      M       engineer    21044\n",
              "27        40      F      librarian    30030\n",
              "28        32      M         writer    55369\n",
              "29        41      M     programmer    94043\n",
              "30         7      M        student    55436\n",
              "...      ...    ...            ...      ...\n",
              "914       44      F          other    08105\n",
              "915       50      M  entertainment    60614\n",
              "916       27      M       engineer    N2L5N\n",
              "917       22      F        student    20006\n",
              "918       40      M      scientist    70116\n",
              "919       25      M          other    14216\n",
              "920       30      F         artist    90008\n",
              "921       20      F        student    98801\n",
              "922       29      F  administrator    21114\n",
              "923       21      M        student    E2E3R\n",
              "924       29      M          other    11753\n",
              "925       18      F       salesman    49036\n",
              "926       49      M  entertainment    01701\n",
              "927       23      M     programmer    55428\n",
              "928       21      M        student    55408\n",
              "929       44      M      scientist    53711\n",
              "930       28      F      scientist    07310\n",
              "931       60      M       educator    33556\n",
              "932       58      M       educator    06437\n",
              "933       28      M        student    48105\n",
              "934       61      M       engineer    22902\n",
              "935       42      M         doctor    66221\n",
              "936       24      M          other    32789\n",
              "937       48      M       educator    98072\n",
              "938       38      F     technician    55038\n",
              "939       26      F        student    33319\n",
              "940       32      M  administrator    02215\n",
              "941       20      M        student    97229\n",
              "942       48      F      librarian    78209\n",
              "943       22      M        student    77841\n",
              "\n",
              "[943 rows x 4 columns]"
            ]
          },
          "metadata": {
            "tags": []
          },
          "execution_count": 75
        }
      ]
    },
    {
      "cell_type": "markdown",
      "metadata": {
        "id": "Jq5NcJdgq5kP",
        "colab_type": "text"
      },
      "source": [
        "## Using Groupby"
      ]
    },
    {
      "cell_type": "markdown",
      "metadata": {
        "id": "o_Cnc6quq5kP",
        "colab_type": "text"
      },
      "source": [
        "`groupby` aggregates a numeric column(s) by a categorical column(s)"
      ]
    },
    {
      "cell_type": "code",
      "metadata": {
        "id": "x3AnWLH2q5kQ",
        "colab_type": "code",
        "colab": {},
        "outputId": "b94b2899-0f8a-4e58-adf5-a463b7412677"
      },
      "source": [
        "# for each occupation in the df, count the number of instances\n",
        "users['occupation'].value_counts().head(3)"
      ],
      "execution_count": null,
      "outputs": [
        {
          "output_type": "execute_result",
          "data": {
            "text/plain": [
              "student     196\n",
              "other       105\n",
              "educator     95\n",
              "Name: occupation, dtype: int64"
            ]
          },
          "metadata": {
            "tags": []
          },
          "execution_count": 77
        }
      ]
    },
    {
      "cell_type": "code",
      "metadata": {
        "id": "fq4kqtfDq5kS",
        "colab_type": "code",
        "colab": {},
        "outputId": "aaa204da-a315-4de7-dfcc-c755c393b8fb"
      },
      "source": [
        "# another way to get this info\n",
        "users.groupby(['occupation'])['user_id'].count()\n",
        "users.groupby(['occupation'])['user_id'].count().sort_index()\n",
        "users.groupby(['occupation'])['user_id'].count().sort_values(ascending=False).head()"
      ],
      "execution_count": null,
      "outputs": [
        {
          "output_type": "execute_result",
          "data": {
            "text/plain": [
              "occupation\n",
              "student          196\n",
              "other            105\n",
              "educator          95\n",
              "administrator     79\n",
              "engineer          67\n",
              "Name: user_id, dtype: int64"
            ]
          },
          "metadata": {
            "tags": []
          },
          "execution_count": 95
        }
      ]
    },
    {
      "cell_type": "code",
      "metadata": {
        "id": "Ove3hZ82q5kU",
        "colab_type": "code",
        "colab": {},
        "outputId": "361f1cb2-2ea4-44b6-dda0-b89e327051ba"
      },
      "source": [
        "users['age'].describe()"
      ],
      "execution_count": null,
      "outputs": [
        {
          "output_type": "execute_result",
          "data": {
            "text/plain": [
              "count    943.000000\n",
              "mean      34.051962\n",
              "std       12.192740\n",
              "min        7.000000\n",
              "25%       25.000000\n",
              "50%       31.000000\n",
              "75%       43.000000\n",
              "max       73.000000\n",
              "Name: age, dtype: float64"
            ]
          },
          "metadata": {
            "tags": []
          },
          "execution_count": 88
        }
      ]
    },
    {
      "cell_type": "code",
      "metadata": {
        "collapsed": true,
        "id": "lbgVBRilq5kW",
        "colab_type": "code",
        "colab": {},
        "outputId": "2a29f076-4c3d-415a-cef9-575bd80ce061"
      },
      "source": [
        "# six different aggregators you can use\n",
        "users.groupby(['occupation'])['age'].max()\n",
        "users.groupby(['occupation'])['age'].min()\n",
        "users.groupby(['occupation'])['age'].mean()\n",
        "users.groupby(['occupation'])['age'].median()\n",
        "users.groupby(['occupation'])['age'].std()\n",
        "users.groupby(['occupation'])['age'].count()"
      ],
      "execution_count": null,
      "outputs": [
        {
          "output_type": "execute_result",
          "data": {
            "text/plain": [
              "occupation\n",
              "administrator     79\n",
              "artist            28\n",
              "doctor             7\n",
              "educator          95\n",
              "engineer          67\n",
              "entertainment     18\n",
              "executive         32\n",
              "healthcare        16\n",
              "homemaker          7\n",
              "lawyer            12\n",
              "librarian         51\n",
              "marketing         26\n",
              "none               9\n",
              "other            105\n",
              "programmer        66\n",
              "retired           14\n",
              "salesman          12\n",
              "scientist         31\n",
              "student          196\n",
              "technician        27\n",
              "writer            45\n",
              "Name: age, dtype: int64"
            ]
          },
          "metadata": {
            "tags": []
          },
          "execution_count": 91
        }
      ]
    },
    {
      "cell_type": "code",
      "metadata": {
        "id": "LKp3SZ1gq5kY",
        "colab_type": "code",
        "colab": {},
        "outputId": "5dceb9b2-9261-4c4c-8d23-728a7a6c10fa"
      },
      "source": [
        "# two ways to sort a groupby\n",
        "users.groupby(['occupation'])['age'].mean().sort_values().head()\n",
        "users.groupby(['occupation'])['age'].mean().sort_index(ascending=False).head()"
      ],
      "execution_count": null,
      "outputs": [
        {
          "output_type": "execute_result",
          "data": {
            "text/plain": [
              "occupation\n",
              "writer        36.311111\n",
              "technician    33.148148\n",
              "student       22.081633\n",
              "scientist     35.548387\n",
              "salesman      35.666667\n",
              "Name: age, dtype: float64"
            ]
          },
          "metadata": {
            "tags": []
          },
          "execution_count": 99
        }
      ]
    },
    {
      "cell_type": "code",
      "metadata": {
        "id": "hreL1Rikq5ka",
        "colab_type": "code",
        "colab": {},
        "outputId": "4b6775ae-4011-4f71-c7d2-aa403dc4b4ce"
      },
      "source": [
        "# you can group by multiple [categorical] variables\n",
        "print(users.columns)"
      ],
      "execution_count": null,
      "outputs": [
        {
          "output_type": "stream",
          "text": [
            "Index(['user_id', 'age', 'gender', 'occupation', 'zip_code'], dtype='object')\n"
          ],
          "name": "stdout"
        }
      ]
    },
    {
      "cell_type": "code",
      "metadata": {
        "collapsed": true,
        "id": "goj7_HG9q5kd",
        "colab_type": "code",
        "colab": {},
        "outputId": "231f2f82-7273-4ab3-a8c0-0dd6b4a12a8f"
      },
      "source": [
        "users.groupby(['occupation', 'gender', 'zip_code'])['age'].mean()"
      ],
      "execution_count": null,
      "outputs": [
        {
          "output_type": "execute_result",
          "data": {
            "text/plain": [
              "occupation     gender  zip_code\n",
              "administrator  F       03062       51.0\n",
              "                       03755       39.0\n",
              "                       04102       50.0\n",
              "                       15237       59.0\n",
              "                       16506       49.0\n",
              "                       16803       43.0\n",
              "                       17345       30.0\n",
              "                       19711       27.0\n",
              "                       19716       49.0\n",
              "                       20817       23.0\n",
              "                       20879       54.0\n",
              "                       21114       29.0\n",
              "                       33763       48.0\n",
              "                       42141       38.0\n",
              "                       43204       51.0\n",
              "                       44124       42.0\n",
              "                       44224       47.0\n",
              "                       44265       36.0\n",
              "                       48103       38.0\n",
              "                       49428       38.0\n",
              "                       52241       34.0\n",
              "                       52302       30.0\n",
              "                       55337       33.0\n",
              "                       55406       35.0\n",
              "                       58202       51.0\n",
              "                       60202       22.0\n",
              "                       60476       37.0\n",
              "                       68106       43.0\n",
              "                       73034       48.0\n",
              "                       78213       33.0\n",
              "                                   ... \n",
              "writer         F       90064       36.0\n",
              "                       92115       40.0\n",
              "                       94618       48.0\n",
              "                       99709       49.0\n",
              "               M       08534       52.0\n",
              "                       10003       36.0\n",
              "                       17604       30.0\n",
              "                       27105       50.0\n",
              "                       30068       26.0\n",
              "                       32067       23.0\n",
              "                       38115       26.0\n",
              "                       40206       25.0\n",
              "                       40515       49.0\n",
              "                       52245       21.0\n",
              "                       55105       49.0\n",
              "                       55113       42.0\n",
              "                       55369       32.0\n",
              "                       55408       26.0\n",
              "                       59801       52.0\n",
              "                       60804       24.0\n",
              "                       63108       25.0\n",
              "                       80209       48.0\n",
              "                       90019       34.0\n",
              "                       91505       28.0\n",
              "                       92154       22.0\n",
              "                       92653       21.0\n",
              "                       93055       40.0\n",
              "                       94583       60.0\n",
              "                       95468       51.0\n",
              "                       E2A4H       27.0\n",
              "Name: age, Length: 915, dtype: float64"
            ]
          },
          "metadata": {
            "tags": []
          },
          "execution_count": 102
        }
      ]
    },
    {
      "cell_type": "code",
      "metadata": {
        "collapsed": true,
        "id": "A80zpTfpq5kh",
        "colab_type": "code",
        "colab": {},
        "outputId": "8fd46ffd-bf94-49c1-e01e-e3a1b13d1640"
      },
      "source": [
        "# you can also aggregate multiple [numeric] variables\n",
        "users.groupby(['occupation', 'gender'])[['age', 'user_id']].mean()"
      ],
      "execution_count": null,
      "outputs": [
        {
          "output_type": "execute_result",
          "data": {
            "text/html": [
              "<div>\n",
              "<style scoped>\n",
              "    .dataframe tbody tr th:only-of-type {\n",
              "        vertical-align: middle;\n",
              "    }\n",
              "\n",
              "    .dataframe tbody tr th {\n",
              "        vertical-align: top;\n",
              "    }\n",
              "\n",
              "    .dataframe thead th {\n",
              "        text-align: right;\n",
              "    }\n",
              "</style>\n",
              "<table border=\"1\" class=\"dataframe\">\n",
              "  <thead>\n",
              "    <tr style=\"text-align: right;\">\n",
              "      <th></th>\n",
              "      <th></th>\n",
              "      <th>age</th>\n",
              "      <th>user_id</th>\n",
              "    </tr>\n",
              "    <tr>\n",
              "      <th>occupation</th>\n",
              "      <th>gender</th>\n",
              "      <th></th>\n",
              "      <th></th>\n",
              "    </tr>\n",
              "  </thead>\n",
              "  <tbody>\n",
              "    <tr>\n",
              "      <th rowspan=\"2\" valign=\"top\">administrator</th>\n",
              "      <th>F</th>\n",
              "      <td>40.638889</td>\n",
              "      <td>443.944444</td>\n",
              "    </tr>\n",
              "    <tr>\n",
              "      <th>M</th>\n",
              "      <td>37.162791</td>\n",
              "      <td>420.069767</td>\n",
              "    </tr>\n",
              "    <tr>\n",
              "      <th rowspan=\"2\" valign=\"top\">artist</th>\n",
              "      <th>F</th>\n",
              "      <td>30.307692</td>\n",
              "      <td>432.153846</td>\n",
              "    </tr>\n",
              "    <tr>\n",
              "      <th>M</th>\n",
              "      <td>32.333333</td>\n",
              "      <td>469.000000</td>\n",
              "    </tr>\n",
              "    <tr>\n",
              "      <th>doctor</th>\n",
              "      <th>M</th>\n",
              "      <td>43.571429</td>\n",
              "      <td>533.714286</td>\n",
              "    </tr>\n",
              "    <tr>\n",
              "      <th rowspan=\"2\" valign=\"top\">educator</th>\n",
              "      <th>F</th>\n",
              "      <td>39.115385</td>\n",
              "      <td>454.730769</td>\n",
              "    </tr>\n",
              "    <tr>\n",
              "      <th>M</th>\n",
              "      <td>43.101449</td>\n",
              "      <td>471.492754</td>\n",
              "    </tr>\n",
              "    <tr>\n",
              "      <th rowspan=\"2\" valign=\"top\">engineer</th>\n",
              "      <th>F</th>\n",
              "      <td>29.500000</td>\n",
              "      <td>806.500000</td>\n",
              "    </tr>\n",
              "    <tr>\n",
              "      <th>M</th>\n",
              "      <td>36.600000</td>\n",
              "      <td>445.553846</td>\n",
              "    </tr>\n",
              "    <tr>\n",
              "      <th rowspan=\"2\" valign=\"top\">entertainment</th>\n",
              "      <th>F</th>\n",
              "      <td>31.000000</td>\n",
              "      <td>780.000000</td>\n",
              "    </tr>\n",
              "    <tr>\n",
              "      <th>M</th>\n",
              "      <td>29.000000</td>\n",
              "      <td>350.250000</td>\n",
              "    </tr>\n",
              "    <tr>\n",
              "      <th rowspan=\"2\" valign=\"top\">executive</th>\n",
              "      <th>F</th>\n",
              "      <td>44.000000</td>\n",
              "      <td>373.000000</td>\n",
              "    </tr>\n",
              "    <tr>\n",
              "      <th>M</th>\n",
              "      <td>38.172414</td>\n",
              "      <td>427.413793</td>\n",
              "    </tr>\n",
              "    <tr>\n",
              "      <th rowspan=\"2\" valign=\"top\">healthcare</th>\n",
              "      <th>F</th>\n",
              "      <td>39.818182</td>\n",
              "      <td>568.454545</td>\n",
              "    </tr>\n",
              "    <tr>\n",
              "      <th>M</th>\n",
              "      <td>45.400000</td>\n",
              "      <td>354.000000</td>\n",
              "    </tr>\n",
              "    <tr>\n",
              "      <th rowspan=\"2\" valign=\"top\">homemaker</th>\n",
              "      <th>F</th>\n",
              "      <td>34.166667</td>\n",
              "      <td>367.166667</td>\n",
              "    </tr>\n",
              "    <tr>\n",
              "      <th>M</th>\n",
              "      <td>23.000000</td>\n",
              "      <td>898.000000</td>\n",
              "    </tr>\n",
              "    <tr>\n",
              "      <th rowspan=\"2\" valign=\"top\">lawyer</th>\n",
              "      <th>F</th>\n",
              "      <td>39.500000</td>\n",
              "      <td>285.000000</td>\n",
              "    </tr>\n",
              "    <tr>\n",
              "      <th>M</th>\n",
              "      <td>36.200000</td>\n",
              "      <td>373.900000</td>\n",
              "    </tr>\n",
              "    <tr>\n",
              "      <th rowspan=\"2\" valign=\"top\">librarian</th>\n",
              "      <th>F</th>\n",
              "      <td>40.000000</td>\n",
              "      <td>449.137931</td>\n",
              "    </tr>\n",
              "    <tr>\n",
              "      <th>M</th>\n",
              "      <td>40.000000</td>\n",
              "      <td>535.954545</td>\n",
              "    </tr>\n",
              "    <tr>\n",
              "      <th rowspan=\"2\" valign=\"top\">marketing</th>\n",
              "      <th>F</th>\n",
              "      <td>37.200000</td>\n",
              "      <td>443.300000</td>\n",
              "    </tr>\n",
              "    <tr>\n",
              "      <th>M</th>\n",
              "      <td>37.875000</td>\n",
              "      <td>434.375000</td>\n",
              "    </tr>\n",
              "    <tr>\n",
              "      <th rowspan=\"2\" valign=\"top\">none</th>\n",
              "      <th>F</th>\n",
              "      <td>36.500000</td>\n",
              "      <td>521.750000</td>\n",
              "    </tr>\n",
              "    <tr>\n",
              "      <th>M</th>\n",
              "      <td>18.600000</td>\n",
              "      <td>246.200000</td>\n",
              "    </tr>\n",
              "    <tr>\n",
              "      <th rowspan=\"2\" valign=\"top\">other</th>\n",
              "      <th>F</th>\n",
              "      <td>35.472222</td>\n",
              "      <td>474.666667</td>\n",
              "    </tr>\n",
              "    <tr>\n",
              "      <th>M</th>\n",
              "      <td>34.028986</td>\n",
              "      <td>578.246377</td>\n",
              "    </tr>\n",
              "    <tr>\n",
              "      <th rowspan=\"2\" valign=\"top\">programmer</th>\n",
              "      <th>F</th>\n",
              "      <td>32.166667</td>\n",
              "      <td>411.166667</td>\n",
              "    </tr>\n",
              "    <tr>\n",
              "      <th>M</th>\n",
              "      <td>33.216667</td>\n",
              "      <td>437.966667</td>\n",
              "    </tr>\n",
              "    <tr>\n",
              "      <th rowspan=\"2\" valign=\"top\">retired</th>\n",
              "      <th>F</th>\n",
              "      <td>70.000000</td>\n",
              "      <td>860.000000</td>\n",
              "    </tr>\n",
              "    <tr>\n",
              "      <th>M</th>\n",
              "      <td>62.538462</td>\n",
              "      <td>489.230769</td>\n",
              "    </tr>\n",
              "    <tr>\n",
              "      <th rowspan=\"2\" valign=\"top\">salesman</th>\n",
              "      <th>F</th>\n",
              "      <td>27.000000</td>\n",
              "      <td>637.666667</td>\n",
              "    </tr>\n",
              "    <tr>\n",
              "      <th>M</th>\n",
              "      <td>38.555556</td>\n",
              "      <td>447.333333</td>\n",
              "    </tr>\n",
              "    <tr>\n",
              "      <th rowspan=\"2\" valign=\"top\">scientist</th>\n",
              "      <th>F</th>\n",
              "      <td>28.333333</td>\n",
              "      <td>611.666667</td>\n",
              "    </tr>\n",
              "    <tr>\n",
              "      <th>M</th>\n",
              "      <td>36.321429</td>\n",
              "      <td>449.428571</td>\n",
              "    </tr>\n",
              "    <tr>\n",
              "      <th rowspan=\"2\" valign=\"top\">student</th>\n",
              "      <th>F</th>\n",
              "      <td>20.750000</td>\n",
              "      <td>497.533333</td>\n",
              "    </tr>\n",
              "    <tr>\n",
              "      <th>M</th>\n",
              "      <td>22.669118</td>\n",
              "      <td>479.404412</td>\n",
              "    </tr>\n",
              "    <tr>\n",
              "      <th rowspan=\"2\" valign=\"top\">technician</th>\n",
              "      <th>F</th>\n",
              "      <td>38.000000</td>\n",
              "      <td>938.000000</td>\n",
              "    </tr>\n",
              "    <tr>\n",
              "      <th>M</th>\n",
              "      <td>32.961538</td>\n",
              "      <td>480.692308</td>\n",
              "    </tr>\n",
              "    <tr>\n",
              "      <th rowspan=\"2\" valign=\"top\">writer</th>\n",
              "      <th>F</th>\n",
              "      <td>37.631579</td>\n",
              "      <td>536.052632</td>\n",
              "    </tr>\n",
              "    <tr>\n",
              "      <th>M</th>\n",
              "      <td>35.346154</td>\n",
              "      <td>466.230769</td>\n",
              "    </tr>\n",
              "  </tbody>\n",
              "</table>\n",
              "</div>"
            ],
            "text/plain": [
              "                            age     user_id\n",
              "occupation    gender                       \n",
              "administrator F       40.638889  443.944444\n",
              "              M       37.162791  420.069767\n",
              "artist        F       30.307692  432.153846\n",
              "              M       32.333333  469.000000\n",
              "doctor        M       43.571429  533.714286\n",
              "educator      F       39.115385  454.730769\n",
              "              M       43.101449  471.492754\n",
              "engineer      F       29.500000  806.500000\n",
              "              M       36.600000  445.553846\n",
              "entertainment F       31.000000  780.000000\n",
              "              M       29.000000  350.250000\n",
              "executive     F       44.000000  373.000000\n",
              "              M       38.172414  427.413793\n",
              "healthcare    F       39.818182  568.454545\n",
              "              M       45.400000  354.000000\n",
              "homemaker     F       34.166667  367.166667\n",
              "              M       23.000000  898.000000\n",
              "lawyer        F       39.500000  285.000000\n",
              "              M       36.200000  373.900000\n",
              "librarian     F       40.000000  449.137931\n",
              "              M       40.000000  535.954545\n",
              "marketing     F       37.200000  443.300000\n",
              "              M       37.875000  434.375000\n",
              "none          F       36.500000  521.750000\n",
              "              M       18.600000  246.200000\n",
              "other         F       35.472222  474.666667\n",
              "              M       34.028986  578.246377\n",
              "programmer    F       32.166667  411.166667\n",
              "              M       33.216667  437.966667\n",
              "retired       F       70.000000  860.000000\n",
              "              M       62.538462  489.230769\n",
              "salesman      F       27.000000  637.666667\n",
              "              M       38.555556  447.333333\n",
              "scientist     F       28.333333  611.666667\n",
              "              M       36.321429  449.428571\n",
              "student       F       20.750000  497.533333\n",
              "              M       22.669118  479.404412\n",
              "technician    F       38.000000  938.000000\n",
              "              M       32.961538  480.692308\n",
              "writer        F       37.631579  536.052632\n",
              "              M       35.346154  466.230769"
            ]
          },
          "metadata": {
            "tags": []
          },
          "execution_count": 104
        }
      ]
    },
    {
      "cell_type": "code",
      "metadata": {
        "collapsed": true,
        "id": "UpcKlw4tq5kk",
        "colab_type": "code",
        "colab": {},
        "outputId": "08403700-b34a-4ee5-d38a-d3fe739ee815"
      },
      "source": [
        "# you can choose multiple aggregation methods\n",
        "users.groupby(['occupation'])['age'].agg(['mean', 'median', 'min', 'max', 'std', 'count'])"
      ],
      "execution_count": null,
      "outputs": [
        {
          "output_type": "execute_result",
          "data": {
            "text/html": [
              "<div>\n",
              "<style scoped>\n",
              "    .dataframe tbody tr th:only-of-type {\n",
              "        vertical-align: middle;\n",
              "    }\n",
              "\n",
              "    .dataframe tbody tr th {\n",
              "        vertical-align: top;\n",
              "    }\n",
              "\n",
              "    .dataframe thead th {\n",
              "        text-align: right;\n",
              "    }\n",
              "</style>\n",
              "<table border=\"1\" class=\"dataframe\">\n",
              "  <thead>\n",
              "    <tr style=\"text-align: right;\">\n",
              "      <th></th>\n",
              "      <th>mean</th>\n",
              "      <th>median</th>\n",
              "      <th>min</th>\n",
              "      <th>max</th>\n",
              "      <th>std</th>\n",
              "      <th>count</th>\n",
              "    </tr>\n",
              "    <tr>\n",
              "      <th>occupation</th>\n",
              "      <th></th>\n",
              "      <th></th>\n",
              "      <th></th>\n",
              "      <th></th>\n",
              "      <th></th>\n",
              "      <th></th>\n",
              "    </tr>\n",
              "  </thead>\n",
              "  <tbody>\n",
              "    <tr>\n",
              "      <th>administrator</th>\n",
              "      <td>38.746835</td>\n",
              "      <td>37.0</td>\n",
              "      <td>21</td>\n",
              "      <td>70</td>\n",
              "      <td>11.123397</td>\n",
              "      <td>79</td>\n",
              "    </tr>\n",
              "    <tr>\n",
              "      <th>artist</th>\n",
              "      <td>31.392857</td>\n",
              "      <td>30.0</td>\n",
              "      <td>19</td>\n",
              "      <td>48</td>\n",
              "      <td>8.668116</td>\n",
              "      <td>28</td>\n",
              "    </tr>\n",
              "    <tr>\n",
              "      <th>doctor</th>\n",
              "      <td>43.571429</td>\n",
              "      <td>45.0</td>\n",
              "      <td>28</td>\n",
              "      <td>64</td>\n",
              "      <td>12.501428</td>\n",
              "      <td>7</td>\n",
              "    </tr>\n",
              "    <tr>\n",
              "      <th>educator</th>\n",
              "      <td>42.010526</td>\n",
              "      <td>42.0</td>\n",
              "      <td>23</td>\n",
              "      <td>63</td>\n",
              "      <td>10.413264</td>\n",
              "      <td>95</td>\n",
              "    </tr>\n",
              "    <tr>\n",
              "      <th>engineer</th>\n",
              "      <td>36.388060</td>\n",
              "      <td>36.0</td>\n",
              "      <td>22</td>\n",
              "      <td>70</td>\n",
              "      <td>11.199236</td>\n",
              "      <td>67</td>\n",
              "    </tr>\n",
              "    <tr>\n",
              "      <th>entertainment</th>\n",
              "      <td>29.222222</td>\n",
              "      <td>25.0</td>\n",
              "      <td>15</td>\n",
              "      <td>50</td>\n",
              "      <td>10.056052</td>\n",
              "      <td>18</td>\n",
              "    </tr>\n",
              "    <tr>\n",
              "      <th>executive</th>\n",
              "      <td>38.718750</td>\n",
              "      <td>38.5</td>\n",
              "      <td>22</td>\n",
              "      <td>69</td>\n",
              "      <td>10.608075</td>\n",
              "      <td>32</td>\n",
              "    </tr>\n",
              "    <tr>\n",
              "      <th>healthcare</th>\n",
              "      <td>41.562500</td>\n",
              "      <td>44.5</td>\n",
              "      <td>22</td>\n",
              "      <td>62</td>\n",
              "      <td>11.313524</td>\n",
              "      <td>16</td>\n",
              "    </tr>\n",
              "    <tr>\n",
              "      <th>homemaker</th>\n",
              "      <td>32.571429</td>\n",
              "      <td>32.0</td>\n",
              "      <td>20</td>\n",
              "      <td>50</td>\n",
              "      <td>10.737119</td>\n",
              "      <td>7</td>\n",
              "    </tr>\n",
              "    <tr>\n",
              "      <th>lawyer</th>\n",
              "      <td>36.750000</td>\n",
              "      <td>34.0</td>\n",
              "      <td>21</td>\n",
              "      <td>53</td>\n",
              "      <td>10.830303</td>\n",
              "      <td>12</td>\n",
              "    </tr>\n",
              "    <tr>\n",
              "      <th>librarian</th>\n",
              "      <td>40.000000</td>\n",
              "      <td>39.0</td>\n",
              "      <td>23</td>\n",
              "      <td>69</td>\n",
              "      <td>11.023611</td>\n",
              "      <td>51</td>\n",
              "    </tr>\n",
              "    <tr>\n",
              "      <th>marketing</th>\n",
              "      <td>37.615385</td>\n",
              "      <td>36.0</td>\n",
              "      <td>24</td>\n",
              "      <td>55</td>\n",
              "      <td>9.474500</td>\n",
              "      <td>26</td>\n",
              "    </tr>\n",
              "    <tr>\n",
              "      <th>none</th>\n",
              "      <td>26.555556</td>\n",
              "      <td>26.0</td>\n",
              "      <td>11</td>\n",
              "      <td>55</td>\n",
              "      <td>13.757826</td>\n",
              "      <td>9</td>\n",
              "    </tr>\n",
              "    <tr>\n",
              "      <th>other</th>\n",
              "      <td>34.523810</td>\n",
              "      <td>32.0</td>\n",
              "      <td>13</td>\n",
              "      <td>64</td>\n",
              "      <td>10.738227</td>\n",
              "      <td>105</td>\n",
              "    </tr>\n",
              "    <tr>\n",
              "      <th>programmer</th>\n",
              "      <td>33.121212</td>\n",
              "      <td>30.0</td>\n",
              "      <td>20</td>\n",
              "      <td>63</td>\n",
              "      <td>9.624512</td>\n",
              "      <td>66</td>\n",
              "    </tr>\n",
              "    <tr>\n",
              "      <th>retired</th>\n",
              "      <td>63.071429</td>\n",
              "      <td>63.0</td>\n",
              "      <td>51</td>\n",
              "      <td>73</td>\n",
              "      <td>5.757461</td>\n",
              "      <td>14</td>\n",
              "    </tr>\n",
              "    <tr>\n",
              "      <th>salesman</th>\n",
              "      <td>35.666667</td>\n",
              "      <td>34.0</td>\n",
              "      <td>18</td>\n",
              "      <td>66</td>\n",
              "      <td>14.079859</td>\n",
              "      <td>12</td>\n",
              "    </tr>\n",
              "    <tr>\n",
              "      <th>scientist</th>\n",
              "      <td>35.548387</td>\n",
              "      <td>37.0</td>\n",
              "      <td>23</td>\n",
              "      <td>55</td>\n",
              "      <td>7.392964</td>\n",
              "      <td>31</td>\n",
              "    </tr>\n",
              "    <tr>\n",
              "      <th>student</th>\n",
              "      <td>22.081633</td>\n",
              "      <td>21.0</td>\n",
              "      <td>7</td>\n",
              "      <td>42</td>\n",
              "      <td>5.284081</td>\n",
              "      <td>196</td>\n",
              "    </tr>\n",
              "    <tr>\n",
              "      <th>technician</th>\n",
              "      <td>33.148148</td>\n",
              "      <td>30.0</td>\n",
              "      <td>21</td>\n",
              "      <td>55</td>\n",
              "      <td>9.867210</td>\n",
              "      <td>27</td>\n",
              "    </tr>\n",
              "    <tr>\n",
              "      <th>writer</th>\n",
              "      <td>36.311111</td>\n",
              "      <td>36.0</td>\n",
              "      <td>18</td>\n",
              "      <td>60</td>\n",
              "      <td>11.423306</td>\n",
              "      <td>45</td>\n",
              "    </tr>\n",
              "  </tbody>\n",
              "</table>\n",
              "</div>"
            ],
            "text/plain": [
              "                    mean  median  min  max        std  count\n",
              "occupation                                                  \n",
              "administrator  38.746835    37.0   21   70  11.123397     79\n",
              "artist         31.392857    30.0   19   48   8.668116     28\n",
              "doctor         43.571429    45.0   28   64  12.501428      7\n",
              "educator       42.010526    42.0   23   63  10.413264     95\n",
              "engineer       36.388060    36.0   22   70  11.199236     67\n",
              "entertainment  29.222222    25.0   15   50  10.056052     18\n",
              "executive      38.718750    38.5   22   69  10.608075     32\n",
              "healthcare     41.562500    44.5   22   62  11.313524     16\n",
              "homemaker      32.571429    32.0   20   50  10.737119      7\n",
              "lawyer         36.750000    34.0   21   53  10.830303     12\n",
              "librarian      40.000000    39.0   23   69  11.023611     51\n",
              "marketing      37.615385    36.0   24   55   9.474500     26\n",
              "none           26.555556    26.0   11   55  13.757826      9\n",
              "other          34.523810    32.0   13   64  10.738227    105\n",
              "programmer     33.121212    30.0   20   63   9.624512     66\n",
              "retired        63.071429    63.0   51   73   5.757461     14\n",
              "salesman       35.666667    34.0   18   66  14.079859     12\n",
              "scientist      35.548387    37.0   23   55   7.392964     31\n",
              "student        22.081633    21.0    7   42   5.284081    196\n",
              "technician     33.148148    30.0   21   55   9.867210     27\n",
              "writer         36.311111    36.0   18   60  11.423306     45"
            ]
          },
          "metadata": {
            "tags": []
          },
          "execution_count": 105
        }
      ]
    },
    {
      "cell_type": "markdown",
      "metadata": {
        "id": "t-AT-s9Iq5kn",
        "colab_type": "text"
      },
      "source": [
        "### A few other (lesser used) pandas methods"
      ]
    },
    {
      "cell_type": "code",
      "metadata": {
        "id": "TZx0BsSYq5kn",
        "colab_type": "code",
        "colab": {},
        "outputId": "56d247ed-8aeb-4417-d59e-22296f1e0eba"
      },
      "source": [
        "# recode values\n",
        "users['is_male']=users['gender'].map({'F':0, 'M':1})\n",
        "users.head()"
      ],
      "execution_count": null,
      "outputs": [
        {
          "output_type": "execute_result",
          "data": {
            "text/html": [
              "<div>\n",
              "<style scoped>\n",
              "    .dataframe tbody tr th:only-of-type {\n",
              "        vertical-align: middle;\n",
              "    }\n",
              "\n",
              "    .dataframe tbody tr th {\n",
              "        vertical-align: top;\n",
              "    }\n",
              "\n",
              "    .dataframe thead th {\n",
              "        text-align: right;\n",
              "    }\n",
              "</style>\n",
              "<table border=\"1\" class=\"dataframe\">\n",
              "  <thead>\n",
              "    <tr style=\"text-align: right;\">\n",
              "      <th></th>\n",
              "      <th>user_id</th>\n",
              "      <th>age</th>\n",
              "      <th>gender</th>\n",
              "      <th>occupation</th>\n",
              "      <th>zip_code</th>\n",
              "      <th>is_male</th>\n",
              "    </tr>\n",
              "  </thead>\n",
              "  <tbody>\n",
              "    <tr>\n",
              "      <th>0</th>\n",
              "      <td>1</td>\n",
              "      <td>24</td>\n",
              "      <td>M</td>\n",
              "      <td>technician</td>\n",
              "      <td>85711</td>\n",
              "      <td>1</td>\n",
              "    </tr>\n",
              "    <tr>\n",
              "      <th>1</th>\n",
              "      <td>2</td>\n",
              "      <td>53</td>\n",
              "      <td>F</td>\n",
              "      <td>other</td>\n",
              "      <td>94043</td>\n",
              "      <td>0</td>\n",
              "    </tr>\n",
              "    <tr>\n",
              "      <th>2</th>\n",
              "      <td>3</td>\n",
              "      <td>23</td>\n",
              "      <td>M</td>\n",
              "      <td>writer</td>\n",
              "      <td>32067</td>\n",
              "      <td>1</td>\n",
              "    </tr>\n",
              "    <tr>\n",
              "      <th>3</th>\n",
              "      <td>4</td>\n",
              "      <td>24</td>\n",
              "      <td>M</td>\n",
              "      <td>technician</td>\n",
              "      <td>43537</td>\n",
              "      <td>1</td>\n",
              "    </tr>\n",
              "    <tr>\n",
              "      <th>4</th>\n",
              "      <td>5</td>\n",
              "      <td>33</td>\n",
              "      <td>F</td>\n",
              "      <td>other</td>\n",
              "      <td>15213</td>\n",
              "      <td>0</td>\n",
              "    </tr>\n",
              "  </tbody>\n",
              "</table>\n",
              "</div>"
            ],
            "text/plain": [
              "   user_id  age gender  occupation zip_code  is_male\n",
              "0        1   24      M  technician    85711        1\n",
              "1        2   53      F       other    94043        0\n",
              "2        3   23      M      writer    32067        1\n",
              "3        4   24      M  technician    43537        1\n",
              "4        5   33      F       other    15213        0"
            ]
          },
          "metadata": {
            "tags": []
          },
          "execution_count": 106
        }
      ]
    },
    {
      "cell_type": "code",
      "metadata": {
        "id": "sKOMvZe6q5kp",
        "colab_type": "code",
        "colab": {},
        "outputId": "9d8ef77e-6ea3-4829-80ea-411ca773d378"
      },
      "source": [
        "# duplicates\n",
        "users.duplicated().head()"
      ],
      "execution_count": null,
      "outputs": [
        {
          "output_type": "execute_result",
          "data": {
            "text/plain": [
              "0    False\n",
              "1    False\n",
              "2    False\n",
              "3    False\n",
              "4    False\n",
              "dtype: bool"
            ]
          },
          "metadata": {
            "tags": []
          },
          "execution_count": 108
        }
      ]
    },
    {
      "cell_type": "code",
      "metadata": {
        "id": "6t5uznIkq5ks",
        "colab_type": "code",
        "colab": {},
        "outputId": "ec2a31ce-1e7f-4ad3-ddb8-9d34080a9cc9"
      },
      "source": [
        "# count the number of dupes in our df\n",
        "users.isnull().sum()\n",
        "users.duplicated().sum()"
      ],
      "execution_count": null,
      "outputs": [
        {
          "output_type": "execute_result",
          "data": {
            "text/plain": [
              "0"
            ]
          },
          "metadata": {
            "tags": []
          },
          "execution_count": 110
        }
      ]
    },
    {
      "cell_type": "code",
      "metadata": {
        "id": "Wn75_8g6q5kv",
        "colab_type": "code",
        "colab": {}
      },
      "source": [
        ""
      ],
      "execution_count": null,
      "outputs": []
    }
  ]
}