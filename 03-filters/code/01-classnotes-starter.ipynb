{
  "nbformat": 4,
  "nbformat_minor": 0,
  "metadata": {
    "kernelspec": {
      "display_name": "Python 3",
      "language": "python",
      "name": "python3"
    },
    "language_info": {
      "codemirror_mode": {
        "name": "ipython",
        "version": 3
      },
      "file_extension": ".py",
      "mimetype": "text/x-python",
      "name": "python",
      "nbconvert_exporter": "python",
      "pygments_lexer": "ipython3",
      "version": "3.7.3"
    },
    "colab": {
      "name": "01-classnotes-users.ipynb",
      "provenance": []
    }
  },
  "cells": [
    {
      "cell_type": "markdown",
      "metadata": {
        "id": "dDDW57Svq5iy",
        "colab_type": "text"
      },
      "source": [
        "## Exploratory Data Analysis (EDA)"
      ]
    },
    {
      "cell_type": "code",
      "metadata": {
        "id": "rcze7m6vq5i0",
        "colab_type": "code",
        "colab": {}
      },
      "source": [
        "# imports"
      ],
      "execution_count": 1,
      "outputs": []
    },
    {
      "cell_type": "markdown",
      "metadata": {
        "id": "uUf55cN4q5i3",
        "colab_type": "text"
      },
      "source": [
        "#### Read in the `users` dataset"
      ]
    },
    {
      "cell_type": "code",
      "metadata": {
        "id": "g0BL14_vq5i4",
        "colab_type": "code",
        "colab": {}
      },
      "source": [
        "# where are we?\n"
      ],
      "execution_count": 2,
      "outputs": []
    },
    {
      "cell_type": "code",
      "metadata": {
        "id": "XSX0U-_yq5i9",
        "colab_type": "code",
        "colab": {}
      },
      "source": [
        "# where is the data?\n",
        "# https://github.com/austinlasseter/pandas_exercises/tree/master/03-filters/data"
      ],
      "execution_count": 3,
      "outputs": []
    },
    {
      "cell_type": "code",
      "metadata": {
        "id": "5jtxCUjQq5jA",
        "colab_type": "code",
        "colab": {}
      },
      "source": [
        "# read in the data\n"
      ],
      "execution_count": 4,
      "outputs": []
    },
    {
      "cell_type": "code",
      "metadata": {
        "id": "2ND6jPHRq5jD",
        "colab_type": "code",
        "colab": {}
      },
      "source": [
        "# create path to our file\n"
      ],
      "execution_count": 5,
      "outputs": []
    },
    {
      "cell_type": "code",
      "metadata": {
        "id": "aS69R32Wq5jG",
        "colab_type": "code",
        "colab": {}
      },
      "source": [
        "# path to data\n"
      ],
      "execution_count": 6,
      "outputs": []
    },
    {
      "cell_type": "markdown",
      "metadata": {
        "id": "3_UH51wxq5jI",
        "colab_type": "text"
      },
      "source": [
        "### Preliminary Examination Steps"
      ]
    },
    {
      "cell_type": "code",
      "metadata": {
        "id": "RRXFaGPnq5jJ",
        "colab_type": "code",
        "colab": {}
      },
      "source": [
        "# what's my type?\n"
      ],
      "execution_count": 7,
      "outputs": []
    },
    {
      "cell_type": "code",
      "metadata": {
        "id": "pwlHqFn7q5jP",
        "colab_type": "code",
        "colab": {}
      },
      "source": [
        "# what's the index?\n"
      ],
      "execution_count": 8,
      "outputs": []
    },
    {
      "cell_type": "code",
      "metadata": {
        "id": "2N0lvyv9q5jR",
        "colab_type": "code",
        "colab": {}
      },
      "source": [
        "# what are the columns?\n"
      ],
      "execution_count": 9,
      "outputs": []
    },
    {
      "cell_type": "code",
      "metadata": {
        "id": "eG_ZVnMLq5jT",
        "colab_type": "code",
        "colab": {}
      },
      "source": [
        "# what is the data type of each column?\n"
      ],
      "execution_count": 10,
      "outputs": []
    },
    {
      "cell_type": "code",
      "metadata": {
        "id": "RuF4JPJnq5jW",
        "colab_type": "code",
        "colab": {}
      },
      "source": [
        "# what is a Pandas dataframe?\n",
        "\n"
      ],
      "execution_count": 11,
      "outputs": []
    },
    {
      "cell_type": "code",
      "metadata": {
        "id": "_mTszkFHq5jY",
        "colab_type": "code",
        "colab": {}
      },
      "source": [
        "# use the index"
      ],
      "execution_count": 12,
      "outputs": []
    },
    {
      "cell_type": "code",
      "metadata": {
        "id": "GUuLlJi8q5jc",
        "colab_type": "code",
        "colab": {}
      },
      "source": [
        "# concise summary of df\n"
      ],
      "execution_count": 13,
      "outputs": []
    },
    {
      "cell_type": "code",
      "metadata": {
        "id": "d_dsXAU5q5jf",
        "colab_type": "code",
        "colab": {}
      },
      "source": [
        "# describe numeric cols\n"
      ],
      "execution_count": 14,
      "outputs": []
    },
    {
      "cell_type": "code",
      "metadata": {
        "id": "-eGjDZW2q5jh",
        "colab_type": "code",
        "colab": {}
      },
      "source": [
        "# you can also describe non-numeric columns:\n"
      ],
      "execution_count": 15,
      "outputs": []
    },
    {
      "cell_type": "code",
      "metadata": {
        "id": "C5jxWTpWq5jj",
        "colab_type": "code",
        "colab": {}
      },
      "source": [
        "# missing data?\n"
      ],
      "execution_count": 16,
      "outputs": []
    },
    {
      "cell_type": "markdown",
      "metadata": {
        "id": "n4DymesPq5jl",
        "colab_type": "text"
      },
      "source": [
        "### Take a look at individual columns"
      ]
    },
    {
      "cell_type": "code",
      "metadata": {
        "id": "REXyRTcwq5jm",
        "colab_type": "code",
        "colab": {}
      },
      "source": [
        "# select 1 column\n"
      ],
      "execution_count": 17,
      "outputs": []
    },
    {
      "cell_type": "code",
      "metadata": {
        "id": "hcWPiP2iq5jp",
        "colab_type": "code",
        "colab": {}
      },
      "source": [
        "# select 2 cols\n"
      ],
      "execution_count": 18,
      "outputs": []
    },
    {
      "cell_type": "code",
      "metadata": {
        "id": "9fvGNfjnq5js",
        "colab_type": "code",
        "colab": {}
      },
      "source": [
        "# what is the column type?\n"
      ],
      "execution_count": 19,
      "outputs": []
    },
    {
      "cell_type": "markdown",
      "metadata": {
        "id": "i130b5JCq5ju",
        "colab_type": "text"
      },
      "source": [
        "### a few col methods"
      ]
    },
    {
      "cell_type": "code",
      "metadata": {
        "id": "_REtmoVVq5jv",
        "colab_type": "code",
        "colab": {}
      },
      "source": [
        "# mean of numeric cols\n"
      ],
      "execution_count": 20,
      "outputs": []
    },
    {
      "cell_type": "code",
      "metadata": {
        "id": "V8XYegMoq5jx",
        "colab_type": "code",
        "colab": {}
      },
      "source": [
        "# methods for string (non-numeric) columns\n"
      ],
      "execution_count": 21,
      "outputs": []
    },
    {
      "cell_type": "markdown",
      "metadata": {
        "id": "bX67ZmJVq5jz",
        "colab_type": "text"
      },
      "source": [
        "### Filtering and Sorting Columns"
      ]
    },
    {
      "cell_type": "code",
      "metadata": {
        "id": "6HLvpFgRq5j1",
        "colab_type": "code",
        "colab": {}
      },
      "source": [
        "# create a series of booleans\n"
      ],
      "execution_count": 22,
      "outputs": []
    },
    {
      "cell_type": "code",
      "metadata": {
        "id": "v8mYidyVq5j3",
        "colab_type": "code",
        "colab": {}
      },
      "source": [
        "# apply that filter to my df\n"
      ],
      "execution_count": 23,
      "outputs": []
    },
    {
      "cell_type": "code",
      "metadata": {
        "id": "d3gA-qFtq5j5",
        "colab_type": "code",
        "colab": {}
      },
      "source": [
        "# combine into a single step"
      ],
      "execution_count": 24,
      "outputs": []
    },
    {
      "cell_type": "code",
      "metadata": {
        "id": "sEabMSmDq5j7",
        "colab_type": "code",
        "colab": {}
      },
      "source": [
        "# you can select 1 column from the filtered results"
      ],
      "execution_count": 25,
      "outputs": []
    },
    {
      "cell_type": "code",
      "metadata": {
        "id": "QzroY27Gq5j_",
        "colab_type": "code",
        "colab": {}
      },
      "source": [
        "# you can call any other method on this"
      ],
      "execution_count": 26,
      "outputs": []
    },
    {
      "cell_type": "markdown",
      "metadata": {
        "id": "T3iN3WZVq5kB",
        "colab_type": "text"
      },
      "source": [
        "## Multiple conditions"
      ]
    },
    {
      "cell_type": "code",
      "metadata": {
        "id": "e2KNchmqq5kB",
        "colab_type": "code",
        "colab": {}
      },
      "source": [
        " # 2 conditions"
      ],
      "execution_count": 27,
      "outputs": []
    },
    {
      "cell_type": "code",
      "metadata": {
        "id": "D-hj90-Eq5kD",
        "colab_type": "code",
        "colab": {}
      },
      "source": [
        "# Pipe for 'or'\n"
      ],
      "execution_count": 28,
      "outputs": []
    },
    {
      "cell_type": "code",
      "metadata": {
        "id": "tkIRXs8Wq5kF",
        "colab_type": "code",
        "colab": {}
      },
      "source": [
        "# you can also filter on a predefined list"
      ],
      "execution_count": 29,
      "outputs": []
    },
    {
      "cell_type": "markdown",
      "metadata": {
        "id": "ZsETU_fqq5kI",
        "colab_type": "text"
      },
      "source": [
        "### Sorting"
      ]
    },
    {
      "cell_type": "code",
      "metadata": {
        "id": "TDRIc68qq5kI",
        "colab_type": "code",
        "colab": {}
      },
      "source": [
        "# sort the entire df by one variable/column"
      ],
      "execution_count": 30,
      "outputs": []
    },
    {
      "cell_type": "code",
      "metadata": {
        "id": "OHJ2lfO9q5kK",
        "colab_type": "code",
        "colab": {}
      },
      "source": [
        "# default is asc, you can also choose desc order"
      ],
      "execution_count": 31,
      "outputs": []
    },
    {
      "cell_type": "code",
      "metadata": {
        "collapsed": true,
        "id": "jYK-3jMiq5kM",
        "colab_type": "code",
        "colab": {}
      },
      "source": [
        "# set a column as the new index"
      ],
      "execution_count": 32,
      "outputs": []
    },
    {
      "cell_type": "markdown",
      "metadata": {
        "id": "Jq5NcJdgq5kP",
        "colab_type": "text"
      },
      "source": [
        "## Using Groupby"
      ]
    },
    {
      "cell_type": "markdown",
      "metadata": {
        "id": "o_Cnc6quq5kP",
        "colab_type": "text"
      },
      "source": [
        "`groupby` aggregates a numeric column(s) by a categorical column(s)"
      ]
    },
    {
      "cell_type": "code",
      "metadata": {
        "id": "x3AnWLH2q5kQ",
        "colab_type": "code",
        "colab": {}
      },
      "source": [
        "# for each occupation in the df, count the number of instances"
      ],
      "execution_count": 33,
      "outputs": []
    },
    {
      "cell_type": "code",
      "metadata": {
        "id": "fq4kqtfDq5kS",
        "colab_type": "code",
        "colab": {}
      },
      "source": [
        "# another way to get this info"
      ],
      "execution_count": 34,
      "outputs": []
    },
    {
      "cell_type": "code",
      "metadata": {
        "collapsed": true,
        "id": "lbgVBRilq5kW",
        "colab_type": "code",
        "colab": {}
      },
      "source": [
        "# six different aggregators you can use"
      ],
      "execution_count": 35,
      "outputs": []
    },
    {
      "cell_type": "code",
      "metadata": {
        "id": "LKp3SZ1gq5kY",
        "colab_type": "code",
        "colab": {}
      },
      "source": [
        "# two ways to sort a groupby"
      ],
      "execution_count": 36,
      "outputs": []
    },
    {
      "cell_type": "code",
      "metadata": {
        "id": "hreL1Rikq5ka",
        "colab_type": "code",
        "colab": {}
      },
      "source": [
        "# you can group by multiple [categorical] variables"
      ],
      "execution_count": 37,
      "outputs": []
    },
    {
      "cell_type": "code",
      "metadata": {
        "collapsed": true,
        "id": "A80zpTfpq5kh",
        "colab_type": "code",
        "colab": {}
      },
      "source": [
        "# you can also aggregate multiple [numeric] variables"
      ],
      "execution_count": 38,
      "outputs": []
    },
    {
      "cell_type": "code",
      "metadata": {
        "collapsed": true,
        "id": "UpcKlw4tq5kk",
        "colab_type": "code",
        "colab": {}
      },
      "source": [
        "# you can choose multiple aggregation methods"
      ],
      "execution_count": 39,
      "outputs": []
    },
    {
      "cell_type": "markdown",
      "metadata": {
        "id": "t-AT-s9Iq5kn",
        "colab_type": "text"
      },
      "source": [
        "### A few other (lesser used) pandas methods"
      ]
    },
    {
      "cell_type": "code",
      "metadata": {
        "id": "TZx0BsSYq5kn",
        "colab_type": "code",
        "colab": {}
      },
      "source": [
        "# recode values"
      ],
      "execution_count": 40,
      "outputs": []
    },
    {
      "cell_type": "code",
      "metadata": {
        "id": "sKOMvZe6q5kp",
        "colab_type": "code",
        "colab": {}
      },
      "source": [
        "# duplicates"
      ],
      "execution_count": 41,
      "outputs": []
    },
    {
      "cell_type": "code",
      "metadata": {
        "id": "6t5uznIkq5ks",
        "colab_type": "code",
        "colab": {}
      },
      "source": [
        "# count the number of dupes in our df"
      ],
      "execution_count": 42,
      "outputs": []
    }
  ]
}