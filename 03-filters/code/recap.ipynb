{
 "cells": [
  {
   "cell_type": "code",
   "execution_count": null,
   "metadata": {},
   "outputs": [],
   "source": [
    "df = pd.read_csv('users')\n",
    "df.columns\n",
    "df.dtypes\n",
    "df.shape\n",
    "df.describe()\n",
    "users[['age', 'gender']].head(3)\n",
    "users.describe()\n",
    "users.describe(include=['object'])\n",
    "users.describe(include=['all'])\n",
    "users[['gender', 'zip_code']].describe()\n",
    "average_age = users['age'].mean()\n",
    "maximum_age = users['age'].max()\n",
    "users['gender'].value_counts()\n",
    "men = users['gender'].value_counts()[0]\n",
    "women = users['gender'].value_counts()[1]\n",
    "users[users['age']<20].head()\n",
    "users[users['age']<20]['occupation'].value_counts()\n",
    "users.sort_values('age', ascending=False)\n",
    "users.sort_values(['occupation', 'age'], ascending=True)\n",
    "users.groupby('occupation')['user_id'].count()\n",
    "users.groupby('occupation')['age'].mean().sort_values()\n",
    "users['is_male'] = users['gender'].map({'F':'no', 'M':'yes'})\n",
    "# Post your final output in slack!"
   ]
  },
  {
   "cell_type": "code",
   "execution_count": null,
   "metadata": {},
   "outputs": [],
   "source": [
    "users = users['occupation'].fillna(value='no job')"
   ]
  }
 ],
 "metadata": {
  "kernelspec": {
   "display_name": "Python 3",
   "language": "python",
   "name": "python3"
  },
  "language_info": {
   "codemirror_mode": {
    "name": "ipython",
    "version": 3
   },
   "file_extension": ".py",
   "mimetype": "text/x-python",
   "name": "python",
   "nbconvert_exporter": "python",
   "pygments_lexer": "ipython3",
   "version": "3.7.3"
  }
 },
 "nbformat": 4,
 "nbformat_minor": 2
}
