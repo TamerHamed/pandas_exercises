{
 "cells": [
  {
   "cell_type": "code",
   "execution_count": 3,
   "metadata": {},
   "outputs": [],
   "source": [
    "import pandas as pd\n",
    "from pathlib import Path"
   ]
  },
  {
   "cell_type": "code",
   "execution_count": 4,
   "metadata": {},
   "outputs": [
    {
     "data": {
      "text/html": [
       "<div>\n",
       "<style scoped>\n",
       "    .dataframe tbody tr th:only-of-type {\n",
       "        vertical-align: middle;\n",
       "    }\n",
       "\n",
       "    .dataframe tbody tr th {\n",
       "        vertical-align: top;\n",
       "    }\n",
       "\n",
       "    .dataframe thead th {\n",
       "        text-align: right;\n",
       "    }\n",
       "</style>\n",
       "<table border=\"1\" class=\"dataframe\">\n",
       "  <thead>\n",
       "    <tr style=\"text-align: right;\">\n",
       "      <th></th>\n",
       "      <th>brewery_name</th>\n",
       "      <th>beer_name</th>\n",
       "      <th>beer_style</th>\n",
       "      <th>beer_abv</th>\n",
       "      <th>num_reviews</th>\n",
       "      <th>rating</th>\n",
       "      <th>city</th>\n",
       "      <th>state</th>\n",
       "    </tr>\n",
       "  </thead>\n",
       "  <tbody>\n",
       "    <tr>\n",
       "      <th>0</th>\n",
       "      <td>21st Amendment Brewery</td>\n",
       "      <td>21 Rock</td>\n",
       "      <td>American Double / Imperial IPA</td>\n",
       "      <td>9.7</td>\n",
       "      <td>2</td>\n",
       "      <td>4.00</td>\n",
       "      <td>San Francisco</td>\n",
       "      <td>CA</td>\n",
       "    </tr>\n",
       "    <tr>\n",
       "      <th>1</th>\n",
       "      <td>21st Amendment Brewery</td>\n",
       "      <td>21st Amendment IPA</td>\n",
       "      <td>American IPA</td>\n",
       "      <td>7.0</td>\n",
       "      <td>650</td>\n",
       "      <td>3.89</td>\n",
       "      <td>San Francisco</td>\n",
       "      <td>CA</td>\n",
       "    </tr>\n",
       "    <tr>\n",
       "      <th>2</th>\n",
       "      <td>21st Amendment Brewery</td>\n",
       "      <td>21st Amendment Imperial Stout</td>\n",
       "      <td>Russian Imperial Stout</td>\n",
       "      <td>10.0</td>\n",
       "      <td>4</td>\n",
       "      <td>3.88</td>\n",
       "      <td>San Francisco</td>\n",
       "      <td>CA</td>\n",
       "    </tr>\n",
       "    <tr>\n",
       "      <th>3</th>\n",
       "      <td>21st Amendment Brewery</td>\n",
       "      <td>21st Amendment Pale Ale</td>\n",
       "      <td>American Pale Ale (APA)</td>\n",
       "      <td>5.5</td>\n",
       "      <td>7</td>\n",
       "      <td>3.86</td>\n",
       "      <td>San Francisco</td>\n",
       "      <td>CA</td>\n",
       "    </tr>\n",
       "    <tr>\n",
       "      <th>4</th>\n",
       "      <td>21st Amendment Brewery</td>\n",
       "      <td>5-South</td>\n",
       "      <td>American Pale Ale (APA)</td>\n",
       "      <td>6.0</td>\n",
       "      <td>3</td>\n",
       "      <td>4.00</td>\n",
       "      <td>San Francisco</td>\n",
       "      <td>CA</td>\n",
       "    </tr>\n",
       "  </tbody>\n",
       "</table>\n",
       "</div>"
      ],
      "text/plain": [
       "             brewery_name                      beer_name  \\\n",
       "0  21st Amendment Brewery                        21 Rock   \n",
       "1  21st Amendment Brewery             21st Amendment IPA   \n",
       "2  21st Amendment Brewery  21st Amendment Imperial Stout   \n",
       "3  21st Amendment Brewery        21st Amendment Pale Ale   \n",
       "4  21st Amendment Brewery                        5-South   \n",
       "\n",
       "                       beer_style  beer_abv  num_reviews  rating  \\\n",
       "0  American Double / Imperial IPA       9.7            2    4.00   \n",
       "1                    American IPA       7.0          650    3.89   \n",
       "2          Russian Imperial Stout      10.0            4    3.88   \n",
       "3         American Pale Ale (APA)       5.5            7    3.86   \n",
       "4         American Pale Ale (APA)       6.0            3    4.00   \n",
       "\n",
       "            city state  \n",
       "0  San Francisco    CA  \n",
       "1  San Francisco    CA  \n",
       "2  San Francisco    CA  \n",
       "3  San Francisco    CA  \n",
       "4  San Francisco    CA  "
      ]
     },
     "execution_count": 4,
     "metadata": {},
     "output_type": "execute_result"
    }
   ],
   "source": [
    "beers = pd.read_csv(Path.joinpath(Path.cwd().parent, 'data', 'beers.csv'))\n",
    "beers.head()"
   ]
  },
  {
   "cell_type": "code",
   "execution_count": 5,
   "metadata": {},
   "outputs": [],
   "source": [
    "## Quick EDA"
   ]
  },
  {
   "cell_type": "code",
   "execution_count": 6,
   "metadata": {},
   "outputs": [
    {
     "data": {
      "text/plain": [
       "98"
      ]
     },
     "execution_count": 6,
     "metadata": {},
     "output_type": "execute_result"
    }
   ],
   "source": [
    "beers['beer_style'].nunique()"
   ]
  },
  {
   "cell_type": "code",
   "execution_count": 8,
   "metadata": {},
   "outputs": [
    {
     "data": {
      "text/plain": [
       "American IPA                      393\n",
       "American Pale Ale (APA)           281\n",
       "American Porter                   190\n",
       "American Amber / Red Ale          184\n",
       "American Double / Imperial IPA    173\n",
       "Name: beer_style, dtype: int64"
      ]
     },
     "execution_count": 8,
     "metadata": {},
     "output_type": "execute_result"
    }
   ],
   "source": [
    "# Most frequent?\n",
    "beers['beer_style'].value_counts().head(5)"
   ]
  },
  {
   "cell_type": "code",
   "execution_count": 12,
   "metadata": {},
   "outputs": [
    {
     "data": {
      "text/html": [
       "<div>\n",
       "<style scoped>\n",
       "    .dataframe tbody tr th:only-of-type {\n",
       "        vertical-align: middle;\n",
       "    }\n",
       "\n",
       "    .dataframe tbody tr th {\n",
       "        vertical-align: top;\n",
       "    }\n",
       "\n",
       "    .dataframe thead th {\n",
       "        text-align: right;\n",
       "    }\n",
       "</style>\n",
       "<table border=\"1\" class=\"dataframe\">\n",
       "  <thead>\n",
       "    <tr style=\"text-align: right;\">\n",
       "      <th></th>\n",
       "      <th>brewery_name</th>\n",
       "      <th>beer_name</th>\n",
       "      <th>beer_style</th>\n",
       "      <th>beer_abv</th>\n",
       "      <th>num_reviews</th>\n",
       "      <th>rating</th>\n",
       "      <th>city</th>\n",
       "      <th>state</th>\n",
       "    </tr>\n",
       "  </thead>\n",
       "  <tbody>\n",
       "    <tr>\n",
       "      <th>293</th>\n",
       "      <td>Avery Brewing Company</td>\n",
       "      <td>The Beast Grand Cru 2004</td>\n",
       "      <td>Belgian Strong Dark Ale</td>\n",
       "      <td>18.10</td>\n",
       "      <td>40</td>\n",
       "      <td>3.04</td>\n",
       "      <td>Boulder</td>\n",
       "      <td>CO</td>\n",
       "    </tr>\n",
       "    <tr>\n",
       "      <th>190</th>\n",
       "      <td>Arctic Craft Brewery</td>\n",
       "      <td>Warning Sign Eisbock</td>\n",
       "      <td>Eisbock</td>\n",
       "      <td>18.00</td>\n",
       "      <td>4</td>\n",
       "      <td>4.00</td>\n",
       "      <td>Colorado Springs</td>\n",
       "      <td>CO</td>\n",
       "    </tr>\n",
       "    <tr>\n",
       "      <th>3612</th>\n",
       "      <td>Southampton Publick House</td>\n",
       "      <td>Double Ice Bock</td>\n",
       "      <td>Eisbock</td>\n",
       "      <td>18.00</td>\n",
       "      <td>22</td>\n",
       "      <td>4.14</td>\n",
       "      <td>Southampton</td>\n",
       "      <td>NY</td>\n",
       "    </tr>\n",
       "    <tr>\n",
       "      <th>292</th>\n",
       "      <td>Avery Brewing Company</td>\n",
       "      <td>The Beast Grand Cru</td>\n",
       "      <td>Belgian Strong Dark Ale</td>\n",
       "      <td>16.83</td>\n",
       "      <td>506</td>\n",
       "      <td>3.46</td>\n",
       "      <td>Boulder</td>\n",
       "      <td>CO</td>\n",
       "    </tr>\n",
       "    <tr>\n",
       "      <th>269</th>\n",
       "      <td>Avery Brewing Company</td>\n",
       "      <td>Mephistopheles' Stout</td>\n",
       "      <td>American Double / Imperial Stout</td>\n",
       "      <td>16.80</td>\n",
       "      <td>693</td>\n",
       "      <td>3.66</td>\n",
       "      <td>Boulder</td>\n",
       "      <td>CO</td>\n",
       "    </tr>\n",
       "  </tbody>\n",
       "</table>\n",
       "</div>"
      ],
      "text/plain": [
       "                   brewery_name                 beer_name  \\\n",
       "293       Avery Brewing Company  The Beast Grand Cru 2004   \n",
       "190        Arctic Craft Brewery      Warning Sign Eisbock   \n",
       "3612  Southampton Publick House           Double Ice Bock   \n",
       "292       Avery Brewing Company       The Beast Grand Cru   \n",
       "269       Avery Brewing Company     Mephistopheles' Stout   \n",
       "\n",
       "                            beer_style  beer_abv  num_reviews  rating  \\\n",
       "293            Belgian Strong Dark Ale     18.10           40    3.04   \n",
       "190                            Eisbock     18.00            4    4.00   \n",
       "3612                           Eisbock     18.00           22    4.14   \n",
       "292            Belgian Strong Dark Ale     16.83          506    3.46   \n",
       "269   American Double / Imperial Stout     16.80          693    3.66   \n",
       "\n",
       "                  city state  \n",
       "293            Boulder    CO  \n",
       "190   Colorado Springs    CO  \n",
       "3612       Southampton    NY  \n",
       "292            Boulder    CO  \n",
       "269            Boulder    CO  "
      ]
     },
     "execution_count": 12,
     "metadata": {},
     "output_type": "execute_result"
    }
   ],
   "source": [
    "# Highest ABV?\n",
    "beers.sort_values(by = 'beer_abv', ascending=False).head(5)"
   ]
  },
  {
   "cell_type": "markdown",
   "metadata": {},
   "source": [
    "## Feature Engineering"
   ]
  },
  {
   "cell_type": "code",
   "execution_count": 13,
   "metadata": {},
   "outputs": [],
   "source": [
    "# Let's identify beers with \"double\" in their name"
   ]
  },
  {
   "cell_type": "code",
   "execution_count": 22,
   "metadata": {},
   "outputs": [
    {
     "data": {
      "text/plain": [
       "'American IPA'"
      ]
     },
     "execution_count": 22,
     "metadata": {},
     "output_type": "execute_result"
    }
   ],
   "source": [
    "# analyze a single cell\n",
    "example_text = beers['beer_style'][1]\n",
    "example_text"
   ]
  },
  {
   "cell_type": "code",
   "execution_count": 19,
   "metadata": {},
   "outputs": [],
   "source": [
    "# Write a function to identify if 'double' is in beer name\n",
    "def double_trouble(row):\n",
    "    if 'Double' in row:\n",
    "        return 'trouble'\n",
    "    else:\n",
    "        return 'no trouble'"
   ]
  },
  {
   "cell_type": "code",
   "execution_count": 23,
   "metadata": {},
   "outputs": [
    {
     "data": {
      "text/plain": [
       "'no trouble'"
      ]
     },
     "execution_count": 23,
     "metadata": {},
     "output_type": "execute_result"
    }
   ],
   "source": [
    "double_trouble(example_text)"
   ]
  },
  {
   "cell_type": "code",
   "execution_count": 25,
   "metadata": {},
   "outputs": [],
   "source": [
    "# here it comes!\n",
    "beers['has_double'] = beers['beer_style'].apply(double_trouble)"
   ]
  },
  {
   "cell_type": "code",
   "execution_count": 26,
   "metadata": {},
   "outputs": [
    {
     "data": {
      "text/html": [
       "<div>\n",
       "<style scoped>\n",
       "    .dataframe tbody tr th:only-of-type {\n",
       "        vertical-align: middle;\n",
       "    }\n",
       "\n",
       "    .dataframe tbody tr th {\n",
       "        vertical-align: top;\n",
       "    }\n",
       "\n",
       "    .dataframe thead th {\n",
       "        text-align: right;\n",
       "    }\n",
       "</style>\n",
       "<table border=\"1\" class=\"dataframe\">\n",
       "  <thead>\n",
       "    <tr style=\"text-align: right;\">\n",
       "      <th></th>\n",
       "      <th>brewery_name</th>\n",
       "      <th>beer_name</th>\n",
       "      <th>beer_style</th>\n",
       "      <th>beer_abv</th>\n",
       "      <th>num_reviews</th>\n",
       "      <th>rating</th>\n",
       "      <th>city</th>\n",
       "      <th>state</th>\n",
       "      <th>has_double</th>\n",
       "    </tr>\n",
       "  </thead>\n",
       "  <tbody>\n",
       "    <tr>\n",
       "      <th>0</th>\n",
       "      <td>21st Amendment Brewery</td>\n",
       "      <td>21 Rock</td>\n",
       "      <td>American Double / Imperial IPA</td>\n",
       "      <td>9.7</td>\n",
       "      <td>2</td>\n",
       "      <td>4.00</td>\n",
       "      <td>San Francisco</td>\n",
       "      <td>CA</td>\n",
       "      <td>trouble</td>\n",
       "    </tr>\n",
       "    <tr>\n",
       "      <th>1</th>\n",
       "      <td>21st Amendment Brewery</td>\n",
       "      <td>21st Amendment IPA</td>\n",
       "      <td>American IPA</td>\n",
       "      <td>7.0</td>\n",
       "      <td>650</td>\n",
       "      <td>3.89</td>\n",
       "      <td>San Francisco</td>\n",
       "      <td>CA</td>\n",
       "      <td>no trouble</td>\n",
       "    </tr>\n",
       "    <tr>\n",
       "      <th>2</th>\n",
       "      <td>21st Amendment Brewery</td>\n",
       "      <td>21st Amendment Imperial Stout</td>\n",
       "      <td>Russian Imperial Stout</td>\n",
       "      <td>10.0</td>\n",
       "      <td>4</td>\n",
       "      <td>3.88</td>\n",
       "      <td>San Francisco</td>\n",
       "      <td>CA</td>\n",
       "      <td>no trouble</td>\n",
       "    </tr>\n",
       "    <tr>\n",
       "      <th>3</th>\n",
       "      <td>21st Amendment Brewery</td>\n",
       "      <td>21st Amendment Pale Ale</td>\n",
       "      <td>American Pale Ale (APA)</td>\n",
       "      <td>5.5</td>\n",
       "      <td>7</td>\n",
       "      <td>3.86</td>\n",
       "      <td>San Francisco</td>\n",
       "      <td>CA</td>\n",
       "      <td>no trouble</td>\n",
       "    </tr>\n",
       "    <tr>\n",
       "      <th>4</th>\n",
       "      <td>21st Amendment Brewery</td>\n",
       "      <td>5-South</td>\n",
       "      <td>American Pale Ale (APA)</td>\n",
       "      <td>6.0</td>\n",
       "      <td>3</td>\n",
       "      <td>4.00</td>\n",
       "      <td>San Francisco</td>\n",
       "      <td>CA</td>\n",
       "      <td>no trouble</td>\n",
       "    </tr>\n",
       "  </tbody>\n",
       "</table>\n",
       "</div>"
      ],
      "text/plain": [
       "             brewery_name                      beer_name  \\\n",
       "0  21st Amendment Brewery                        21 Rock   \n",
       "1  21st Amendment Brewery             21st Amendment IPA   \n",
       "2  21st Amendment Brewery  21st Amendment Imperial Stout   \n",
       "3  21st Amendment Brewery        21st Amendment Pale Ale   \n",
       "4  21st Amendment Brewery                        5-South   \n",
       "\n",
       "                       beer_style  beer_abv  num_reviews  rating  \\\n",
       "0  American Double / Imperial IPA       9.7            2    4.00   \n",
       "1                    American IPA       7.0          650    3.89   \n",
       "2          Russian Imperial Stout      10.0            4    3.88   \n",
       "3         American Pale Ale (APA)       5.5            7    3.86   \n",
       "4         American Pale Ale (APA)       6.0            3    4.00   \n",
       "\n",
       "            city state  has_double  \n",
       "0  San Francisco    CA     trouble  \n",
       "1  San Francisco    CA  no trouble  \n",
       "2  San Francisco    CA  no trouble  \n",
       "3  San Francisco    CA  no trouble  \n",
       "4  San Francisco    CA  no trouble  "
      ]
     },
     "execution_count": 26,
     "metadata": {},
     "output_type": "execute_result"
    }
   ],
   "source": [
    "beers.head()"
   ]
  },
  {
   "cell_type": "code",
   "execution_count": 27,
   "metadata": {},
   "outputs": [],
   "source": [
    "# Write a function to identify if 'Ale' is in beer name\n",
    "def ale_finder(row):\n",
    "    if 'ale' in row.lower():\n",
    "        return 1\n",
    "    else:\n",
    "        return 0"
   ]
  },
  {
   "cell_type": "code",
   "execution_count": 28,
   "metadata": {},
   "outputs": [
    {
     "data": {
      "text/html": [
       "<div>\n",
       "<style scoped>\n",
       "    .dataframe tbody tr th:only-of-type {\n",
       "        vertical-align: middle;\n",
       "    }\n",
       "\n",
       "    .dataframe tbody tr th {\n",
       "        vertical-align: top;\n",
       "    }\n",
       "\n",
       "    .dataframe thead th {\n",
       "        text-align: right;\n",
       "    }\n",
       "</style>\n",
       "<table border=\"1\" class=\"dataframe\">\n",
       "  <thead>\n",
       "    <tr style=\"text-align: right;\">\n",
       "      <th></th>\n",
       "      <th>brewery_name</th>\n",
       "      <th>beer_name</th>\n",
       "      <th>beer_style</th>\n",
       "      <th>beer_abv</th>\n",
       "      <th>num_reviews</th>\n",
       "      <th>rating</th>\n",
       "      <th>city</th>\n",
       "      <th>state</th>\n",
       "      <th>has_double</th>\n",
       "      <th>is_ale</th>\n",
       "    </tr>\n",
       "  </thead>\n",
       "  <tbody>\n",
       "    <tr>\n",
       "      <th>0</th>\n",
       "      <td>21st Amendment Brewery</td>\n",
       "      <td>21 Rock</td>\n",
       "      <td>American Double / Imperial IPA</td>\n",
       "      <td>9.7</td>\n",
       "      <td>2</td>\n",
       "      <td>4.00</td>\n",
       "      <td>San Francisco</td>\n",
       "      <td>CA</td>\n",
       "      <td>trouble</td>\n",
       "      <td>0</td>\n",
       "    </tr>\n",
       "    <tr>\n",
       "      <th>1</th>\n",
       "      <td>21st Amendment Brewery</td>\n",
       "      <td>21st Amendment IPA</td>\n",
       "      <td>American IPA</td>\n",
       "      <td>7.0</td>\n",
       "      <td>650</td>\n",
       "      <td>3.89</td>\n",
       "      <td>San Francisco</td>\n",
       "      <td>CA</td>\n",
       "      <td>no trouble</td>\n",
       "      <td>0</td>\n",
       "    </tr>\n",
       "    <tr>\n",
       "      <th>2</th>\n",
       "      <td>21st Amendment Brewery</td>\n",
       "      <td>21st Amendment Imperial Stout</td>\n",
       "      <td>Russian Imperial Stout</td>\n",
       "      <td>10.0</td>\n",
       "      <td>4</td>\n",
       "      <td>3.88</td>\n",
       "      <td>San Francisco</td>\n",
       "      <td>CA</td>\n",
       "      <td>no trouble</td>\n",
       "      <td>0</td>\n",
       "    </tr>\n",
       "    <tr>\n",
       "      <th>3</th>\n",
       "      <td>21st Amendment Brewery</td>\n",
       "      <td>21st Amendment Pale Ale</td>\n",
       "      <td>American Pale Ale (APA)</td>\n",
       "      <td>5.5</td>\n",
       "      <td>7</td>\n",
       "      <td>3.86</td>\n",
       "      <td>San Francisco</td>\n",
       "      <td>CA</td>\n",
       "      <td>no trouble</td>\n",
       "      <td>1</td>\n",
       "    </tr>\n",
       "    <tr>\n",
       "      <th>4</th>\n",
       "      <td>21st Amendment Brewery</td>\n",
       "      <td>5-South</td>\n",
       "      <td>American Pale Ale (APA)</td>\n",
       "      <td>6.0</td>\n",
       "      <td>3</td>\n",
       "      <td>4.00</td>\n",
       "      <td>San Francisco</td>\n",
       "      <td>CA</td>\n",
       "      <td>no trouble</td>\n",
       "      <td>1</td>\n",
       "    </tr>\n",
       "  </tbody>\n",
       "</table>\n",
       "</div>"
      ],
      "text/plain": [
       "             brewery_name                      beer_name  \\\n",
       "0  21st Amendment Brewery                        21 Rock   \n",
       "1  21st Amendment Brewery             21st Amendment IPA   \n",
       "2  21st Amendment Brewery  21st Amendment Imperial Stout   \n",
       "3  21st Amendment Brewery        21st Amendment Pale Ale   \n",
       "4  21st Amendment Brewery                        5-South   \n",
       "\n",
       "                       beer_style  beer_abv  num_reviews  rating  \\\n",
       "0  American Double / Imperial IPA       9.7            2    4.00   \n",
       "1                    American IPA       7.0          650    3.89   \n",
       "2          Russian Imperial Stout      10.0            4    3.88   \n",
       "3         American Pale Ale (APA)       5.5            7    3.86   \n",
       "4         American Pale Ale (APA)       6.0            3    4.00   \n",
       "\n",
       "            city state  has_double  is_ale  \n",
       "0  San Francisco    CA     trouble       0  \n",
       "1  San Francisco    CA  no trouble       0  \n",
       "2  San Francisco    CA  no trouble       0  \n",
       "3  San Francisco    CA  no trouble       1  \n",
       "4  San Francisco    CA  no trouble       1  "
      ]
     },
     "execution_count": 28,
     "metadata": {},
     "output_type": "execute_result"
    }
   ],
   "source": [
    "# here it comes!\n",
    "beers['is_ale'] = beers['beer_style'].apply(ale_finder)\n",
    "beers.head()"
   ]
  },
  {
   "cell_type": "code",
   "execution_count": 30,
   "metadata": {},
   "outputs": [
    {
     "data": {
      "text/plain": [
       "0    2876\n",
       "1    1764\n",
       "Name: is_ale, dtype: int64"
      ]
     },
     "execution_count": 30,
     "metadata": {},
     "output_type": "execute_result"
    }
   ],
   "source": [
    "# how many ales in the df?\n",
    "beers['is_ale'].value_counts()"
   ]
  },
  {
   "cell_type": "markdown",
   "metadata": {},
   "source": [
    "## Generate Dummy Variables"
   ]
  },
  {
   "cell_type": "code",
   "execution_count": 32,
   "metadata": {},
   "outputs": [
    {
     "name": "stdout",
     "output_type": "stream",
     "text": [
      "(4640, 2)\n"
     ]
    },
    {
     "data": {
      "text/html": [
       "<div>\n",
       "<style scoped>\n",
       "    .dataframe tbody tr th:only-of-type {\n",
       "        vertical-align: middle;\n",
       "    }\n",
       "\n",
       "    .dataframe tbody tr th {\n",
       "        vertical-align: top;\n",
       "    }\n",
       "\n",
       "    .dataframe thead th {\n",
       "        text-align: right;\n",
       "    }\n",
       "</style>\n",
       "<table border=\"1\" class=\"dataframe\">\n",
       "  <thead>\n",
       "    <tr style=\"text-align: right;\">\n",
       "      <th></th>\n",
       "      <th>beer_style</th>\n",
       "      <th>beer_abv</th>\n",
       "    </tr>\n",
       "  </thead>\n",
       "  <tbody>\n",
       "    <tr>\n",
       "      <th>0</th>\n",
       "      <td>American Double / Imperial IPA</td>\n",
       "      <td>9.7</td>\n",
       "    </tr>\n",
       "    <tr>\n",
       "      <th>1</th>\n",
       "      <td>American IPA</td>\n",
       "      <td>7.0</td>\n",
       "    </tr>\n",
       "    <tr>\n",
       "      <th>2</th>\n",
       "      <td>Russian Imperial Stout</td>\n",
       "      <td>10.0</td>\n",
       "    </tr>\n",
       "    <tr>\n",
       "      <th>3</th>\n",
       "      <td>American Pale Ale (APA)</td>\n",
       "      <td>5.5</td>\n",
       "    </tr>\n",
       "    <tr>\n",
       "      <th>4</th>\n",
       "      <td>American Pale Ale (APA)</td>\n",
       "      <td>6.0</td>\n",
       "    </tr>\n",
       "  </tbody>\n",
       "</table>\n",
       "</div>"
      ],
      "text/plain": [
       "                       beer_style  beer_abv\n",
       "0  American Double / Imperial IPA       9.7\n",
       "1                    American IPA       7.0\n",
       "2          Russian Imperial Stout      10.0\n",
       "3         American Pale Ale (APA)       5.5\n",
       "4         American Pale Ale (APA)       6.0"
      ]
     },
     "execution_count": 32,
     "metadata": {},
     "output_type": "execute_result"
    }
   ],
   "source": [
    "# Let's shrink our dataset\n",
    "beers2 = beers[['beer_style', 'beer_abv']]\n",
    "print(beers2.shape)\n",
    "beers2.head()"
   ]
  },
  {
   "cell_type": "code",
   "execution_count": 33,
   "metadata": {},
   "outputs": [],
   "source": [
    "# \"dummy\" variables convert categories into 0/1 columns\n",
    "# a.k.a. \"one-hot encoding\""
   ]
  },
  {
   "cell_type": "code",
   "execution_count": 43,
   "metadata": {},
   "outputs": [
    {
     "name": "stdout",
     "output_type": "stream",
     "text": [
      "(4640, 99)\n",
      "98\n"
     ]
    },
    {
     "data": {
      "text/html": [
       "<div>\n",
       "<style scoped>\n",
       "    .dataframe tbody tr th:only-of-type {\n",
       "        vertical-align: middle;\n",
       "    }\n",
       "\n",
       "    .dataframe tbody tr th {\n",
       "        vertical-align: top;\n",
       "    }\n",
       "\n",
       "    .dataframe thead th {\n",
       "        text-align: right;\n",
       "    }\n",
       "</style>\n",
       "<table border=\"1\" class=\"dataframe\">\n",
       "  <thead>\n",
       "    <tr style=\"text-align: right;\">\n",
       "      <th></th>\n",
       "      <th>beer_abv</th>\n",
       "      <th>Altbier</th>\n",
       "      <th>American Adjunct Lager</th>\n",
       "      <th>American Amber / Red Ale</th>\n",
       "      <th>American Amber / Red Lager</th>\n",
       "      <th>American Barleywine</th>\n",
       "      <th>American Black Ale</th>\n",
       "      <th>American Blonde Ale</th>\n",
       "      <th>American Brown Ale</th>\n",
       "      <th>American Dark Wheat Ale</th>\n",
       "      <th>...</th>\n",
       "      <th>Scotch Ale / Wee Heavy</th>\n",
       "      <th>Scottish Ale</th>\n",
       "      <th>Scottish Gruit / Ancient Herbed Ale</th>\n",
       "      <th>Smoked Beer</th>\n",
       "      <th>Tripel</th>\n",
       "      <th>Vienna Lager</th>\n",
       "      <th>Weizenbock</th>\n",
       "      <th>Wheatwine</th>\n",
       "      <th>Winter Warmer</th>\n",
       "      <th>Witbier</th>\n",
       "    </tr>\n",
       "  </thead>\n",
       "  <tbody>\n",
       "    <tr>\n",
       "      <th>836</th>\n",
       "      <td>11.5</td>\n",
       "      <td>0</td>\n",
       "      <td>0</td>\n",
       "      <td>0</td>\n",
       "      <td>0</td>\n",
       "      <td>1</td>\n",
       "      <td>0</td>\n",
       "      <td>0</td>\n",
       "      <td>0</td>\n",
       "      <td>0</td>\n",
       "      <td>...</td>\n",
       "      <td>0</td>\n",
       "      <td>0</td>\n",
       "      <td>0</td>\n",
       "      <td>0</td>\n",
       "      <td>0</td>\n",
       "      <td>0</td>\n",
       "      <td>0</td>\n",
       "      <td>0</td>\n",
       "      <td>0</td>\n",
       "      <td>0</td>\n",
       "    </tr>\n",
       "    <tr>\n",
       "      <th>2652</th>\n",
       "      <td>6.0</td>\n",
       "      <td>0</td>\n",
       "      <td>0</td>\n",
       "      <td>0</td>\n",
       "      <td>0</td>\n",
       "      <td>0</td>\n",
       "      <td>0</td>\n",
       "      <td>0</td>\n",
       "      <td>0</td>\n",
       "      <td>0</td>\n",
       "      <td>...</td>\n",
       "      <td>0</td>\n",
       "      <td>0</td>\n",
       "      <td>0</td>\n",
       "      <td>0</td>\n",
       "      <td>0</td>\n",
       "      <td>0</td>\n",
       "      <td>0</td>\n",
       "      <td>0</td>\n",
       "      <td>0</td>\n",
       "      <td>0</td>\n",
       "    </tr>\n",
       "    <tr>\n",
       "      <th>721</th>\n",
       "      <td>5.1</td>\n",
       "      <td>0</td>\n",
       "      <td>0</td>\n",
       "      <td>0</td>\n",
       "      <td>0</td>\n",
       "      <td>0</td>\n",
       "      <td>0</td>\n",
       "      <td>0</td>\n",
       "      <td>0</td>\n",
       "      <td>0</td>\n",
       "      <td>...</td>\n",
       "      <td>0</td>\n",
       "      <td>0</td>\n",
       "      <td>0</td>\n",
       "      <td>0</td>\n",
       "      <td>0</td>\n",
       "      <td>0</td>\n",
       "      <td>0</td>\n",
       "      <td>0</td>\n",
       "      <td>0</td>\n",
       "      <td>0</td>\n",
       "    </tr>\n",
       "    <tr>\n",
       "      <th>1101</th>\n",
       "      <td>11.0</td>\n",
       "      <td>0</td>\n",
       "      <td>0</td>\n",
       "      <td>0</td>\n",
       "      <td>0</td>\n",
       "      <td>0</td>\n",
       "      <td>0</td>\n",
       "      <td>0</td>\n",
       "      <td>0</td>\n",
       "      <td>0</td>\n",
       "      <td>...</td>\n",
       "      <td>0</td>\n",
       "      <td>0</td>\n",
       "      <td>0</td>\n",
       "      <td>0</td>\n",
       "      <td>0</td>\n",
       "      <td>0</td>\n",
       "      <td>0</td>\n",
       "      <td>0</td>\n",
       "      <td>0</td>\n",
       "      <td>0</td>\n",
       "    </tr>\n",
       "    <tr>\n",
       "      <th>2205</th>\n",
       "      <td>5.0</td>\n",
       "      <td>0</td>\n",
       "      <td>0</td>\n",
       "      <td>0</td>\n",
       "      <td>0</td>\n",
       "      <td>0</td>\n",
       "      <td>0</td>\n",
       "      <td>0</td>\n",
       "      <td>0</td>\n",
       "      <td>0</td>\n",
       "      <td>...</td>\n",
       "      <td>0</td>\n",
       "      <td>0</td>\n",
       "      <td>0</td>\n",
       "      <td>0</td>\n",
       "      <td>0</td>\n",
       "      <td>0</td>\n",
       "      <td>0</td>\n",
       "      <td>0</td>\n",
       "      <td>0</td>\n",
       "      <td>0</td>\n",
       "    </tr>\n",
       "  </tbody>\n",
       "</table>\n",
       "<p>5 rows × 99 columns</p>\n",
       "</div>"
      ],
      "text/plain": [
       "      beer_abv  Altbier  American Adjunct Lager  American Amber / Red Ale  \\\n",
       "836       11.5        0                       0                         0   \n",
       "2652       6.0        0                       0                         0   \n",
       "721        5.1        0                       0                         0   \n",
       "1101      11.0        0                       0                         0   \n",
       "2205       5.0        0                       0                         0   \n",
       "\n",
       "      American Amber / Red Lager  American Barleywine  American Black Ale  \\\n",
       "836                            0                    1                   0   \n",
       "2652                           0                    0                   0   \n",
       "721                            0                    0                   0   \n",
       "1101                           0                    0                   0   \n",
       "2205                           0                    0                   0   \n",
       "\n",
       "      American Blonde Ale  American Brown Ale  American Dark Wheat Ale  ...  \\\n",
       "836                     0                   0                        0  ...   \n",
       "2652                    0                   0                        0  ...   \n",
       "721                     0                   0                        0  ...   \n",
       "1101                    0                   0                        0  ...   \n",
       "2205                    0                   0                        0  ...   \n",
       "\n",
       "      Scotch Ale / Wee Heavy  Scottish Ale  \\\n",
       "836                        0             0   \n",
       "2652                       0             0   \n",
       "721                        0             0   \n",
       "1101                       0             0   \n",
       "2205                       0             0   \n",
       "\n",
       "      Scottish Gruit / Ancient Herbed Ale  Smoked Beer  Tripel  Vienna Lager  \\\n",
       "836                                     0            0       0             0   \n",
       "2652                                    0            0       0             0   \n",
       "721                                     0            0       0             0   \n",
       "1101                                    0            0       0             0   \n",
       "2205                                    0            0       0             0   \n",
       "\n",
       "      Weizenbock  Wheatwine  Winter Warmer  Witbier  \n",
       "836            0          0              0        0  \n",
       "2652           0          0              0        0  \n",
       "721            0          0              0        0  \n",
       "1101           0          0              0        0  \n",
       "2205           0          0              0        0  \n",
       "\n",
       "[5 rows x 99 columns]"
      ]
     },
     "execution_count": 43,
     "metadata": {},
     "output_type": "execute_result"
    }
   ],
   "source": [
    "# Let's convert 'beer_style' into dummy columnsw\n",
    "beer_dummies = pd.get_dummies(beers2, columns=['beer_style'], prefix='', prefix_sep='')\n",
    "print(beer_dummies.shape)\n",
    "print(len(beers['beer_style'].value_counts()))\n",
    "beer_dummies.sample(5)"
   ]
  },
  {
   "cell_type": "code",
   "execution_count": 40,
   "metadata": {},
   "outputs": [
    {
     "data": {
      "text/plain": [
       "'Winter Warmer'"
      ]
     },
     "execution_count": 40,
     "metadata": {},
     "output_type": "execute_result"
    }
   ],
   "source": [
    "beers['beer_style'][1056]"
   ]
  },
  {
   "cell_type": "code",
   "execution_count": 44,
   "metadata": {},
   "outputs": [],
   "source": [
    "# How would we use use this?"
   ]
  },
  {
   "cell_type": "code",
   "execution_count": 45,
   "metadata": {},
   "outputs": [],
   "source": [
    "from sklearn.model_selection import train_test_split\n",
    "from sklearn.linear_model import LinearRegression"
   ]
  },
  {
   "cell_type": "markdown",
   "metadata": {},
   "source": [
    "import matplotlib.pyplot as plt\n",
    "%matplotlib inline\n",
    "import seaborn as sns"
   ]
  },
  {
   "cell_type": "code",
   "execution_count": 50,
   "metadata": {},
   "outputs": [],
   "source": [
    "y = beer_dummies['beer_abv']\n",
    "X = beer_dummies.drop(['beer_abv'], axis=1)"
   ]
  },
  {
   "cell_type": "code",
   "execution_count": 51,
   "metadata": {},
   "outputs": [],
   "source": [
    "X_train, X_test, y_train, y_test = train_test_split(X, y, test_size=0.3)"
   ]
  },
  {
   "cell_type": "code",
   "execution_count": 56,
   "metadata": {},
   "outputs": [
    {
     "data": {
      "text/plain": [
       "LinearRegression(copy_X=True, fit_intercept=True, n_jobs=None, normalize=False)"
      ]
     },
     "execution_count": 56,
     "metadata": {},
     "output_type": "execute_result"
    }
   ],
   "source": [
    "linreg = LinearRegression()\n",
    "linreg.fit(X, y)"
   ]
  },
  {
   "cell_type": "code",
   "execution_count": 57,
   "metadata": {},
   "outputs": [],
   "source": [
    "y_pred = linreg.predict(X_test)"
   ]
  },
  {
   "cell_type": "code",
   "execution_count": 58,
   "metadata": {},
   "outputs": [
    {
     "data": {
      "text/plain": [
       "<matplotlib.axes._subplots.AxesSubplot at 0x1a19702240>"
      ]
     },
     "execution_count": 58,
     "metadata": {},
     "output_type": "execute_result"
    },
    {
     "data": {
      "image/png": "[encoded data removed]",
      "text/plain": [
       "<Figure size 432x288 with 1 Axes>"
      ]
     },
     "metadata": {
      "needs_background": "light"
     },
     "output_type": "display_data"
    }
   ],
   "source": [
    "sns.regplot(x=y_pred, y=y_test)"
   ]
  },
  {
   "cell_type": "code",
   "execution_count": null,
   "metadata": {},
   "outputs": [],
   "source": []
  }
 ],
 "metadata": {
  "kernelspec": {
   "display_name": "Python 3",
   "language": "python",
   "name": "python3"
  },
  "language_info": {
   "codemirror_mode": {
    "name": "ipython",
    "version": 3
   },
   "file_extension": ".py",
   "mimetype": "text/x-python",
   "name": "python",
   "nbconvert_exporter": "python",
   "pygments_lexer": "ipython3",
   "version": "3.7.3"
  }
 },
 "nbformat": 4,
 "nbformat_minor": 2
}
