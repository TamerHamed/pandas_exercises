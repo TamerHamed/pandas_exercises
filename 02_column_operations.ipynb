{
  "nbformat": 4,
  "nbformat_minor": 0,
  "metadata": {
    "kernelspec": {
      "display_name": "Python 3",
      "language": "python",
      "name": "python3"
    },
    "language_info": {
      "codemirror_mode": {
        "name": "ipython",
        "version": 3
      },
      "file_extension": ".py",
      "mimetype": "text/x-python",
      "name": "python",
      "nbconvert_exporter": "python",
      "pygments_lexer": "ipython3",
      "version": "3.7.3"
    },
    "colab": {
      "name": "Copy of 02-class-notes.ipynb",
      "provenance": [],
      "include_colab_link": true
    }
  },
  "cells": [
    {
      "cell_type": "markdown",
      "metadata": {
        "id": "view-in-github",
        "colab_type": "text"
      },
      "source": [
        "<a href=\"https://colab.research.google.com/github/austinlasseter/pandas_exercises/blob/master/02_column_operations.ipynb\" target=\"_parent\"><img src=\"https://colab.research.google.com/assets/colab-badge.svg\" alt=\"Open In Colab\"/></a>"
      ]
    },
    {
      "cell_type": "markdown",
      "metadata": {
        "id": "b4Mcym6i-jnP",
        "colab_type": "text"
      },
      "source": [
        "## Introduction to Pandas\n",
        "Pandas is the most prominent Python library for exploratory data analysis (EDA). The functions Pandas supports are integral to understanding, formatting, and preparing our data. Formally, we use Pandas to investigate, wrangle, munge, and clean our data. Pandas is the Swiss Army Knife of data manipulation!\n",
        "\n",
        "\n",
        "We'll have two coding-heavy sessions on Pandas. In this one, we'll use Pandas to:\n",
        " - Read in a dataset\n",
        " - Investigate a dataset's integrity\n",
        " - Filter, sort, and manipulate a DataFrame's series"
      ]
    },
    {
      "cell_type": "markdown",
      "metadata": {
        "id": "W7-BGYIkBVSO",
        "colab_type": "text"
      },
      "source": [
        "## About the Dataset: Adventureworks Cycles\n",
        "\n",
        "<img align=\"right\" src=\"http://lh6.ggpht.com/_XjcDyZkJqHg/TPaaRcaysbI/AAAAAAAAAFo/b1U3q-qbTjY/AdventureWorks%20Logo%5B5%5D.png?imgmax=800\">\n",
        "\n",
        "For today's Pandas exercises, we will be using a dataset developed by Microsoft for training purposes in SQL server, known the [Adventureworks Cycles 2014OLTP Database](https://github.com/Microsoft/sql-server-samples/releases/tag/adventureworks). It is based on a fictitious company called Adventure Works Cycles (AWC), a multinational manufacturer and seller of bicycles and accessories. The company is based in Bothell, Washington, USA and has regional sales offices in several countries. We will be looking at a single table from this database, the Production.Product table, which outlines some of the products this company sells. \n",
        "\n",
        "A full data dictionary can be viewed [here](https://www.sqldatadictionary.com/AdventureWorks2014/).\n"
      ]
    },
    {
      "cell_type": "code",
      "metadata": {
        "id": "feSuXc9K-jnR",
        "colab_type": "code",
        "colab": {}
      },
      "source": [
        "# imports\n",
        "import pandas as pd\n",
        "import numpy as np"
      ],
      "execution_count": 43,
      "outputs": []
    },
    {
      "cell_type": "code",
      "metadata": {
        "id": "fx6UJyvR-jni",
        "colab_type": "code",
        "colab": {}
      },
      "source": [
        "# where is the data folder?\n",
        "# https://github.com/austinlasseter/pandas_exercises/tree/master/01-intro/data"
      ],
      "execution_count": 44,
      "outputs": []
    },
    {
      "cell_type": "code",
      "metadata": {
        "id": "xjuOYTrvD07i",
        "colab_type": "code",
        "colab": {}
      },
      "source": [
        ""
      ],
      "execution_count": 44,
      "outputs": []
    },
    {
      "cell_type": "code",
      "metadata": {
        "id": "QQdygSh5-jnt",
        "colab_type": "code",
        "colab": {}
      },
      "source": [
        "# use pandas to read in the datafile\n",
        "path = 'https://raw.githubusercontent.com/austinlasseter/pandas_exercises/master/01-intro/data/Production.Product.csv'\n",
        "prod = pd.read_csv(path, sep='\\t')"
      ],
      "execution_count": 45,
      "outputs": []
    },
    {
      "cell_type": "code",
      "metadata": {
        "id": "OuFShqf2-jnw",
        "colab_type": "code",
        "colab": {
          "base_uri": "https://localhost:8080/",
          "height": 35
        },
        "outputId": "8a34bb03-c40f-4612-9016-a7fb6c7543dd"
      },
      "source": [
        "# what is prod?\n",
        "type(prod)"
      ],
      "execution_count": 46,
      "outputs": [
        {
          "output_type": "execute_result",
          "data": {
            "text/plain": [
              "pandas.core.frame.DataFrame"
            ]
          },
          "metadata": {
            "tags": []
          },
          "execution_count": 46
        }
      ]
    },
    {
      "cell_type": "code",
      "metadata": {
        "id": "NxPrLSL5-jnz",
        "colab_type": "code",
        "colab": {
          "base_uri": "https://localhost:8080/",
          "height": 35
        },
        "outputId": "08aeea12-6c60-4248-b9bf-a8672f3d5c75"
      },
      "source": [
        "# how big is it?\n",
        "prod.shape"
      ],
      "execution_count": 47,
      "outputs": [
        {
          "output_type": "execute_result",
          "data": {
            "text/plain": [
              "(504, 25)"
            ]
          },
          "metadata": {
            "tags": []
          },
          "execution_count": 47
        }
      ]
    },
    {
      "cell_type": "code",
      "metadata": {
        "id": "uXjWX1ae-jn2",
        "colab_type": "code",
        "colab": {
          "base_uri": "https://localhost:8080/",
          "height": 138
        },
        "outputId": "0d0d17a5-6e70-4657-b485-7905b53a0b55"
      },
      "source": [
        "# what are the columns?\n",
        "prod.columns"
      ],
      "execution_count": 48,
      "outputs": [
        {
          "output_type": "execute_result",
          "data": {
            "text/plain": [
              "Index(['ProductID', 'Name', 'ProductNumber', 'MakeFlag', 'FinishedGoodsFlag',\n",
              "       'Color', 'SafetyStockLevel', 'ReorderPoint', 'StandardCost',\n",
              "       'ListPrice', 'Size', 'SizeUnitMeasureCode', 'WeightUnitMeasureCode',\n",
              "       'Weight', 'DaysToManufacture', 'ProductLine', 'Class', 'Style',\n",
              "       'ProductSubcategoryID', 'ProductModelID', 'SellStartDate',\n",
              "       'SellEndDate', 'DiscontinuedDate', 'rowguid', 'ModifiedDate'],\n",
              "      dtype='object')"
            ]
          },
          "metadata": {
            "tags": []
          },
          "execution_count": 48
        }
      ]
    },
    {
      "cell_type": "code",
      "metadata": {
        "id": "batDToV5-jn6",
        "colab_type": "code",
        "colab": {
          "base_uri": "https://localhost:8080/",
          "height": 35
        },
        "outputId": "0ed785d2-c518-4d6a-e6f7-38cdd4f77b83"
      },
      "source": [
        "# what is the index length?\n",
        "len(prod)"
      ],
      "execution_count": 49,
      "outputs": [
        {
          "output_type": "execute_result",
          "data": {
            "text/plain": [
              "504"
            ]
          },
          "metadata": {
            "tags": []
          },
          "execution_count": 49
        }
      ]
    },
    {
      "cell_type": "code",
      "metadata": {
        "id": "5S6c2uosEkCO",
        "colab_type": "code",
        "colab": {
          "base_uri": "https://localhost:8080/",
          "height": 443
        },
        "outputId": "7d6434aa-3017-4025-f87a-441daae247ff"
      },
      "source": [
        "# top 5\n",
        "prod.head()"
      ],
      "execution_count": 50,
      "outputs": [
        {
          "output_type": "execute_result",
          "data": {
            "text/html": [
              "<div>\n",
              "<style scoped>\n",
              "    .dataframe tbody tr th:only-of-type {\n",
              "        vertical-align: middle;\n",
              "    }\n",
              "\n",
              "    .dataframe tbody tr th {\n",
              "        vertical-align: top;\n",
              "    }\n",
              "\n",
              "    .dataframe thead th {\n",
              "        text-align: right;\n",
              "    }\n",
              "</style>\n",
              "<table border=\"1\" class=\"dataframe\">\n",
              "  <thead>\n",
              "    <tr style=\"text-align: right;\">\n",
              "      <th></th>\n",
              "      <th>ProductID</th>\n",
              "      <th>Name</th>\n",
              "      <th>ProductNumber</th>\n",
              "      <th>MakeFlag</th>\n",
              "      <th>FinishedGoodsFlag</th>\n",
              "      <th>Color</th>\n",
              "      <th>SafetyStockLevel</th>\n",
              "      <th>ReorderPoint</th>\n",
              "      <th>StandardCost</th>\n",
              "      <th>ListPrice</th>\n",
              "      <th>Size</th>\n",
              "      <th>SizeUnitMeasureCode</th>\n",
              "      <th>WeightUnitMeasureCode</th>\n",
              "      <th>Weight</th>\n",
              "      <th>DaysToManufacture</th>\n",
              "      <th>ProductLine</th>\n",
              "      <th>Class</th>\n",
              "      <th>Style</th>\n",
              "      <th>ProductSubcategoryID</th>\n",
              "      <th>ProductModelID</th>\n",
              "      <th>SellStartDate</th>\n",
              "      <th>SellEndDate</th>\n",
              "      <th>DiscontinuedDate</th>\n",
              "      <th>rowguid</th>\n",
              "      <th>ModifiedDate</th>\n",
              "    </tr>\n",
              "  </thead>\n",
              "  <tbody>\n",
              "    <tr>\n",
              "      <th>0</th>\n",
              "      <td>1</td>\n",
              "      <td>Adjustable Race</td>\n",
              "      <td>AR-5381</td>\n",
              "      <td>0</td>\n",
              "      <td>0</td>\n",
              "      <td>NaN</td>\n",
              "      <td>1000</td>\n",
              "      <td>750</td>\n",
              "      <td>0.0</td>\n",
              "      <td>0.0</td>\n",
              "      <td>NaN</td>\n",
              "      <td>NaN</td>\n",
              "      <td>NaN</td>\n",
              "      <td>NaN</td>\n",
              "      <td>0</td>\n",
              "      <td>NaN</td>\n",
              "      <td>NaN</td>\n",
              "      <td>NaN</td>\n",
              "      <td>NaN</td>\n",
              "      <td>NaN</td>\n",
              "      <td>2008-04-30 00:00:00</td>\n",
              "      <td>NaN</td>\n",
              "      <td>NaN</td>\n",
              "      <td>{694215B7-08F7-4C0D-ACB1-D734BA44C0C8}</td>\n",
              "      <td>2014-02-08 10:01:36.827000000</td>\n",
              "    </tr>\n",
              "    <tr>\n",
              "      <th>1</th>\n",
              "      <td>2</td>\n",
              "      <td>Bearing Ball</td>\n",
              "      <td>BA-8327</td>\n",
              "      <td>0</td>\n",
              "      <td>0</td>\n",
              "      <td>NaN</td>\n",
              "      <td>1000</td>\n",
              "      <td>750</td>\n",
              "      <td>0.0</td>\n",
              "      <td>0.0</td>\n",
              "      <td>NaN</td>\n",
              "      <td>NaN</td>\n",
              "      <td>NaN</td>\n",
              "      <td>NaN</td>\n",
              "      <td>0</td>\n",
              "      <td>NaN</td>\n",
              "      <td>NaN</td>\n",
              "      <td>NaN</td>\n",
              "      <td>NaN</td>\n",
              "      <td>NaN</td>\n",
              "      <td>2008-04-30 00:00:00</td>\n",
              "      <td>NaN</td>\n",
              "      <td>NaN</td>\n",
              "      <td>{58AE3C20-4F3A-4749-A7D4-D568806CC537}</td>\n",
              "      <td>2014-02-08 10:01:36.827000000</td>\n",
              "    </tr>\n",
              "    <tr>\n",
              "      <th>2</th>\n",
              "      <td>3</td>\n",
              "      <td>BB Ball Bearing</td>\n",
              "      <td>BE-2349</td>\n",
              "      <td>1</td>\n",
              "      <td>0</td>\n",
              "      <td>NaN</td>\n",
              "      <td>800</td>\n",
              "      <td>600</td>\n",
              "      <td>0.0</td>\n",
              "      <td>0.0</td>\n",
              "      <td>NaN</td>\n",
              "      <td>NaN</td>\n",
              "      <td>NaN</td>\n",
              "      <td>NaN</td>\n",
              "      <td>1</td>\n",
              "      <td>NaN</td>\n",
              "      <td>NaN</td>\n",
              "      <td>NaN</td>\n",
              "      <td>NaN</td>\n",
              "      <td>NaN</td>\n",
              "      <td>2008-04-30 00:00:00</td>\n",
              "      <td>NaN</td>\n",
              "      <td>NaN</td>\n",
              "      <td>{9C21AED2-5BFA-4F18-BCB8-F11638DC2E4E}</td>\n",
              "      <td>2014-02-08 10:01:36.827000000</td>\n",
              "    </tr>\n",
              "    <tr>\n",
              "      <th>3</th>\n",
              "      <td>4</td>\n",
              "      <td>Headset Ball Bearings</td>\n",
              "      <td>BE-2908</td>\n",
              "      <td>0</td>\n",
              "      <td>0</td>\n",
              "      <td>NaN</td>\n",
              "      <td>800</td>\n",
              "      <td>600</td>\n",
              "      <td>0.0</td>\n",
              "      <td>0.0</td>\n",
              "      <td>NaN</td>\n",
              "      <td>NaN</td>\n",
              "      <td>NaN</td>\n",
              "      <td>NaN</td>\n",
              "      <td>0</td>\n",
              "      <td>NaN</td>\n",
              "      <td>NaN</td>\n",
              "      <td>NaN</td>\n",
              "      <td>NaN</td>\n",
              "      <td>NaN</td>\n",
              "      <td>2008-04-30 00:00:00</td>\n",
              "      <td>NaN</td>\n",
              "      <td>NaN</td>\n",
              "      <td>{ECFED6CB-51FF-49B5-B06C-7D8AC834DB8B}</td>\n",
              "      <td>2014-02-08 10:01:36.827000000</td>\n",
              "    </tr>\n",
              "    <tr>\n",
              "      <th>4</th>\n",
              "      <td>316</td>\n",
              "      <td>Blade</td>\n",
              "      <td>BL-2036</td>\n",
              "      <td>1</td>\n",
              "      <td>0</td>\n",
              "      <td>NaN</td>\n",
              "      <td>800</td>\n",
              "      <td>600</td>\n",
              "      <td>0.0</td>\n",
              "      <td>0.0</td>\n",
              "      <td>NaN</td>\n",
              "      <td>NaN</td>\n",
              "      <td>NaN</td>\n",
              "      <td>NaN</td>\n",
              "      <td>1</td>\n",
              "      <td>NaN</td>\n",
              "      <td>NaN</td>\n",
              "      <td>NaN</td>\n",
              "      <td>NaN</td>\n",
              "      <td>NaN</td>\n",
              "      <td>2008-04-30 00:00:00</td>\n",
              "      <td>NaN</td>\n",
              "      <td>NaN</td>\n",
              "      <td>{E73E9750-603B-4131-89F5-3DD15ED5FF80}</td>\n",
              "      <td>2014-02-08 10:01:36.827000000</td>\n",
              "    </tr>\n",
              "  </tbody>\n",
              "</table>\n",
              "</div>"
            ],
            "text/plain": [
              "   ProductID  ...                   ModifiedDate\n",
              "0          1  ...  2014-02-08 10:01:36.827000000\n",
              "1          2  ...  2014-02-08 10:01:36.827000000\n",
              "2          3  ...  2014-02-08 10:01:36.827000000\n",
              "3          4  ...  2014-02-08 10:01:36.827000000\n",
              "4        316  ...  2014-02-08 10:01:36.827000000\n",
              "\n",
              "[5 rows x 25 columns]"
            ]
          },
          "metadata": {
            "tags": []
          },
          "execution_count": 50
        }
      ]
    },
    {
      "cell_type": "markdown",
      "metadata": {
        "id": "2XMmN-z8-jn9",
        "colab_type": "text"
      },
      "source": [
        "### How to call individual columns"
      ]
    },
    {
      "cell_type": "code",
      "metadata": {
        "id": "5PvYJ_-S-jn9",
        "colab_type": "code",
        "colab": {
          "base_uri": "https://localhost:8080/",
          "height": 52
        },
        "outputId": "5b5c9ad1-3e97-48f2-f170-41cf789ba88d"
      },
      "source": [
        "# column names\n",
        "prod.columns\n",
        "prod['Size'].sample()"
      ],
      "execution_count": 51,
      "outputs": [
        {
          "output_type": "execute_result",
          "data": {
            "text/plain": [
              "259    60\n",
              "Name: Size, dtype: object"
            ]
          },
          "metadata": {
            "tags": []
          },
          "execution_count": 51
        }
      ]
    },
    {
      "cell_type": "code",
      "metadata": {
        "id": "DaUshPcrE4qf",
        "colab_type": "code",
        "colab": {
          "base_uri": "https://localhost:8080/",
          "height": 121
        },
        "outputId": "7c6ec0da-fb14-4b62-c483-1eb287d1eb17"
      },
      "source": [
        "# also call\n",
        "prod.Size.head()"
      ],
      "execution_count": 52,
      "outputs": [
        {
          "output_type": "execute_result",
          "data": {
            "text/plain": [
              "0    NaN\n",
              "1    NaN\n",
              "2    NaN\n",
              "3    NaN\n",
              "4    NaN\n",
              "Name: Size, dtype: object"
            ]
          },
          "metadata": {
            "tags": []
          },
          "execution_count": 52
        }
      ]
    },
    {
      "cell_type": "code",
      "metadata": {
        "id": "-E-COg9BE_os",
        "colab_type": "code",
        "colab": {
          "base_uri": "https://localhost:8080/",
          "height": 198
        },
        "outputId": "6467707e-9763-402b-b89a-624aec57732a"
      },
      "source": [
        "# 2 columns\n",
        "prod[['ProductNumber', 'Size']].head()"
      ],
      "execution_count": 53,
      "outputs": [
        {
          "output_type": "execute_result",
          "data": {
            "text/html": [
              "<div>\n",
              "<style scoped>\n",
              "    .dataframe tbody tr th:only-of-type {\n",
              "        vertical-align: middle;\n",
              "    }\n",
              "\n",
              "    .dataframe tbody tr th {\n",
              "        vertical-align: top;\n",
              "    }\n",
              "\n",
              "    .dataframe thead th {\n",
              "        text-align: right;\n",
              "    }\n",
              "</style>\n",
              "<table border=\"1\" class=\"dataframe\">\n",
              "  <thead>\n",
              "    <tr style=\"text-align: right;\">\n",
              "      <th></th>\n",
              "      <th>ProductNumber</th>\n",
              "      <th>Size</th>\n",
              "    </tr>\n",
              "  </thead>\n",
              "  <tbody>\n",
              "    <tr>\n",
              "      <th>0</th>\n",
              "      <td>AR-5381</td>\n",
              "      <td>NaN</td>\n",
              "    </tr>\n",
              "    <tr>\n",
              "      <th>1</th>\n",
              "      <td>BA-8327</td>\n",
              "      <td>NaN</td>\n",
              "    </tr>\n",
              "    <tr>\n",
              "      <th>2</th>\n",
              "      <td>BE-2349</td>\n",
              "      <td>NaN</td>\n",
              "    </tr>\n",
              "    <tr>\n",
              "      <th>3</th>\n",
              "      <td>BE-2908</td>\n",
              "      <td>NaN</td>\n",
              "    </tr>\n",
              "    <tr>\n",
              "      <th>4</th>\n",
              "      <td>BL-2036</td>\n",
              "      <td>NaN</td>\n",
              "    </tr>\n",
              "  </tbody>\n",
              "</table>\n",
              "</div>"
            ],
            "text/plain": [
              "  ProductNumber Size\n",
              "0       AR-5381  NaN\n",
              "1       BA-8327  NaN\n",
              "2       BE-2349  NaN\n",
              "3       BE-2908  NaN\n",
              "4       BL-2036  NaN"
            ]
          },
          "metadata": {
            "tags": []
          },
          "execution_count": 53
        }
      ]
    },
    {
      "cell_type": "code",
      "metadata": {
        "id": "iEx5Znk1-joA",
        "colab_type": "code",
        "colab": {
          "base_uri": "https://localhost:8080/",
          "height": 466
        },
        "outputId": "87b3c807-f00a-4fa9-b68c-6d72f5d63984"
      },
      "source": [
        "# what is the data type in each column?\n",
        "prod['Size'].dtypes\n",
        "prod.dtypes"
      ],
      "execution_count": 54,
      "outputs": [
        {
          "output_type": "execute_result",
          "data": {
            "text/plain": [
              "ProductID                  int64\n",
              "Name                      object\n",
              "ProductNumber             object\n",
              "MakeFlag                   int64\n",
              "FinishedGoodsFlag          int64\n",
              "Color                     object\n",
              "SafetyStockLevel           int64\n",
              "ReorderPoint               int64\n",
              "StandardCost             float64\n",
              "ListPrice                float64\n",
              "Size                      object\n",
              "SizeUnitMeasureCode       object\n",
              "WeightUnitMeasureCode     object\n",
              "Weight                   float64\n",
              "DaysToManufacture          int64\n",
              "ProductLine               object\n",
              "Class                     object\n",
              "Style                     object\n",
              "ProductSubcategoryID     float64\n",
              "ProductModelID           float64\n",
              "SellStartDate             object\n",
              "SellEndDate               object\n",
              "DiscontinuedDate         float64\n",
              "rowguid                   object\n",
              "ModifiedDate              object\n",
              "dtype: object"
            ]
          },
          "metadata": {
            "tags": []
          },
          "execution_count": 54
        }
      ]
    },
    {
      "cell_type": "code",
      "metadata": {
        "id": "jK6zxWmi-joF",
        "colab_type": "code",
        "colab": {}
      },
      "source": [
        "# How to select an individual column\n",
        "# 3 ways to do this.\n",
        "# First way. use brackets\n"
      ],
      "execution_count": 55,
      "outputs": []
    },
    {
      "cell_type": "code",
      "metadata": {
        "id": "nUOrTlaX-joI",
        "colab_type": "code",
        "colab": {}
      },
      "source": [
        "# another way."
      ],
      "execution_count": 56,
      "outputs": []
    },
    {
      "cell_type": "code",
      "metadata": {
        "id": "vnE8G6KJ-joK",
        "colab_type": "code",
        "colab": {}
      },
      "source": [
        "# Third way (most typing, best results)\n"
      ],
      "execution_count": 57,
      "outputs": []
    },
    {
      "cell_type": "code",
      "metadata": {
        "id": "tvDftSlK-joR",
        "colab_type": "code",
        "colab": {}
      },
      "source": [
        "# The third method allows me to select multiple columns!\n",
        " # first bracket indicates \"list\"\n",
        " # second bracket indicates \"dataframe filter\""
      ],
      "execution_count": 58,
      "outputs": []
    },
    {
      "cell_type": "code",
      "metadata": {
        "id": "AnaJnN1P-joU",
        "colab_type": "code",
        "colab": {
          "base_uri": "https://localhost:8080/",
          "height": 788
        },
        "outputId": "8d70609d-f5c9-441b-c627-4ca3beaa8096"
      },
      "source": [
        "# Let's create another filter using brackets!\n",
        "print(prod['Size'].value_counts().sort_index())\n",
        "prod[(prod['Size']=='L') | (prod['Size']=='M')].head()"
      ],
      "execution_count": 59,
      "outputs": [
        {
          "output_type": "stream",
          "text": [
            "38    12\n",
            "40    11\n",
            "42    15\n",
            "44    29\n",
            "46    11\n",
            "48    25\n",
            "50     9\n",
            "52    16\n",
            "54     9\n",
            "56     2\n",
            "58    15\n",
            "60    11\n",
            "62    11\n",
            "70     1\n",
            "L     11\n",
            "M     11\n",
            "S      9\n",
            "XL     3\n",
            "Name: Size, dtype: int64\n"
          ],
          "name": "stdout"
        },
        {
          "output_type": "execute_result",
          "data": {
            "text/html": [
              "<div>\n",
              "<style scoped>\n",
              "    .dataframe tbody tr th:only-of-type {\n",
              "        vertical-align: middle;\n",
              "    }\n",
              "\n",
              "    .dataframe tbody tr th {\n",
              "        vertical-align: top;\n",
              "    }\n",
              "\n",
              "    .dataframe thead th {\n",
              "        text-align: right;\n",
              "    }\n",
              "</style>\n",
              "<table border=\"1\" class=\"dataframe\">\n",
              "  <thead>\n",
              "    <tr style=\"text-align: right;\">\n",
              "      <th></th>\n",
              "      <th>ProductID</th>\n",
              "      <th>Name</th>\n",
              "      <th>ProductNumber</th>\n",
              "      <th>MakeFlag</th>\n",
              "      <th>FinishedGoodsFlag</th>\n",
              "      <th>Color</th>\n",
              "      <th>SafetyStockLevel</th>\n",
              "      <th>ReorderPoint</th>\n",
              "      <th>StandardCost</th>\n",
              "      <th>ListPrice</th>\n",
              "      <th>Size</th>\n",
              "      <th>SizeUnitMeasureCode</th>\n",
              "      <th>WeightUnitMeasureCode</th>\n",
              "      <th>Weight</th>\n",
              "      <th>DaysToManufacture</th>\n",
              "      <th>ProductLine</th>\n",
              "      <th>Class</th>\n",
              "      <th>Style</th>\n",
              "      <th>ProductSubcategoryID</th>\n",
              "      <th>ProductModelID</th>\n",
              "      <th>SellStartDate</th>\n",
              "      <th>SellEndDate</th>\n",
              "      <th>DiscontinuedDate</th>\n",
              "      <th>rowguid</th>\n",
              "      <th>ModifiedDate</th>\n",
              "    </tr>\n",
              "  </thead>\n",
              "  <tbody>\n",
              "    <tr>\n",
              "      <th>213</th>\n",
              "      <td>709</td>\n",
              "      <td>Mountain Bike Socks, M</td>\n",
              "      <td>SO-B909-M</td>\n",
              "      <td>0</td>\n",
              "      <td>1</td>\n",
              "      <td>White</td>\n",
              "      <td>4</td>\n",
              "      <td>3</td>\n",
              "      <td>3.3963</td>\n",
              "      <td>9.50</td>\n",
              "      <td>M</td>\n",
              "      <td>NaN</td>\n",
              "      <td>NaN</td>\n",
              "      <td>NaN</td>\n",
              "      <td>0</td>\n",
              "      <td>M</td>\n",
              "      <td>NaN</td>\n",
              "      <td>U</td>\n",
              "      <td>23.0</td>\n",
              "      <td>18.0</td>\n",
              "      <td>2011-05-31 00:00:00</td>\n",
              "      <td>2012-05-29 00:00:00</td>\n",
              "      <td>NaN</td>\n",
              "      <td>{18F95F47-1540-4E02-8F1F-CC1BCB6828D0}</td>\n",
              "      <td>2014-02-08 10:01:36.827000000</td>\n",
              "    </tr>\n",
              "    <tr>\n",
              "      <th>214</th>\n",
              "      <td>710</td>\n",
              "      <td>Mountain Bike Socks, L</td>\n",
              "      <td>SO-B909-L</td>\n",
              "      <td>0</td>\n",
              "      <td>1</td>\n",
              "      <td>White</td>\n",
              "      <td>4</td>\n",
              "      <td>3</td>\n",
              "      <td>3.3963</td>\n",
              "      <td>9.50</td>\n",
              "      <td>L</td>\n",
              "      <td>NaN</td>\n",
              "      <td>NaN</td>\n",
              "      <td>NaN</td>\n",
              "      <td>0</td>\n",
              "      <td>M</td>\n",
              "      <td>NaN</td>\n",
              "      <td>U</td>\n",
              "      <td>23.0</td>\n",
              "      <td>18.0</td>\n",
              "      <td>2011-05-31 00:00:00</td>\n",
              "      <td>2012-05-29 00:00:00</td>\n",
              "      <td>NaN</td>\n",
              "      <td>{161C035E-21B3-4E14-8E44-AF508F35D80A}</td>\n",
              "      <td>2014-02-08 10:01:36.827000000</td>\n",
              "    </tr>\n",
              "    <tr>\n",
              "      <th>218</th>\n",
              "      <td>714</td>\n",
              "      <td>Long-Sleeve Logo Jersey, M</td>\n",
              "      <td>LJ-0192-M</td>\n",
              "      <td>0</td>\n",
              "      <td>1</td>\n",
              "      <td>Multi</td>\n",
              "      <td>4</td>\n",
              "      <td>3</td>\n",
              "      <td>38.4923</td>\n",
              "      <td>49.99</td>\n",
              "      <td>M</td>\n",
              "      <td>NaN</td>\n",
              "      <td>NaN</td>\n",
              "      <td>NaN</td>\n",
              "      <td>0</td>\n",
              "      <td>S</td>\n",
              "      <td>NaN</td>\n",
              "      <td>U</td>\n",
              "      <td>21.0</td>\n",
              "      <td>11.0</td>\n",
              "      <td>2011-05-31 00:00:00</td>\n",
              "      <td>NaN</td>\n",
              "      <td>NaN</td>\n",
              "      <td>{6A290063-A0CF-432A-8110-2EA0FDA14308}</td>\n",
              "      <td>2014-02-08 10:01:36.827000000</td>\n",
              "    </tr>\n",
              "    <tr>\n",
              "      <th>219</th>\n",
              "      <td>715</td>\n",
              "      <td>Long-Sleeve Logo Jersey, L</td>\n",
              "      <td>LJ-0192-L</td>\n",
              "      <td>0</td>\n",
              "      <td>1</td>\n",
              "      <td>Multi</td>\n",
              "      <td>4</td>\n",
              "      <td>3</td>\n",
              "      <td>38.4923</td>\n",
              "      <td>49.99</td>\n",
              "      <td>L</td>\n",
              "      <td>NaN</td>\n",
              "      <td>NaN</td>\n",
              "      <td>NaN</td>\n",
              "      <td>0</td>\n",
              "      <td>S</td>\n",
              "      <td>NaN</td>\n",
              "      <td>U</td>\n",
              "      <td>21.0</td>\n",
              "      <td>11.0</td>\n",
              "      <td>2011-05-31 00:00:00</td>\n",
              "      <td>NaN</td>\n",
              "      <td>NaN</td>\n",
              "      <td>{34CF5EF5-C077-4EA0-914A-084814D5CBD5}</td>\n",
              "      <td>2014-02-08 10:01:36.827000000</td>\n",
              "    </tr>\n",
              "    <tr>\n",
              "      <th>353</th>\n",
              "      <td>849</td>\n",
              "      <td>Men's Sports Shorts, M</td>\n",
              "      <td>SH-M897-M</td>\n",
              "      <td>0</td>\n",
              "      <td>1</td>\n",
              "      <td>Black</td>\n",
              "      <td>4</td>\n",
              "      <td>3</td>\n",
              "      <td>24.7459</td>\n",
              "      <td>59.99</td>\n",
              "      <td>M</td>\n",
              "      <td>NaN</td>\n",
              "      <td>NaN</td>\n",
              "      <td>NaN</td>\n",
              "      <td>0</td>\n",
              "      <td>S</td>\n",
              "      <td>NaN</td>\n",
              "      <td>M</td>\n",
              "      <td>22.0</td>\n",
              "      <td>13.0</td>\n",
              "      <td>2012-05-30 00:00:00</td>\n",
              "      <td>2013-05-29 00:00:00</td>\n",
              "      <td>NaN</td>\n",
              "      <td>{DB37B435-74B9-43D3-B363-ABBEAD107BC4}</td>\n",
              "      <td>2014-02-08 10:01:36.827000000</td>\n",
              "    </tr>\n",
              "  </tbody>\n",
              "</table>\n",
              "</div>"
            ],
            "text/plain": [
              "     ProductID  ...                   ModifiedDate\n",
              "213        709  ...  2014-02-08 10:01:36.827000000\n",
              "214        710  ...  2014-02-08 10:01:36.827000000\n",
              "218        714  ...  2014-02-08 10:01:36.827000000\n",
              "219        715  ...  2014-02-08 10:01:36.827000000\n",
              "353        849  ...  2014-02-08 10:01:36.827000000\n",
              "\n",
              "[5 rows x 25 columns]"
            ]
          },
          "metadata": {
            "tags": []
          },
          "execution_count": 59
        }
      ]
    },
    {
      "cell_type": "code",
      "metadata": {
        "id": "Gm1139I9-joW",
        "colab_type": "code",
        "colab": {
          "base_uri": "https://localhost:8080/",
          "height": 477
        },
        "outputId": "24cab413-cbf0-47f0-c169-b32245434d17"
      },
      "source": [
        "# Try 2 things:\n",
        "# call a subset of all columns\n",
        "# create your own simple filter\n",
        "# slack out the results as a screenshot.\n",
        "prod [ prod ['StandardCost'] >= 20].head()"
      ],
      "execution_count": 60,
      "outputs": [
        {
          "output_type": "execute_result",
          "data": {
            "text/html": [
              "<div>\n",
              "<style scoped>\n",
              "    .dataframe tbody tr th:only-of-type {\n",
              "        vertical-align: middle;\n",
              "    }\n",
              "\n",
              "    .dataframe tbody tr th {\n",
              "        vertical-align: top;\n",
              "    }\n",
              "\n",
              "    .dataframe thead th {\n",
              "        text-align: right;\n",
              "    }\n",
              "</style>\n",
              "<table border=\"1\" class=\"dataframe\">\n",
              "  <thead>\n",
              "    <tr style=\"text-align: right;\">\n",
              "      <th></th>\n",
              "      <th>ProductID</th>\n",
              "      <th>Name</th>\n",
              "      <th>ProductNumber</th>\n",
              "      <th>MakeFlag</th>\n",
              "      <th>FinishedGoodsFlag</th>\n",
              "      <th>Color</th>\n",
              "      <th>SafetyStockLevel</th>\n",
              "      <th>ReorderPoint</th>\n",
              "      <th>StandardCost</th>\n",
              "      <th>ListPrice</th>\n",
              "      <th>Size</th>\n",
              "      <th>SizeUnitMeasureCode</th>\n",
              "      <th>WeightUnitMeasureCode</th>\n",
              "      <th>Weight</th>\n",
              "      <th>DaysToManufacture</th>\n",
              "      <th>ProductLine</th>\n",
              "      <th>Class</th>\n",
              "      <th>Style</th>\n",
              "      <th>ProductSubcategoryID</th>\n",
              "      <th>ProductModelID</th>\n",
              "      <th>SellStartDate</th>\n",
              "      <th>SellEndDate</th>\n",
              "      <th>DiscontinuedDate</th>\n",
              "      <th>rowguid</th>\n",
              "      <th>ModifiedDate</th>\n",
              "    </tr>\n",
              "  </thead>\n",
              "  <tbody>\n",
              "    <tr>\n",
              "      <th>186</th>\n",
              "      <td>514</td>\n",
              "      <td>LL Mountain Seat Assembly</td>\n",
              "      <td>SA-M198</td>\n",
              "      <td>1</td>\n",
              "      <td>0</td>\n",
              "      <td>NaN</td>\n",
              "      <td>500</td>\n",
              "      <td>375</td>\n",
              "      <td>98.77</td>\n",
              "      <td>133.34</td>\n",
              "      <td>NaN</td>\n",
              "      <td>NaN</td>\n",
              "      <td>NaN</td>\n",
              "      <td>NaN</td>\n",
              "      <td>1</td>\n",
              "      <td>NaN</td>\n",
              "      <td>L</td>\n",
              "      <td>NaN</td>\n",
              "      <td>NaN</td>\n",
              "      <td>NaN</td>\n",
              "      <td>2008-04-30 00:00:00</td>\n",
              "      <td>NaN</td>\n",
              "      <td>NaN</td>\n",
              "      <td>{FCFC0A4F-4563-4E0B-BFF4-5DDCFE3A9273}</td>\n",
              "      <td>2014-02-08 10:01:36.827000000</td>\n",
              "    </tr>\n",
              "    <tr>\n",
              "      <th>187</th>\n",
              "      <td>515</td>\n",
              "      <td>ML Mountain Seat Assembly</td>\n",
              "      <td>SA-M237</td>\n",
              "      <td>1</td>\n",
              "      <td>0</td>\n",
              "      <td>NaN</td>\n",
              "      <td>500</td>\n",
              "      <td>375</td>\n",
              "      <td>108.99</td>\n",
              "      <td>147.14</td>\n",
              "      <td>NaN</td>\n",
              "      <td>NaN</td>\n",
              "      <td>NaN</td>\n",
              "      <td>NaN</td>\n",
              "      <td>1</td>\n",
              "      <td>NaN</td>\n",
              "      <td>M</td>\n",
              "      <td>NaN</td>\n",
              "      <td>NaN</td>\n",
              "      <td>NaN</td>\n",
              "      <td>2008-04-30 00:00:00</td>\n",
              "      <td>NaN</td>\n",
              "      <td>NaN</td>\n",
              "      <td>{D3C8AE4C-A1BE-448D-BF58-6ECBF36AFA0B}</td>\n",
              "      <td>2014-02-08 10:01:36.827000000</td>\n",
              "    </tr>\n",
              "    <tr>\n",
              "      <th>188</th>\n",
              "      <td>516</td>\n",
              "      <td>HL Mountain Seat Assembly</td>\n",
              "      <td>SA-M687</td>\n",
              "      <td>1</td>\n",
              "      <td>0</td>\n",
              "      <td>NaN</td>\n",
              "      <td>500</td>\n",
              "      <td>375</td>\n",
              "      <td>145.87</td>\n",
              "      <td>196.92</td>\n",
              "      <td>NaN</td>\n",
              "      <td>NaN</td>\n",
              "      <td>NaN</td>\n",
              "      <td>NaN</td>\n",
              "      <td>1</td>\n",
              "      <td>NaN</td>\n",
              "      <td>NaN</td>\n",
              "      <td>NaN</td>\n",
              "      <td>NaN</td>\n",
              "      <td>NaN</td>\n",
              "      <td>2008-04-30 00:00:00</td>\n",
              "      <td>NaN</td>\n",
              "      <td>NaN</td>\n",
              "      <td>{9E18ADAB-B9C7-45B1-BD95-1805EC4F297D}</td>\n",
              "      <td>2014-02-08 10:01:36.827000000</td>\n",
              "    </tr>\n",
              "    <tr>\n",
              "      <th>189</th>\n",
              "      <td>517</td>\n",
              "      <td>LL Road Seat Assembly</td>\n",
              "      <td>SA-R127</td>\n",
              "      <td>1</td>\n",
              "      <td>0</td>\n",
              "      <td>NaN</td>\n",
              "      <td>500</td>\n",
              "      <td>375</td>\n",
              "      <td>98.77</td>\n",
              "      <td>133.34</td>\n",
              "      <td>NaN</td>\n",
              "      <td>NaN</td>\n",
              "      <td>NaN</td>\n",
              "      <td>NaN</td>\n",
              "      <td>1</td>\n",
              "      <td>NaN</td>\n",
              "      <td>L</td>\n",
              "      <td>NaN</td>\n",
              "      <td>NaN</td>\n",
              "      <td>NaN</td>\n",
              "      <td>2008-04-30 00:00:00</td>\n",
              "      <td>NaN</td>\n",
              "      <td>NaN</td>\n",
              "      <td>{F5A30B8D-F35B-43F2-83A0-F7F6B51F6241}</td>\n",
              "      <td>2014-02-08 10:01:36.827000000</td>\n",
              "    </tr>\n",
              "    <tr>\n",
              "      <th>190</th>\n",
              "      <td>518</td>\n",
              "      <td>ML Road Seat Assembly</td>\n",
              "      <td>SA-R430</td>\n",
              "      <td>1</td>\n",
              "      <td>0</td>\n",
              "      <td>NaN</td>\n",
              "      <td>500</td>\n",
              "      <td>375</td>\n",
              "      <td>108.99</td>\n",
              "      <td>147.14</td>\n",
              "      <td>NaN</td>\n",
              "      <td>NaN</td>\n",
              "      <td>NaN</td>\n",
              "      <td>NaN</td>\n",
              "      <td>1</td>\n",
              "      <td>NaN</td>\n",
              "      <td>M</td>\n",
              "      <td>NaN</td>\n",
              "      <td>NaN</td>\n",
              "      <td>NaN</td>\n",
              "      <td>2008-04-30 00:00:00</td>\n",
              "      <td>NaN</td>\n",
              "      <td>NaN</td>\n",
              "      <td>{AD109395-FDA9-4C2A-96F1-515CCDE3D9F4}</td>\n",
              "      <td>2014-02-08 10:01:36.827000000</td>\n",
              "    </tr>\n",
              "  </tbody>\n",
              "</table>\n",
              "</div>"
            ],
            "text/plain": [
              "     ProductID  ...                   ModifiedDate\n",
              "186        514  ...  2014-02-08 10:01:36.827000000\n",
              "187        515  ...  2014-02-08 10:01:36.827000000\n",
              "188        516  ...  2014-02-08 10:01:36.827000000\n",
              "189        517  ...  2014-02-08 10:01:36.827000000\n",
              "190        518  ...  2014-02-08 10:01:36.827000000\n",
              "\n",
              "[5 rows x 25 columns]"
            ]
          },
          "metadata": {
            "tags": []
          },
          "execution_count": 60
        }
      ]
    },
    {
      "cell_type": "code",
      "metadata": {
        "id": "pt9_hCUL-joY",
        "colab_type": "code",
        "colab": {
          "base_uri": "https://localhost:8080/",
          "height": 138
        },
        "outputId": "6815a422-36b1-4666-9a00-8f511d240e44"
      },
      "source": [
        "# what exactly is the filter doing?\n",
        "# prod['Color'].head(10) \n",
        "prod [(prod['Color']=='Blue') & (prod['ListPrice']>100)]   [['Color', 'ListPrice', 'StandardCost']].sample(3)"
      ],
      "execution_count": 61,
      "outputs": [
        {
          "output_type": "execute_result",
          "data": {
            "text/html": [
              "<div>\n",
              "<style scoped>\n",
              "    .dataframe tbody tr th:only-of-type {\n",
              "        vertical-align: middle;\n",
              "    }\n",
              "\n",
              "    .dataframe tbody tr th {\n",
              "        vertical-align: top;\n",
              "    }\n",
              "\n",
              "    .dataframe thead th {\n",
              "        text-align: right;\n",
              "    }\n",
              "</style>\n",
              "<table border=\"1\" class=\"dataframe\">\n",
              "  <thead>\n",
              "    <tr style=\"text-align: right;\">\n",
              "      <th></th>\n",
              "      <th>Color</th>\n",
              "      <th>ListPrice</th>\n",
              "      <th>StandardCost</th>\n",
              "    </tr>\n",
              "  </thead>\n",
              "  <tbody>\n",
              "    <tr>\n",
              "      <th>407</th>\n",
              "      <td>Blue</td>\n",
              "      <td>333.42</td>\n",
              "      <td>199.8519</td>\n",
              "    </tr>\n",
              "    <tr>\n",
              "      <th>482</th>\n",
              "      <td>Blue</td>\n",
              "      <td>742.35</td>\n",
              "      <td>461.4448</td>\n",
              "    </tr>\n",
              "    <tr>\n",
              "      <th>395</th>\n",
              "      <td>Blue</td>\n",
              "      <td>1003.91</td>\n",
              "      <td>601.7437</td>\n",
              "    </tr>\n",
              "  </tbody>\n",
              "</table>\n",
              "</div>"
            ],
            "text/plain": [
              "    Color  ListPrice  StandardCost\n",
              "407  Blue     333.42      199.8519\n",
              "482  Blue     742.35      461.4448\n",
              "395  Blue    1003.91      601.7437"
            ]
          },
          "metadata": {
            "tags": []
          },
          "execution_count": 61
        }
      ]
    },
    {
      "cell_type": "code",
      "metadata": {
        "id": "LQXBYVtB-job",
        "colab_type": "code",
        "colab": {
          "base_uri": "https://localhost:8080/",
          "height": 466
        },
        "outputId": "2041cfb4-fa65-4318-b5c3-51cadeccb419"
      },
      "source": [
        "# Null values\n",
        "prod.isnull().sum()"
      ],
      "execution_count": 62,
      "outputs": [
        {
          "output_type": "execute_result",
          "data": {
            "text/plain": [
              "ProductID                  0\n",
              "Name                       0\n",
              "ProductNumber              0\n",
              "MakeFlag                   0\n",
              "FinishedGoodsFlag          0\n",
              "Color                    248\n",
              "SafetyStockLevel           0\n",
              "ReorderPoint               0\n",
              "StandardCost               0\n",
              "ListPrice                  0\n",
              "Size                     293\n",
              "SizeUnitMeasureCode      328\n",
              "WeightUnitMeasureCode    299\n",
              "Weight                   299\n",
              "DaysToManufacture          0\n",
              "ProductLine              226\n",
              "Class                    257\n",
              "Style                    293\n",
              "ProductSubcategoryID     209\n",
              "ProductModelID           209\n",
              "SellStartDate              0\n",
              "SellEndDate              406\n",
              "DiscontinuedDate         504\n",
              "rowguid                    0\n",
              "ModifiedDate               0\n",
              "dtype: int64"
            ]
          },
          "metadata": {
            "tags": []
          },
          "execution_count": 62
        }
      ]
    },
    {
      "cell_type": "code",
      "metadata": {
        "id": "jgjSUFeBHfFF",
        "colab_type": "code",
        "colab": {
          "base_uri": "https://localhost:8080/",
          "height": 207
        },
        "outputId": "51c5ec52-2e3c-4188-c25f-ea25fac62ff6"
      },
      "source": [
        "# how to handle missing data with color\n",
        "prod['Color'].value_counts(dropna=False)"
      ],
      "execution_count": 63,
      "outputs": [
        {
          "output_type": "execute_result",
          "data": {
            "text/plain": [
              "NaN             248\n",
              "Black            93\n",
              "Silver           43\n",
              "Red              38\n",
              "Yellow           36\n",
              "Blue             26\n",
              "Multi             8\n",
              "Silver/Black      7\n",
              "White             4\n",
              "Grey              1\n",
              "Name: Color, dtype: int64"
            ]
          },
          "metadata": {
            "tags": []
          },
          "execution_count": 63
        }
      ]
    },
    {
      "cell_type": "code",
      "metadata": {
        "id": "4mMJ2MgbHokM",
        "colab_type": "code",
        "colab": {}
      },
      "source": [
        "# let's replace missing\n",
        "prod['Color'].fillna('Hot Pink', inplace=True)"
      ],
      "execution_count": 64,
      "outputs": []
    },
    {
      "cell_type": "code",
      "metadata": {
        "id": "dIELtJvLH5UE",
        "colab_type": "code",
        "colab": {
          "base_uri": "https://localhost:8080/",
          "height": 207
        },
        "outputId": "6d3b113a-c6a3-4d04-e6d1-cc7cc841741a"
      },
      "source": [
        "# how to handle missing data with color\n",
        "prod['Color'].value_counts(dropna=False)"
      ],
      "execution_count": 65,
      "outputs": [
        {
          "output_type": "execute_result",
          "data": {
            "text/plain": [
              "Hot Pink        248\n",
              "Black            93\n",
              "Silver           43\n",
              "Red              38\n",
              "Yellow           36\n",
              "Blue             26\n",
              "Multi             8\n",
              "Silver/Black      7\n",
              "White             4\n",
              "Grey              1\n",
              "Name: Color, dtype: int64"
            ]
          },
          "metadata": {
            "tags": []
          },
          "execution_count": 65
        }
      ]
    },
    {
      "cell_type": "code",
      "metadata": {
        "id": "3kUFwFndIBQb",
        "colab_type": "code",
        "colab": {
          "base_uri": "https://localhost:8080/",
          "height": 52
        },
        "outputId": "46c2e6a2-9e71-4a0f-bb5e-af5753cdca39"
      },
      "source": [
        "# let's drop missing data\n",
        "print(prod.shape)\n",
        "# df2.dropna(subset=['three', 'four', 'five'], how='all')\n",
        "prod.dropna(subset = ['ProductLine'],  inplace=True)\n",
        "print(prod.shape)"
      ],
      "execution_count": 66,
      "outputs": [
        {
          "output_type": "stream",
          "text": [
            "(504, 25)\n",
            "(278, 25)\n"
          ],
          "name": "stdout"
        }
      ]
    },
    {
      "cell_type": "code",
      "metadata": {
        "id": "C9eR5Zt0-jod",
        "colab_type": "code",
        "colab": {}
      },
      "source": [
        "# Another example of a filter"
      ],
      "execution_count": null,
      "outputs": []
    },
    {
      "cell_type": "code",
      "metadata": {
        "id": "dnPfs5sK-jof",
        "colab_type": "code",
        "colab": {
          "base_uri": "https://localhost:8080/",
          "height": 198
        },
        "outputId": "e8cb115c-8310-4efd-f768-f286f1b74303"
      },
      "source": [
        "# You can call a single (or multiple) column(s) from filtered results\n",
        "filtered = prod[(prod['Color']=='Blue') | (prod['Color']=='Red')]\n",
        "filtered[['Color', 'ListPrice', 'Weight']].sample(5)"
      ],
      "execution_count": 67,
      "outputs": [
        {
          "output_type": "execute_result",
          "data": {
            "text/html": [
              "<div>\n",
              "<style scoped>\n",
              "    .dataframe tbody tr th:only-of-type {\n",
              "        vertical-align: middle;\n",
              "    }\n",
              "\n",
              "    .dataframe tbody tr th {\n",
              "        vertical-align: top;\n",
              "    }\n",
              "\n",
              "    .dataframe thead th {\n",
              "        text-align: right;\n",
              "    }\n",
              "</style>\n",
              "<table border=\"1\" class=\"dataframe\">\n",
              "  <thead>\n",
              "    <tr style=\"text-align: right;\">\n",
              "      <th></th>\n",
              "      <th>Color</th>\n",
              "      <th>ListPrice</th>\n",
              "      <th>Weight</th>\n",
              "    </tr>\n",
              "  </thead>\n",
              "  <tbody>\n",
              "    <tr>\n",
              "      <th>394</th>\n",
              "      <td>Blue</td>\n",
              "      <td>1003.91</td>\n",
              "      <td>2.96</td>\n",
              "    </tr>\n",
              "    <tr>\n",
              "      <th>402</th>\n",
              "      <td>Blue</td>\n",
              "      <td>333.42</td>\n",
              "      <td>3.20</td>\n",
              "    </tr>\n",
              "    <tr>\n",
              "      <th>256</th>\n",
              "      <td>Red</td>\n",
              "      <td>3578.27</td>\n",
              "      <td>14.42</td>\n",
              "    </tr>\n",
              "    <tr>\n",
              "      <th>473</th>\n",
              "      <td>Blue</td>\n",
              "      <td>2384.07</td>\n",
              "      <td>25.90</td>\n",
              "    </tr>\n",
              "    <tr>\n",
              "      <th>472</th>\n",
              "      <td>Blue</td>\n",
              "      <td>2384.07</td>\n",
              "      <td>25.68</td>\n",
              "    </tr>\n",
              "  </tbody>\n",
              "</table>\n",
              "</div>"
            ],
            "text/plain": [
              "    Color  ListPrice  Weight\n",
              "394  Blue    1003.91    2.96\n",
              "402  Blue     333.42    3.20\n",
              "256   Red    3578.27   14.42\n",
              "473  Blue    2384.07   25.90\n",
              "472  Blue    2384.07   25.68"
            ]
          },
          "metadata": {
            "tags": []
          },
          "execution_count": 67
        }
      ]
    },
    {
      "cell_type": "markdown",
      "metadata": {
        "id": "r7qjVp9i-joh",
        "colab_type": "text"
      },
      "source": [
        "### Calculate some simple summary stats on your dataframe"
      ]
    },
    {
      "cell_type": "code",
      "metadata": {
        "id": "QPtLKX6G-joi",
        "colab_type": "code",
        "colab": {
          "base_uri": "https://localhost:8080/",
          "height": 308
        },
        "outputId": "19ccabd5-8f89-48a3-bcea-a9e670c617d9"
      },
      "source": [
        "# describe all columns\n",
        "prod.describe()"
      ],
      "execution_count": 69,
      "outputs": [
        {
          "output_type": "execute_result",
          "data": {
            "text/html": [
              "<div>\n",
              "<style scoped>\n",
              "    .dataframe tbody tr th:only-of-type {\n",
              "        vertical-align: middle;\n",
              "    }\n",
              "\n",
              "    .dataframe tbody tr th {\n",
              "        vertical-align: top;\n",
              "    }\n",
              "\n",
              "    .dataframe thead th {\n",
              "        text-align: right;\n",
              "    }\n",
              "</style>\n",
              "<table border=\"1\" class=\"dataframe\">\n",
              "  <thead>\n",
              "    <tr style=\"text-align: right;\">\n",
              "      <th></th>\n",
              "      <th>ProductID</th>\n",
              "      <th>MakeFlag</th>\n",
              "      <th>FinishedGoodsFlag</th>\n",
              "      <th>SafetyStockLevel</th>\n",
              "      <th>ReorderPoint</th>\n",
              "      <th>StandardCost</th>\n",
              "      <th>ListPrice</th>\n",
              "      <th>Weight</th>\n",
              "      <th>DaysToManufacture</th>\n",
              "      <th>ProductSubcategoryID</th>\n",
              "      <th>ProductModelID</th>\n",
              "      <th>DiscontinuedDate</th>\n",
              "    </tr>\n",
              "  </thead>\n",
              "  <tbody>\n",
              "    <tr>\n",
              "      <th>count</th>\n",
              "      <td>278.000000</td>\n",
              "      <td>278.00000</td>\n",
              "      <td>278.0</td>\n",
              "      <td>278.000000</td>\n",
              "      <td>278.000000</td>\n",
              "      <td>278.000000</td>\n",
              "      <td>278.000000</td>\n",
              "      <td>188.000000</td>\n",
              "      <td>278.000000</td>\n",
              "      <td>278.000000</td>\n",
              "      <td>278.000000</td>\n",
              "      <td>0.0</td>\n",
              "    </tr>\n",
              "    <tr>\n",
              "      <th>mean</th>\n",
              "      <td>848.946043</td>\n",
              "      <td>0.71223</td>\n",
              "      <td>1.0</td>\n",
              "      <td>264.086331</td>\n",
              "      <td>198.064748</td>\n",
              "      <td>461.225946</td>\n",
              "      <td>781.587374</td>\n",
              "      <td>47.001011</td>\n",
              "      <td>1.841727</td>\n",
              "      <td>12.546763</td>\n",
              "      <td>33.830935</td>\n",
              "      <td>NaN</td>\n",
              "    </tr>\n",
              "    <tr>\n",
              "      <th>std</th>\n",
              "      <td>85.149056</td>\n",
              "      <td>0.45354</td>\n",
              "      <td>0.0</td>\n",
              "      <td>219.391198</td>\n",
              "      <td>164.543399</td>\n",
              "      <td>542.548305</td>\n",
              "      <td>906.223003</td>\n",
              "      <td>158.528377</td>\n",
              "      <td>1.642218</td>\n",
              "      <td>10.090009</td>\n",
              "      <td>31.286440</td>\n",
              "      <td>NaN</td>\n",
              "    </tr>\n",
              "    <tr>\n",
              "      <th>min</th>\n",
              "      <td>680.000000</td>\n",
              "      <td>0.00000</td>\n",
              "      <td>1.0</td>\n",
              "      <td>4.000000</td>\n",
              "      <td>3.000000</td>\n",
              "      <td>0.856500</td>\n",
              "      <td>2.290000</td>\n",
              "      <td>2.120000</td>\n",
              "      <td>0.000000</td>\n",
              "      <td>1.000000</td>\n",
              "      <td>1.000000</td>\n",
              "      <td>NaN</td>\n",
              "    </tr>\n",
              "    <tr>\n",
              "      <th>25%</th>\n",
              "      <td>774.250000</td>\n",
              "      <td>0.00000</td>\n",
              "      <td>1.0</td>\n",
              "      <td>100.000000</td>\n",
              "      <td>75.000000</td>\n",
              "      <td>35.959600</td>\n",
              "      <td>63.500000</td>\n",
              "      <td>2.832500</td>\n",
              "      <td>1.000000</td>\n",
              "      <td>2.000000</td>\n",
              "      <td>10.000000</td>\n",
              "      <td>NaN</td>\n",
              "    </tr>\n",
              "    <tr>\n",
              "      <th>50%</th>\n",
              "      <td>849.500000</td>\n",
              "      <td>1.00000</td>\n",
              "      <td>1.0</td>\n",
              "      <td>100.000000</td>\n",
              "      <td>75.000000</td>\n",
              "      <td>204.625100</td>\n",
              "      <td>364.090000</td>\n",
              "      <td>15.960000</td>\n",
              "      <td>1.000000</td>\n",
              "      <td>13.000000</td>\n",
              "      <td>25.000000</td>\n",
              "      <td>NaN</td>\n",
              "    </tr>\n",
              "    <tr>\n",
              "      <th>75%</th>\n",
              "      <td>920.750000</td>\n",
              "      <td>1.00000</td>\n",
              "      <td>1.0</td>\n",
              "      <td>500.000000</td>\n",
              "      <td>375.000000</td>\n",
              "      <td>711.512600</td>\n",
              "      <td>1120.490000</td>\n",
              "      <td>25.485000</td>\n",
              "      <td>4.000000</td>\n",
              "      <td>17.000000</td>\n",
              "      <td>36.750000</td>\n",
              "      <td>NaN</td>\n",
              "    </tr>\n",
              "    <tr>\n",
              "      <th>max</th>\n",
              "      <td>999.000000</td>\n",
              "      <td>1.00000</td>\n",
              "      <td>1.0</td>\n",
              "      <td>500.000000</td>\n",
              "      <td>375.000000</td>\n",
              "      <td>2171.294200</td>\n",
              "      <td>3578.270000</td>\n",
              "      <td>1050.000000</td>\n",
              "      <td>4.000000</td>\n",
              "      <td>37.000000</td>\n",
              "      <td>126.000000</td>\n",
              "      <td>NaN</td>\n",
              "    </tr>\n",
              "  </tbody>\n",
              "</table>\n",
              "</div>"
            ],
            "text/plain": [
              "        ProductID   MakeFlag  ...  ProductModelID  DiscontinuedDate\n",
              "count  278.000000  278.00000  ...      278.000000               0.0\n",
              "mean   848.946043    0.71223  ...       33.830935               NaN\n",
              "std     85.149056    0.45354  ...       31.286440               NaN\n",
              "min    680.000000    0.00000  ...        1.000000               NaN\n",
              "25%    774.250000    0.00000  ...       10.000000               NaN\n",
              "50%    849.500000    1.00000  ...       25.000000               NaN\n",
              "75%    920.750000    1.00000  ...       36.750000               NaN\n",
              "max    999.000000    1.00000  ...      126.000000               NaN\n",
              "\n",
              "[8 rows x 12 columns]"
            ]
          },
          "metadata": {
            "tags": []
          },
          "execution_count": 69
        }
      ]
    },
    {
      "cell_type": "code",
      "metadata": {
        "id": "bcs4DJQC-jok",
        "colab_type": "code",
        "colab": {
          "base_uri": "https://localhost:8080/",
          "height": 173
        },
        "outputId": "2a2fd800-0d3f-4185-932c-9720cae6b7ae"
      },
      "source": [
        "# describe a single column\n",
        "prod['MakeFlag'].describe()"
      ],
      "execution_count": 70,
      "outputs": [
        {
          "output_type": "execute_result",
          "data": {
            "text/plain": [
              "count    278.00000\n",
              "mean       0.71223\n",
              "std        0.45354\n",
              "min        0.00000\n",
              "25%        0.00000\n",
              "50%        1.00000\n",
              "75%        1.00000\n",
              "max        1.00000\n",
              "Name: MakeFlag, dtype: float64"
            ]
          },
          "metadata": {
            "tags": []
          },
          "execution_count": 70
        }
      ]
    },
    {
      "cell_type": "code",
      "metadata": {
        "id": "0jPO0aF7-jom",
        "colab_type": "code",
        "colab": {
          "base_uri": "https://localhost:8080/",
          "height": 288
        },
        "outputId": "0d6348fd-1079-40ea-93f9-b493bf597829"
      },
      "source": [
        "# Describe a subset of columns\n",
        "prod[['MakeFlag', 'ReorderPoint', 'Weight']].describe()"
      ],
      "execution_count": 71,
      "outputs": [
        {
          "output_type": "execute_result",
          "data": {
            "text/html": [
              "<div>\n",
              "<style scoped>\n",
              "    .dataframe tbody tr th:only-of-type {\n",
              "        vertical-align: middle;\n",
              "    }\n",
              "\n",
              "    .dataframe tbody tr th {\n",
              "        vertical-align: top;\n",
              "    }\n",
              "\n",
              "    .dataframe thead th {\n",
              "        text-align: right;\n",
              "    }\n",
              "</style>\n",
              "<table border=\"1\" class=\"dataframe\">\n",
              "  <thead>\n",
              "    <tr style=\"text-align: right;\">\n",
              "      <th></th>\n",
              "      <th>MakeFlag</th>\n",
              "      <th>ReorderPoint</th>\n",
              "      <th>Weight</th>\n",
              "    </tr>\n",
              "  </thead>\n",
              "  <tbody>\n",
              "    <tr>\n",
              "      <th>count</th>\n",
              "      <td>278.00000</td>\n",
              "      <td>278.000000</td>\n",
              "      <td>188.000000</td>\n",
              "    </tr>\n",
              "    <tr>\n",
              "      <th>mean</th>\n",
              "      <td>0.71223</td>\n",
              "      <td>198.064748</td>\n",
              "      <td>47.001011</td>\n",
              "    </tr>\n",
              "    <tr>\n",
              "      <th>std</th>\n",
              "      <td>0.45354</td>\n",
              "      <td>164.543399</td>\n",
              "      <td>158.528377</td>\n",
              "    </tr>\n",
              "    <tr>\n",
              "      <th>min</th>\n",
              "      <td>0.00000</td>\n",
              "      <td>3.000000</td>\n",
              "      <td>2.120000</td>\n",
              "    </tr>\n",
              "    <tr>\n",
              "      <th>25%</th>\n",
              "      <td>0.00000</td>\n",
              "      <td>75.000000</td>\n",
              "      <td>2.832500</td>\n",
              "    </tr>\n",
              "    <tr>\n",
              "      <th>50%</th>\n",
              "      <td>1.00000</td>\n",
              "      <td>75.000000</td>\n",
              "      <td>15.960000</td>\n",
              "    </tr>\n",
              "    <tr>\n",
              "      <th>75%</th>\n",
              "      <td>1.00000</td>\n",
              "      <td>375.000000</td>\n",
              "      <td>25.485000</td>\n",
              "    </tr>\n",
              "    <tr>\n",
              "      <th>max</th>\n",
              "      <td>1.00000</td>\n",
              "      <td>375.000000</td>\n",
              "      <td>1050.000000</td>\n",
              "    </tr>\n",
              "  </tbody>\n",
              "</table>\n",
              "</div>"
            ],
            "text/plain": [
              "        MakeFlag  ReorderPoint       Weight\n",
              "count  278.00000    278.000000   188.000000\n",
              "mean     0.71223    198.064748    47.001011\n",
              "std      0.45354    164.543399   158.528377\n",
              "min      0.00000      3.000000     2.120000\n",
              "25%      0.00000     75.000000     2.832500\n",
              "50%      1.00000     75.000000    15.960000\n",
              "75%      1.00000    375.000000    25.485000\n",
              "max      1.00000    375.000000  1050.000000"
            ]
          },
          "metadata": {
            "tags": []
          },
          "execution_count": 71
        }
      ]
    },
    {
      "cell_type": "code",
      "metadata": {
        "id": "gdXqG0mH-joo",
        "colab_type": "code",
        "colab": {
          "base_uri": "https://localhost:8080/",
          "height": 86
        },
        "outputId": "1133c79c-db6f-43ad-d14f-5d045d41a98c"
      },
      "source": [
        "# Describe a subset of these 8 statistics (for the entire dataframe)\n",
        "prod[['MakeFlag', 'ReorderPoint', 'Weight']].mean()\n",
        "prod[['MakeFlag', 'ReorderPoint', 'Weight']].median()\n",
        "prod[['MakeFlag', 'ReorderPoint', 'Weight']].max()"
      ],
      "execution_count": 74,
      "outputs": [
        {
          "output_type": "execute_result",
          "data": {
            "text/plain": [
              "MakeFlag           1.0\n",
              "ReorderPoint     375.0\n",
              "Weight          1050.0\n",
              "dtype: float64"
            ]
          },
          "metadata": {
            "tags": []
          },
          "execution_count": 74
        }
      ]
    },
    {
      "cell_type": "code",
      "metadata": {
        "id": "lGx32e0D-jor",
        "colab_type": "code",
        "colab": {}
      },
      "source": [
        "# Describe a subset of these 8 statistics (for a single column)\n"
      ],
      "execution_count": null,
      "outputs": []
    },
    {
      "cell_type": "code",
      "metadata": {
        "id": "CImBOo2u-jos",
        "colab_type": "code",
        "colab": {}
      },
      "source": [
        "# Describe a subset of these 8 statistics (for a subset of columns)\n"
      ],
      "execution_count": null,
      "outputs": []
    },
    {
      "cell_type": "markdown",
      "metadata": {
        "id": "HAJ-3yLg-jow",
        "colab_type": "text"
      },
      "source": [
        "## Renaming some columns"
      ]
    },
    {
      "cell_type": "code",
      "metadata": {
        "id": "3lPbvvLh-jow",
        "colab_type": "code",
        "colab": {
          "base_uri": "https://localhost:8080/",
          "height": 138
        },
        "outputId": "3815c75a-b5b9-4f85-e0d5-8ac7b2745b60"
      },
      "source": [
        "# list columns\n",
        "prod.columns"
      ],
      "execution_count": 75,
      "outputs": [
        {
          "output_type": "execute_result",
          "data": {
            "text/plain": [
              "Index(['ProductID', 'Name', 'ProductNumber', 'MakeFlag', 'FinishedGoodsFlag',\n",
              "       'Color', 'SafetyStockLevel', 'ReorderPoint', 'StandardCost',\n",
              "       'ListPrice', 'Size', 'SizeUnitMeasureCode', 'WeightUnitMeasureCode',\n",
              "       'Weight', 'DaysToManufacture', 'ProductLine', 'Class', 'Style',\n",
              "       'ProductSubcategoryID', 'ProductModelID', 'SellStartDate',\n",
              "       'SellEndDate', 'DiscontinuedDate', 'rowguid', 'ModifiedDate'],\n",
              "      dtype='object')"
            ]
          },
          "metadata": {
            "tags": []
          },
          "execution_count": 75
        }
      ]
    },
    {
      "cell_type": "code",
      "metadata": {
        "id": "ZPDQxWUs-joy",
        "colab_type": "code",
        "colab": {
          "base_uri": "https://localhost:8080/",
          "height": 842
        },
        "outputId": "4f7640bb-423a-4593-bb32-f65b6b281d04"
      },
      "source": [
        "# rename them\n",
        "prod.rename({'SafetyStockLevel': 'SafetyLevel'})"
      ],
      "execution_count": 76,
      "outputs": [
        {
          "output_type": "execute_result",
          "data": {
            "text/html": [
              "<div>\n",
              "<style scoped>\n",
              "    .dataframe tbody tr th:only-of-type {\n",
              "        vertical-align: middle;\n",
              "    }\n",
              "\n",
              "    .dataframe tbody tr th {\n",
              "        vertical-align: top;\n",
              "    }\n",
              "\n",
              "    .dataframe thead th {\n",
              "        text-align: right;\n",
              "    }\n",
              "</style>\n",
              "<table border=\"1\" class=\"dataframe\">\n",
              "  <thead>\n",
              "    <tr style=\"text-align: right;\">\n",
              "      <th></th>\n",
              "      <th>ProductID</th>\n",
              "      <th>Name</th>\n",
              "      <th>ProductNumber</th>\n",
              "      <th>MakeFlag</th>\n",
              "      <th>FinishedGoodsFlag</th>\n",
              "      <th>Color</th>\n",
              "      <th>SafetyStockLevel</th>\n",
              "      <th>ReorderPoint</th>\n",
              "      <th>StandardCost</th>\n",
              "      <th>ListPrice</th>\n",
              "      <th>Size</th>\n",
              "      <th>SizeUnitMeasureCode</th>\n",
              "      <th>WeightUnitMeasureCode</th>\n",
              "      <th>Weight</th>\n",
              "      <th>DaysToManufacture</th>\n",
              "      <th>ProductLine</th>\n",
              "      <th>Class</th>\n",
              "      <th>Style</th>\n",
              "      <th>ProductSubcategoryID</th>\n",
              "      <th>ProductModelID</th>\n",
              "      <th>SellStartDate</th>\n",
              "      <th>SellEndDate</th>\n",
              "      <th>DiscontinuedDate</th>\n",
              "      <th>rowguid</th>\n",
              "      <th>ModifiedDate</th>\n",
              "    </tr>\n",
              "  </thead>\n",
              "  <tbody>\n",
              "    <tr>\n",
              "      <th>209</th>\n",
              "      <td>680</td>\n",
              "      <td>HL Road Frame - Black, 58</td>\n",
              "      <td>FR-R92B-58</td>\n",
              "      <td>1</td>\n",
              "      <td>1</td>\n",
              "      <td>Black</td>\n",
              "      <td>500</td>\n",
              "      <td>375</td>\n",
              "      <td>1059.3100</td>\n",
              "      <td>1431.50</td>\n",
              "      <td>58</td>\n",
              "      <td>CM</td>\n",
              "      <td>LB</td>\n",
              "      <td>2.24</td>\n",
              "      <td>1</td>\n",
              "      <td>R</td>\n",
              "      <td>H</td>\n",
              "      <td>U</td>\n",
              "      <td>14.0</td>\n",
              "      <td>6.0</td>\n",
              "      <td>2008-04-30 00:00:00</td>\n",
              "      <td>NaN</td>\n",
              "      <td>NaN</td>\n",
              "      <td>{43DD68D6-14A4-461F-9069-55309D90EA7E}</td>\n",
              "      <td>2014-02-08 10:01:36.827000000</td>\n",
              "    </tr>\n",
              "    <tr>\n",
              "      <th>210</th>\n",
              "      <td>706</td>\n",
              "      <td>HL Road Frame - Red, 58</td>\n",
              "      <td>FR-R92R-58</td>\n",
              "      <td>1</td>\n",
              "      <td>1</td>\n",
              "      <td>Red</td>\n",
              "      <td>500</td>\n",
              "      <td>375</td>\n",
              "      <td>1059.3100</td>\n",
              "      <td>1431.50</td>\n",
              "      <td>58</td>\n",
              "      <td>CM</td>\n",
              "      <td>LB</td>\n",
              "      <td>2.24</td>\n",
              "      <td>1</td>\n",
              "      <td>R</td>\n",
              "      <td>H</td>\n",
              "      <td>U</td>\n",
              "      <td>14.0</td>\n",
              "      <td>6.0</td>\n",
              "      <td>2008-04-30 00:00:00</td>\n",
              "      <td>NaN</td>\n",
              "      <td>NaN</td>\n",
              "      <td>{9540FF17-2712-4C90-A3D1-8CE5568B2462}</td>\n",
              "      <td>2014-02-08 10:01:36.827000000</td>\n",
              "    </tr>\n",
              "    <tr>\n",
              "      <th>211</th>\n",
              "      <td>707</td>\n",
              "      <td>Sport-100 Helmet, Red</td>\n",
              "      <td>HL-U509-R</td>\n",
              "      <td>0</td>\n",
              "      <td>1</td>\n",
              "      <td>Red</td>\n",
              "      <td>4</td>\n",
              "      <td>3</td>\n",
              "      <td>13.0863</td>\n",
              "      <td>34.99</td>\n",
              "      <td>NaN</td>\n",
              "      <td>NaN</td>\n",
              "      <td>NaN</td>\n",
              "      <td>NaN</td>\n",
              "      <td>0</td>\n",
              "      <td>S</td>\n",
              "      <td>NaN</td>\n",
              "      <td>NaN</td>\n",
              "      <td>31.0</td>\n",
              "      <td>33.0</td>\n",
              "      <td>2011-05-31 00:00:00</td>\n",
              "      <td>NaN</td>\n",
              "      <td>NaN</td>\n",
              "      <td>{2E1EF41A-C08A-4FF6-8ADA-BDE58B64A712}</td>\n",
              "      <td>2014-02-08 10:01:36.827000000</td>\n",
              "    </tr>\n",
              "    <tr>\n",
              "      <th>212</th>\n",
              "      <td>708</td>\n",
              "      <td>Sport-100 Helmet, Black</td>\n",
              "      <td>HL-U509</td>\n",
              "      <td>0</td>\n",
              "      <td>1</td>\n",
              "      <td>Black</td>\n",
              "      <td>4</td>\n",
              "      <td>3</td>\n",
              "      <td>13.0863</td>\n",
              "      <td>34.99</td>\n",
              "      <td>NaN</td>\n",
              "      <td>NaN</td>\n",
              "      <td>NaN</td>\n",
              "      <td>NaN</td>\n",
              "      <td>0</td>\n",
              "      <td>S</td>\n",
              "      <td>NaN</td>\n",
              "      <td>NaN</td>\n",
              "      <td>31.0</td>\n",
              "      <td>33.0</td>\n",
              "      <td>2011-05-31 00:00:00</td>\n",
              "      <td>NaN</td>\n",
              "      <td>NaN</td>\n",
              "      <td>{A25A44FB-C2DE-4268-958F-110B8D7621E2}</td>\n",
              "      <td>2014-02-08 10:01:36.827000000</td>\n",
              "    </tr>\n",
              "    <tr>\n",
              "      <th>213</th>\n",
              "      <td>709</td>\n",
              "      <td>Mountain Bike Socks, M</td>\n",
              "      <td>SO-B909-M</td>\n",
              "      <td>0</td>\n",
              "      <td>1</td>\n",
              "      <td>White</td>\n",
              "      <td>4</td>\n",
              "      <td>3</td>\n",
              "      <td>3.3963</td>\n",
              "      <td>9.50</td>\n",
              "      <td>M</td>\n",
              "      <td>NaN</td>\n",
              "      <td>NaN</td>\n",
              "      <td>NaN</td>\n",
              "      <td>0</td>\n",
              "      <td>M</td>\n",
              "      <td>NaN</td>\n",
              "      <td>U</td>\n",
              "      <td>23.0</td>\n",
              "      <td>18.0</td>\n",
              "      <td>2011-05-31 00:00:00</td>\n",
              "      <td>2012-05-29 00:00:00</td>\n",
              "      <td>NaN</td>\n",
              "      <td>{18F95F47-1540-4E02-8F1F-CC1BCB6828D0}</td>\n",
              "      <td>2014-02-08 10:01:36.827000000</td>\n",
              "    </tr>\n",
              "    <tr>\n",
              "      <th>...</th>\n",
              "      <td>...</td>\n",
              "      <td>...</td>\n",
              "      <td>...</td>\n",
              "      <td>...</td>\n",
              "      <td>...</td>\n",
              "      <td>...</td>\n",
              "      <td>...</td>\n",
              "      <td>...</td>\n",
              "      <td>...</td>\n",
              "      <td>...</td>\n",
              "      <td>...</td>\n",
              "      <td>...</td>\n",
              "      <td>...</td>\n",
              "      <td>...</td>\n",
              "      <td>...</td>\n",
              "      <td>...</td>\n",
              "      <td>...</td>\n",
              "      <td>...</td>\n",
              "      <td>...</td>\n",
              "      <td>...</td>\n",
              "      <td>...</td>\n",
              "      <td>...</td>\n",
              "      <td>...</td>\n",
              "      <td>...</td>\n",
              "      <td>...</td>\n",
              "    </tr>\n",
              "    <tr>\n",
              "      <th>496</th>\n",
              "      <td>992</td>\n",
              "      <td>Mountain-500 Black, 48</td>\n",
              "      <td>BK-M18B-48</td>\n",
              "      <td>1</td>\n",
              "      <td>1</td>\n",
              "      <td>Black</td>\n",
              "      <td>100</td>\n",
              "      <td>75</td>\n",
              "      <td>294.5797</td>\n",
              "      <td>539.99</td>\n",
              "      <td>48</td>\n",
              "      <td>CM</td>\n",
              "      <td>LB</td>\n",
              "      <td>28.42</td>\n",
              "      <td>4</td>\n",
              "      <td>M</td>\n",
              "      <td>L</td>\n",
              "      <td>U</td>\n",
              "      <td>1.0</td>\n",
              "      <td>23.0</td>\n",
              "      <td>2013-05-30 00:00:00</td>\n",
              "      <td>NaN</td>\n",
              "      <td>NaN</td>\n",
              "      <td>{75752E26-A3B6-4264-9B06-F23A4FBDC5A7}</td>\n",
              "      <td>2014-02-08 10:01:36.827000000</td>\n",
              "    </tr>\n",
              "    <tr>\n",
              "      <th>497</th>\n",
              "      <td>993</td>\n",
              "      <td>Mountain-500 Black, 52</td>\n",
              "      <td>BK-M18B-52</td>\n",
              "      <td>1</td>\n",
              "      <td>1</td>\n",
              "      <td>Black</td>\n",
              "      <td>100</td>\n",
              "      <td>75</td>\n",
              "      <td>294.5797</td>\n",
              "      <td>539.99</td>\n",
              "      <td>52</td>\n",
              "      <td>CM</td>\n",
              "      <td>LB</td>\n",
              "      <td>28.68</td>\n",
              "      <td>4</td>\n",
              "      <td>M</td>\n",
              "      <td>L</td>\n",
              "      <td>U</td>\n",
              "      <td>1.0</td>\n",
              "      <td>23.0</td>\n",
              "      <td>2013-05-30 00:00:00</td>\n",
              "      <td>NaN</td>\n",
              "      <td>NaN</td>\n",
              "      <td>{69EE3B55-E142-4E4F-AED8-AF02978FBE87}</td>\n",
              "      <td>2014-02-08 10:01:36.827000000</td>\n",
              "    </tr>\n",
              "    <tr>\n",
              "      <th>501</th>\n",
              "      <td>997</td>\n",
              "      <td>Road-750 Black, 44</td>\n",
              "      <td>BK-R19B-44</td>\n",
              "      <td>1</td>\n",
              "      <td>1</td>\n",
              "      <td>Black</td>\n",
              "      <td>100</td>\n",
              "      <td>75</td>\n",
              "      <td>343.6496</td>\n",
              "      <td>539.99</td>\n",
              "      <td>44</td>\n",
              "      <td>CM</td>\n",
              "      <td>LB</td>\n",
              "      <td>19.77</td>\n",
              "      <td>4</td>\n",
              "      <td>R</td>\n",
              "      <td>L</td>\n",
              "      <td>U</td>\n",
              "      <td>2.0</td>\n",
              "      <td>31.0</td>\n",
              "      <td>2013-05-30 00:00:00</td>\n",
              "      <td>NaN</td>\n",
              "      <td>NaN</td>\n",
              "      <td>{44CE4802-409F-43AB-9B27-CA53421805BE}</td>\n",
              "      <td>2014-02-08 10:01:36.827000000</td>\n",
              "    </tr>\n",
              "    <tr>\n",
              "      <th>502</th>\n",
              "      <td>998</td>\n",
              "      <td>Road-750 Black, 48</td>\n",
              "      <td>BK-R19B-48</td>\n",
              "      <td>1</td>\n",
              "      <td>1</td>\n",
              "      <td>Black</td>\n",
              "      <td>100</td>\n",
              "      <td>75</td>\n",
              "      <td>343.6496</td>\n",
              "      <td>539.99</td>\n",
              "      <td>48</td>\n",
              "      <td>CM</td>\n",
              "      <td>LB</td>\n",
              "      <td>20.13</td>\n",
              "      <td>4</td>\n",
              "      <td>R</td>\n",
              "      <td>L</td>\n",
              "      <td>U</td>\n",
              "      <td>2.0</td>\n",
              "      <td>31.0</td>\n",
              "      <td>2013-05-30 00:00:00</td>\n",
              "      <td>NaN</td>\n",
              "      <td>NaN</td>\n",
              "      <td>{3DE9A212-1D49-40B6-B10A-F564D981DBDE}</td>\n",
              "      <td>2014-02-08 10:01:36.827000000</td>\n",
              "    </tr>\n",
              "    <tr>\n",
              "      <th>503</th>\n",
              "      <td>999</td>\n",
              "      <td>Road-750 Black, 52</td>\n",
              "      <td>BK-R19B-52</td>\n",
              "      <td>1</td>\n",
              "      <td>1</td>\n",
              "      <td>Black</td>\n",
              "      <td>100</td>\n",
              "      <td>75</td>\n",
              "      <td>343.6496</td>\n",
              "      <td>539.99</td>\n",
              "      <td>52</td>\n",
              "      <td>CM</td>\n",
              "      <td>LB</td>\n",
              "      <td>20.42</td>\n",
              "      <td>4</td>\n",
              "      <td>R</td>\n",
              "      <td>L</td>\n",
              "      <td>U</td>\n",
              "      <td>2.0</td>\n",
              "      <td>31.0</td>\n",
              "      <td>2013-05-30 00:00:00</td>\n",
              "      <td>NaN</td>\n",
              "      <td>NaN</td>\n",
              "      <td>{AE638923-2B67-4679-B90E-ABBAB17DCA31}</td>\n",
              "      <td>2014-02-08 10:01:36.827000000</td>\n",
              "    </tr>\n",
              "  </tbody>\n",
              "</table>\n",
              "<p>278 rows × 25 columns</p>\n",
              "</div>"
            ],
            "text/plain": [
              "     ProductID  ...                   ModifiedDate\n",
              "209        680  ...  2014-02-08 10:01:36.827000000\n",
              "210        706  ...  2014-02-08 10:01:36.827000000\n",
              "211        707  ...  2014-02-08 10:01:36.827000000\n",
              "212        708  ...  2014-02-08 10:01:36.827000000\n",
              "213        709  ...  2014-02-08 10:01:36.827000000\n",
              "..         ...  ...                            ...\n",
              "496        992  ...  2014-02-08 10:01:36.827000000\n",
              "497        993  ...  2014-02-08 10:01:36.827000000\n",
              "501        997  ...  2014-02-08 10:01:36.827000000\n",
              "502        998  ...  2014-02-08 10:01:36.827000000\n",
              "503        999  ...  2014-02-08 10:01:36.827000000\n",
              "\n",
              "[278 rows x 25 columns]"
            ]
          },
          "metadata": {
            "tags": []
          },
          "execution_count": 76
        }
      ]
    },
    {
      "cell_type": "code",
      "metadata": {
        "id": "msLGy13q-jo0",
        "colab_type": "code",
        "colab": {}
      },
      "source": [
        "# overwrite file\n",
        "prod.rename(columns = {'SafetyStockLevel': 'SafetyLevel'}, inplace=True)"
      ],
      "execution_count": 82,
      "outputs": []
    },
    {
      "cell_type": "code",
      "metadata": {
        "id": "p3CICGMJ-jo2",
        "colab_type": "code",
        "colab": {
          "base_uri": "https://localhost:8080/",
          "height": 425
        },
        "outputId": "435b59bd-f88c-4a59-84f5-06d395963f5b"
      },
      "source": [
        "# do this with multiple columns\n",
        "prod.rename(columns = {'ProductNumber': 'PN', 'ReorderPoint': 'RP', 'ListPrice': 'LP'}, inplace=True)\n",
        "prod.head()"
      ],
      "execution_count": 84,
      "outputs": [
        {
          "output_type": "execute_result",
          "data": {
            "text/html": [
              "<div>\n",
              "<style scoped>\n",
              "    .dataframe tbody tr th:only-of-type {\n",
              "        vertical-align: middle;\n",
              "    }\n",
              "\n",
              "    .dataframe tbody tr th {\n",
              "        vertical-align: top;\n",
              "    }\n",
              "\n",
              "    .dataframe thead th {\n",
              "        text-align: right;\n",
              "    }\n",
              "</style>\n",
              "<table border=\"1\" class=\"dataframe\">\n",
              "  <thead>\n",
              "    <tr style=\"text-align: right;\">\n",
              "      <th></th>\n",
              "      <th>ProductID</th>\n",
              "      <th>Name</th>\n",
              "      <th>PN</th>\n",
              "      <th>MakeFlag</th>\n",
              "      <th>FinishedGoodsFlag</th>\n",
              "      <th>Color</th>\n",
              "      <th>SafetyLevel</th>\n",
              "      <th>RP</th>\n",
              "      <th>StandardCost</th>\n",
              "      <th>LP</th>\n",
              "      <th>Size</th>\n",
              "      <th>SizeUnitMeasureCode</th>\n",
              "      <th>WeightUnitMeasureCode</th>\n",
              "      <th>Weight</th>\n",
              "      <th>DaysToManufacture</th>\n",
              "      <th>ProductLine</th>\n",
              "      <th>Class</th>\n",
              "      <th>Style</th>\n",
              "      <th>ProductSubcategoryID</th>\n",
              "      <th>ProductModelID</th>\n",
              "      <th>SellStartDate</th>\n",
              "      <th>SellEndDate</th>\n",
              "      <th>DiscontinuedDate</th>\n",
              "      <th>rowguid</th>\n",
              "      <th>ModifiedDate</th>\n",
              "    </tr>\n",
              "  </thead>\n",
              "  <tbody>\n",
              "    <tr>\n",
              "      <th>209</th>\n",
              "      <td>680</td>\n",
              "      <td>HL Road Frame - Black, 58</td>\n",
              "      <td>FR-R92B-58</td>\n",
              "      <td>1</td>\n",
              "      <td>1</td>\n",
              "      <td>Black</td>\n",
              "      <td>500</td>\n",
              "      <td>375</td>\n",
              "      <td>1059.3100</td>\n",
              "      <td>1431.50</td>\n",
              "      <td>58</td>\n",
              "      <td>CM</td>\n",
              "      <td>LB</td>\n",
              "      <td>2.24</td>\n",
              "      <td>1</td>\n",
              "      <td>R</td>\n",
              "      <td>H</td>\n",
              "      <td>U</td>\n",
              "      <td>14.0</td>\n",
              "      <td>6.0</td>\n",
              "      <td>2008-04-30 00:00:00</td>\n",
              "      <td>NaN</td>\n",
              "      <td>NaN</td>\n",
              "      <td>{43DD68D6-14A4-461F-9069-55309D90EA7E}</td>\n",
              "      <td>2014-02-08 10:01:36.827000000</td>\n",
              "    </tr>\n",
              "    <tr>\n",
              "      <th>210</th>\n",
              "      <td>706</td>\n",
              "      <td>HL Road Frame - Red, 58</td>\n",
              "      <td>FR-R92R-58</td>\n",
              "      <td>1</td>\n",
              "      <td>1</td>\n",
              "      <td>Red</td>\n",
              "      <td>500</td>\n",
              "      <td>375</td>\n",
              "      <td>1059.3100</td>\n",
              "      <td>1431.50</td>\n",
              "      <td>58</td>\n",
              "      <td>CM</td>\n",
              "      <td>LB</td>\n",
              "      <td>2.24</td>\n",
              "      <td>1</td>\n",
              "      <td>R</td>\n",
              "      <td>H</td>\n",
              "      <td>U</td>\n",
              "      <td>14.0</td>\n",
              "      <td>6.0</td>\n",
              "      <td>2008-04-30 00:00:00</td>\n",
              "      <td>NaN</td>\n",
              "      <td>NaN</td>\n",
              "      <td>{9540FF17-2712-4C90-A3D1-8CE5568B2462}</td>\n",
              "      <td>2014-02-08 10:01:36.827000000</td>\n",
              "    </tr>\n",
              "    <tr>\n",
              "      <th>211</th>\n",
              "      <td>707</td>\n",
              "      <td>Sport-100 Helmet, Red</td>\n",
              "      <td>HL-U509-R</td>\n",
              "      <td>0</td>\n",
              "      <td>1</td>\n",
              "      <td>Red</td>\n",
              "      <td>4</td>\n",
              "      <td>3</td>\n",
              "      <td>13.0863</td>\n",
              "      <td>34.99</td>\n",
              "      <td>NaN</td>\n",
              "      <td>NaN</td>\n",
              "      <td>NaN</td>\n",
              "      <td>NaN</td>\n",
              "      <td>0</td>\n",
              "      <td>S</td>\n",
              "      <td>NaN</td>\n",
              "      <td>NaN</td>\n",
              "      <td>31.0</td>\n",
              "      <td>33.0</td>\n",
              "      <td>2011-05-31 00:00:00</td>\n",
              "      <td>NaN</td>\n",
              "      <td>NaN</td>\n",
              "      <td>{2E1EF41A-C08A-4FF6-8ADA-BDE58B64A712}</td>\n",
              "      <td>2014-02-08 10:01:36.827000000</td>\n",
              "    </tr>\n",
              "    <tr>\n",
              "      <th>212</th>\n",
              "      <td>708</td>\n",
              "      <td>Sport-100 Helmet, Black</td>\n",
              "      <td>HL-U509</td>\n",
              "      <td>0</td>\n",
              "      <td>1</td>\n",
              "      <td>Black</td>\n",
              "      <td>4</td>\n",
              "      <td>3</td>\n",
              "      <td>13.0863</td>\n",
              "      <td>34.99</td>\n",
              "      <td>NaN</td>\n",
              "      <td>NaN</td>\n",
              "      <td>NaN</td>\n",
              "      <td>NaN</td>\n",
              "      <td>0</td>\n",
              "      <td>S</td>\n",
              "      <td>NaN</td>\n",
              "      <td>NaN</td>\n",
              "      <td>31.0</td>\n",
              "      <td>33.0</td>\n",
              "      <td>2011-05-31 00:00:00</td>\n",
              "      <td>NaN</td>\n",
              "      <td>NaN</td>\n",
              "      <td>{A25A44FB-C2DE-4268-958F-110B8D7621E2}</td>\n",
              "      <td>2014-02-08 10:01:36.827000000</td>\n",
              "    </tr>\n",
              "    <tr>\n",
              "      <th>213</th>\n",
              "      <td>709</td>\n",
              "      <td>Mountain Bike Socks, M</td>\n",
              "      <td>SO-B909-M</td>\n",
              "      <td>0</td>\n",
              "      <td>1</td>\n",
              "      <td>White</td>\n",
              "      <td>4</td>\n",
              "      <td>3</td>\n",
              "      <td>3.3963</td>\n",
              "      <td>9.50</td>\n",
              "      <td>M</td>\n",
              "      <td>NaN</td>\n",
              "      <td>NaN</td>\n",
              "      <td>NaN</td>\n",
              "      <td>0</td>\n",
              "      <td>M</td>\n",
              "      <td>NaN</td>\n",
              "      <td>U</td>\n",
              "      <td>23.0</td>\n",
              "      <td>18.0</td>\n",
              "      <td>2011-05-31 00:00:00</td>\n",
              "      <td>2012-05-29 00:00:00</td>\n",
              "      <td>NaN</td>\n",
              "      <td>{18F95F47-1540-4E02-8F1F-CC1BCB6828D0}</td>\n",
              "      <td>2014-02-08 10:01:36.827000000</td>\n",
              "    </tr>\n",
              "  </tbody>\n",
              "</table>\n",
              "</div>"
            ],
            "text/plain": [
              "     ProductID  ...                   ModifiedDate\n",
              "209        680  ...  2014-02-08 10:01:36.827000000\n",
              "210        706  ...  2014-02-08 10:01:36.827000000\n",
              "211        707  ...  2014-02-08 10:01:36.827000000\n",
              "212        708  ...  2014-02-08 10:01:36.827000000\n",
              "213        709  ...  2014-02-08 10:01:36.827000000\n",
              "\n",
              "[5 rows x 25 columns]"
            ]
          },
          "metadata": {
            "tags": []
          },
          "execution_count": 84
        }
      ]
    },
    {
      "cell_type": "markdown",
      "metadata": {
        "id": "FQpKPNlc-jo4",
        "colab_type": "text"
      },
      "source": [
        "## A few common operations with Pandas"
      ]
    },
    {
      "cell_type": "code",
      "metadata": {
        "id": "0cRVC2AlKjkc",
        "colab_type": "code",
        "colab": {
          "base_uri": "https://localhost:8080/",
          "height": 121
        },
        "outputId": "e91bc4d4-e033-4a05-8a17-c72b289509a8"
      },
      "source": [
        "# Show all values of a categorical variable\n",
        "prod['Color'].value_counts().sort_index().head()"
      ],
      "execution_count": 87,
      "outputs": [
        {
          "output_type": "execute_result",
          "data": {
            "text/plain": [
              "Black       86\n",
              "Blue        26\n",
              "Grey         1\n",
              "Hot Pink    41\n",
              "Multi        8\n",
              "Name: Color, dtype: int64"
            ]
          },
          "metadata": {
            "tags": []
          },
          "execution_count": 87
        }
      ]
    },
    {
      "cell_type": "code",
      "metadata": {
        "id": "bhAsXJsR-jo4",
        "colab_type": "code",
        "colab": {
          "base_uri": "https://localhost:8080/",
          "height": 121
        },
        "outputId": "eadbc7a6-0827-41fc-d607-5686302eb3c4"
      },
      "source": [
        "# don't display null\n",
        "prod['Color'].value_counts(dropna=True).sort_index().head()\n",
        " # do display nulls\n",
        "prod['Color'].value_counts(dropna=False).sort_index().head()"
      ],
      "execution_count": 89,
      "outputs": [
        {
          "output_type": "execute_result",
          "data": {
            "text/plain": [
              "Black       86\n",
              "Blue        26\n",
              "Grey         1\n",
              "Hot Pink    41\n",
              "Multi        8\n",
              "Name: Color, dtype: int64"
            ]
          },
          "metadata": {
            "tags": []
          },
          "execution_count": 89
        }
      ]
    },
    {
      "cell_type": "code",
      "metadata": {
        "id": "6M-49p-O-jo7",
        "colab_type": "code",
        "colab": {}
      },
      "source": [
        "# display frequencies sorted by the index\n",
        "# .sort_index()"
      ],
      "execution_count": null,
      "outputs": []
    },
    {
      "cell_type": "code",
      "metadata": {
        "id": "BPwIgHRY-jo-",
        "colab_type": "code",
        "colab": {
          "base_uri": "https://localhost:8080/",
          "height": 190
        },
        "outputId": "0de0828c-a84e-4d0a-f178-b3d073614a60"
      },
      "source": [
        "# What if I just want a list of the colors?\n",
        "prod['Color'].value_counts().sort_index().index.to_list()"
      ],
      "execution_count": 94,
      "outputs": [
        {
          "output_type": "execute_result",
          "data": {
            "text/plain": [
              "['Black',\n",
              " 'Blue',\n",
              " 'Grey',\n",
              " 'Hot Pink',\n",
              " 'Multi',\n",
              " 'Red',\n",
              " 'Silver',\n",
              " 'Silver/Black',\n",
              " 'White',\n",
              " 'Yellow']"
            ]
          },
          "metadata": {
            "tags": []
          },
          "execution_count": 94
        }
      ]
    },
    {
      "cell_type": "code",
      "metadata": {
        "id": "XrzMidYg-jpA",
        "colab_type": "code",
        "colab": {
          "base_uri": "https://localhost:8080/",
          "height": 35
        },
        "outputId": "ca553586-b4b2-4660-f713-35ded2d3906c"
      },
      "source": [
        "# What if I just want the freqs?\n",
        "list(prod['Color'].value_counts().sort_index().values)"
      ],
      "execution_count": 98,
      "outputs": [
        {
          "output_type": "execute_result",
          "data": {
            "text/plain": [
              "[86, 26, 1, 41, 8, 38, 31, 7, 4, 36]"
            ]
          },
          "metadata": {
            "tags": []
          },
          "execution_count": 98
        }
      ]
    },
    {
      "cell_type": "code",
      "metadata": {
        "id": "onO4khcC-jpC",
        "colab_type": "code",
        "colab": {
          "base_uri": "https://localhost:8080/",
          "height": 35
        },
        "outputId": "707083f0-49bd-4c69-ebbc-416ba35d0f0e"
      },
      "source": [
        "# How many UNIQUE colors are there?\n",
        "\n",
        "prod['Color'].nunique()"
      ],
      "execution_count": 100,
      "outputs": [
        {
          "output_type": "execute_result",
          "data": {
            "text/plain": [
              "10"
            ]
          },
          "metadata": {
            "tags": []
          },
          "execution_count": 100
        }
      ]
    },
    {
      "cell_type": "code",
      "metadata": {
        "id": "XkwRfm-S-jpE",
        "colab_type": "code",
        "colab": {
          "base_uri": "https://localhost:8080/",
          "height": 190
        },
        "outputId": "cecdc1b6-ecbb-4033-8492-a7e80a753224"
      },
      "source": [
        "# List the unique colors\n",
        "list(prod['Color'].unique())"
      ],
      "execution_count": 101,
      "outputs": [
        {
          "output_type": "execute_result",
          "data": {
            "text/plain": [
              "['Black',\n",
              " 'Red',\n",
              " 'White',\n",
              " 'Blue',\n",
              " 'Multi',\n",
              " 'Silver',\n",
              " 'Yellow',\n",
              " 'Hot Pink',\n",
              " 'Grey',\n",
              " 'Silver/Black']"
            ]
          },
          "metadata": {
            "tags": []
          },
          "execution_count": 101
        }
      ]
    },
    {
      "cell_type": "code",
      "metadata": {
        "id": "Rb3TLAbT-jpH",
        "colab_type": "code",
        "colab": {}
      },
      "source": [
        ""
      ],
      "execution_count": null,
      "outputs": []
    }
  ]
}