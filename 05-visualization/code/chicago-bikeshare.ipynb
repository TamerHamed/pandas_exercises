{
 "cells": [
  {
   "cell_type": "markdown",
   "metadata": {},
   "source": [
    "## Chicago Bikeshare data from 2015"
   ]
  },
  {
   "cell_type": "markdown",
   "metadata": {},
   "source": [
    "#### Objectives:\n",
    "join and merge in pandas  \n",
    "simple visualization"
   ]
  },
  {
   "cell_type": "code",
   "execution_count": 1,
   "metadata": {},
   "outputs": [],
   "source": [
    "import pandas as pd\n",
    "from pathlib import Path\n",
    "import os"
   ]
  },
  {
   "cell_type": "code",
   "execution_count": 2,
   "metadata": {},
   "outputs": [
    {
     "data": {
      "text/plain": [
       "['u.item',\n",
       " 'drinks.csv',\n",
       " 'superstore.csv',\n",
       " 'Divvy_Trips_2015_07.csv',\n",
       " 'imdb_1000.csv',\n",
       " 'u.data',\n",
       " 'ufo.csv',\n",
       " 'sales_info.csv',\n",
       " 'titanic.csv',\n",
       " 'Divvy_Stations.csv',\n",
       " 'boston_housing_data.csv',\n",
       " 'Divvy_Trips_2015_Q4.csv',\n",
       " 'bikeshare.csv']"
      ]
     },
     "execution_count": 2,
     "metadata": {},
     "output_type": "execute_result"
    }
   ],
   "source": [
    "os.listdir(Path.joinpath(Path.cwd().parent, 'data'))"
   ]
  },
  {
   "cell_type": "code",
   "execution_count": 3,
   "metadata": {},
   "outputs": [
    {
     "data": {
      "text/html": [
       "<div>\n",
       "<style scoped>\n",
       "    .dataframe tbody tr th:only-of-type {\n",
       "        vertical-align: middle;\n",
       "    }\n",
       "\n",
       "    .dataframe tbody tr th {\n",
       "        vertical-align: top;\n",
       "    }\n",
       "\n",
       "    .dataframe thead th {\n",
       "        text-align: right;\n",
       "    }\n",
       "</style>\n",
       "<table border=\"1\" class=\"dataframe\">\n",
       "  <thead>\n",
       "    <tr style=\"text-align: right;\">\n",
       "      <th></th>\n",
       "      <th>trip_id</th>\n",
       "      <th>starttime</th>\n",
       "      <th>stoptime</th>\n",
       "      <th>bikeid</th>\n",
       "      <th>tripduration</th>\n",
       "      <th>from_station_id</th>\n",
       "      <th>from_station_name</th>\n",
       "      <th>to_station_id</th>\n",
       "      <th>to_station_name</th>\n",
       "      <th>usertype</th>\n",
       "      <th>gender</th>\n",
       "      <th>birthyear</th>\n",
       "    </tr>\n",
       "  </thead>\n",
       "  <tbody>\n",
       "    <tr>\n",
       "      <th>0</th>\n",
       "      <td>8547210</td>\n",
       "      <td>12/31/2015 23:48</td>\n",
       "      <td>12/31/2015 23:51</td>\n",
       "      <td>811</td>\n",
       "      <td>166</td>\n",
       "      <td>348</td>\n",
       "      <td>California Ave &amp; 21st St</td>\n",
       "      <td>442</td>\n",
       "      <td>California Ave &amp; 23rd Pl</td>\n",
       "      <td>Subscriber</td>\n",
       "      <td>Male</td>\n",
       "      <td>1978.0</td>\n",
       "    </tr>\n",
       "    <tr>\n",
       "      <th>1</th>\n",
       "      <td>8547209</td>\n",
       "      <td>12/31/2015 23:47</td>\n",
       "      <td>12/31/2015 23:53</td>\n",
       "      <td>3866</td>\n",
       "      <td>334</td>\n",
       "      <td>299</td>\n",
       "      <td>Halsted St &amp; Roscoe St</td>\n",
       "      <td>117</td>\n",
       "      <td>Wilton Ave &amp; Belmont Ave</td>\n",
       "      <td>Subscriber</td>\n",
       "      <td>Female</td>\n",
       "      <td>1991.0</td>\n",
       "    </tr>\n",
       "    <tr>\n",
       "      <th>2</th>\n",
       "      <td>8547206</td>\n",
       "      <td>12/31/2015 23:37</td>\n",
       "      <td>12/31/2015 23:43</td>\n",
       "      <td>4325</td>\n",
       "      <td>365</td>\n",
       "      <td>77</td>\n",
       "      <td>Clinton St &amp; Madison St</td>\n",
       "      <td>38</td>\n",
       "      <td>Clark St &amp; Lake St</td>\n",
       "      <td>Subscriber</td>\n",
       "      <td>Male</td>\n",
       "      <td>1992.0</td>\n",
       "    </tr>\n",
       "    <tr>\n",
       "      <th>3</th>\n",
       "      <td>8547205</td>\n",
       "      <td>12/31/2015 23:37</td>\n",
       "      <td>1/1/2016 0:02</td>\n",
       "      <td>707</td>\n",
       "      <td>1513</td>\n",
       "      <td>454</td>\n",
       "      <td>Broadway &amp; Granville Ave</td>\n",
       "      <td>303</td>\n",
       "      <td>Broadway &amp; Cornelia Ave</td>\n",
       "      <td>Subscriber</td>\n",
       "      <td>Female</td>\n",
       "      <td>1967.0</td>\n",
       "    </tr>\n",
       "    <tr>\n",
       "      <th>4</th>\n",
       "      <td>8547204</td>\n",
       "      <td>12/31/2015 23:36</td>\n",
       "      <td>12/31/2015 23:40</td>\n",
       "      <td>1928</td>\n",
       "      <td>209</td>\n",
       "      <td>141</td>\n",
       "      <td>Clark St &amp; Lincoln Ave</td>\n",
       "      <td>301</td>\n",
       "      <td>Clark St &amp; Schiller St</td>\n",
       "      <td>Subscriber</td>\n",
       "      <td>Male</td>\n",
       "      <td>1995.0</td>\n",
       "    </tr>\n",
       "  </tbody>\n",
       "</table>\n",
       "</div>"
      ],
      "text/plain": [
       "   trip_id         starttime          stoptime  bikeid  tripduration  \\\n",
       "0  8547210  12/31/2015 23:48  12/31/2015 23:51     811           166   \n",
       "1  8547209  12/31/2015 23:47  12/31/2015 23:53    3866           334   \n",
       "2  8547206  12/31/2015 23:37  12/31/2015 23:43    4325           365   \n",
       "3  8547205  12/31/2015 23:37     1/1/2016 0:02     707          1513   \n",
       "4  8547204  12/31/2015 23:36  12/31/2015 23:40    1928           209   \n",
       "\n",
       "   from_station_id         from_station_name  to_station_id  \\\n",
       "0              348  California Ave & 21st St            442   \n",
       "1              299    Halsted St & Roscoe St            117   \n",
       "2               77   Clinton St & Madison St             38   \n",
       "3              454  Broadway & Granville Ave            303   \n",
       "4              141    Clark St & Lincoln Ave            301   \n",
       "\n",
       "            to_station_name    usertype  gender  birthyear  \n",
       "0  California Ave & 23rd Pl  Subscriber    Male     1978.0  \n",
       "1  Wilton Ave & Belmont Ave  Subscriber  Female     1991.0  \n",
       "2        Clark St & Lake St  Subscriber    Male     1992.0  \n",
       "3   Broadway & Cornelia Ave  Subscriber  Female     1967.0  \n",
       "4    Clark St & Schiller St  Subscriber    Male     1995.0  "
      ]
     },
     "execution_count": 3,
     "metadata": {},
     "output_type": "execute_result"
    }
   ],
   "source": [
    "df = pd.read_csv('../data/Divvy_Trips_2015_Q4.csv')\n",
    "df.head()"
   ]
  },
  {
   "cell_type": "code",
   "execution_count": 4,
   "metadata": {},
   "outputs": [
    {
     "data": {
      "text/plain": [
       "Index(['trip_id', 'starttime', 'stoptime', 'bikeid', 'tripduration',\n",
       "       'from_station_id', 'from_station_name', 'to_station_id',\n",
       "       'to_station_name', 'usertype', 'gender', 'birthyear'],\n",
       "      dtype='object')"
      ]
     },
     "execution_count": 4,
     "metadata": {},
     "output_type": "execute_result"
    }
   ],
   "source": [
    "df.columns"
   ]
  },
  {
   "cell_type": "code",
   "execution_count": 5,
   "metadata": {},
   "outputs": [
    {
     "data": {
      "text/plain": [
       "Male      413607\n",
       "Female    125349\n",
       "NaN        92409\n",
       "Name: gender, dtype: int64"
      ]
     },
     "execution_count": 5,
     "metadata": {},
     "output_type": "execute_result"
    }
   ],
   "source": [
    "# Number of rides by gender\n",
    "df['gender'].value_counts(dropna=False)"
   ]
  },
  {
   "cell_type": "code",
   "execution_count": 10,
   "metadata": {},
   "outputs": [
    {
     "data": {
      "text/html": [
       "<div>\n",
       "<style scoped>\n",
       "    .dataframe tbody tr th:only-of-type {\n",
       "        vertical-align: middle;\n",
       "    }\n",
       "\n",
       "    .dataframe tbody tr th {\n",
       "        vertical-align: top;\n",
       "    }\n",
       "\n",
       "    .dataframe thead th {\n",
       "        text-align: right;\n",
       "    }\n",
       "</style>\n",
       "<table border=\"1\" class=\"dataframe\">\n",
       "  <thead>\n",
       "    <tr style=\"text-align: right;\">\n",
       "      <th></th>\n",
       "      <th>trip_id</th>\n",
       "      <th>starttime</th>\n",
       "      <th>stoptime</th>\n",
       "      <th>bikeid</th>\n",
       "      <th>tripduration</th>\n",
       "      <th>from_station_id</th>\n",
       "      <th>from_station_name</th>\n",
       "      <th>to_station_id</th>\n",
       "      <th>to_station_name</th>\n",
       "      <th>usertype</th>\n",
       "      <th>gender</th>\n",
       "      <th>birthyear</th>\n",
       "      <th>age</th>\n",
       "      <th>date</th>\n",
       "    </tr>\n",
       "  </thead>\n",
       "  <tbody>\n",
       "    <tr>\n",
       "      <th>0</th>\n",
       "      <td>8547210</td>\n",
       "      <td>12/31/2015 23:48</td>\n",
       "      <td>12/31/2015 23:51</td>\n",
       "      <td>811</td>\n",
       "      <td>166</td>\n",
       "      <td>348</td>\n",
       "      <td>California Ave &amp; 21st St</td>\n",
       "      <td>442</td>\n",
       "      <td>California Ave &amp; 23rd Pl</td>\n",
       "      <td>Subscriber</td>\n",
       "      <td>Male</td>\n",
       "      <td>1978.0</td>\n",
       "      <td>Under 21</td>\n",
       "      <td>2015-12-31 23:48:00</td>\n",
       "    </tr>\n",
       "    <tr>\n",
       "      <th>1</th>\n",
       "      <td>8547209</td>\n",
       "      <td>12/31/2015 23:47</td>\n",
       "      <td>12/31/2015 23:53</td>\n",
       "      <td>3866</td>\n",
       "      <td>334</td>\n",
       "      <td>299</td>\n",
       "      <td>Halsted St &amp; Roscoe St</td>\n",
       "      <td>117</td>\n",
       "      <td>Wilton Ave &amp; Belmont Ave</td>\n",
       "      <td>Subscriber</td>\n",
       "      <td>Female</td>\n",
       "      <td>1991.0</td>\n",
       "      <td>Under 21</td>\n",
       "      <td>2015-12-31 23:47:00</td>\n",
       "    </tr>\n",
       "    <tr>\n",
       "      <th>2</th>\n",
       "      <td>8547206</td>\n",
       "      <td>12/31/2015 23:37</td>\n",
       "      <td>12/31/2015 23:43</td>\n",
       "      <td>4325</td>\n",
       "      <td>365</td>\n",
       "      <td>77</td>\n",
       "      <td>Clinton St &amp; Madison St</td>\n",
       "      <td>38</td>\n",
       "      <td>Clark St &amp; Lake St</td>\n",
       "      <td>Subscriber</td>\n",
       "      <td>Male</td>\n",
       "      <td>1992.0</td>\n",
       "      <td>Under 21</td>\n",
       "      <td>2015-12-31 23:37:00</td>\n",
       "    </tr>\n",
       "    <tr>\n",
       "      <th>3</th>\n",
       "      <td>8547205</td>\n",
       "      <td>12/31/2015 23:37</td>\n",
       "      <td>1/1/2016 0:02</td>\n",
       "      <td>707</td>\n",
       "      <td>1513</td>\n",
       "      <td>454</td>\n",
       "      <td>Broadway &amp; Granville Ave</td>\n",
       "      <td>303</td>\n",
       "      <td>Broadway &amp; Cornelia Ave</td>\n",
       "      <td>Subscriber</td>\n",
       "      <td>Female</td>\n",
       "      <td>1967.0</td>\n",
       "      <td>Under 21</td>\n",
       "      <td>2015-12-31 23:37:00</td>\n",
       "    </tr>\n",
       "    <tr>\n",
       "      <th>4</th>\n",
       "      <td>8547204</td>\n",
       "      <td>12/31/2015 23:36</td>\n",
       "      <td>12/31/2015 23:40</td>\n",
       "      <td>1928</td>\n",
       "      <td>209</td>\n",
       "      <td>141</td>\n",
       "      <td>Clark St &amp; Lincoln Ave</td>\n",
       "      <td>301</td>\n",
       "      <td>Clark St &amp; Schiller St</td>\n",
       "      <td>Subscriber</td>\n",
       "      <td>Male</td>\n",
       "      <td>1995.0</td>\n",
       "      <td>Under 21</td>\n",
       "      <td>2015-12-31 23:36:00</td>\n",
       "    </tr>\n",
       "  </tbody>\n",
       "</table>\n",
       "</div>"
      ],
      "text/plain": [
       "   trip_id         starttime          stoptime  bikeid  tripduration  \\\n",
       "0  8547210  12/31/2015 23:48  12/31/2015 23:51     811           166   \n",
       "1  8547209  12/31/2015 23:47  12/31/2015 23:53    3866           334   \n",
       "2  8547206  12/31/2015 23:37  12/31/2015 23:43    4325           365   \n",
       "3  8547205  12/31/2015 23:37     1/1/2016 0:02     707          1513   \n",
       "4  8547204  12/31/2015 23:36  12/31/2015 23:40    1928           209   \n",
       "\n",
       "   from_station_id         from_station_name  to_station_id  \\\n",
       "0              348  California Ave & 21st St            442   \n",
       "1              299    Halsted St & Roscoe St            117   \n",
       "2               77   Clinton St & Madison St             38   \n",
       "3              454  Broadway & Granville Ave            303   \n",
       "4              141    Clark St & Lincoln Ave            301   \n",
       "\n",
       "            to_station_name    usertype  gender  birthyear       age  \\\n",
       "0  California Ave & 23rd Pl  Subscriber    Male     1978.0  Under 21   \n",
       "1  Wilton Ave & Belmont Ave  Subscriber  Female     1991.0  Under 21   \n",
       "2        Clark St & Lake St  Subscriber    Male     1992.0  Under 21   \n",
       "3   Broadway & Cornelia Ave  Subscriber  Female     1967.0  Under 21   \n",
       "4    Clark St & Schiller St  Subscriber    Male     1995.0  Under 21   \n",
       "\n",
       "                 date  \n",
       "0 2015-12-31 23:48:00  \n",
       "1 2015-12-31 23:47:00  \n",
       "2 2015-12-31 23:37:00  \n",
       "3 2015-12-31 23:37:00  \n",
       "4 2015-12-31 23:36:00  "
      ]
     },
     "execution_count": 10,
     "metadata": {},
     "output_type": "execute_result"
    }
   ],
   "source": [
    "# Create some age categories\n",
    "df['age']='Under 21'\n",
    "df.head()"
   ]
  },
  {
   "cell_type": "code",
   "execution_count": 13,
   "metadata": {
    "collapsed": true
   },
   "outputs": [
    {
     "data": {
      "text/plain": [
       "0          True\n",
       "1         False\n",
       "2         False\n",
       "3         False\n",
       "4         False\n",
       "5         False\n",
       "6         False\n",
       "7         False\n",
       "8         False\n",
       "9         False\n",
       "10        False\n",
       "11        False\n",
       "12        False\n",
       "13        False\n",
       "14        False\n",
       "15        False\n",
       "16        False\n",
       "17        False\n",
       "18        False\n",
       "19        False\n",
       "20        False\n",
       "21        False\n",
       "22        False\n",
       "23        False\n",
       "24        False\n",
       "25        False\n",
       "26        False\n",
       "27        False\n",
       "28        False\n",
       "29        False\n",
       "          ...  \n",
       "631335    False\n",
       "631336    False\n",
       "631337    False\n",
       "631338    False\n",
       "631339    False\n",
       "631340    False\n",
       "631341    False\n",
       "631342    False\n",
       "631343    False\n",
       "631344    False\n",
       "631345    False\n",
       "631346    False\n",
       "631347    False\n",
       "631348    False\n",
       "631349    False\n",
       "631350    False\n",
       "631351    False\n",
       "631352    False\n",
       "631353    False\n",
       "631354    False\n",
       "631355    False\n",
       "631356    False\n",
       "631357    False\n",
       "631358    False\n",
       "631359    False\n",
       "631360    False\n",
       "631361    False\n",
       "631362    False\n",
       "631363    False\n",
       "631364    False\n",
       "Name: trip_id, Length: 631365, dtype: bool"
      ]
     },
     "execution_count": 13,
     "metadata": {},
     "output_type": "execute_result"
    }
   ],
   "source": [
    "df['trip_id']==8547210"
   ]
  },
  {
   "cell_type": "code",
   "execution_count": 17,
   "metadata": {},
   "outputs": [],
   "source": [
    "df.loc[  df['trip_id']==8547210, 'tripduration'  ]   =167"
   ]
  },
  {
   "cell_type": "code",
   "execution_count": 18,
   "metadata": {},
   "outputs": [],
   "source": [
    "df.loc[df['birthyear']<1995, 'age']='21-40'\n"
   ]
  },
  {
   "cell_type": "code",
   "execution_count": 19,
   "metadata": {},
   "outputs": [
    {
     "data": {
      "text/plain": [
       "21-40       385700\n",
       "Over 40     146032\n",
       "Under 21     99633\n",
       "Name: age, dtype: int64"
      ]
     },
     "execution_count": 19,
     "metadata": {},
     "output_type": "execute_result"
    }
   ],
   "source": [
    "df.loc[df['birthyear']<1975, 'age']='Over 40'\n",
    "df['age'].value_counts()"
   ]
  },
  {
   "cell_type": "code",
   "execution_count": 20,
   "metadata": {},
   "outputs": [],
   "source": [
    "age_counts = df['age'].value_counts()"
   ]
  },
  {
   "cell_type": "code",
   "execution_count": 21,
   "metadata": {},
   "outputs": [],
   "source": [
    "# visualize using matplotlib\n",
    "import matplotlib.pyplot as plt\n",
    "%matplotlib inline"
   ]
  },
  {
   "cell_type": "code",
   "execution_count": 23,
   "metadata": {},
   "outputs": [
    {
     "data": {
      "image/png": "[encoded data removed]",
      "text/plain": [
       "<Figure size 432x288 with 1 Axes>"
      ]
     },
     "metadata": {
      "needs_background": "light"
     },
     "output_type": "display_data"
    }
   ],
   "source": [
    "age_counts.plot(kind='bar');"
   ]
  },
  {
   "cell_type": "code",
   "execution_count": 25,
   "metadata": {},
   "outputs": [
    {
     "data": {
      "image/png": "[encoded data removed]",
      "text/plain": [
       "<Figure size 432x288 with 1 Axes>"
      ]
     },
     "metadata": {
      "needs_background": "light"
     },
     "output_type": "display_data"
    }
   ],
   "source": [
    "age_counts.plot(kind='barh');"
   ]
  },
  {
   "cell_type": "code",
   "execution_count": 26,
   "metadata": {},
   "outputs": [
    {
     "data": {
      "image/png": "[encoded data removed]",
      "text/plain": [
       "<Figure size 432x288 with 1 Axes>"
      ]
     },
     "metadata": {},
     "output_type": "display_data"
    }
   ],
   "source": [
    "age_counts.plot(kind='pie');"
   ]
  },
  {
   "cell_type": "code",
   "execution_count": 29,
   "metadata": {},
   "outputs": [
    {
     "data": {
      "image/png": "[encoded data removed]",
      "text/plain": [
       "<Figure size 432x288 with 1 Axes>"
      ]
     },
     "metadata": {
      "needs_background": "light"
     },
     "output_type": "display_data"
    }
   ],
   "source": [
    "df.boxplot(column='birthyear', by='age' );"
   ]
  },
  {
   "cell_type": "code",
   "execution_count": 7,
   "metadata": {},
   "outputs": [
    {
     "data": {
      "text/plain": [
       "Subscriber    538989\n",
       "Customer       92353\n",
       "Dependent         23\n",
       "Name: usertype, dtype: int64"
      ]
     },
     "execution_count": 7,
     "metadata": {},
     "output_type": "execute_result"
    }
   ],
   "source": [
    "# Number of rides by user type\n",
    "df['usertype'].value_counts(dropna=False)"
   ]
  },
  {
   "cell_type": "code",
   "execution_count": 8,
   "metadata": {},
   "outputs": [
    {
     "data": {
      "text/plain": [
       "812.9961448607382"
      ]
     },
     "execution_count": 8,
     "metadata": {},
     "output_type": "execute_result"
    }
   ],
   "source": [
    "# Average trip length\n",
    "df['tripduration'].mean()"
   ]
  },
  {
   "cell_type": "code",
   "execution_count": 31,
   "metadata": {},
   "outputs": [
    {
     "data": {
      "text/plain": [
       "dtype('O')"
      ]
     },
     "execution_count": 31,
     "metadata": {},
     "output_type": "execute_result"
    }
   ],
   "source": [
    "df['starttime'].dtype"
   ]
  },
  {
   "cell_type": "code",
   "execution_count": 9,
   "metadata": {},
   "outputs": [
    {
     "data": {
      "text/plain": [
       "dtype('<M8[ns]')"
      ]
     },
     "execution_count": 9,
     "metadata": {},
     "output_type": "execute_result"
    }
   ],
   "source": [
    "# convert date to datetime\n",
    "df['date']=pd.to_datetime(df['starttime'])\n",
    "df['date'].dtype"
   ]
  },
  {
   "cell_type": "code",
   "execution_count": 38,
   "metadata": {
    "collapsed": true
   },
   "outputs": [
    {
     "data": {
      "text/html": [
       "<div>\n",
       "<style scoped>\n",
       "    .dataframe tbody tr th:only-of-type {\n",
       "        vertical-align: middle;\n",
       "    }\n",
       "\n",
       "    .dataframe tbody tr th {\n",
       "        vertical-align: top;\n",
       "    }\n",
       "\n",
       "    .dataframe thead th {\n",
       "        text-align: right;\n",
       "    }\n",
       "</style>\n",
       "<table border=\"1\" class=\"dataframe\">\n",
       "  <thead>\n",
       "    <tr style=\"text-align: right;\">\n",
       "      <th></th>\n",
       "      <th>trip_id</th>\n",
       "      <th>starttime</th>\n",
       "      <th>stoptime</th>\n",
       "      <th>bikeid</th>\n",
       "      <th>tripduration</th>\n",
       "      <th>from_station_id</th>\n",
       "      <th>from_station_name</th>\n",
       "      <th>to_station_id</th>\n",
       "      <th>to_station_name</th>\n",
       "      <th>usertype</th>\n",
       "      <th>gender</th>\n",
       "      <th>birthyear</th>\n",
       "      <th>age</th>\n",
       "      <th>date</th>\n",
       "      <th>day</th>\n",
       "      <th>weekday</th>\n",
       "      <th>month</th>\n",
       "    </tr>\n",
       "  </thead>\n",
       "  <tbody>\n",
       "    <tr>\n",
       "      <th>0</th>\n",
       "      <td>8547210</td>\n",
       "      <td>12/31/2015 23:48</td>\n",
       "      <td>12/31/2015 23:51</td>\n",
       "      <td>811</td>\n",
       "      <td>167</td>\n",
       "      <td>348</td>\n",
       "      <td>California Ave &amp; 21st St</td>\n",
       "      <td>442</td>\n",
       "      <td>California Ave &amp; 23rd Pl</td>\n",
       "      <td>Subscriber</td>\n",
       "      <td>Male</td>\n",
       "      <td>1978.0</td>\n",
       "      <td>21-40</td>\n",
       "      <td>2015-12-31 23:48:00</td>\n",
       "      <td>31</td>\n",
       "      <td>3</td>\n",
       "      <td>12</td>\n",
       "    </tr>\n",
       "    <tr>\n",
       "      <th>1</th>\n",
       "      <td>8547209</td>\n",
       "      <td>12/31/2015 23:47</td>\n",
       "      <td>12/31/2015 23:53</td>\n",
       "      <td>3866</td>\n",
       "      <td>334</td>\n",
       "      <td>299</td>\n",
       "      <td>Halsted St &amp; Roscoe St</td>\n",
       "      <td>117</td>\n",
       "      <td>Wilton Ave &amp; Belmont Ave</td>\n",
       "      <td>Subscriber</td>\n",
       "      <td>Female</td>\n",
       "      <td>1991.0</td>\n",
       "      <td>21-40</td>\n",
       "      <td>2015-12-31 23:47:00</td>\n",
       "      <td>31</td>\n",
       "      <td>3</td>\n",
       "      <td>12</td>\n",
       "    </tr>\n",
       "    <tr>\n",
       "      <th>2</th>\n",
       "      <td>8547206</td>\n",
       "      <td>12/31/2015 23:37</td>\n",
       "      <td>12/31/2015 23:43</td>\n",
       "      <td>4325</td>\n",
       "      <td>365</td>\n",
       "      <td>77</td>\n",
       "      <td>Clinton St &amp; Madison St</td>\n",
       "      <td>38</td>\n",
       "      <td>Clark St &amp; Lake St</td>\n",
       "      <td>Subscriber</td>\n",
       "      <td>Male</td>\n",
       "      <td>1992.0</td>\n",
       "      <td>21-40</td>\n",
       "      <td>2015-12-31 23:37:00</td>\n",
       "      <td>31</td>\n",
       "      <td>3</td>\n",
       "      <td>12</td>\n",
       "    </tr>\n",
       "    <tr>\n",
       "      <th>3</th>\n",
       "      <td>8547205</td>\n",
       "      <td>12/31/2015 23:37</td>\n",
       "      <td>1/1/2016 0:02</td>\n",
       "      <td>707</td>\n",
       "      <td>1513</td>\n",
       "      <td>454</td>\n",
       "      <td>Broadway &amp; Granville Ave</td>\n",
       "      <td>303</td>\n",
       "      <td>Broadway &amp; Cornelia Ave</td>\n",
       "      <td>Subscriber</td>\n",
       "      <td>Female</td>\n",
       "      <td>1967.0</td>\n",
       "      <td>Over 40</td>\n",
       "      <td>2015-12-31 23:37:00</td>\n",
       "      <td>31</td>\n",
       "      <td>3</td>\n",
       "      <td>12</td>\n",
       "    </tr>\n",
       "    <tr>\n",
       "      <th>4</th>\n",
       "      <td>8547204</td>\n",
       "      <td>12/31/2015 23:36</td>\n",
       "      <td>12/31/2015 23:40</td>\n",
       "      <td>1928</td>\n",
       "      <td>209</td>\n",
       "      <td>141</td>\n",
       "      <td>Clark St &amp; Lincoln Ave</td>\n",
       "      <td>301</td>\n",
       "      <td>Clark St &amp; Schiller St</td>\n",
       "      <td>Subscriber</td>\n",
       "      <td>Male</td>\n",
       "      <td>1995.0</td>\n",
       "      <td>Under 21</td>\n",
       "      <td>2015-12-31 23:36:00</td>\n",
       "      <td>31</td>\n",
       "      <td>3</td>\n",
       "      <td>12</td>\n",
       "    </tr>\n",
       "  </tbody>\n",
       "</table>\n",
       "</div>"
      ],
      "text/plain": [
       "   trip_id         starttime          stoptime  bikeid  tripduration  \\\n",
       "0  8547210  12/31/2015 23:48  12/31/2015 23:51     811           167   \n",
       "1  8547209  12/31/2015 23:47  12/31/2015 23:53    3866           334   \n",
       "2  8547206  12/31/2015 23:37  12/31/2015 23:43    4325           365   \n",
       "3  8547205  12/31/2015 23:37     1/1/2016 0:02     707          1513   \n",
       "4  8547204  12/31/2015 23:36  12/31/2015 23:40    1928           209   \n",
       "\n",
       "   from_station_id         from_station_name  to_station_id  \\\n",
       "0              348  California Ave & 21st St            442   \n",
       "1              299    Halsted St & Roscoe St            117   \n",
       "2               77   Clinton St & Madison St             38   \n",
       "3              454  Broadway & Granville Ave            303   \n",
       "4              141    Clark St & Lincoln Ave            301   \n",
       "\n",
       "            to_station_name    usertype  gender  birthyear       age  \\\n",
       "0  California Ave & 23rd Pl  Subscriber    Male     1978.0     21-40   \n",
       "1  Wilton Ave & Belmont Ave  Subscriber  Female     1991.0     21-40   \n",
       "2        Clark St & Lake St  Subscriber    Male     1992.0     21-40   \n",
       "3   Broadway & Cornelia Ave  Subscriber  Female     1967.0   Over 40   \n",
       "4    Clark St & Schiller St  Subscriber    Male     1995.0  Under 21   \n",
       "\n",
       "                 date  day  weekday  month  \n",
       "0 2015-12-31 23:48:00   31        3     12  \n",
       "1 2015-12-31 23:47:00   31        3     12  \n",
       "2 2015-12-31 23:37:00   31        3     12  \n",
       "3 2015-12-31 23:37:00   31        3     12  \n",
       "4 2015-12-31 23:36:00   31        3     12  "
      ]
     },
     "execution_count": 38,
     "metadata": {},
     "output_type": "execute_result"
    }
   ],
   "source": [
    "# create new vars\n",
    "df['day']=df['date'].dt.day\n",
    "df['weekday']=df['date'].dt.weekday\n",
    "df['month']=df['date'].dt.month\n",
    "df.head()"
   ]
  },
  {
   "cell_type": "markdown",
   "metadata": {},
   "source": [
    "## Joins and Merges with outside data"
   ]
  },
  {
   "cell_type": "code",
   "execution_count": 39,
   "metadata": {},
   "outputs": [
    {
     "data": {
      "text/plain": [
       "['u.item',\n",
       " 'drinks.csv',\n",
       " 'superstore.csv',\n",
       " 'Divvy_Trips_2015_07.csv',\n",
       " 'imdb_1000.csv',\n",
       " 'u.data',\n",
       " 'ufo.csv',\n",
       " 'sales_info.csv',\n",
       " 'titanic.csv',\n",
       " 'Divvy_Stations.csv',\n",
       " 'boston_housing_data.csv',\n",
       " 'Divvy_Trips_2015_Q4.csv',\n",
       " 'bikeshare.csv']"
      ]
     },
     "execution_count": 39,
     "metadata": {},
     "output_type": "execute_result"
    }
   ],
   "source": [
    "os.listdir(Path.joinpath(Path.cwd().parent, 'data'))"
   ]
  },
  {
   "cell_type": "code",
   "execution_count": 46,
   "metadata": {},
   "outputs": [],
   "source": [
    "# Let's join some data\n",
    "df1=pd.read_csv(Path.joinpath(Path.cwd().parent, 'data','Divvy_Trips_2015_Q4.csv'))\n",
    "df2=pd.read_csv(Path.joinpath(Path.cwd().parent, 'data','Divvy_Trips_2015_07.csv'))\n"
   ]
  },
  {
   "cell_type": "code",
   "execution_count": 48,
   "metadata": {},
   "outputs": [
    {
     "name": "stdout",
     "output_type": "stream",
     "text": [
      "(631365, 12)\n",
      "(533711, 12)\n"
     ]
    }
   ],
   "source": [
    "print(df1.shape)\n",
    "print(df2.shape)"
   ]
  },
  {
   "cell_type": "code",
   "execution_count": 49,
   "metadata": {},
   "outputs": [
    {
     "name": "stdout",
     "output_type": "stream",
     "text": [
      "Index(['trip_id', 'starttime', 'stoptime', 'bikeid', 'tripduration',\n",
      "       'from_station_id', 'from_station_name', 'to_station_id',\n",
      "       'to_station_name', 'usertype', 'gender', 'birthyear'],\n",
      "      dtype='object')\n",
      "Index(['trip_id', 'starttime', 'stoptime', 'bikeid', 'tripduration',\n",
      "       'from_station_id', 'from_station_name', 'to_station_id',\n",
      "       'to_station_name', 'usertype', 'gender', 'birthyear'],\n",
      "      dtype='object')\n"
     ]
    }
   ],
   "source": [
    "print(df1.columns)\n",
    "print(df2.columns)"
   ]
  },
  {
   "cell_type": "code",
   "execution_count": 66,
   "metadata": {},
   "outputs": [
    {
     "name": "stderr",
     "output_type": "stream",
     "text": [
      "//anaconda3/lib/python3.7/site-packages/ipykernel_launcher.py:2: SettingWithCopyWarning: \n",
      "A value is trying to be set on a copy of a slice from a DataFrame.\n",
      "Try using .loc[row_indexer,col_indexer] = value instead\n",
      "\n",
      "See the caveats in the documentation: http://pandas.pydata.org/pandas-docs/stable/indexing.html#indexing-view-versus-copy\n",
      "  \n",
      "//anaconda3/lib/python3.7/site-packages/ipykernel_launcher.py:3: SettingWithCopyWarning: \n",
      "A value is trying to be set on a copy of a slice from a DataFrame.\n",
      "Try using .loc[row_indexer,col_indexer] = value instead\n",
      "\n",
      "See the caveats in the documentation: http://pandas.pydata.org/pandas-docs/stable/indexing.html#indexing-view-versus-copy\n",
      "  This is separate from the ipykernel package so we can avoid doing imports until\n"
     ]
    }
   ],
   "source": [
    "df1_head=df1.head()\n",
    "df1_head['birthyear']=101\n",
    "df1_head['newcol']=42\n",
    "df2_head=df2.head()"
   ]
  },
  {
   "cell_type": "code",
   "execution_count": 74,
   "metadata": {},
   "outputs": [
    {
     "data": {
      "text/html": [
       "<div>\n",
       "<style scoped>\n",
       "    .dataframe tbody tr th:only-of-type {\n",
       "        vertical-align: middle;\n",
       "    }\n",
       "\n",
       "    .dataframe tbody tr th {\n",
       "        vertical-align: top;\n",
       "    }\n",
       "\n",
       "    .dataframe thead th {\n",
       "        text-align: right;\n",
       "    }\n",
       "</style>\n",
       "<table border=\"1\" class=\"dataframe\">\n",
       "  <thead>\n",
       "    <tr style=\"text-align: right;\">\n",
       "      <th></th>\n",
       "      <th>bikeid</th>\n",
       "      <th>birthyear</th>\n",
       "      <th>from_station_id</th>\n",
       "      <th>from_station_name</th>\n",
       "      <th>gender</th>\n",
       "      <th>newcol</th>\n",
       "      <th>starttime</th>\n",
       "      <th>stoptime</th>\n",
       "      <th>to_station_id</th>\n",
       "      <th>to_station_name</th>\n",
       "      <th>trip_id</th>\n",
       "      <th>tripduration</th>\n",
       "      <th>usertype</th>\n",
       "    </tr>\n",
       "  </thead>\n",
       "  <tbody>\n",
       "    <tr>\n",
       "      <th>0</th>\n",
       "      <td>811</td>\n",
       "      <td>101</td>\n",
       "      <td>348</td>\n",
       "      <td>California Ave &amp; 21st St</td>\n",
       "      <td>Male</td>\n",
       "      <td>42</td>\n",
       "      <td>12/31/2015 23:48</td>\n",
       "      <td>12/31/2015 23:51</td>\n",
       "      <td>442</td>\n",
       "      <td>California Ave &amp; 23rd Pl</td>\n",
       "      <td>8547210</td>\n",
       "      <td>166</td>\n",
       "      <td>Subscriber</td>\n",
       "    </tr>\n",
       "    <tr>\n",
       "      <th>1</th>\n",
       "      <td>3866</td>\n",
       "      <td>101</td>\n",
       "      <td>299</td>\n",
       "      <td>Halsted St &amp; Roscoe St</td>\n",
       "      <td>Female</td>\n",
       "      <td>42</td>\n",
       "      <td>12/31/2015 23:47</td>\n",
       "      <td>12/31/2015 23:53</td>\n",
       "      <td>117</td>\n",
       "      <td>Wilton Ave &amp; Belmont Ave</td>\n",
       "      <td>8547209</td>\n",
       "      <td>334</td>\n",
       "      <td>Subscriber</td>\n",
       "    </tr>\n",
       "    <tr>\n",
       "      <th>2</th>\n",
       "      <td>4325</td>\n",
       "      <td>101</td>\n",
       "      <td>77</td>\n",
       "      <td>Clinton St &amp; Madison St</td>\n",
       "      <td>Male</td>\n",
       "      <td>42</td>\n",
       "      <td>12/31/2015 23:37</td>\n",
       "      <td>12/31/2015 23:43</td>\n",
       "      <td>38</td>\n",
       "      <td>Clark St &amp; Lake St</td>\n",
       "      <td>8547206</td>\n",
       "      <td>365</td>\n",
       "      <td>Subscriber</td>\n",
       "    </tr>\n",
       "    <tr>\n",
       "      <th>3</th>\n",
       "      <td>707</td>\n",
       "      <td>101</td>\n",
       "      <td>454</td>\n",
       "      <td>Broadway &amp; Granville Ave</td>\n",
       "      <td>Female</td>\n",
       "      <td>42</td>\n",
       "      <td>12/31/2015 23:37</td>\n",
       "      <td>1/1/2016 0:02</td>\n",
       "      <td>303</td>\n",
       "      <td>Broadway &amp; Cornelia Ave</td>\n",
       "      <td>8547205</td>\n",
       "      <td>1513</td>\n",
       "      <td>Subscriber</td>\n",
       "    </tr>\n",
       "    <tr>\n",
       "      <th>4</th>\n",
       "      <td>1928</td>\n",
       "      <td>101</td>\n",
       "      <td>141</td>\n",
       "      <td>Clark St &amp; Lincoln Ave</td>\n",
       "      <td>Male</td>\n",
       "      <td>42</td>\n",
       "      <td>12/31/2015 23:36</td>\n",
       "      <td>12/31/2015 23:40</td>\n",
       "      <td>301</td>\n",
       "      <td>Clark St &amp; Schiller St</td>\n",
       "      <td>8547204</td>\n",
       "      <td>209</td>\n",
       "      <td>Subscriber</td>\n",
       "    </tr>\n",
       "  </tbody>\n",
       "</table>\n",
       "</div>"
      ],
      "text/plain": [
       "   bikeid  birthyear  from_station_id         from_station_name  gender  \\\n",
       "0     811        101              348  California Ave & 21st St    Male   \n",
       "1    3866        101              299    Halsted St & Roscoe St  Female   \n",
       "2    4325        101               77   Clinton St & Madison St    Male   \n",
       "3     707        101              454  Broadway & Granville Ave  Female   \n",
       "4    1928        101              141    Clark St & Lincoln Ave    Male   \n",
       "\n",
       "   newcol         starttime          stoptime  to_station_id  \\\n",
       "0      42  12/31/2015 23:48  12/31/2015 23:51            442   \n",
       "1      42  12/31/2015 23:47  12/31/2015 23:53            117   \n",
       "2      42  12/31/2015 23:37  12/31/2015 23:43             38   \n",
       "3      42  12/31/2015 23:37     1/1/2016 0:02            303   \n",
       "4      42  12/31/2015 23:36  12/31/2015 23:40            301   \n",
       "\n",
       "            to_station_name  trip_id  tripduration    usertype  \n",
       "0  California Ave & 23rd Pl  8547210           166  Subscriber  \n",
       "1  Wilton Ave & Belmont Ave  8547209           334  Subscriber  \n",
       "2        Clark St & Lake St  8547206           365  Subscriber  \n",
       "3   Broadway & Cornelia Ave  8547205          1513  Subscriber  \n",
       "4    Clark St & Schiller St  8547204           209  Subscriber  "
      ]
     },
     "execution_count": 74,
     "metadata": {},
     "output_type": "execute_result"
    }
   ],
   "source": [
    "df1_head=df1_head[sorted(df1_head.columns)]\n",
    "df1_head.head()"
   ]
  },
  {
   "cell_type": "code",
   "execution_count": 75,
   "metadata": {},
   "outputs": [
    {
     "data": {
      "text/html": [
       "<div>\n",
       "<style scoped>\n",
       "    .dataframe tbody tr th:only-of-type {\n",
       "        vertical-align: middle;\n",
       "    }\n",
       "\n",
       "    .dataframe tbody tr th {\n",
       "        vertical-align: top;\n",
       "    }\n",
       "\n",
       "    .dataframe thead th {\n",
       "        text-align: right;\n",
       "    }\n",
       "</style>\n",
       "<table border=\"1\" class=\"dataframe\">\n",
       "  <thead>\n",
       "    <tr style=\"text-align: right;\">\n",
       "      <th></th>\n",
       "      <th>trip_id</th>\n",
       "      <th>starttime</th>\n",
       "      <th>stoptime</th>\n",
       "      <th>bikeid</th>\n",
       "      <th>tripduration</th>\n",
       "      <th>from_station_id</th>\n",
       "      <th>from_station_name</th>\n",
       "      <th>to_station_id</th>\n",
       "      <th>to_station_name</th>\n",
       "      <th>usertype</th>\n",
       "      <th>gender</th>\n",
       "      <th>birthyear</th>\n",
       "    </tr>\n",
       "  </thead>\n",
       "  <tbody>\n",
       "    <tr>\n",
       "      <th>0</th>\n",
       "      <td>6611093</td>\n",
       "      <td>7/31/2015 23:59</td>\n",
       "      <td>8/1/2015 0:03</td>\n",
       "      <td>4829</td>\n",
       "      <td>197</td>\n",
       "      <td>239</td>\n",
       "      <td>Western Ave &amp; Leland Ave</td>\n",
       "      <td>242</td>\n",
       "      <td>Damen Ave &amp; Leland Ave</td>\n",
       "      <td>Subscriber</td>\n",
       "      <td>Male</td>\n",
       "      <td>1978.0</td>\n",
       "    </tr>\n",
       "    <tr>\n",
       "      <th>1</th>\n",
       "      <td>6611091</td>\n",
       "      <td>7/31/2015 23:59</td>\n",
       "      <td>8/1/2015 0:22</td>\n",
       "      <td>3747</td>\n",
       "      <td>1378</td>\n",
       "      <td>177</td>\n",
       "      <td>Theater on the Lake</td>\n",
       "      <td>312</td>\n",
       "      <td>Clarendon Ave &amp; Gordon Ter</td>\n",
       "      <td>Subscriber</td>\n",
       "      <td>Male</td>\n",
       "      <td>1980.0</td>\n",
       "    </tr>\n",
       "    <tr>\n",
       "      <th>2</th>\n",
       "      <td>6611090</td>\n",
       "      <td>7/31/2015 23:59</td>\n",
       "      <td>8/1/2015 0:18</td>\n",
       "      <td>1417</td>\n",
       "      <td>1178</td>\n",
       "      <td>403</td>\n",
       "      <td>Wentworth Ave &amp; 33rd St</td>\n",
       "      <td>150</td>\n",
       "      <td>Fort Dearborn Dr &amp; 31st St</td>\n",
       "      <td>Customer</td>\n",
       "      <td>NaN</td>\n",
       "      <td>NaN</td>\n",
       "    </tr>\n",
       "    <tr>\n",
       "      <th>3</th>\n",
       "      <td>6611089</td>\n",
       "      <td>7/31/2015 23:59</td>\n",
       "      <td>8/1/2015 0:03</td>\n",
       "      <td>3829</td>\n",
       "      <td>243</td>\n",
       "      <td>287</td>\n",
       "      <td>Franklin St &amp; Monroe St</td>\n",
       "      <td>38</td>\n",
       "      <td>Clark St &amp; Lake St</td>\n",
       "      <td>Subscriber</td>\n",
       "      <td>Male</td>\n",
       "      <td>1987.0</td>\n",
       "    </tr>\n",
       "    <tr>\n",
       "      <th>4</th>\n",
       "      <td>6611088</td>\n",
       "      <td>7/31/2015 23:59</td>\n",
       "      <td>8/1/2015 0:43</td>\n",
       "      <td>3647</td>\n",
       "      <td>2656</td>\n",
       "      <td>305</td>\n",
       "      <td>Western Ave &amp; Division St</td>\n",
       "      <td>506</td>\n",
       "      <td>Spaulding Ave &amp; Armitage Ave</td>\n",
       "      <td>Customer</td>\n",
       "      <td>NaN</td>\n",
       "      <td>NaN</td>\n",
       "    </tr>\n",
       "  </tbody>\n",
       "</table>\n",
       "</div>"
      ],
      "text/plain": [
       "   trip_id        starttime       stoptime  bikeid  tripduration  \\\n",
       "0  6611093  7/31/2015 23:59  8/1/2015 0:03    4829           197   \n",
       "1  6611091  7/31/2015 23:59  8/1/2015 0:22    3747          1378   \n",
       "2  6611090  7/31/2015 23:59  8/1/2015 0:18    1417          1178   \n",
       "3  6611089  7/31/2015 23:59  8/1/2015 0:03    3829           243   \n",
       "4  6611088  7/31/2015 23:59  8/1/2015 0:43    3647          2656   \n",
       "\n",
       "   from_station_id          from_station_name  to_station_id  \\\n",
       "0              239   Western Ave & Leland Ave            242   \n",
       "1              177        Theater on the Lake            312   \n",
       "2              403    Wentworth Ave & 33rd St            150   \n",
       "3              287    Franklin St & Monroe St             38   \n",
       "4              305  Western Ave & Division St            506   \n",
       "\n",
       "                to_station_name    usertype gender  birthyear  \n",
       "0        Damen Ave & Leland Ave  Subscriber   Male     1978.0  \n",
       "1    Clarendon Ave & Gordon Ter  Subscriber   Male     1980.0  \n",
       "2    Fort Dearborn Dr & 31st St    Customer    NaN        NaN  \n",
       "3            Clark St & Lake St  Subscriber   Male     1987.0  \n",
       "4  Spaulding Ave & Armitage Ave    Customer    NaN        NaN  "
      ]
     },
     "execution_count": 75,
     "metadata": {},
     "output_type": "execute_result"
    }
   ],
   "source": [
    "df2_head"
   ]
  },
  {
   "cell_type": "code",
   "execution_count": 76,
   "metadata": {},
   "outputs": [
    {
     "name": "stderr",
     "output_type": "stream",
     "text": [
      "//anaconda3/lib/python3.7/site-packages/ipykernel_launcher.py:2: FutureWarning: Sorting because non-concatenation axis is not aligned. A future version\n",
      "of pandas will change to not sort by default.\n",
      "\n",
      "To accept the future behavior, pass 'sort=False'.\n",
      "\n",
      "To retain the current behavior and silence the warning, pass 'sort=True'.\n",
      "\n",
      "  \n"
     ]
    }
   ],
   "source": [
    "# To join to df's one on top of the other\n",
    "df3_head=pd.concat([df1_head, df2_head])"
   ]
  },
  {
   "cell_type": "code",
   "execution_count": 77,
   "metadata": {},
   "outputs": [
    {
     "name": "stdout",
     "output_type": "stream",
     "text": [
      "(5, 13)\n",
      "(5, 12)\n",
      "(10, 13)\n"
     ]
    }
   ],
   "source": [
    "print(df1_head.shape)\n",
    "print(df2_head.shape)\n",
    "print(df3_head.shape)"
   ]
  },
  {
   "cell_type": "code",
   "execution_count": 78,
   "metadata": {},
   "outputs": [
    {
     "data": {
      "text/html": [
       "<div>\n",
       "<style scoped>\n",
       "    .dataframe tbody tr th:only-of-type {\n",
       "        vertical-align: middle;\n",
       "    }\n",
       "\n",
       "    .dataframe tbody tr th {\n",
       "        vertical-align: top;\n",
       "    }\n",
       "\n",
       "    .dataframe thead th {\n",
       "        text-align: right;\n",
       "    }\n",
       "</style>\n",
       "<table border=\"1\" class=\"dataframe\">\n",
       "  <thead>\n",
       "    <tr style=\"text-align: right;\">\n",
       "      <th></th>\n",
       "      <th>bikeid</th>\n",
       "      <th>birthyear</th>\n",
       "      <th>from_station_id</th>\n",
       "      <th>from_station_name</th>\n",
       "      <th>gender</th>\n",
       "      <th>newcol</th>\n",
       "      <th>starttime</th>\n",
       "      <th>stoptime</th>\n",
       "      <th>to_station_id</th>\n",
       "      <th>to_station_name</th>\n",
       "      <th>trip_id</th>\n",
       "      <th>tripduration</th>\n",
       "      <th>usertype</th>\n",
       "    </tr>\n",
       "  </thead>\n",
       "  <tbody>\n",
       "    <tr>\n",
       "      <th>0</th>\n",
       "      <td>811</td>\n",
       "      <td>101.0</td>\n",
       "      <td>348</td>\n",
       "      <td>California Ave &amp; 21st St</td>\n",
       "      <td>Male</td>\n",
       "      <td>42.0</td>\n",
       "      <td>12/31/2015 23:48</td>\n",
       "      <td>12/31/2015 23:51</td>\n",
       "      <td>442</td>\n",
       "      <td>California Ave &amp; 23rd Pl</td>\n",
       "      <td>8547210</td>\n",
       "      <td>166</td>\n",
       "      <td>Subscriber</td>\n",
       "    </tr>\n",
       "    <tr>\n",
       "      <th>1</th>\n",
       "      <td>3866</td>\n",
       "      <td>101.0</td>\n",
       "      <td>299</td>\n",
       "      <td>Halsted St &amp; Roscoe St</td>\n",
       "      <td>Female</td>\n",
       "      <td>42.0</td>\n",
       "      <td>12/31/2015 23:47</td>\n",
       "      <td>12/31/2015 23:53</td>\n",
       "      <td>117</td>\n",
       "      <td>Wilton Ave &amp; Belmont Ave</td>\n",
       "      <td>8547209</td>\n",
       "      <td>334</td>\n",
       "      <td>Subscriber</td>\n",
       "    </tr>\n",
       "    <tr>\n",
       "      <th>2</th>\n",
       "      <td>4325</td>\n",
       "      <td>101.0</td>\n",
       "      <td>77</td>\n",
       "      <td>Clinton St &amp; Madison St</td>\n",
       "      <td>Male</td>\n",
       "      <td>42.0</td>\n",
       "      <td>12/31/2015 23:37</td>\n",
       "      <td>12/31/2015 23:43</td>\n",
       "      <td>38</td>\n",
       "      <td>Clark St &amp; Lake St</td>\n",
       "      <td>8547206</td>\n",
       "      <td>365</td>\n",
       "      <td>Subscriber</td>\n",
       "    </tr>\n",
       "    <tr>\n",
       "      <th>3</th>\n",
       "      <td>707</td>\n",
       "      <td>101.0</td>\n",
       "      <td>454</td>\n",
       "      <td>Broadway &amp; Granville Ave</td>\n",
       "      <td>Female</td>\n",
       "      <td>42.0</td>\n",
       "      <td>12/31/2015 23:37</td>\n",
       "      <td>1/1/2016 0:02</td>\n",
       "      <td>303</td>\n",
       "      <td>Broadway &amp; Cornelia Ave</td>\n",
       "      <td>8547205</td>\n",
       "      <td>1513</td>\n",
       "      <td>Subscriber</td>\n",
       "    </tr>\n",
       "    <tr>\n",
       "      <th>4</th>\n",
       "      <td>1928</td>\n",
       "      <td>101.0</td>\n",
       "      <td>141</td>\n",
       "      <td>Clark St &amp; Lincoln Ave</td>\n",
       "      <td>Male</td>\n",
       "      <td>42.0</td>\n",
       "      <td>12/31/2015 23:36</td>\n",
       "      <td>12/31/2015 23:40</td>\n",
       "      <td>301</td>\n",
       "      <td>Clark St &amp; Schiller St</td>\n",
       "      <td>8547204</td>\n",
       "      <td>209</td>\n",
       "      <td>Subscriber</td>\n",
       "    </tr>\n",
       "    <tr>\n",
       "      <th>0</th>\n",
       "      <td>4829</td>\n",
       "      <td>1978.0</td>\n",
       "      <td>239</td>\n",
       "      <td>Western Ave &amp; Leland Ave</td>\n",
       "      <td>Male</td>\n",
       "      <td>NaN</td>\n",
       "      <td>7/31/2015 23:59</td>\n",
       "      <td>8/1/2015 0:03</td>\n",
       "      <td>242</td>\n",
       "      <td>Damen Ave &amp; Leland Ave</td>\n",
       "      <td>6611093</td>\n",
       "      <td>197</td>\n",
       "      <td>Subscriber</td>\n",
       "    </tr>\n",
       "    <tr>\n",
       "      <th>1</th>\n",
       "      <td>3747</td>\n",
       "      <td>1980.0</td>\n",
       "      <td>177</td>\n",
       "      <td>Theater on the Lake</td>\n",
       "      <td>Male</td>\n",
       "      <td>NaN</td>\n",
       "      <td>7/31/2015 23:59</td>\n",
       "      <td>8/1/2015 0:22</td>\n",
       "      <td>312</td>\n",
       "      <td>Clarendon Ave &amp; Gordon Ter</td>\n",
       "      <td>6611091</td>\n",
       "      <td>1378</td>\n",
       "      <td>Subscriber</td>\n",
       "    </tr>\n",
       "    <tr>\n",
       "      <th>2</th>\n",
       "      <td>1417</td>\n",
       "      <td>NaN</td>\n",
       "      <td>403</td>\n",
       "      <td>Wentworth Ave &amp; 33rd St</td>\n",
       "      <td>NaN</td>\n",
       "      <td>NaN</td>\n",
       "      <td>7/31/2015 23:59</td>\n",
       "      <td>8/1/2015 0:18</td>\n",
       "      <td>150</td>\n",
       "      <td>Fort Dearborn Dr &amp; 31st St</td>\n",
       "      <td>6611090</td>\n",
       "      <td>1178</td>\n",
       "      <td>Customer</td>\n",
       "    </tr>\n",
       "    <tr>\n",
       "      <th>3</th>\n",
       "      <td>3829</td>\n",
       "      <td>1987.0</td>\n",
       "      <td>287</td>\n",
       "      <td>Franklin St &amp; Monroe St</td>\n",
       "      <td>Male</td>\n",
       "      <td>NaN</td>\n",
       "      <td>7/31/2015 23:59</td>\n",
       "      <td>8/1/2015 0:03</td>\n",
       "      <td>38</td>\n",
       "      <td>Clark St &amp; Lake St</td>\n",
       "      <td>6611089</td>\n",
       "      <td>243</td>\n",
       "      <td>Subscriber</td>\n",
       "    </tr>\n",
       "    <tr>\n",
       "      <th>4</th>\n",
       "      <td>3647</td>\n",
       "      <td>NaN</td>\n",
       "      <td>305</td>\n",
       "      <td>Western Ave &amp; Division St</td>\n",
       "      <td>NaN</td>\n",
       "      <td>NaN</td>\n",
       "      <td>7/31/2015 23:59</td>\n",
       "      <td>8/1/2015 0:43</td>\n",
       "      <td>506</td>\n",
       "      <td>Spaulding Ave &amp; Armitage Ave</td>\n",
       "      <td>6611088</td>\n",
       "      <td>2656</td>\n",
       "      <td>Customer</td>\n",
       "    </tr>\n",
       "  </tbody>\n",
       "</table>\n",
       "</div>"
      ],
      "text/plain": [
       "   bikeid  birthyear  from_station_id          from_station_name  gender  \\\n",
       "0     811      101.0              348   California Ave & 21st St    Male   \n",
       "1    3866      101.0              299     Halsted St & Roscoe St  Female   \n",
       "2    4325      101.0               77    Clinton St & Madison St    Male   \n",
       "3     707      101.0              454   Broadway & Granville Ave  Female   \n",
       "4    1928      101.0              141     Clark St & Lincoln Ave    Male   \n",
       "0    4829     1978.0              239   Western Ave & Leland Ave    Male   \n",
       "1    3747     1980.0              177        Theater on the Lake    Male   \n",
       "2    1417        NaN              403    Wentworth Ave & 33rd St     NaN   \n",
       "3    3829     1987.0              287    Franklin St & Monroe St    Male   \n",
       "4    3647        NaN              305  Western Ave & Division St     NaN   \n",
       "\n",
       "   newcol         starttime          stoptime  to_station_id  \\\n",
       "0    42.0  12/31/2015 23:48  12/31/2015 23:51            442   \n",
       "1    42.0  12/31/2015 23:47  12/31/2015 23:53            117   \n",
       "2    42.0  12/31/2015 23:37  12/31/2015 23:43             38   \n",
       "3    42.0  12/31/2015 23:37     1/1/2016 0:02            303   \n",
       "4    42.0  12/31/2015 23:36  12/31/2015 23:40            301   \n",
       "0     NaN   7/31/2015 23:59     8/1/2015 0:03            242   \n",
       "1     NaN   7/31/2015 23:59     8/1/2015 0:22            312   \n",
       "2     NaN   7/31/2015 23:59     8/1/2015 0:18            150   \n",
       "3     NaN   7/31/2015 23:59     8/1/2015 0:03             38   \n",
       "4     NaN   7/31/2015 23:59     8/1/2015 0:43            506   \n",
       "\n",
       "                to_station_name  trip_id  tripduration    usertype  \n",
       "0      California Ave & 23rd Pl  8547210           166  Subscriber  \n",
       "1      Wilton Ave & Belmont Ave  8547209           334  Subscriber  \n",
       "2            Clark St & Lake St  8547206           365  Subscriber  \n",
       "3       Broadway & Cornelia Ave  8547205          1513  Subscriber  \n",
       "4        Clark St & Schiller St  8547204           209  Subscriber  \n",
       "0        Damen Ave & Leland Ave  6611093           197  Subscriber  \n",
       "1    Clarendon Ave & Gordon Ter  6611091          1378  Subscriber  \n",
       "2    Fort Dearborn Dr & 31st St  6611090          1178    Customer  \n",
       "3            Clark St & Lake St  6611089           243  Subscriber  \n",
       "4  Spaulding Ave & Armitage Ave  6611088          2656    Customer  "
      ]
     },
     "execution_count": 78,
     "metadata": {},
     "output_type": "execute_result"
    }
   ],
   "source": [
    "df3_head"
   ]
  },
  {
   "cell_type": "markdown",
   "metadata": {},
   "source": [
    "## Merge dataframes"
   ]
  },
  {
   "cell_type": "code",
   "execution_count": 79,
   "metadata": {},
   "outputs": [
    {
     "data": {
      "text/plain": [
       "['u.item',\n",
       " 'drinks.csv',\n",
       " 'superstore.csv',\n",
       " 'Divvy_Trips_2015_07.csv',\n",
       " 'imdb_1000.csv',\n",
       " 'u.data',\n",
       " 'ufo.csv',\n",
       " 'sales_info.csv',\n",
       " 'titanic.csv',\n",
       " 'Divvy_Stations.csv',\n",
       " 'boston_housing_data.csv',\n",
       " 'Divvy_Trips_2015_Q4.csv',\n",
       " 'bikeshare.csv']"
      ]
     },
     "execution_count": 79,
     "metadata": {},
     "output_type": "execute_result"
    }
   ],
   "source": [
    "os.listdir(Path.joinpath(Path.cwd().parent, 'data'))"
   ]
  },
  {
   "cell_type": "code",
   "execution_count": 80,
   "metadata": {},
   "outputs": [
    {
     "data": {
      "text/html": [
       "<div>\n",
       "<style scoped>\n",
       "    .dataframe tbody tr th:only-of-type {\n",
       "        vertical-align: middle;\n",
       "    }\n",
       "\n",
       "    .dataframe tbody tr th {\n",
       "        vertical-align: top;\n",
       "    }\n",
       "\n",
       "    .dataframe thead th {\n",
       "        text-align: right;\n",
       "    }\n",
       "</style>\n",
       "<table border=\"1\" class=\"dataframe\">\n",
       "  <thead>\n",
       "    <tr style=\"text-align: right;\">\n",
       "      <th></th>\n",
       "      <th>id</th>\n",
       "      <th>name</th>\n",
       "      <th>latitude</th>\n",
       "      <th>longitude</th>\n",
       "      <th>dpcapacity</th>\n",
       "      <th>online_date</th>\n",
       "    </tr>\n",
       "  </thead>\n",
       "  <tbody>\n",
       "    <tr>\n",
       "      <th>0</th>\n",
       "      <td>456</td>\n",
       "      <td>2112 W Peterson Ave</td>\n",
       "      <td>41.991178</td>\n",
       "      <td>-87.683593</td>\n",
       "      <td>15</td>\n",
       "      <td>5/12/2015</td>\n",
       "    </tr>\n",
       "    <tr>\n",
       "      <th>1</th>\n",
       "      <td>101</td>\n",
       "      <td>63rd St Beach</td>\n",
       "      <td>41.781016</td>\n",
       "      <td>-87.576120</td>\n",
       "      <td>23</td>\n",
       "      <td>4/20/2015</td>\n",
       "    </tr>\n",
       "    <tr>\n",
       "      <th>2</th>\n",
       "      <td>109</td>\n",
       "      <td>900 W Harrison St</td>\n",
       "      <td>41.874675</td>\n",
       "      <td>-87.650019</td>\n",
       "      <td>19</td>\n",
       "      <td>8/6/2013</td>\n",
       "    </tr>\n",
       "    <tr>\n",
       "      <th>3</th>\n",
       "      <td>21</td>\n",
       "      <td>Aberdeen St &amp; Jackson Blvd</td>\n",
       "      <td>41.877726</td>\n",
       "      <td>-87.654787</td>\n",
       "      <td>15</td>\n",
       "      <td>6/21/2013</td>\n",
       "    </tr>\n",
       "    <tr>\n",
       "      <th>4</th>\n",
       "      <td>80</td>\n",
       "      <td>Aberdeen St &amp; Monroe St</td>\n",
       "      <td>41.880456</td>\n",
       "      <td>-87.653929</td>\n",
       "      <td>19</td>\n",
       "      <td>6/26/2013</td>\n",
       "    </tr>\n",
       "  </tbody>\n",
       "</table>\n",
       "</div>"
      ],
      "text/plain": [
       "    id                        name   latitude  longitude  dpcapacity  \\\n",
       "0  456         2112 W Peterson Ave  41.991178 -87.683593          15   \n",
       "1  101               63rd St Beach  41.781016 -87.576120          23   \n",
       "2  109           900 W Harrison St  41.874675 -87.650019          19   \n",
       "3   21  Aberdeen St & Jackson Blvd  41.877726 -87.654787          15   \n",
       "4   80     Aberdeen St & Monroe St  41.880456 -87.653929          19   \n",
       "\n",
       "  online_date  \n",
       "0   5/12/2015  \n",
       "1   4/20/2015  \n",
       "2    8/6/2013  \n",
       "3   6/21/2013  \n",
       "4   6/26/2013  "
      ]
     },
     "execution_count": 80,
     "metadata": {},
     "output_type": "execute_result"
    }
   ],
   "source": [
    "stations=pd.read_csv(Path.joinpath(Path.cwd().parent, 'data', 'Divvy_Stations.csv'))\n",
    "stations.head()"
   ]
  },
  {
   "cell_type": "code",
   "execution_count": 82,
   "metadata": {},
   "outputs": [
    {
     "data": {
      "text/html": [
       "<div>\n",
       "<style scoped>\n",
       "    .dataframe tbody tr th:only-of-type {\n",
       "        vertical-align: middle;\n",
       "    }\n",
       "\n",
       "    .dataframe tbody tr th {\n",
       "        vertical-align: top;\n",
       "    }\n",
       "\n",
       "    .dataframe thead th {\n",
       "        text-align: right;\n",
       "    }\n",
       "</style>\n",
       "<table border=\"1\" class=\"dataframe\">\n",
       "  <thead>\n",
       "    <tr style=\"text-align: right;\">\n",
       "      <th></th>\n",
       "      <th>trip_id</th>\n",
       "      <th>starttime</th>\n",
       "      <th>stoptime</th>\n",
       "      <th>bikeid</th>\n",
       "      <th>tripduration</th>\n",
       "      <th>from_station_id</th>\n",
       "      <th>from_station_name</th>\n",
       "      <th>to_station_id</th>\n",
       "      <th>to_station_name</th>\n",
       "      <th>usertype</th>\n",
       "      <th>gender</th>\n",
       "      <th>birthyear</th>\n",
       "      <th>age</th>\n",
       "      <th>date</th>\n",
       "      <th>day</th>\n",
       "      <th>weekday</th>\n",
       "      <th>month</th>\n",
       "    </tr>\n",
       "  </thead>\n",
       "  <tbody>\n",
       "    <tr>\n",
       "      <th>0</th>\n",
       "      <td>8547210</td>\n",
       "      <td>12/31/2015 23:48</td>\n",
       "      <td>12/31/2015 23:51</td>\n",
       "      <td>811</td>\n",
       "      <td>167</td>\n",
       "      <td>348</td>\n",
       "      <td>California Ave &amp; 21st St</td>\n",
       "      <td>442</td>\n",
       "      <td>California Ave &amp; 23rd Pl</td>\n",
       "      <td>Subscriber</td>\n",
       "      <td>Male</td>\n",
       "      <td>1978.0</td>\n",
       "      <td>21-40</td>\n",
       "      <td>2015-12-31 23:48:00</td>\n",
       "      <td>31</td>\n",
       "      <td>3</td>\n",
       "      <td>12</td>\n",
       "    </tr>\n",
       "    <tr>\n",
       "      <th>1</th>\n",
       "      <td>8547209</td>\n",
       "      <td>12/31/2015 23:47</td>\n",
       "      <td>12/31/2015 23:53</td>\n",
       "      <td>3866</td>\n",
       "      <td>334</td>\n",
       "      <td>299</td>\n",
       "      <td>Halsted St &amp; Roscoe St</td>\n",
       "      <td>117</td>\n",
       "      <td>Wilton Ave &amp; Belmont Ave</td>\n",
       "      <td>Subscriber</td>\n",
       "      <td>Female</td>\n",
       "      <td>1991.0</td>\n",
       "      <td>21-40</td>\n",
       "      <td>2015-12-31 23:47:00</td>\n",
       "      <td>31</td>\n",
       "      <td>3</td>\n",
       "      <td>12</td>\n",
       "    </tr>\n",
       "    <tr>\n",
       "      <th>2</th>\n",
       "      <td>8547206</td>\n",
       "      <td>12/31/2015 23:37</td>\n",
       "      <td>12/31/2015 23:43</td>\n",
       "      <td>4325</td>\n",
       "      <td>365</td>\n",
       "      <td>77</td>\n",
       "      <td>Clinton St &amp; Madison St</td>\n",
       "      <td>38</td>\n",
       "      <td>Clark St &amp; Lake St</td>\n",
       "      <td>Subscriber</td>\n",
       "      <td>Male</td>\n",
       "      <td>1992.0</td>\n",
       "      <td>21-40</td>\n",
       "      <td>2015-12-31 23:37:00</td>\n",
       "      <td>31</td>\n",
       "      <td>3</td>\n",
       "      <td>12</td>\n",
       "    </tr>\n",
       "    <tr>\n",
       "      <th>3</th>\n",
       "      <td>8547205</td>\n",
       "      <td>12/31/2015 23:37</td>\n",
       "      <td>1/1/2016 0:02</td>\n",
       "      <td>707</td>\n",
       "      <td>1513</td>\n",
       "      <td>454</td>\n",
       "      <td>Broadway &amp; Granville Ave</td>\n",
       "      <td>303</td>\n",
       "      <td>Broadway &amp; Cornelia Ave</td>\n",
       "      <td>Subscriber</td>\n",
       "      <td>Female</td>\n",
       "      <td>1967.0</td>\n",
       "      <td>Over 40</td>\n",
       "      <td>2015-12-31 23:37:00</td>\n",
       "      <td>31</td>\n",
       "      <td>3</td>\n",
       "      <td>12</td>\n",
       "    </tr>\n",
       "    <tr>\n",
       "      <th>4</th>\n",
       "      <td>8547204</td>\n",
       "      <td>12/31/2015 23:36</td>\n",
       "      <td>12/31/2015 23:40</td>\n",
       "      <td>1928</td>\n",
       "      <td>209</td>\n",
       "      <td>141</td>\n",
       "      <td>Clark St &amp; Lincoln Ave</td>\n",
       "      <td>301</td>\n",
       "      <td>Clark St &amp; Schiller St</td>\n",
       "      <td>Subscriber</td>\n",
       "      <td>Male</td>\n",
       "      <td>1995.0</td>\n",
       "      <td>Under 21</td>\n",
       "      <td>2015-12-31 23:36:00</td>\n",
       "      <td>31</td>\n",
       "      <td>3</td>\n",
       "      <td>12</td>\n",
       "    </tr>\n",
       "  </tbody>\n",
       "</table>\n",
       "</div>"
      ],
      "text/plain": [
       "   trip_id         starttime          stoptime  bikeid  tripduration  \\\n",
       "0  8547210  12/31/2015 23:48  12/31/2015 23:51     811           167   \n",
       "1  8547209  12/31/2015 23:47  12/31/2015 23:53    3866           334   \n",
       "2  8547206  12/31/2015 23:37  12/31/2015 23:43    4325           365   \n",
       "3  8547205  12/31/2015 23:37     1/1/2016 0:02     707          1513   \n",
       "4  8547204  12/31/2015 23:36  12/31/2015 23:40    1928           209   \n",
       "\n",
       "   from_station_id         from_station_name  to_station_id  \\\n",
       "0              348  California Ave & 21st St            442   \n",
       "1              299    Halsted St & Roscoe St            117   \n",
       "2               77   Clinton St & Madison St             38   \n",
       "3              454  Broadway & Granville Ave            303   \n",
       "4              141    Clark St & Lincoln Ave            301   \n",
       "\n",
       "            to_station_name    usertype  gender  birthyear       age  \\\n",
       "0  California Ave & 23rd Pl  Subscriber    Male     1978.0     21-40   \n",
       "1  Wilton Ave & Belmont Ave  Subscriber  Female     1991.0     21-40   \n",
       "2        Clark St & Lake St  Subscriber    Male     1992.0     21-40   \n",
       "3   Broadway & Cornelia Ave  Subscriber  Female     1967.0   Over 40   \n",
       "4    Clark St & Schiller St  Subscriber    Male     1995.0  Under 21   \n",
       "\n",
       "                 date  day  weekday  month  \n",
       "0 2015-12-31 23:48:00   31        3     12  \n",
       "1 2015-12-31 23:47:00   31        3     12  \n",
       "2 2015-12-31 23:37:00   31        3     12  \n",
       "3 2015-12-31 23:37:00   31        3     12  \n",
       "4 2015-12-31 23:36:00   31        3     12  "
      ]
     },
     "execution_count": 82,
     "metadata": {},
     "output_type": "execute_result"
    }
   ],
   "source": [
    "df.head()"
   ]
  },
  {
   "cell_type": "code",
   "execution_count": 95,
   "metadata": {},
   "outputs": [],
   "source": [
    "df_new=pd.merge(df, stations, left_on='from_station_id', right_on='id', how='outer')"
   ]
  },
  {
   "cell_type": "code",
   "execution_count": 96,
   "metadata": {},
   "outputs": [
    {
     "name": "stdout",
     "output_type": "stream",
     "text": [
      "(631365, 17)\n",
      "(535, 6)\n",
      "(631425, 23)\n"
     ]
    }
   ],
   "source": [
    "print(df.shape)\n",
    "print(stations.shape)\n",
    "print(df_new.shape)"
   ]
  },
  {
   "cell_type": "code",
   "execution_count": null,
   "metadata": {},
   "outputs": [],
   "source": []
  }
 ],
 "metadata": {
  "kernelspec": {
   "display_name": "Python 3",
   "language": "python",
   "name": "python3"
  },
  "language_info": {
   "codemirror_mode": {
    "name": "ipython",
    "version": 3
   },
   "file_extension": ".py",
   "mimetype": "text/x-python",
   "name": "python",
   "nbconvert_exporter": "python",
   "pygments_lexer": "ipython3",
   "version": "3.7.3"
  }
 },
 "nbformat": 4,
 "nbformat_minor": 2
}
