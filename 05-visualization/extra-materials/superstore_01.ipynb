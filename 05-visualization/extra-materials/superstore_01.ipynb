{
 "cells": [
  {
   "cell_type": "markdown",
   "metadata": {
    "inputHidden": false,
    "outputHidden": false
   },
   "source": [
    "# Superstore Exploratory Data Analysis\n",
    "## ***Practicum Assignment***\n"
   ]
  },
  {
   "cell_type": "markdown",
   "metadata": {},
   "source": [
    "Over the course of the next **30 - 40 minutes**, you will apply the exploratory data analysis techniques from the previous session to a new dataset. We expect that you will produce and present a short analysis of the data to other members of the class. "
   ]
  },
  {
   "cell_type": "markdown",
   "metadata": {},
   "source": [
    "### Business Context\n",
    "__Superstore__, a major North American office supply store, wants to apply analytics to its sales data to understand their current state, identify areas for efficiency gains, and boost profits. With Superstore's sales data in hand, can you help answer some of the following questions?\n",
    "* How have Superstore's sales been over time? \n",
    "* Are there product groups which are over/under performing their peers? \n",
    "* Are complementry goods being effectively utilized?\n",
    "* Do any adjustments to discount rates need to be made?\n",
    "* Feel free to come up with your own questions"
   ]
  },
  {
   "cell_type": "markdown",
   "metadata": {},
   "source": [
    "### Data Context"
   ]
  },
  {
   "cell_type": "code",
   "execution_count": 47,
   "metadata": {},
   "outputs": [],
   "source": [
    "import pandas as pd\n",
    "import seaborn as sns\n",
    "import matplotlib.pyplot as plt\n",
    "from matplotlib.ticker import FuncFormatter\n",
    "\n",
    "sns.set(style=\"dark\", context=\"notebook\", \n",
    "        font_scale=1.5, rc={\"lines.linewidth\": 2.5})"
   ]
  },
  {
   "cell_type": "code",
   "execution_count": 50,
   "metadata": {},
   "outputs": [
    {
     "data": {
      "text/html": [
       "<div>\n",
       "<style scoped>\n",
       "    .dataframe tbody tr th:only-of-type {\n",
       "        vertical-align: middle;\n",
       "    }\n",
       "\n",
       "    .dataframe tbody tr th {\n",
       "        vertical-align: top;\n",
       "    }\n",
       "\n",
       "    .dataframe thead th {\n",
       "        text-align: right;\n",
       "    }\n",
       "</style>\n",
       "<table border=\"1\" class=\"dataframe\">\n",
       "  <thead>\n",
       "    <tr style=\"text-align: right;\">\n",
       "      <th></th>\n",
       "      <th>Row ID</th>\n",
       "      <th>Order ID</th>\n",
       "      <th>Order Date</th>\n",
       "      <th>Ship Date</th>\n",
       "      <th>Ship Mode</th>\n",
       "      <th>Customer ID</th>\n",
       "      <th>Customer Name</th>\n",
       "      <th>Segment</th>\n",
       "      <th>Country</th>\n",
       "      <th>City</th>\n",
       "      <th>...</th>\n",
       "      <th>Postal Code</th>\n",
       "      <th>Section</th>\n",
       "      <th>Product ID</th>\n",
       "      <th>Category</th>\n",
       "      <th>Sub-Category</th>\n",
       "      <th>Product Name</th>\n",
       "      <th>Sales</th>\n",
       "      <th>Quantity</th>\n",
       "      <th>Discount</th>\n",
       "      <th>Profit</th>\n",
       "    </tr>\n",
       "  </thead>\n",
       "  <tbody>\n",
       "    <tr>\n",
       "      <th>0</th>\n",
       "      <td>7981</td>\n",
       "      <td>CA-2011-103800</td>\n",
       "      <td>1/3/2013</td>\n",
       "      <td>1/7/2013</td>\n",
       "      <td>Standard Class</td>\n",
       "      <td>DP-13000</td>\n",
       "      <td>Darren Powers</td>\n",
       "      <td>Consumer</td>\n",
       "      <td>United States</td>\n",
       "      <td>Houston</td>\n",
       "      <td>...</td>\n",
       "      <td>77095</td>\n",
       "      <td>Central</td>\n",
       "      <td>OFF-PA-10000174</td>\n",
       "      <td>Office Supplies</td>\n",
       "      <td>Paper</td>\n",
       "      <td>Message Book, Wirebound, Four 5 1/2\" X 4\" Form...</td>\n",
       "      <td>16.448</td>\n",
       "      <td>2</td>\n",
       "      <td>0.2</td>\n",
       "      <td>5.5512</td>\n",
       "    </tr>\n",
       "    <tr>\n",
       "      <th>1</th>\n",
       "      <td>740</td>\n",
       "      <td>CA-2011-112326</td>\n",
       "      <td>1/4/2013</td>\n",
       "      <td>1/8/2013</td>\n",
       "      <td>Standard Class</td>\n",
       "      <td>PO-19195</td>\n",
       "      <td>Phillina Ober</td>\n",
       "      <td>Home Office</td>\n",
       "      <td>United States</td>\n",
       "      <td>Naperville</td>\n",
       "      <td>...</td>\n",
       "      <td>60540</td>\n",
       "      <td>Central</td>\n",
       "      <td>OFF-LA-10003223</td>\n",
       "      <td>Office Supplies</td>\n",
       "      <td>Labels</td>\n",
       "      <td>Avery 508</td>\n",
       "      <td>11.784</td>\n",
       "      <td>3</td>\n",
       "      <td>0.2</td>\n",
       "      <td>4.2717</td>\n",
       "    </tr>\n",
       "    <tr>\n",
       "      <th>2</th>\n",
       "      <td>741</td>\n",
       "      <td>CA-2011-112326</td>\n",
       "      <td>1/4/2013</td>\n",
       "      <td>1/8/2013</td>\n",
       "      <td>Standard Class</td>\n",
       "      <td>PO-19195</td>\n",
       "      <td>Phillina Ober</td>\n",
       "      <td>Home Office</td>\n",
       "      <td>United States</td>\n",
       "      <td>Naperville</td>\n",
       "      <td>...</td>\n",
       "      <td>60540</td>\n",
       "      <td>Central</td>\n",
       "      <td>OFF-ST-10002743</td>\n",
       "      <td>Office Supplies</td>\n",
       "      <td>Storage</td>\n",
       "      <td>SAFCO Boltless Steel Shelving</td>\n",
       "      <td>272.736</td>\n",
       "      <td>3</td>\n",
       "      <td>0.2</td>\n",
       "      <td>-64.7748</td>\n",
       "    </tr>\n",
       "  </tbody>\n",
       "</table>\n",
       "<p>3 rows × 21 columns</p>\n",
       "</div>"
      ],
      "text/plain": [
       "   Row ID        Order ID Order Date Ship Date       Ship Mode Customer ID  \\\n",
       "0    7981  CA-2011-103800   1/3/2013  1/7/2013  Standard Class    DP-13000   \n",
       "1     740  CA-2011-112326   1/4/2013  1/8/2013  Standard Class    PO-19195   \n",
       "2     741  CA-2011-112326   1/4/2013  1/8/2013  Standard Class    PO-19195   \n",
       "\n",
       "   Customer Name      Segment        Country        City  ... Postal Code  \\\n",
       "0  Darren Powers     Consumer  United States     Houston  ...       77095   \n",
       "1  Phillina Ober  Home Office  United States  Naperville  ...       60540   \n",
       "2  Phillina Ober  Home Office  United States  Naperville  ...       60540   \n",
       "\n",
       "   Section       Product ID         Category Sub-Category  \\\n",
       "0  Central  OFF-PA-10000174  Office Supplies        Paper   \n",
       "1  Central  OFF-LA-10003223  Office Supplies       Labels   \n",
       "2  Central  OFF-ST-10002743  Office Supplies      Storage   \n",
       "\n",
       "                                        Product Name    Sales  Quantity  \\\n",
       "0  Message Book, Wirebound, Four 5 1/2\" X 4\" Form...   16.448         2   \n",
       "1                                          Avery 508   11.784         3   \n",
       "2                      SAFCO Boltless Steel Shelving  272.736         3   \n",
       "\n",
       "   Discount   Profit  \n",
       "0       0.2   5.5512  \n",
       "1       0.2   4.2717  \n",
       "2       0.2 -64.7748  \n",
       "\n",
       "[3 rows x 21 columns]"
      ]
     },
     "execution_count": 50,
     "metadata": {},
     "output_type": "execute_result"
    }
   ],
   "source": [
    "df = pd.read_csv(\"../data/superstore.csv\", encoding=\"latin1\")\n",
    "df.head(3)"
   ]
  },
  {
   "cell_type": "code",
   "execution_count": 51,
   "metadata": {},
   "outputs": [
    {
     "data": {
      "text/plain": [
       "Index(['Row ID', 'Order ID', 'Order Date', 'Ship Date', 'Ship Mode',\n",
       "       'Customer ID', 'Customer Name', 'Segment', 'Country', 'City', 'Project',\n",
       "       'Postal Code', 'Section', 'Product ID', 'Category', 'Sub-Category',\n",
       "       'Product Name', 'Sales', 'Quantity', 'Discount', 'Profit'],\n",
       "      dtype='object')"
      ]
     },
     "execution_count": 51,
     "metadata": {},
     "output_type": "execute_result"
    }
   ],
   "source": [
    "df.columns"
   ]
  },
  {
   "cell_type": "markdown",
   "metadata": {},
   "source": [
    "### Getting Started"
   ]
  },
  {
   "cell_type": "code",
   "execution_count": 59,
   "metadata": {
    "scrolled": false
   },
   "outputs": [
    {
     "data": {
      "image/png": "[encoded data removed]",
      "text/plain": [
       "<Figure size 432x288 with 1 Axes>"
      ]
     },
     "metadata": {},
     "output_type": "display_data"
    }
   ],
   "source": [
    "# create a barplot using seaborn\n",
    "sns.barplot(df['Category'], df['Sales'], palette=\"BuGn_d\", estimator=sum);"
   ]
  },
  {
   "cell_type": "code",
   "execution_count": 41,
   "metadata": {},
   "outputs": [
    {
     "data": {
      "text/plain": [
       "Order ID\n",
       "CA-2011-100006                                  [AT&T EL51110 DECT]\n",
       "CA-2011-100090    [Hon 2111 Invitation Series Corner Table, Wils...\n",
       "CA-2011-100293                                         [Xerox 1887]\n",
       "CA-2011-100328    [Pressboard Covers with Storage Hooks, 9 1/2\" ...\n",
       "CA-2011-100363    [Binder Clips by OIC, Things To Do Today Spira...\n",
       "CA-2011-100391                       [Strathmore Photo Frame Cards]\n",
       "CA-2011-100678    [Prang Dustless Chalk Sticks, DMI Arturo Colle...\n",
       "CA-2011-100706    [Case Logic 2.4GHz Wireless Keyboard, Ultra Do...\n",
       "CA-2011-100762    [Hunt PowerHouse Electric Pencil Sharpener, Bl...\n",
       "CA-2011-100860    [Smead Alpha-Z Color-Coded Name Labels First L...\n",
       "dtype: object"
      ]
     },
     "execution_count": 41,
     "metadata": {},
     "output_type": "execute_result"
    }
   ],
   "source": [
    "# Create a new dataframe, grouping by order ID\n",
    "d2 = df.groupby('Order ID').apply(lambda x: [x for x in x['Product Name']])\n",
    "d2.head(10)"
   ]
  },
  {
   "cell_type": "code",
   "execution_count": 60,
   "metadata": {},
   "outputs": [
    {
     "data": {
      "text/plain": [
       "pandas.core.series.Series"
      ]
     },
     "execution_count": 60,
     "metadata": {},
     "output_type": "execute_result"
    }
   ],
   "source": [
    "# what is it?\n",
    "type(d2)"
   ]
  },
  {
   "cell_type": "code",
   "execution_count": 7,
   "metadata": {},
   "outputs": [
    {
     "data": {
      "text/html": [
       "<div>\n",
       "<style scoped>\n",
       "    .dataframe tbody tr th:only-of-type {\n",
       "        vertical-align: middle;\n",
       "    }\n",
       "\n",
       "    .dataframe tbody tr th {\n",
       "        vertical-align: top;\n",
       "    }\n",
       "\n",
       "    .dataframe thead th {\n",
       "        text-align: right;\n",
       "    }\n",
       "</style>\n",
       "<table border=\"1\" class=\"dataframe\">\n",
       "  <thead>\n",
       "    <tr style=\"text-align: right;\">\n",
       "      <th></th>\n",
       "      <th>Order ID</th>\n",
       "      <th>0</th>\n",
       "    </tr>\n",
       "  </thead>\n",
       "  <tbody>\n",
       "    <tr>\n",
       "      <th>0</th>\n",
       "      <td>CA-2011-100006</td>\n",
       "      <td>[AT&amp;T EL51110 DECT]</td>\n",
       "    </tr>\n",
       "    <tr>\n",
       "      <th>1</th>\n",
       "      <td>CA-2011-100090</td>\n",
       "      <td>[Hon 2111 Invitation Series Corner Table, Wils...</td>\n",
       "    </tr>\n",
       "    <tr>\n",
       "      <th>2</th>\n",
       "      <td>CA-2011-100293</td>\n",
       "      <td>[Xerox 1887]</td>\n",
       "    </tr>\n",
       "    <tr>\n",
       "      <th>3</th>\n",
       "      <td>CA-2011-100328</td>\n",
       "      <td>[Pressboard Covers with Storage Hooks, 9 1/2\" ...</td>\n",
       "    </tr>\n",
       "    <tr>\n",
       "      <th>4</th>\n",
       "      <td>CA-2011-100363</td>\n",
       "      <td>[Binder Clips by OIC, Things To Do Today Spira...</td>\n",
       "    </tr>\n",
       "  </tbody>\n",
       "</table>\n",
       "</div>"
      ],
      "text/plain": [
       "         Order ID                                                  0\n",
       "0  CA-2011-100006                                [AT&T EL51110 DECT]\n",
       "1  CA-2011-100090  [Hon 2111 Invitation Series Corner Table, Wils...\n",
       "2  CA-2011-100293                                       [Xerox 1887]\n",
       "3  CA-2011-100328  [Pressboard Covers with Storage Hooks, 9 1/2\" ...\n",
       "4  CA-2011-100363  [Binder Clips by OIC, Things To Do Today Spira..."
      ]
     },
     "execution_count": 7,
     "metadata": {},
     "output_type": "execute_result"
    }
   ],
   "source": [
    "# Convert to a dataframe. Want the first column to be the index\n",
    "d2 = pd.DataFrame(d2).reset_index()\n",
    "d2.head()"
   ]
  },
  {
   "cell_type": "code",
   "execution_count": 8,
   "metadata": {},
   "outputs": [
    {
     "data": {
      "text/html": [
       "<div>\n",
       "<style scoped>\n",
       "    .dataframe tbody tr th:only-of-type {\n",
       "        vertical-align: middle;\n",
       "    }\n",
       "\n",
       "    .dataframe tbody tr th {\n",
       "        vertical-align: top;\n",
       "    }\n",
       "\n",
       "    .dataframe thead th {\n",
       "        text-align: right;\n",
       "    }\n",
       "</style>\n",
       "<table border=\"1\" class=\"dataframe\">\n",
       "  <thead>\n",
       "    <tr style=\"text-align: right;\">\n",
       "      <th></th>\n",
       "      <th>Order ID</th>\n",
       "      <th>Items</th>\n",
       "    </tr>\n",
       "  </thead>\n",
       "  <tbody>\n",
       "    <tr>\n",
       "      <th>0</th>\n",
       "      <td>CA-2011-100006</td>\n",
       "      <td>[AT&amp;T EL51110 DECT]</td>\n",
       "    </tr>\n",
       "    <tr>\n",
       "      <th>1</th>\n",
       "      <td>CA-2011-100090</td>\n",
       "      <td>[Hon 2111 Invitation Series Corner Table, Wils...</td>\n",
       "    </tr>\n",
       "    <tr>\n",
       "      <th>2</th>\n",
       "      <td>CA-2011-100293</td>\n",
       "      <td>[Xerox 1887]</td>\n",
       "    </tr>\n",
       "    <tr>\n",
       "      <th>3</th>\n",
       "      <td>CA-2011-100328</td>\n",
       "      <td>[Pressboard Covers with Storage Hooks, 9 1/2\" ...</td>\n",
       "    </tr>\n",
       "    <tr>\n",
       "      <th>4</th>\n",
       "      <td>CA-2011-100363</td>\n",
       "      <td>[Binder Clips by OIC, Things To Do Today Spira...</td>\n",
       "    </tr>\n",
       "  </tbody>\n",
       "</table>\n",
       "</div>"
      ],
      "text/plain": [
       "         Order ID                                              Items\n",
       "0  CA-2011-100006                                [AT&T EL51110 DECT]\n",
       "1  CA-2011-100090  [Hon 2111 Invitation Series Corner Table, Wils...\n",
       "2  CA-2011-100293                                       [Xerox 1887]\n",
       "3  CA-2011-100328  [Pressboard Covers with Storage Hooks, 9 1/2\" ...\n",
       "4  CA-2011-100363  [Binder Clips by OIC, Things To Do Today Spira..."
      ]
     },
     "execution_count": 8,
     "metadata": {},
     "output_type": "execute_result"
    }
   ],
   "source": [
    "# This is technically the new index\n",
    "d2 = d2.rename(columns={0:'Items'})\n",
    "d2.head()"
   ]
  },
  {
   "cell_type": "code",
   "execution_count": 9,
   "metadata": {},
   "outputs": [
    {
     "data": {
      "text/html": [
       "<div>\n",
       "<style scoped>\n",
       "    .dataframe tbody tr th:only-of-type {\n",
       "        vertical-align: middle;\n",
       "    }\n",
       "\n",
       "    .dataframe tbody tr th {\n",
       "        vertical-align: top;\n",
       "    }\n",
       "\n",
       "    .dataframe thead th {\n",
       "        text-align: right;\n",
       "    }\n",
       "</style>\n",
       "<table border=\"1\" class=\"dataframe\">\n",
       "  <thead>\n",
       "    <tr style=\"text-align: right;\">\n",
       "      <th></th>\n",
       "      <th>Order ID</th>\n",
       "      <th>Items</th>\n",
       "      <th>Total Items</th>\n",
       "    </tr>\n",
       "  </thead>\n",
       "  <tbody>\n",
       "    <tr>\n",
       "      <th>0</th>\n",
       "      <td>CA-2011-100006</td>\n",
       "      <td>[AT&amp;T EL51110 DECT]</td>\n",
       "      <td>1</td>\n",
       "    </tr>\n",
       "    <tr>\n",
       "      <th>1</th>\n",
       "      <td>CA-2011-100090</td>\n",
       "      <td>[Hon 2111 Invitation Series Corner Table, Wils...</td>\n",
       "      <td>2</td>\n",
       "    </tr>\n",
       "    <tr>\n",
       "      <th>2</th>\n",
       "      <td>CA-2011-100293</td>\n",
       "      <td>[Xerox 1887]</td>\n",
       "      <td>1</td>\n",
       "    </tr>\n",
       "    <tr>\n",
       "      <th>3</th>\n",
       "      <td>CA-2011-100328</td>\n",
       "      <td>[Pressboard Covers with Storage Hooks, 9 1/2\" ...</td>\n",
       "      <td>1</td>\n",
       "    </tr>\n",
       "    <tr>\n",
       "      <th>4</th>\n",
       "      <td>CA-2011-100363</td>\n",
       "      <td>[Binder Clips by OIC, Things To Do Today Spira...</td>\n",
       "      <td>2</td>\n",
       "    </tr>\n",
       "  </tbody>\n",
       "</table>\n",
       "</div>"
      ],
      "text/plain": [
       "         Order ID                                              Items  \\\n",
       "0  CA-2011-100006                                [AT&T EL51110 DECT]   \n",
       "1  CA-2011-100090  [Hon 2111 Invitation Series Corner Table, Wils...   \n",
       "2  CA-2011-100293                                       [Xerox 1887]   \n",
       "3  CA-2011-100328  [Pressboard Covers with Storage Hooks, 9 1/2\" ...   \n",
       "4  CA-2011-100363  [Binder Clips by OIC, Things To Do Today Spira...   \n",
       "\n",
       "   Total Items  \n",
       "0            1  \n",
       "1            2  \n",
       "2            1  \n",
       "3            1  \n",
       "4            2  "
      ]
     },
     "execution_count": 9,
     "metadata": {},
     "output_type": "execute_result"
    }
   ],
   "source": [
    "# Get total items for our new column\n",
    "d2['Total Items'] = d2['Items'].apply(lambda x: len(x))\n",
    "d2.head()"
   ]
  },
  {
   "cell_type": "code",
   "execution_count": 10,
   "metadata": {},
   "outputs": [
    {
     "data": {
      "text/html": [
       "<div>\n",
       "<style scoped>\n",
       "    .dataframe tbody tr th:only-of-type {\n",
       "        vertical-align: middle;\n",
       "    }\n",
       "\n",
       "    .dataframe tbody tr th {\n",
       "        vertical-align: top;\n",
       "    }\n",
       "\n",
       "    .dataframe thead th {\n",
       "        text-align: right;\n",
       "    }\n",
       "</style>\n",
       "<table border=\"1\" class=\"dataframe\">\n",
       "  <thead>\n",
       "    <tr style=\"text-align: right;\">\n",
       "      <th></th>\n",
       "      <th>Order ID</th>\n",
       "      <th>Items</th>\n",
       "      <th>Total Items</th>\n",
       "    </tr>\n",
       "  </thead>\n",
       "  <tbody>\n",
       "    <tr>\n",
       "      <th>1</th>\n",
       "      <td>CA-2011-100090</td>\n",
       "      <td>[Hon 2111 Invitation Series Corner Table, Wils...</td>\n",
       "      <td>2</td>\n",
       "    </tr>\n",
       "    <tr>\n",
       "      <th>4</th>\n",
       "      <td>CA-2011-100363</td>\n",
       "      <td>[Binder Clips by OIC, Things To Do Today Spira...</td>\n",
       "      <td>2</td>\n",
       "    </tr>\n",
       "    <tr>\n",
       "      <th>6</th>\n",
       "      <td>CA-2011-100678</td>\n",
       "      <td>[Prang Dustless Chalk Sticks, DMI Arturo Colle...</td>\n",
       "      <td>4</td>\n",
       "    </tr>\n",
       "    <tr>\n",
       "      <th>7</th>\n",
       "      <td>CA-2011-100706</td>\n",
       "      <td>[Case Logic 2.4GHz Wireless Keyboard, Ultra Do...</td>\n",
       "      <td>2</td>\n",
       "    </tr>\n",
       "    <tr>\n",
       "      <th>8</th>\n",
       "      <td>CA-2011-100762</td>\n",
       "      <td>[Hunt PowerHouse Electric Pencil Sharpener, Bl...</td>\n",
       "      <td>4</td>\n",
       "    </tr>\n",
       "  </tbody>\n",
       "</table>\n",
       "</div>"
      ],
      "text/plain": [
       "         Order ID                                              Items  \\\n",
       "1  CA-2011-100090  [Hon 2111 Invitation Series Corner Table, Wils...   \n",
       "4  CA-2011-100363  [Binder Clips by OIC, Things To Do Today Spira...   \n",
       "6  CA-2011-100678  [Prang Dustless Chalk Sticks, DMI Arturo Colle...   \n",
       "7  CA-2011-100706  [Case Logic 2.4GHz Wireless Keyboard, Ultra Do...   \n",
       "8  CA-2011-100762  [Hunt PowerHouse Electric Pencil Sharpener, Bl...   \n",
       "\n",
       "   Total Items  \n",
       "1            2  \n",
       "4            2  \n",
       "6            4  \n",
       "7            2  \n",
       "8            4  "
      ]
     },
     "execution_count": 10,
     "metadata": {},
     "output_type": "execute_result"
    }
   ],
   "source": [
    "# Want Order ID with more than one item\n",
    "d3 = d2[d2['Total Items'] > 1]\n",
    "d3.head()"
   ]
  },
  {
   "cell_type": "code",
   "execution_count": 11,
   "metadata": {},
   "outputs": [],
   "source": [
    "from collections import Counter\n",
    "# A counter is a container that stores elements as dictionary keys, and their counts are stored as dictionary values.\n",
    "from itertools import combinations, groupby\n",
    "\n",
    "def get_item_pairs(order):\n",
    "    \n",
    "    for items in order:\n",
    "    \n",
    "        # For each item list, generate item pairs, one at a time\n",
    "        for item_pair in combinations(items, 2):\n",
    "            yield item_pair                                   "
   ]
  },
  {
   "cell_type": "code",
   "execution_count": 12,
   "metadata": {},
   "outputs": [],
   "source": [
    "c = Counter(get_item_pairs(d3['Items'].tolist()))"
   ]
  },
  {
   "cell_type": "code",
   "execution_count": 13,
   "metadata": {},
   "outputs": [
    {
     "data": {
      "text/html": [
       "<div>\n",
       "<style scoped>\n",
       "    .dataframe tbody tr th:only-of-type {\n",
       "        vertical-align: middle;\n",
       "    }\n",
       "\n",
       "    .dataframe tbody tr th {\n",
       "        vertical-align: top;\n",
       "    }\n",
       "\n",
       "    .dataframe thead th {\n",
       "        text-align: right;\n",
       "    }\n",
       "</style>\n",
       "<table border=\"1\" class=\"dataframe\">\n",
       "  <thead>\n",
       "    <tr style=\"text-align: right;\">\n",
       "      <th></th>\n",
       "      <th>index</th>\n",
       "      <th>0</th>\n",
       "    </tr>\n",
       "  </thead>\n",
       "  <tbody>\n",
       "    <tr>\n",
       "      <th>0</th>\n",
       "      <td>(Hon 2111 Invitation Series Corner Table, Wils...</td>\n",
       "      <td>1</td>\n",
       "    </tr>\n",
       "    <tr>\n",
       "      <th>1</th>\n",
       "      <td>(Binder Clips by OIC, Things To Do Today Spira...</td>\n",
       "      <td>1</td>\n",
       "    </tr>\n",
       "    <tr>\n",
       "      <th>2</th>\n",
       "      <td>(Prang Dustless Chalk Sticks, DMI Arturo Colle...</td>\n",
       "      <td>1</td>\n",
       "    </tr>\n",
       "    <tr>\n",
       "      <th>3</th>\n",
       "      <td>(Prang Dustless Chalk Sticks, Cameo Buff Polic...</td>\n",
       "      <td>1</td>\n",
       "    </tr>\n",
       "    <tr>\n",
       "      <th>4</th>\n",
       "      <td>(Prang Dustless Chalk Sticks, Kensington Exper...</td>\n",
       "      <td>1</td>\n",
       "    </tr>\n",
       "  </tbody>\n",
       "</table>\n",
       "</div>"
      ],
      "text/plain": [
       "                                               index  0\n",
       "0  (Hon 2111 Invitation Series Corner Table, Wils...  1\n",
       "1  (Binder Clips by OIC, Things To Do Today Spira...  1\n",
       "2  (Prang Dustless Chalk Sticks, DMI Arturo Colle...  1\n",
       "3  (Prang Dustless Chalk Sticks, Cameo Buff Polic...  1\n",
       "4  (Prang Dustless Chalk Sticks, Kensington Exper...  1"
      ]
     },
     "execution_count": 13,
     "metadata": {},
     "output_type": "execute_result"
    }
   ],
   "source": [
    "pairs = pd.DataFrame.from_dict(c, orient='index').reset_index()\n",
    "pairs.head()"
   ]
  },
  {
   "cell_type": "code",
   "execution_count": 14,
   "metadata": {},
   "outputs": [
    {
     "data": {
      "text/html": [
       "<div>\n",
       "<style scoped>\n",
       "    .dataframe tbody tr th:only-of-type {\n",
       "        vertical-align: middle;\n",
       "    }\n",
       "\n",
       "    .dataframe tbody tr th {\n",
       "        vertical-align: top;\n",
       "    }\n",
       "\n",
       "    .dataframe thead th {\n",
       "        text-align: right;\n",
       "    }\n",
       "</style>\n",
       "<table border=\"1\" class=\"dataframe\">\n",
       "  <thead>\n",
       "    <tr style=\"text-align: right;\">\n",
       "      <th></th>\n",
       "      <th>pair</th>\n",
       "      <th>count</th>\n",
       "    </tr>\n",
       "  </thead>\n",
       "  <tbody>\n",
       "    <tr>\n",
       "      <th>0</th>\n",
       "      <td>(Hon 2111 Invitation Series Corner Table, Wils...</td>\n",
       "      <td>1</td>\n",
       "    </tr>\n",
       "    <tr>\n",
       "      <th>1</th>\n",
       "      <td>(Binder Clips by OIC, Things To Do Today Spira...</td>\n",
       "      <td>1</td>\n",
       "    </tr>\n",
       "    <tr>\n",
       "      <th>2</th>\n",
       "      <td>(Prang Dustless Chalk Sticks, DMI Arturo Colle...</td>\n",
       "      <td>1</td>\n",
       "    </tr>\n",
       "    <tr>\n",
       "      <th>3</th>\n",
       "      <td>(Prang Dustless Chalk Sticks, Cameo Buff Polic...</td>\n",
       "      <td>1</td>\n",
       "    </tr>\n",
       "    <tr>\n",
       "      <th>4</th>\n",
       "      <td>(Prang Dustless Chalk Sticks, Kensington Exper...</td>\n",
       "      <td>1</td>\n",
       "    </tr>\n",
       "  </tbody>\n",
       "</table>\n",
       "</div>"
      ],
      "text/plain": [
       "                                                pair  count\n",
       "0  (Hon 2111 Invitation Series Corner Table, Wils...      1\n",
       "1  (Binder Clips by OIC, Things To Do Today Spira...      1\n",
       "2  (Prang Dustless Chalk Sticks, DMI Arturo Colle...      1\n",
       "3  (Prang Dustless Chalk Sticks, Cameo Buff Polic...      1\n",
       "4  (Prang Dustless Chalk Sticks, Kensington Exper...      1"
      ]
     },
     "execution_count": 14,
     "metadata": {},
     "output_type": "execute_result"
    }
   ],
   "source": [
    "pairs = pairs.rename(columns={'index':'pair', 0:'count'})\n",
    "pairs.head()"
   ]
  },
  {
   "cell_type": "code",
   "execution_count": 15,
   "metadata": {},
   "outputs": [
    {
     "data": {
      "text/html": [
       "<div>\n",
       "<style scoped>\n",
       "    .dataframe tbody tr th:only-of-type {\n",
       "        vertical-align: middle;\n",
       "    }\n",
       "\n",
       "    .dataframe tbody tr th {\n",
       "        vertical-align: top;\n",
       "    }\n",
       "\n",
       "    .dataframe thead th {\n",
       "        text-align: right;\n",
       "    }\n",
       "</style>\n",
       "<table border=\"1\" class=\"dataframe\">\n",
       "  <thead>\n",
       "    <tr style=\"text-align: right;\">\n",
       "      <th></th>\n",
       "      <th>pair</th>\n",
       "      <th>count</th>\n",
       "    </tr>\n",
       "  </thead>\n",
       "  <tbody>\n",
       "    <tr>\n",
       "      <th>1276</th>\n",
       "      <td>(Staple envelope, Xerox 1971)</td>\n",
       "      <td>2</td>\n",
       "    </tr>\n",
       "    <tr>\n",
       "      <th>1218</th>\n",
       "      <td>(Insertable Tab Post Binder Dividers, GBC Velo...</td>\n",
       "      <td>2</td>\n",
       "    </tr>\n",
       "    <tr>\n",
       "      <th>6835</th>\n",
       "      <td>(SAFCO Optional Arm Kit for Workspace Cribbage...</td>\n",
       "      <td>2</td>\n",
       "    </tr>\n",
       "    <tr>\n",
       "      <th>6232</th>\n",
       "      <td>(Newell 344, Memorex Micro Travel Drive 16 GB)</td>\n",
       "      <td>2</td>\n",
       "    </tr>\n",
       "    <tr>\n",
       "      <th>4512</th>\n",
       "      <td>(Acco Hanging Data Binders, Newell 315)</td>\n",
       "      <td>2</td>\n",
       "    </tr>\n",
       "  </tbody>\n",
       "</table>\n",
       "</div>"
      ],
      "text/plain": [
       "                                                   pair  count\n",
       "1276                      (Staple envelope, Xerox 1971)      2\n",
       "1218  (Insertable Tab Post Binder Dividers, GBC Velo...      2\n",
       "6835  (SAFCO Optional Arm Kit for Workspace Cribbage...      2\n",
       "6232     (Newell 344, Memorex Micro Travel Drive 16 GB)      2\n",
       "4512            (Acco Hanging Data Binders, Newell 315)      2"
      ]
     },
     "execution_count": 15,
     "metadata": {},
     "output_type": "execute_result"
    }
   ],
   "source": [
    "pairs.sort_values(by='count', ascending=False).head()"
   ]
  },
  {
   "cell_type": "code",
   "execution_count": 16,
   "metadata": {},
   "outputs": [],
   "source": [
    "d2 = df.groupby('Order ID').apply(lambda x: [x for x in x['Sub-Category']])\n",
    "d2 = pd.DataFrame(d2).reset_index()\n",
    "d2 = d2.rename(columns={0:'Items'})\n",
    "d2['Total Items'] = d2['Items'].apply(lambda x: len(x))\n",
    "d3 = d2[d2['Total Items'] > 1]"
   ]
  },
  {
   "cell_type": "code",
   "execution_count": 17,
   "metadata": {},
   "outputs": [
    {
     "data": {
      "text/html": [
       "<div>\n",
       "<style scoped>\n",
       "    .dataframe tbody tr th:only-of-type {\n",
       "        vertical-align: middle;\n",
       "    }\n",
       "\n",
       "    .dataframe tbody tr th {\n",
       "        vertical-align: top;\n",
       "    }\n",
       "\n",
       "    .dataframe thead th {\n",
       "        text-align: right;\n",
       "    }\n",
       "</style>\n",
       "<table border=\"1\" class=\"dataframe\">\n",
       "  <thead>\n",
       "    <tr style=\"text-align: right;\">\n",
       "      <th></th>\n",
       "      <th>Order ID</th>\n",
       "      <th>Items</th>\n",
       "      <th>Total Items</th>\n",
       "    </tr>\n",
       "  </thead>\n",
       "  <tbody>\n",
       "    <tr>\n",
       "      <th>1</th>\n",
       "      <td>CA-2011-100090</td>\n",
       "      <td>[Tables, Binders]</td>\n",
       "      <td>2</td>\n",
       "    </tr>\n",
       "    <tr>\n",
       "      <th>4</th>\n",
       "      <td>CA-2011-100363</td>\n",
       "      <td>[Fasteners, Paper]</td>\n",
       "      <td>2</td>\n",
       "    </tr>\n",
       "    <tr>\n",
       "      <th>6</th>\n",
       "      <td>CA-2011-100678</td>\n",
       "      <td>[Art, Chairs, Envelopes, Accessories]</td>\n",
       "      <td>4</td>\n",
       "    </tr>\n",
       "    <tr>\n",
       "      <th>7</th>\n",
       "      <td>CA-2011-100706</td>\n",
       "      <td>[Accessories, Furnishings]</td>\n",
       "      <td>2</td>\n",
       "    </tr>\n",
       "    <tr>\n",
       "      <th>8</th>\n",
       "      <td>CA-2011-100762</td>\n",
       "      <td>[Art, Labels, Paper, Paper]</td>\n",
       "      <td>4</td>\n",
       "    </tr>\n",
       "  </tbody>\n",
       "</table>\n",
       "</div>"
      ],
      "text/plain": [
       "         Order ID                                  Items  Total Items\n",
       "1  CA-2011-100090                      [Tables, Binders]            2\n",
       "4  CA-2011-100363                     [Fasteners, Paper]            2\n",
       "6  CA-2011-100678  [Art, Chairs, Envelopes, Accessories]            4\n",
       "7  CA-2011-100706             [Accessories, Furnishings]            2\n",
       "8  CA-2011-100762            [Art, Labels, Paper, Paper]            4"
      ]
     },
     "execution_count": 17,
     "metadata": {},
     "output_type": "execute_result"
    }
   ],
   "source": [
    "d3.head()"
   ]
  },
  {
   "cell_type": "code",
   "execution_count": 18,
   "metadata": {},
   "outputs": [],
   "source": [
    "c2 = Counter(get_item_pairs(d3['Items'].tolist()))"
   ]
  },
  {
   "cell_type": "code",
   "execution_count": 19,
   "metadata": {},
   "outputs": [
    {
     "data": {
      "text/html": [
       "<div>\n",
       "<style scoped>\n",
       "    .dataframe tbody tr th:only-of-type {\n",
       "        vertical-align: middle;\n",
       "    }\n",
       "\n",
       "    .dataframe tbody tr th {\n",
       "        vertical-align: top;\n",
       "    }\n",
       "\n",
       "    .dataframe thead th {\n",
       "        text-align: right;\n",
       "    }\n",
       "</style>\n",
       "<table border=\"1\" class=\"dataframe\">\n",
       "  <thead>\n",
       "    <tr style=\"text-align: right;\">\n",
       "      <th></th>\n",
       "      <th>index</th>\n",
       "      <th>0</th>\n",
       "    </tr>\n",
       "  </thead>\n",
       "  <tbody>\n",
       "    <tr>\n",
       "      <th>0</th>\n",
       "      <td>(Tables, Binders)</td>\n",
       "      <td>44</td>\n",
       "    </tr>\n",
       "    <tr>\n",
       "      <th>1</th>\n",
       "      <td>(Fasteners, Paper)</td>\n",
       "      <td>40</td>\n",
       "    </tr>\n",
       "    <tr>\n",
       "      <th>2</th>\n",
       "      <td>(Art, Chairs)</td>\n",
       "      <td>52</td>\n",
       "    </tr>\n",
       "    <tr>\n",
       "      <th>3</th>\n",
       "      <td>(Art, Envelopes)</td>\n",
       "      <td>18</td>\n",
       "    </tr>\n",
       "    <tr>\n",
       "      <th>4</th>\n",
       "      <td>(Art, Accessories)</td>\n",
       "      <td>65</td>\n",
       "    </tr>\n",
       "  </tbody>\n",
       "</table>\n",
       "</div>"
      ],
      "text/plain": [
       "                index   0\n",
       "0   (Tables, Binders)  44\n",
       "1  (Fasteners, Paper)  40\n",
       "2       (Art, Chairs)  52\n",
       "3    (Art, Envelopes)  18\n",
       "4  (Art, Accessories)  65"
      ]
     },
     "execution_count": 19,
     "metadata": {},
     "output_type": "execute_result"
    }
   ],
   "source": [
    "p2 = pd.DataFrame.from_dict(c2, orient='index').reset_index()\n",
    "p2.head()"
   ]
  },
  {
   "cell_type": "code",
   "execution_count": 20,
   "metadata": {},
   "outputs": [
    {
     "data": {
      "text/html": [
       "<div>\n",
       "<style scoped>\n",
       "    .dataframe tbody tr th:only-of-type {\n",
       "        vertical-align: middle;\n",
       "    }\n",
       "\n",
       "    .dataframe tbody tr th {\n",
       "        vertical-align: top;\n",
       "    }\n",
       "\n",
       "    .dataframe thead th {\n",
       "        text-align: right;\n",
       "    }\n",
       "</style>\n",
       "<table border=\"1\" class=\"dataframe\">\n",
       "  <thead>\n",
       "    <tr style=\"text-align: right;\">\n",
       "      <th></th>\n",
       "      <th>pair</th>\n",
       "      <th>count</th>\n",
       "    </tr>\n",
       "  </thead>\n",
       "  <tbody>\n",
       "    <tr>\n",
       "      <th>61</th>\n",
       "      <td>(Binders, Binders)</td>\n",
       "      <td>228</td>\n",
       "    </tr>\n",
       "    <tr>\n",
       "      <th>23</th>\n",
       "      <td>(Paper, Binders)</td>\n",
       "      <td>211</td>\n",
       "    </tr>\n",
       "    <tr>\n",
       "      <th>12</th>\n",
       "      <td>(Paper, Paper)</td>\n",
       "      <td>195</td>\n",
       "    </tr>\n",
       "    <tr>\n",
       "      <th>56</th>\n",
       "      <td>(Binders, Paper)</td>\n",
       "      <td>188</td>\n",
       "    </tr>\n",
       "    <tr>\n",
       "      <th>21</th>\n",
       "      <td>(Furnishings, Binders)</td>\n",
       "      <td>154</td>\n",
       "    </tr>\n",
       "  </tbody>\n",
       "</table>\n",
       "</div>"
      ],
      "text/plain": [
       "                      pair  count\n",
       "61      (Binders, Binders)    228\n",
       "23        (Paper, Binders)    211\n",
       "12          (Paper, Paper)    195\n",
       "56        (Binders, Paper)    188\n",
       "21  (Furnishings, Binders)    154"
      ]
     },
     "execution_count": 20,
     "metadata": {},
     "output_type": "execute_result"
    }
   ],
   "source": [
    "p2 = p2.rename(columns={'index':'pair', 0:'count'})\n",
    "p2.sort_values(by='count', ascending=False)[:5]"
   ]
  },
  {
   "cell_type": "code",
   "execution_count": 21,
   "metadata": {},
   "outputs": [
    {
     "data": {
      "text/html": [
       "<div>\n",
       "<style scoped>\n",
       "    .dataframe tbody tr th:only-of-type {\n",
       "        vertical-align: middle;\n",
       "    }\n",
       "\n",
       "    .dataframe tbody tr th {\n",
       "        vertical-align: top;\n",
       "    }\n",
       "\n",
       "    .dataframe thead th {\n",
       "        text-align: right;\n",
       "    }\n",
       "</style>\n",
       "<table border=\"1\" class=\"dataframe\">\n",
       "  <thead>\n",
       "    <tr style=\"text-align: right;\">\n",
       "      <th></th>\n",
       "      <th>Sub-Category</th>\n",
       "      <th>Postal Code</th>\n",
       "      <th>Sales</th>\n",
       "      <th>Quantity</th>\n",
       "      <th>Discount</th>\n",
       "      <th>Profit</th>\n",
       "    </tr>\n",
       "  </thead>\n",
       "  <tbody>\n",
       "    <tr>\n",
       "      <th>0</th>\n",
       "      <td>Accessories</td>\n",
       "      <td>44468434</td>\n",
       "      <td>167380.3180</td>\n",
       "      <td>2976</td>\n",
       "      <td>60.80</td>\n",
       "      <td>41936.6357</td>\n",
       "    </tr>\n",
       "    <tr>\n",
       "      <th>1</th>\n",
       "      <td>Appliances</td>\n",
       "      <td>25250538</td>\n",
       "      <td>107532.1610</td>\n",
       "      <td>1729</td>\n",
       "      <td>77.60</td>\n",
       "      <td>18138.0054</td>\n",
       "    </tr>\n",
       "    <tr>\n",
       "      <th>2</th>\n",
       "      <td>Art</td>\n",
       "      <td>43329658</td>\n",
       "      <td>27118.7920</td>\n",
       "      <td>3000</td>\n",
       "      <td>59.60</td>\n",
       "      <td>6527.7870</td>\n",
       "    </tr>\n",
       "    <tr>\n",
       "      <th>3</th>\n",
       "      <td>Binders</td>\n",
       "      <td>83626398</td>\n",
       "      <td>203412.7330</td>\n",
       "      <td>5974</td>\n",
       "      <td>567.00</td>\n",
       "      <td>30221.7633</td>\n",
       "    </tr>\n",
       "    <tr>\n",
       "      <th>4</th>\n",
       "      <td>Bookcases</td>\n",
       "      <td>12771539</td>\n",
       "      <td>114879.9963</td>\n",
       "      <td>868</td>\n",
       "      <td>48.14</td>\n",
       "      <td>-3472.5560</td>\n",
       "    </tr>\n",
       "  </tbody>\n",
       "</table>\n",
       "</div>"
      ],
      "text/plain": [
       "  Sub-Category  Postal Code        Sales  Quantity  Discount      Profit\n",
       "0  Accessories     44468434  167380.3180      2976     60.80  41936.6357\n",
       "1   Appliances     25250538  107532.1610      1729     77.60  18138.0054\n",
       "2          Art     43329658   27118.7920      3000     59.60   6527.7870\n",
       "3      Binders     83626398  203412.7330      5974    567.00  30221.7633\n",
       "4    Bookcases     12771539  114879.9963       868     48.14  -3472.5560"
      ]
     },
     "execution_count": 21,
     "metadata": {},
     "output_type": "execute_result"
    }
   ],
   "source": [
    "total = df.groupby(by='Sub-Category').sum().reset_index()\n",
    "total.head()"
   ]
  },
  {
   "cell_type": "code",
   "execution_count": 22,
   "metadata": {},
   "outputs": [
    {
     "data": {
      "text/html": [
       "<div>\n",
       "<style scoped>\n",
       "    .dataframe tbody tr th:only-of-type {\n",
       "        vertical-align: middle;\n",
       "    }\n",
       "\n",
       "    .dataframe tbody tr th {\n",
       "        vertical-align: top;\n",
       "    }\n",
       "\n",
       "    .dataframe thead th {\n",
       "        text-align: right;\n",
       "    }\n",
       "</style>\n",
       "<table border=\"1\" class=\"dataframe\">\n",
       "  <thead>\n",
       "    <tr style=\"text-align: right;\">\n",
       "      <th></th>\n",
       "      <th>Sub-Category</th>\n",
       "      <th>Postal Code</th>\n",
       "      <th>Sales</th>\n",
       "      <th>Quantity</th>\n",
       "      <th>Discount</th>\n",
       "      <th>Profit</th>\n",
       "    </tr>\n",
       "  </thead>\n",
       "  <tbody>\n",
       "    <tr>\n",
       "      <th>0</th>\n",
       "      <td>Accessories</td>\n",
       "      <td>57378.624516</td>\n",
       "      <td>215.974604</td>\n",
       "      <td>3.840000</td>\n",
       "      <td>0.078452</td>\n",
       "      <td>54.111788</td>\n",
       "    </tr>\n",
       "    <tr>\n",
       "      <th>1</th>\n",
       "      <td>Appliances</td>\n",
       "      <td>54185.703863</td>\n",
       "      <td>230.755710</td>\n",
       "      <td>3.710300</td>\n",
       "      <td>0.166524</td>\n",
       "      <td>38.922758</td>\n",
       "    </tr>\n",
       "    <tr>\n",
       "      <th>2</th>\n",
       "      <td>Art</td>\n",
       "      <td>54434.243719</td>\n",
       "      <td>34.068834</td>\n",
       "      <td>3.768844</td>\n",
       "      <td>0.074874</td>\n",
       "      <td>8.200737</td>\n",
       "    </tr>\n",
       "    <tr>\n",
       "      <th>3</th>\n",
       "      <td>Binders</td>\n",
       "      <td>54908.994091</td>\n",
       "      <td>133.560560</td>\n",
       "      <td>3.922521</td>\n",
       "      <td>0.372292</td>\n",
       "      <td>19.843574</td>\n",
       "    </tr>\n",
       "    <tr>\n",
       "      <th>4</th>\n",
       "      <td>Bookcases</td>\n",
       "      <td>56015.521930</td>\n",
       "      <td>503.859633</td>\n",
       "      <td>3.807018</td>\n",
       "      <td>0.211140</td>\n",
       "      <td>-15.230509</td>\n",
       "    </tr>\n",
       "  </tbody>\n",
       "</table>\n",
       "</div>"
      ],
      "text/plain": [
       "  Sub-Category   Postal Code       Sales  Quantity  Discount     Profit\n",
       "0  Accessories  57378.624516  215.974604  3.840000  0.078452  54.111788\n",
       "1   Appliances  54185.703863  230.755710  3.710300  0.166524  38.922758\n",
       "2          Art  54434.243719   34.068834  3.768844  0.074874   8.200737\n",
       "3      Binders  54908.994091  133.560560  3.922521  0.372292  19.843574\n",
       "4    Bookcases  56015.521930  503.859633  3.807018  0.211140 -15.230509"
      ]
     },
     "execution_count": 22,
     "metadata": {},
     "output_type": "execute_result"
    }
   ],
   "source": [
    "mean = df.groupby(by='Sub-Category').mean().reset_index()\n",
    "mean.head()"
   ]
  },
  {
   "cell_type": "code",
   "execution_count": 23,
   "metadata": {},
   "outputs": [],
   "source": [
    "p2[['item1', 'item2']] = p2['pair'].apply(pd.Series)"
   ]
  },
  {
   "cell_type": "code",
   "execution_count": 24,
   "metadata": {},
   "outputs": [],
   "source": [
    "p2 = p2.merge(total, how=\"left\", left_on=\"item1\", right_on=\"Sub-Category\")"
   ]
  },
  {
   "cell_type": "code",
   "execution_count": 25,
   "metadata": {},
   "outputs": [
    {
     "data": {
      "text/html": [
       "<div>\n",
       "<style scoped>\n",
       "    .dataframe tbody tr th:only-of-type {\n",
       "        vertical-align: middle;\n",
       "    }\n",
       "\n",
       "    .dataframe tbody tr th {\n",
       "        vertical-align: top;\n",
       "    }\n",
       "\n",
       "    .dataframe thead th {\n",
       "        text-align: right;\n",
       "    }\n",
       "</style>\n",
       "<table border=\"1\" class=\"dataframe\">\n",
       "  <thead>\n",
       "    <tr style=\"text-align: right;\">\n",
       "      <th></th>\n",
       "      <th>pair</th>\n",
       "      <th>count</th>\n",
       "      <th>item1</th>\n",
       "      <th>item2</th>\n",
       "      <th>Sub-Category_item1</th>\n",
       "      <th>Postal Code_item1</th>\n",
       "      <th>Sales_item1</th>\n",
       "      <th>Quantity_item1</th>\n",
       "      <th>Discount_item1</th>\n",
       "      <th>Profit_item1</th>\n",
       "      <th>Sub-Category_item2</th>\n",
       "      <th>Postal Code_item2</th>\n",
       "      <th>Sales_item2</th>\n",
       "      <th>Quantity_item2</th>\n",
       "      <th>Discount_item2</th>\n",
       "      <th>Profit_item2</th>\n",
       "    </tr>\n",
       "  </thead>\n",
       "  <tbody>\n",
       "    <tr>\n",
       "      <th>0</th>\n",
       "      <td>(Tables, Binders)</td>\n",
       "      <td>44</td>\n",
       "      <td>Tables</td>\n",
       "      <td>Binders</td>\n",
       "      <td>Tables</td>\n",
       "      <td>18607828</td>\n",
       "      <td>206965.532</td>\n",
       "      <td>1241</td>\n",
       "      <td>83.35</td>\n",
       "      <td>-17725.4811</td>\n",
       "      <td>Binders</td>\n",
       "      <td>83626398</td>\n",
       "      <td>203412.733</td>\n",
       "      <td>5974</td>\n",
       "      <td>567.0</td>\n",
       "      <td>30221.7633</td>\n",
       "    </tr>\n",
       "    <tr>\n",
       "      <th>1</th>\n",
       "      <td>(Fasteners, Paper)</td>\n",
       "      <td>40</td>\n",
       "      <td>Fasteners</td>\n",
       "      <td>Paper</td>\n",
       "      <td>Fasteners</td>\n",
       "      <td>12506063</td>\n",
       "      <td>3024.280</td>\n",
       "      <td>914</td>\n",
       "      <td>17.80</td>\n",
       "      <td>949.5182</td>\n",
       "      <td>Paper</td>\n",
       "      <td>76299221</td>\n",
       "      <td>78479.206</td>\n",
       "      <td>5178</td>\n",
       "      <td>102.6</td>\n",
       "      <td>34053.5693</td>\n",
       "    </tr>\n",
       "    <tr>\n",
       "      <th>2</th>\n",
       "      <td>(Art, Chairs)</td>\n",
       "      <td>52</td>\n",
       "      <td>Art</td>\n",
       "      <td>Chairs</td>\n",
       "      <td>Art</td>\n",
       "      <td>43329658</td>\n",
       "      <td>27118.792</td>\n",
       "      <td>3000</td>\n",
       "      <td>59.60</td>\n",
       "      <td>6527.7870</td>\n",
       "      <td>Chairs</td>\n",
       "      <td>34936229</td>\n",
       "      <td>328449.103</td>\n",
       "      <td>2356</td>\n",
       "      <td>105.0</td>\n",
       "      <td>26590.1663</td>\n",
       "    </tr>\n",
       "    <tr>\n",
       "      <th>3</th>\n",
       "      <td>(Art, Envelopes)</td>\n",
       "      <td>18</td>\n",
       "      <td>Art</td>\n",
       "      <td>Envelopes</td>\n",
       "      <td>Art</td>\n",
       "      <td>43329658</td>\n",
       "      <td>27118.792</td>\n",
       "      <td>3000</td>\n",
       "      <td>59.60</td>\n",
       "      <td>6527.7870</td>\n",
       "      <td>Envelopes</td>\n",
       "      <td>13325731</td>\n",
       "      <td>16476.402</td>\n",
       "      <td>906</td>\n",
       "      <td>20.4</td>\n",
       "      <td>6964.1767</td>\n",
       "    </tr>\n",
       "    <tr>\n",
       "      <th>4</th>\n",
       "      <td>(Art, Accessories)</td>\n",
       "      <td>65</td>\n",
       "      <td>Art</td>\n",
       "      <td>Accessories</td>\n",
       "      <td>Art</td>\n",
       "      <td>43329658</td>\n",
       "      <td>27118.792</td>\n",
       "      <td>3000</td>\n",
       "      <td>59.60</td>\n",
       "      <td>6527.7870</td>\n",
       "      <td>Accessories</td>\n",
       "      <td>44468434</td>\n",
       "      <td>167380.318</td>\n",
       "      <td>2976</td>\n",
       "      <td>60.8</td>\n",
       "      <td>41936.6357</td>\n",
       "    </tr>\n",
       "  </tbody>\n",
       "</table>\n",
       "</div>"
      ],
      "text/plain": [
       "                 pair  count      item1        item2 Sub-Category_item1  \\\n",
       "0   (Tables, Binders)     44     Tables      Binders             Tables   \n",
       "1  (Fasteners, Paper)     40  Fasteners        Paper          Fasteners   \n",
       "2       (Art, Chairs)     52        Art       Chairs                Art   \n",
       "3    (Art, Envelopes)     18        Art    Envelopes                Art   \n",
       "4  (Art, Accessories)     65        Art  Accessories                Art   \n",
       "\n",
       "   Postal Code_item1  Sales_item1  Quantity_item1  Discount_item1  \\\n",
       "0           18607828   206965.532            1241           83.35   \n",
       "1           12506063     3024.280             914           17.80   \n",
       "2           43329658    27118.792            3000           59.60   \n",
       "3           43329658    27118.792            3000           59.60   \n",
       "4           43329658    27118.792            3000           59.60   \n",
       "\n",
       "   Profit_item1 Sub-Category_item2  Postal Code_item2  Sales_item2  \\\n",
       "0   -17725.4811            Binders           83626398   203412.733   \n",
       "1      949.5182              Paper           76299221    78479.206   \n",
       "2     6527.7870             Chairs           34936229   328449.103   \n",
       "3     6527.7870          Envelopes           13325731    16476.402   \n",
       "4     6527.7870        Accessories           44468434   167380.318   \n",
       "\n",
       "   Quantity_item2  Discount_item2  Profit_item2  \n",
       "0            5974           567.0    30221.7633  \n",
       "1            5178           102.6    34053.5693  \n",
       "2            2356           105.0    26590.1663  \n",
       "3             906            20.4     6964.1767  \n",
       "4            2976            60.8    41936.6357  "
      ]
     },
     "execution_count": 25,
     "metadata": {},
     "output_type": "execute_result"
    }
   ],
   "source": [
    "p2 = p2.merge(total, how=\"left\", left_on=\"item2\", right_on=\"Sub-Category\", suffixes=(\"_item1\", \"_item2\"))\n",
    "p2.head()"
   ]
  },
  {
   "cell_type": "code",
   "execution_count": 26,
   "metadata": {},
   "outputs": [
    {
     "data": {
      "text/plain": [
       "0    12496.2822\n",
       "1    35003.0875\n",
       "2    33117.9533\n",
       "3    13491.9637\n",
       "4    48464.4227\n",
       "Name: pairProfit, dtype: float64"
      ]
     },
     "execution_count": 26,
     "metadata": {},
     "output_type": "execute_result"
    }
   ],
   "source": [
    "p2['pairProfit'] = p2['Profit_item1'] + p2['Profit_item2']\n",
    "p2['pairProfit'].head()"
   ]
  },
  {
   "cell_type": "code",
   "execution_count": 27,
   "metadata": {},
   "outputs": [
    {
     "data": {
      "text/plain": [
       "0    410378.265\n",
       "1     81503.486\n",
       "2    355567.895\n",
       "3     43595.194\n",
       "4    194499.110\n",
       "Name: pairSales, dtype: float64"
      ]
     },
     "execution_count": 27,
     "metadata": {},
     "output_type": "execute_result"
    }
   ],
   "source": [
    "p2['pairSales'] = p2['Sales_item1'] + p2['Sales_item2']\n",
    "p2['pairSales'].head()"
   ]
  },
  {
   "cell_type": "code",
   "execution_count": 28,
   "metadata": {},
   "outputs": [
    {
     "data": {
      "text/html": [
       "<div>\n",
       "<style scoped>\n",
       "    .dataframe tbody tr th:only-of-type {\n",
       "        vertical-align: middle;\n",
       "    }\n",
       "\n",
       "    .dataframe tbody tr th {\n",
       "        vertical-align: top;\n",
       "    }\n",
       "\n",
       "    .dataframe thead th {\n",
       "        text-align: right;\n",
       "    }\n",
       "</style>\n",
       "<table border=\"1\" class=\"dataframe\">\n",
       "  <thead>\n",
       "    <tr style=\"text-align: right;\">\n",
       "      <th></th>\n",
       "      <th>pair</th>\n",
       "      <th>count</th>\n",
       "      <th>item1</th>\n",
       "      <th>item2</th>\n",
       "      <th>Sub-Category_item1</th>\n",
       "      <th>Postal Code_item1</th>\n",
       "      <th>Sales_item1</th>\n",
       "      <th>Quantity_item1</th>\n",
       "      <th>Discount_item1</th>\n",
       "      <th>Profit_item1</th>\n",
       "      <th>...</th>\n",
       "      <th>Sales_mean_item1</th>\n",
       "      <th>Quantity_mean_item1</th>\n",
       "      <th>Discount_mean_item1</th>\n",
       "      <th>Profit_mean_item1</th>\n",
       "      <th>Sub-Category_mean_item2</th>\n",
       "      <th>Postal Code_mean_item2</th>\n",
       "      <th>Sales_mean_item2</th>\n",
       "      <th>Quantity_mean_item2</th>\n",
       "      <th>Discount_mean_item2</th>\n",
       "      <th>Profit_mean_item2</th>\n",
       "    </tr>\n",
       "  </thead>\n",
       "  <tbody>\n",
       "    <tr>\n",
       "      <th>0</th>\n",
       "      <td>(Tables, Binders)</td>\n",
       "      <td>44</td>\n",
       "      <td>Tables</td>\n",
       "      <td>Binders</td>\n",
       "      <td>Tables</td>\n",
       "      <td>18607828</td>\n",
       "      <td>206965.532</td>\n",
       "      <td>1241</td>\n",
       "      <td>83.35</td>\n",
       "      <td>-17725.4811</td>\n",
       "      <td>...</td>\n",
       "      <td>648.794771</td>\n",
       "      <td>3.890282</td>\n",
       "      <td>0.261285</td>\n",
       "      <td>-55.565771</td>\n",
       "      <td>Binders</td>\n",
       "      <td>54908.994091</td>\n",
       "      <td>133.560560</td>\n",
       "      <td>3.922521</td>\n",
       "      <td>0.372292</td>\n",
       "      <td>19.843574</td>\n",
       "    </tr>\n",
       "    <tr>\n",
       "      <th>1</th>\n",
       "      <td>(Fasteners, Paper)</td>\n",
       "      <td>40</td>\n",
       "      <td>Fasteners</td>\n",
       "      <td>Paper</td>\n",
       "      <td>Fasteners</td>\n",
       "      <td>12506063</td>\n",
       "      <td>3024.280</td>\n",
       "      <td>914</td>\n",
       "      <td>17.80</td>\n",
       "      <td>949.5182</td>\n",
       "      <td>...</td>\n",
       "      <td>13.936774</td>\n",
       "      <td>4.211982</td>\n",
       "      <td>0.082028</td>\n",
       "      <td>4.375660</td>\n",
       "      <td>Paper</td>\n",
       "      <td>55692.862044</td>\n",
       "      <td>57.284092</td>\n",
       "      <td>3.779562</td>\n",
       "      <td>0.074891</td>\n",
       "      <td>24.856620</td>\n",
       "    </tr>\n",
       "    <tr>\n",
       "      <th>2</th>\n",
       "      <td>(Art, Chairs)</td>\n",
       "      <td>52</td>\n",
       "      <td>Art</td>\n",
       "      <td>Chairs</td>\n",
       "      <td>Art</td>\n",
       "      <td>43329658</td>\n",
       "      <td>27118.792</td>\n",
       "      <td>3000</td>\n",
       "      <td>59.60</td>\n",
       "      <td>6527.7870</td>\n",
       "      <td>...</td>\n",
       "      <td>34.068834</td>\n",
       "      <td>3.768844</td>\n",
       "      <td>0.074874</td>\n",
       "      <td>8.200737</td>\n",
       "      <td>Chairs</td>\n",
       "      <td>56622.737439</td>\n",
       "      <td>532.332420</td>\n",
       "      <td>3.818476</td>\n",
       "      <td>0.170178</td>\n",
       "      <td>43.095894</td>\n",
       "    </tr>\n",
       "    <tr>\n",
       "      <th>3</th>\n",
       "      <td>(Art, Envelopes)</td>\n",
       "      <td>18</td>\n",
       "      <td>Art</td>\n",
       "      <td>Envelopes</td>\n",
       "      <td>Art</td>\n",
       "      <td>43329658</td>\n",
       "      <td>27118.792</td>\n",
       "      <td>3000</td>\n",
       "      <td>59.60</td>\n",
       "      <td>6527.7870</td>\n",
       "      <td>...</td>\n",
       "      <td>34.068834</td>\n",
       "      <td>3.768844</td>\n",
       "      <td>0.074874</td>\n",
       "      <td>8.200737</td>\n",
       "      <td>Envelopes</td>\n",
       "      <td>52463.507874</td>\n",
       "      <td>64.867724</td>\n",
       "      <td>3.566929</td>\n",
       "      <td>0.080315</td>\n",
       "      <td>27.418019</td>\n",
       "    </tr>\n",
       "    <tr>\n",
       "      <th>4</th>\n",
       "      <td>(Art, Accessories)</td>\n",
       "      <td>65</td>\n",
       "      <td>Art</td>\n",
       "      <td>Accessories</td>\n",
       "      <td>Art</td>\n",
       "      <td>43329658</td>\n",
       "      <td>27118.792</td>\n",
       "      <td>3000</td>\n",
       "      <td>59.60</td>\n",
       "      <td>6527.7870</td>\n",
       "      <td>...</td>\n",
       "      <td>34.068834</td>\n",
       "      <td>3.768844</td>\n",
       "      <td>0.074874</td>\n",
       "      <td>8.200737</td>\n",
       "      <td>Accessories</td>\n",
       "      <td>57378.624516</td>\n",
       "      <td>215.974604</td>\n",
       "      <td>3.840000</td>\n",
       "      <td>0.078452</td>\n",
       "      <td>54.111788</td>\n",
       "    </tr>\n",
       "  </tbody>\n",
       "</table>\n",
       "<p>5 rows × 30 columns</p>\n",
       "</div>"
      ],
      "text/plain": [
       "                 pair  count      item1        item2 Sub-Category_item1  \\\n",
       "0   (Tables, Binders)     44     Tables      Binders             Tables   \n",
       "1  (Fasteners, Paper)     40  Fasteners        Paper          Fasteners   \n",
       "2       (Art, Chairs)     52        Art       Chairs                Art   \n",
       "3    (Art, Envelopes)     18        Art    Envelopes                Art   \n",
       "4  (Art, Accessories)     65        Art  Accessories                Art   \n",
       "\n",
       "   Postal Code_item1  Sales_item1  Quantity_item1  Discount_item1  \\\n",
       "0           18607828   206965.532            1241           83.35   \n",
       "1           12506063     3024.280             914           17.80   \n",
       "2           43329658    27118.792            3000           59.60   \n",
       "3           43329658    27118.792            3000           59.60   \n",
       "4           43329658    27118.792            3000           59.60   \n",
       "\n",
       "   Profit_item1  ... Sales_mean_item1  Quantity_mean_item1  \\\n",
       "0   -17725.4811  ...       648.794771             3.890282   \n",
       "1      949.5182  ...        13.936774             4.211982   \n",
       "2     6527.7870  ...        34.068834             3.768844   \n",
       "3     6527.7870  ...        34.068834             3.768844   \n",
       "4     6527.7870  ...        34.068834             3.768844   \n",
       "\n",
       "   Discount_mean_item1  Profit_mean_item1  Sub-Category_mean_item2  \\\n",
       "0             0.261285         -55.565771                  Binders   \n",
       "1             0.082028           4.375660                    Paper   \n",
       "2             0.074874           8.200737                   Chairs   \n",
       "3             0.074874           8.200737                Envelopes   \n",
       "4             0.074874           8.200737              Accessories   \n",
       "\n",
       "   Postal Code_mean_item2  Sales_mean_item2  Quantity_mean_item2  \\\n",
       "0            54908.994091        133.560560             3.922521   \n",
       "1            55692.862044         57.284092             3.779562   \n",
       "2            56622.737439        532.332420             3.818476   \n",
       "3            52463.507874         64.867724             3.566929   \n",
       "4            57378.624516        215.974604             3.840000   \n",
       "\n",
       "  Discount_mean_item2  Profit_mean_item2  \n",
       "0            0.372292          19.843574  \n",
       "1            0.074891          24.856620  \n",
       "2            0.170178          43.095894  \n",
       "3            0.080315          27.418019  \n",
       "4            0.078452          54.111788  \n",
       "\n",
       "[5 rows x 30 columns]"
      ]
     },
     "execution_count": 28,
     "metadata": {},
     "output_type": "execute_result"
    }
   ],
   "source": [
    "p2 = p2.merge(mean, how=\"left\", left_on=\"item1\", right_on=\"Sub-Category\")\n",
    "p2 = p2.merge(mean, how=\"left\", left_on=\"item2\", right_on=\"Sub-Category\", suffixes=(\"_mean_item1\", \"_mean_item2\"))\n",
    "p2.head()"
   ]
  },
  {
   "cell_type": "code",
   "execution_count": 29,
   "metadata": {},
   "outputs": [
    {
     "data": {
      "text/plain": [
       "['pair',\n",
       " 'count',\n",
       " 'item1',\n",
       " 'item2',\n",
       " 'Sub-Category_item1',\n",
       " 'Postal Code_item1',\n",
       " 'Sales_item1',\n",
       " 'Quantity_item1',\n",
       " 'Discount_item1',\n",
       " 'Profit_item1',\n",
       " 'Sub-Category_item2',\n",
       " 'Postal Code_item2',\n",
       " 'Sales_item2',\n",
       " 'Quantity_item2',\n",
       " 'Discount_item2',\n",
       " 'Profit_item2',\n",
       " 'pairProfit',\n",
       " 'pairSales',\n",
       " 'Sub-Category_mean_item1',\n",
       " 'Postal Code_mean_item1',\n",
       " 'Sales_mean_item1',\n",
       " 'Quantity_mean_item1',\n",
       " 'Discount_mean_item1',\n",
       " 'Profit_mean_item1',\n",
       " 'Sub-Category_mean_item2',\n",
       " 'Postal Code_mean_item2',\n",
       " 'Sales_mean_item2',\n",
       " 'Quantity_mean_item2',\n",
       " 'Discount_mean_item2',\n",
       " 'Profit_mean_item2']"
      ]
     },
     "execution_count": 29,
     "metadata": {},
     "output_type": "execute_result"
    }
   ],
   "source": [
    "list(p2)"
   ]
  },
  {
   "cell_type": "code",
   "execution_count": 30,
   "metadata": {},
   "outputs": [
    {
     "data": {
      "text/html": [
       "<div>\n",
       "<style scoped>\n",
       "    .dataframe tbody tr th:only-of-type {\n",
       "        vertical-align: middle;\n",
       "    }\n",
       "\n",
       "    .dataframe tbody tr th {\n",
       "        vertical-align: top;\n",
       "    }\n",
       "\n",
       "    .dataframe thead th {\n",
       "        text-align: right;\n",
       "    }\n",
       "</style>\n",
       "<table border=\"1\" class=\"dataframe\">\n",
       "  <thead>\n",
       "    <tr style=\"text-align: right;\">\n",
       "      <th></th>\n",
       "      <th>pair</th>\n",
       "      <th>count</th>\n",
       "      <th>item1</th>\n",
       "      <th>item2</th>\n",
       "      <th>Sub-Category_item1</th>\n",
       "      <th>Postal Code_item1</th>\n",
       "      <th>Sales_item1</th>\n",
       "      <th>Quantity_item1</th>\n",
       "      <th>Discount_item1</th>\n",
       "      <th>Profit_item1</th>\n",
       "      <th>...</th>\n",
       "      <th>Sales_mean_item1</th>\n",
       "      <th>Quantity_mean_item1</th>\n",
       "      <th>Discount_mean_item1</th>\n",
       "      <th>Profit_mean_item1</th>\n",
       "      <th>Sub-Category_mean_item2</th>\n",
       "      <th>Postal Code_mean_item2</th>\n",
       "      <th>Sales_mean_item2</th>\n",
       "      <th>Quantity_mean_item2</th>\n",
       "      <th>Discount_mean_item2</th>\n",
       "      <th>Profit_mean_item2</th>\n",
       "    </tr>\n",
       "  </thead>\n",
       "  <tbody>\n",
       "    <tr>\n",
       "      <th>254</th>\n",
       "      <td>(Phones, Copiers)</td>\n",
       "      <td>3</td>\n",
       "      <td>Phones</td>\n",
       "      <td>Copiers</td>\n",
       "      <td>Phones</td>\n",
       "      <td>47897175</td>\n",
       "      <td>330007.054</td>\n",
       "      <td>3289</td>\n",
       "      <td>137.4</td>\n",
       "      <td>44515.7306</td>\n",
       "      <td>...</td>\n",
       "      <td>371.211534</td>\n",
       "      <td>3.699663</td>\n",
       "      <td>0.154556</td>\n",
       "      <td>50.073938</td>\n",
       "      <td>Copiers</td>\n",
       "      <td>56962.897059</td>\n",
       "      <td>2198.941618</td>\n",
       "      <td>3.441176</td>\n",
       "      <td>0.161765</td>\n",
       "      <td>817.909190</td>\n",
       "    </tr>\n",
       "    <tr>\n",
       "      <th>179</th>\n",
       "      <td>(Copiers, Phones)</td>\n",
       "      <td>9</td>\n",
       "      <td>Copiers</td>\n",
       "      <td>Phones</td>\n",
       "      <td>Copiers</td>\n",
       "      <td>3873477</td>\n",
       "      <td>149528.030</td>\n",
       "      <td>234</td>\n",
       "      <td>11.0</td>\n",
       "      <td>55617.8249</td>\n",
       "      <td>...</td>\n",
       "      <td>2198.941618</td>\n",
       "      <td>3.441176</td>\n",
       "      <td>0.161765</td>\n",
       "      <td>817.909190</td>\n",
       "      <td>Phones</td>\n",
       "      <td>53877.587177</td>\n",
       "      <td>371.211534</td>\n",
       "      <td>3.699663</td>\n",
       "      <td>0.154556</td>\n",
       "      <td>50.073938</td>\n",
       "    </tr>\n",
       "    <tr>\n",
       "      <th>276</th>\n",
       "      <td>(Accessories, Copiers)</td>\n",
       "      <td>3</td>\n",
       "      <td>Accessories</td>\n",
       "      <td>Copiers</td>\n",
       "      <td>Accessories</td>\n",
       "      <td>44468434</td>\n",
       "      <td>167380.318</td>\n",
       "      <td>2976</td>\n",
       "      <td>60.8</td>\n",
       "      <td>41936.6357</td>\n",
       "      <td>...</td>\n",
       "      <td>215.974604</td>\n",
       "      <td>3.840000</td>\n",
       "      <td>0.078452</td>\n",
       "      <td>54.111788</td>\n",
       "      <td>Copiers</td>\n",
       "      <td>56962.897059</td>\n",
       "      <td>2198.941618</td>\n",
       "      <td>3.441176</td>\n",
       "      <td>0.161765</td>\n",
       "      <td>817.909190</td>\n",
       "    </tr>\n",
       "    <tr>\n",
       "      <th>262</th>\n",
       "      <td>(Copiers, Accessories)</td>\n",
       "      <td>3</td>\n",
       "      <td>Copiers</td>\n",
       "      <td>Accessories</td>\n",
       "      <td>Copiers</td>\n",
       "      <td>3873477</td>\n",
       "      <td>149528.030</td>\n",
       "      <td>234</td>\n",
       "      <td>11.0</td>\n",
       "      <td>55617.8249</td>\n",
       "      <td>...</td>\n",
       "      <td>2198.941618</td>\n",
       "      <td>3.441176</td>\n",
       "      <td>0.161765</td>\n",
       "      <td>817.909190</td>\n",
       "      <td>Accessories</td>\n",
       "      <td>57378.624516</td>\n",
       "      <td>215.974604</td>\n",
       "      <td>3.840000</td>\n",
       "      <td>0.078452</td>\n",
       "      <td>54.111788</td>\n",
       "    </tr>\n",
       "    <tr>\n",
       "      <th>222</th>\n",
       "      <td>(Copiers, Paper)</td>\n",
       "      <td>21</td>\n",
       "      <td>Copiers</td>\n",
       "      <td>Paper</td>\n",
       "      <td>Copiers</td>\n",
       "      <td>3873477</td>\n",
       "      <td>149528.030</td>\n",
       "      <td>234</td>\n",
       "      <td>11.0</td>\n",
       "      <td>55617.8249</td>\n",
       "      <td>...</td>\n",
       "      <td>2198.941618</td>\n",
       "      <td>3.441176</td>\n",
       "      <td>0.161765</td>\n",
       "      <td>817.909190</td>\n",
       "      <td>Paper</td>\n",
       "      <td>55692.862044</td>\n",
       "      <td>57.284092</td>\n",
       "      <td>3.779562</td>\n",
       "      <td>0.074891</td>\n",
       "      <td>24.856620</td>\n",
       "    </tr>\n",
       "  </tbody>\n",
       "</table>\n",
       "<p>5 rows × 30 columns</p>\n",
       "</div>"
      ],
      "text/plain": [
       "                       pair  count        item1        item2  \\\n",
       "254       (Phones, Copiers)      3       Phones      Copiers   \n",
       "179       (Copiers, Phones)      9      Copiers       Phones   \n",
       "276  (Accessories, Copiers)      3  Accessories      Copiers   \n",
       "262  (Copiers, Accessories)      3      Copiers  Accessories   \n",
       "222        (Copiers, Paper)     21      Copiers        Paper   \n",
       "\n",
       "    Sub-Category_item1  Postal Code_item1  Sales_item1  Quantity_item1  \\\n",
       "254             Phones           47897175   330007.054            3289   \n",
       "179            Copiers            3873477   149528.030             234   \n",
       "276        Accessories           44468434   167380.318            2976   \n",
       "262            Copiers            3873477   149528.030             234   \n",
       "222            Copiers            3873477   149528.030             234   \n",
       "\n",
       "     Discount_item1  Profit_item1  ... Sales_mean_item1  Quantity_mean_item1  \\\n",
       "254           137.4    44515.7306  ...       371.211534             3.699663   \n",
       "179            11.0    55617.8249  ...      2198.941618             3.441176   \n",
       "276            60.8    41936.6357  ...       215.974604             3.840000   \n",
       "262            11.0    55617.8249  ...      2198.941618             3.441176   \n",
       "222            11.0    55617.8249  ...      2198.941618             3.441176   \n",
       "\n",
       "     Discount_mean_item1  Profit_mean_item1  Sub-Category_mean_item2  \\\n",
       "254             0.154556          50.073938                  Copiers   \n",
       "179             0.161765         817.909190                   Phones   \n",
       "276             0.078452          54.111788                  Copiers   \n",
       "262             0.161765         817.909190              Accessories   \n",
       "222             0.161765         817.909190                    Paper   \n",
       "\n",
       "     Postal Code_mean_item2  Sales_mean_item2  Quantity_mean_item2  \\\n",
       "254            56962.897059       2198.941618             3.441176   \n",
       "179            53877.587177        371.211534             3.699663   \n",
       "276            56962.897059       2198.941618             3.441176   \n",
       "262            57378.624516        215.974604             3.840000   \n",
       "222            55692.862044         57.284092             3.779562   \n",
       "\n",
       "    Discount_mean_item2  Profit_mean_item2  \n",
       "254            0.161765         817.909190  \n",
       "179            0.154556          50.073938  \n",
       "276            0.161765         817.909190  \n",
       "262            0.078452          54.111788  \n",
       "222            0.074891          24.856620  \n",
       "\n",
       "[5 rows x 30 columns]"
      ]
     },
     "execution_count": 30,
     "metadata": {},
     "output_type": "execute_result"
    }
   ],
   "source": [
    "p2 = p2.sort_values(by=\"pairProfit\", ascending=False)\n",
    "p2.head()"
   ]
  },
  {
   "cell_type": "code",
   "execution_count": 31,
   "metadata": {},
   "outputs": [
    {
     "data": {
      "text/html": [
       "        <script type=\"text/javascript\">\n",
       "        window.PlotlyConfig = {MathJaxConfig: 'local'};\n",
       "        if (window.MathJax) {MathJax.Hub.Config({SVG: {font: \"STIX-Web\"}});}\n",
       "        if (typeof require !== 'undefined') {\n",
       "        require.undef(\"plotly\");\n",
       "        requirejs.config({\n",
       "            paths: {\n",
       "                'plotly': ['https://cdn.plot.ly/plotly-latest.min']\n",
       "            }\n",
       "        });\n",
       "        require(['plotly'], function(Plotly) {\n",
       "            window._Plotly = Plotly;\n",
       "        });\n",
       "        }\n",
       "        </script>\n",
       "        "
      ]
     },
     "metadata": {},
     "output_type": "display_data"
    },
    {
     "data": {
      "application/vnd.plotly.v1+json": {
       "config": {
        "linkText": "Export to plot.ly",
        "plotlyServerURL": "https://plot.ly",
        "showLink": false
       },
       "data": [
        {
         "marker": {
          "color": [
           0.1545556805399334,
           0.1617647058823529,
           0.07845161290322622,
           0.1617647058823529,
           0.1617647058823529,
           0.07489051094890578,
           0.1545556805399334,
           0.07845161290322622,
           0.1545556805399334,
           0.3722915298752451,
           0.1617647058823529,
           0.07845161290322622,
           0.17017828200972462,
           0.1617647058823529,
           0.07489051094890578,
           0.1545556805399334,
           0.1617647058823529,
           0.07470449172576875,
           0.07489051094890578,
           0.07845161290322622,
           0.3722915298752451,
           0.1545556805399334,
           0.1617647058823529,
           0.16652360515021483,
           0.07845161290322622,
           0.3722915298752451,
           0.17017828200972462,
           0.1545556805399334,
           0.13834900731452465,
           0.1617647058823529,
           0.17017828200972462,
           0.07845161290322622,
           0.07489051094890578,
           0.07470449172576875,
           0.1545556805399334,
           0.3722915298752451,
           0.07489051094890578,
           0.07845161290322622,
           0.07470449172576875,
           0.16652360515021483,
           0.1545556805399334,
           0.0803149606299211,
           0.1617647058823529,
           0.1617647058823529,
           0.07487437185929686,
           0.1617647058823529,
           0.06868131868131852,
           0.17017828200972462,
           0.07489051094890578,
           0.3722915298752451,
           0.07845161290322622,
           0.16652360515021483,
           0.306086956521739,
           0.1545556805399334,
           0.13834900731452465,
           0.17017828200972462,
           0.3722915298752451,
           0.1617647058823529,
           0.08202764976958511,
           0.07470449172576875,
           0.07489051094890578,
           0.07845161290322622,
           0.13834900731452465,
           0.0768421052631578,
           0.1617647058823529,
           0.17017828200972462,
           0.16652360515021483,
           0.07489051094890578,
           0.1617647058823529,
           0.21114035087719304,
           0.07470449172576875,
           0.3722915298752451,
           0.0803149606299211,
           0.1545556805399334,
           0.07487437185929686,
           0.1545556805399334,
           0.06868131868131852,
           0.1545556805399334,
           0.0803149606299211,
           0.07845161290322622,
           0.07487437185929686,
           0.07845161290322622,
           0.3722915298752451,
           0.16652360515021483,
           0.1545556805399334,
           0.306086956521739,
           0.07470449172576875,
           0.17017828200972462,
           0.07845161290322622,
           0.06868131868131852,
           0.07489051094890578,
           0.13834900731452465,
           0.08202764976958511,
           0.1545556805399334,
           0.07845161290322622,
           0.306086956521739,
           0.16652360515021483,
           0.17017828200972462,
           0.1545556805399334,
           0.0768421052631578,
           0.13834900731452465,
           0.3722915298752451,
           0.08202764976958511,
           0.07845161290322622,
           0.07470449172576875,
           0.1545556805399334,
           0.21114035087719304,
           0.07489051094890578,
           0.0803149606299211,
           0.0768421052631578,
           0.07845161290322622,
           0.07489051094890578,
           0.07487437185929686,
           0.13834900731452465,
           0.17017828200972462,
           0.07489051094890578,
           0.06868131868131852,
           0.16652360515021483,
           0.07470449172576875,
           0.21114035087719304,
           0.07845161290322622,
           0.1617647058823529,
           0.306086956521739,
           0.07489051094890578,
           0.0803149606299211,
           0.3722915298752451,
           0.07487437185929686,
           0.3722915298752451,
           0.16652360515021483,
           0.3722915298752451,
           0.06868131868131852,
           0.07489051094890578,
           0.08202764976958511,
           0.07470449172576875,
           0.13834900731452465,
           0.306086956521739,
           0.3722915298752451,
           0.17017828200972462,
           0.0803149606299211,
           0.17017828200972462,
           0.07487437185929686,
           0.07489051094890578,
           0.0768421052631578,
           0.06868131868131852,
           0.17017828200972462,
           0.13834900731452465,
           0.16652360515021483,
           0.3722915298752451,
           0.08202764976958511,
           0.21114035087719304,
           0.07489051094890578,
           0.306086956521739,
           0.17017828200972462,
           0.0768421052631578,
           0.3722915298752451,
           0.0803149606299211,
           0.07470449172576875,
           0.07470449172576875,
           0.07487437185929686,
           0.17017828200972462,
           0.08202764976958511,
           0.06868131868131852,
           0.07470449172576875,
           0.2612852664576806,
           0.1545556805399334,
           0.21114035087719304,
           0.3722915298752451,
           0.13834900731452465,
           0.0768421052631578,
           0.17017828200972462,
           0.16652360515021483,
           0.0803149606299211,
           0.16652360515021483,
           0.07487437185929686,
           0.306086956521739,
           0.07470449172576875,
           0.2612852664576806,
           0.07845161290322622,
           0.06868131868131852,
           0.16652360515021483,
           0.21114035087719304,
           0.17017828200972462,
           0.07470449172576875,
           0.08202764976958511,
           0.306086956521739,
           0.16652360515021483,
           0.07470449172576875,
           0.0768421052631578,
           0.0803149606299211,
           0.13834900731452465,
           0.07487437185929686,
           0.13834900731452465,
           0.16652360515021483,
           0.08202764976958511,
           0.13834900731452465,
           0.06868131868131852,
           0.21114035087719304,
           0.07470449172576875,
           0.0768421052631578,
           0.16652360515021483,
           0.13834900731452465,
           0.306086956521739,
           0.07489051094890578,
           0.2612852664576806,
           0.16652360515021483,
           0.21114035087719304,
           0.13834900731452465,
           0.08202764976958511,
           0.0803149606299211,
           0.0803149606299211,
           0.07487437185929686,
           0.07487437185929686,
           0.06868131868131852,
           0.0803149606299211,
           0.3722915298752451,
           0.2612852664576806,
           0.07487437185929686,
           0.06868131868131852,
           0.13834900731452465,
           0.0768421052631578,
           0.06868131868131852,
           0.0803149606299211,
           0.306086956521739,
           0.07487437185929686,
           0.306086956521739,
           0.13834900731452465,
           0.21114035087719304,
           0.306086956521739,
           0.06868131868131852,
           0.2612852664576806,
           0.17017828200972462,
           0.08202764976958511,
           0.0803149606299211,
           0.08202764976958511,
           0.07487437185929686,
           0.306086956521739,
           0.06868131868131852,
           0.08202764976958511,
           0.0768421052631578,
           0.0803149606299211,
           0.0768421052631578,
           0.07487437185929686,
           0.0768421052631578,
           0.06868131868131852,
           0.306086956521739,
           0.08202764976958511,
           0.07470449172576875,
           0.2612852664576806,
           0.0803149606299211,
           0.21114035087719304,
           0.07487437185929686,
           0.21114035087719304,
           0.306086956521739,
           0.06868131868131852,
           0.21114035087719304,
           0.08202764976958511,
           0.2612852664576806,
           0.16652360515021483,
           0.306086956521739,
           0.21114035087719304,
           0.0768421052631578,
           0.08202764976958511,
           0.0768421052631578,
           0.21114035087719304,
           0.08202764976958511,
           0.0768421052631578,
           0.21114035087719304,
           0.13834900731452465,
           0.2612852664576806,
           0.21114035087719304,
           0.2612852664576806,
           0.0803149606299211,
           0.2612852664576806,
           0.07487437185929686,
           0.2612852664576806,
           0.06868131868131852,
           0.2612852664576806,
           0.08202764976958511,
           0.2612852664576806,
           0.0768421052631578,
           0.2612852664576806,
           0.2612852664576806,
           0.21114035087719304,
           0.2612852664576806
          ]
         },
         "mode": "markers",
         "type": "scatter",
         "x": [
          479535.0839999997,
          479535.0839999997,
          316908.34799999994,
          316908.34799999994,
          228007.2360000002,
          228007.2360000002,
          660014.1079999994,
          497387.3719999996,
          497387.3719999996,
          352940.7630000004,
          352940.7630000004,
          334760.6359999999,
          477977.13300000073,
          477977.13300000073,
          408486.2599999999,
          408486.2599999999,
          373371.63800000015,
          373371.63800000015,
          245859.52400000015,
          245859.52400000015,
          533419.787,
          533419.787,
          257060.19099999996,
          257060.19099999996,
          370793.0510000003,
          370793.0510000003,
          658456.1570000004,
          658456.1570000004,
          241233.19399999996,
          241233.19399999996,
          495829.4210000007,
          495829.4210000007,
          156958.4120000004,
          553850.6619999999,
          553850.6619999999,
          281891.93900000054,
          281891.93900000054,
          391223.9260000001,
          391223.9260000001,
          437539.2149999997,
          437539.2149999997,
          166004.432,
          166004.432,
          176646.822,
          176646.822,
          162014.342,
          162014.342,
          406928.3090000009,
          406928.3090000009,
          406825.4660000007,
          274912.47899999993,
          274912.47899999993,
          338766.661,
          421712.21799999964,
          421712.21799999964,
          531861.836000001,
          531861.836000001,
          152552.31,
          152552.31,
          302322.81400000036,
          302322.81400000036,
          259085.4819999999,
          259085.4819999999,
          196201.56800000003,
          196201.56800000003,
          656898.2060000014,
          186011.36700000014,
          186011.36700000014,
          264408.0263,
          264408.0263,
          427256.34100000054,
          427256.34100000054,
          346483.4559999997,
          346483.4559999997,
          357125.8459999997,
          357125.8459999997,
          342493.3659999997,
          342493.3659999997,
          183856.71999999994,
          183856.71999999994,
          194499.10999999993,
          194499.10999999993,
          310944.8940000003,
          310944.8940000003,
          519245.6849999997,
          519245.6849999997,
          552292.7110000008,
          552292.7110000008,
          179866.62999999995,
          179866.62999999995,
          170184.37000000017,
          170184.37000000017,
          333031.33399999974,
          333031.33399999974,
          356618.94899999996,
          356618.94899999996,
          435981.26400000066,
          435981.26400000066,
          376680.5919999998,
          376680.5919999998,
          295117.89700000035,
          295117.89700000035,
          170404.59799999994,
          170404.59799999994,
          447687.21600000036,
          444887.0502999997,
          444887.0502999997,
          94955.6080000002,
          94955.6080000002,
          214053.85599999997,
          214053.85599999997,
          105597.9980000002,
          105597.9980000002,
          420154.2670000007,
          420154.2670000007,
          90965.5180000002,
          90965.5180000002,
          331375.76900000015,
          331375.76900000015,
          282260.31429999997,
          282260.31429999997,
          356493.56200000003,
          267717.83700000023,
          267717.83700000023,
          219889.13500000036,
          219889.13500000036,
          230531.52500000034,
          230531.52500000034,
          215064.32199999993,
          215899.04500000036,
          215899.04500000036,
          81503.4860000002,
          81503.4860000002,
          315548.7720000001,
          315548.7720000001,
          392651.3640000004,
          392651.3640000004,
          344925.5050000007,
          344925.5050000007,
          355567.8950000007,
          355567.8950000007,
          125152.74400000024,
          125152.74400000024,
          340935.41500000074,
          340935.41500000074,
          199237.32499999992,
          199237.32499999992,
          206437.01300000036,
          206437.01300000036,
          193359.20230000018,
          193359.20230000018,
          517687.73400000075,
          517687.73400000075,
          250086.2710000004,
          250086.2710000004,
          240320.01000000018,
          240320.01000000018,
          250962.40000000017,
          250962.40000000017,
          331473.38300000073,
          331473.38300000073,
          236329.9200000002,
          236329.9200000002,
          536972.5859999998,
          536972.5859999998,
          318292.72930000036,
          318292.72930000036,
          183410.32799999992,
          375122.64100000076,
          375122.64100000076,
          124008.56299999997,
          124008.56299999997,
          134650.95299999995,
          134650.95299999995,
          413082.2390000002,
          413082.2390000002,
          374345.85,
          374345.85,
          120018.47299999997,
          120018.47299999997,
          443329.0993000007,
          443329.0993000007,
          226867.88800000018,
          226867.88800000018,
          296770.792,
          296770.792,
          270517.14600000024,
          270517.14600000024,
          108181.56599999996,
          108181.56599999996,
          118823.95599999995,
          118823.95599999995,
          110556.44099999996,
          110556.44099999996,
          104191.47599999997,
          104191.47599999997,
          338723.6043000002,
          338723.6043000002,
          154205.699,
          154205.699,
          280943.795,
          280943.795,
          285444.73800000024,
          285444.73800000024,
          222412.15729999996,
          222412.15729999996,
          94729.44399999996,
          94729.44399999996,
          32952.804,
          43595.19399999999,
          43595.19399999999,
          54237.58399999999,
          28962.714000000004,
          28962.714000000004,
          410378.26500000036,
          410378.26500000036,
          39605.104,
          39605.104,
          138378.702,
          138378.702,
          24972.62400000001,
          205715.03300000002,
          205715.03300000002,
          216357.423,
          216357.423,
          206585.16029999996,
          206585.16029999996,
          201724.94300000003,
          201724.94300000003,
          535414.6350000007,
          535414.6350000007,
          19500.682,
          19500.682,
          30143.071999999996,
          30143.071999999996,
          378477.26200000005,
          15510.592000000008,
          15510.592000000008,
          63149.94000000003,
          63149.94000000003,
          73792.33000000003,
          73792.33000000003,
          59159.85000000004,
          59159.85000000004,
          192262.91100000002,
          192262.91100000002,
          430809.14000000025,
          430809.14000000025,
          131356.3983,
          131356.3983,
          141998.7883,
          141998.7883,
          235912.16900000005,
          127366.3083,
          127366.3083,
          6048.560000000003,
          314497.69299999997,
          314497.69299999997,
          304118.62730000005,
          304118.62730000005,
          49697.818000000036,
          49697.818000000036,
          93347.07600000007,
          117904.2763,
          117904.2763,
          161553.53430000003,
          161553.53430000003,
          298670.696,
          298670.696,
          229759.9926,
          223441.93400000004,
          223441.93400000004,
          234084.32400000002,
          234084.32400000002,
          219451.84400000004,
          219451.84400000004,
          396204.16300000006,
          209989.81200000003,
          209989.81200000003,
          253639.07000000007,
          253639.07000000007,
          321845.5283,
          321845.5283,
          413931.0640000001
         ],
         "y": [
          100133.55549999996,
          100133.55549999996,
          97554.46060000002,
          97554.46060000002,
          89671.39420000005,
          89671.39420000005,
          89031.46119999989,
          86452.36629999997,
          86452.36629999997,
          85839.58820000006,
          85839.58820000006,
          83873.27140000003,
          82207.99120000005,
          82207.99120000005,
          78569.29989999998,
          78569.29989999998,
          76896.65129999998,
          76896.65129999998,
          75990.20500000006,
          75990.20500000006,
          74737.49389999999,
          74737.49389999999,
          73755.8303,
          73755.8303,
          72158.39900000006,
          72158.39900000006,
          71105.89689999999,
          71105.89689999999,
          68676.9685,
          68676.9685,
          68526.80200000005,
          68526.80200000005,
          68107.1386000001,
          65794.55699999991,
          65794.55699999991,
          64275.33260000009,
          64275.33260000009,
          63215.46209999999,
          63215.46209999999,
          62653.73599999993,
          62653.73599999993,
          62582.0016,
          62582.0016,
          62145.61190000001,
          62145.61190000001,
          61164.078900000015,
          61164.078900000015,
          60643.73560000009,
          60643.73560000009,
          60443.526600000085,
          60074.64110000001,
          60074.64110000001,
          59002.58180000001,
          57574.87419999995,
          57574.87419999995,
          56811.92960000008,
          56811.92960000008,
          56567.343100000006,
          56567.343100000006,
          55332.39570000002,
          55332.39570000002,
          54995.77930000002,
          54995.77930000002,
          54428.72540000001,
          54428.72540000001,
          53180.33260000008,
          52191.57470000004,
          52191.57470000004,
          52145.26890000001,
          52145.26890000001,
          51500.58970000001,
          51500.58970000001,
          51479.90729999994,
          51479.90729999994,
          51043.51759999995,
          51043.51759999995,
          50061.98459999995,
          50061.98459999995,
          48900.81240000001,
          48900.81240000001,
          48464.42270000002,
          48464.42270000002,
          48359.76870000003,
          48359.76870000003,
          47900.487499999945,
          47900.487499999945,
          47868.99270000002,
          47868.99270000002,
          47482.88970000002,
          47482.88970000002,
          47112.71290000005,
          47112.71290000005,
          45465.24879999994,
          45465.24879999994,
          45321.392600000014,
          45321.392600000014,
          44728.171700000035,
          44728.171700000035,
          43326.63109999995,
          43326.63109999995,
          43280.906900000045,
          43280.906900000045,
          42886.15390000001,
          42886.15390000001,
          42557.652799999945,
          41043.17459999995,
          41043.17459999995,
          41017.74600000004,
          41017.74600000004,
          40747.53620000002,
          40747.53620000002,
          40581.35630000005,
          40581.35630000005,
          39649.309900000044,
          39649.309900000044,
          39599.823300000055,
          39599.823300000055,
          39416.83179999996,
          39416.83179999996,
          38464.07970000002,
          38464.07970000002,
          37892.3438,
          37438.32620000005,
          37438.32620000005,
          37185.94000000004,
          37185.94000000004,
          36749.550300000046,
          36749.550300000046,
          36276.01079999998,
          35768.01730000005,
          35768.01730000005,
          35003.087500000045,
          35003.087500000045,
          34337.96999999997,
          34337.96999999997,
          33606.52020000004,
          33606.52020000004,
          33554.34300000004,
          33554.34300000004,
          33117.953300000045,
          33117.953300000045,
          32864.46980000005,
          32864.46980000005,
          32136.420300000045,
          32136.420300000045,
          31197.14899999999,
          31197.14899999999,
          31171.28150000004,
          31171.28150000004,
          30581.013300000046,
          30581.013300000046,
          29974.92320000004,
          29974.92320000004,
          29032.663800000042,
          29032.663800000042,
          28243.003099999965,
          28243.003099999965,
          27806.61339999998,
          27806.61339999998,
          27539.68450000004,
          27539.68450000004,
          26825.080399999977,
          26825.080399999977,
          26790.249499999944,
          26790.249499999944,
          26749.207300000042,
          26749.207300000042,
          26118.287200000002,
          25401.06680000004,
          25401.06680000004,
          25102.182099999984,
          25102.182099999984,
          24665.7924,
          24665.7924,
          24663.583299999973,
          24663.583299999973,
          24211.154600000013,
          24211.154600000013,
          23684.259399999995,
          23684.259399999995,
          23117.61030000004,
          23117.61030000004,
          22228.34459999997,
          22228.34459999997,
          21522.76229999999,
          21522.76229999999,
          20089.726899999972,
          20089.726899999972,
          20023.320299999996,
          20023.320299999996,
          19586.930600000007,
          19586.930600000007,
          19087.52359999999,
          19087.52359999999,
          18605.397600000008,
          18605.397600000008,
          17806.270399999972,
          17806.270399999972,
          16948.90589999999,
          16948.90589999999,
          16443.900500000003,
          16443.900500000003,
          16328.088200000046,
          16328.088200000046,
          14665.44939999999,
          14665.44939999999,
          14008.661800000002,
          14008.661800000002,
          13928.353399999987,
          13491.9637,
          13491.9637,
          13055.574000000011,
          12510.430699999999,
          12510.430699999999,
          12496.282200000041,
          12496.282200000041,
          12074.041000000012,
          12074.041000000012,
          11870.044100000003,
          11870.044100000003,
          11092.50800000001,
          10348.933599999995,
          10348.933599999995,
          9912.543900000008,
          9912.543900000008,
          9586.5876,
          9586.5876,
          8931.010900000007,
          8931.010900000007,
          8864.68520000004,
          8864.68520000004,
          7913.694899999993,
          7913.694899999993,
          7477.305200000005,
          7477.305200000005,
          6769.513800000002,
          6495.772200000005,
          6495.772200000005,
          5775.077199999994,
          5775.077199999994,
          5338.687500000006,
          5338.687500000006,
          4357.154500000006,
          4357.154500000006,
          4334.275100000001,
          4334.275100000001,
          3553.3452999999718,
          3553.3452999999718,
          3491.6206999999936,
          3491.6206999999936,
          3055.2310000000057,
          3055.2310000000057,
          2195.657400000002,
          2073.6980000000053,
          2073.6980000000053,
          1899.0363999999993,
          412.52429999999003,
          412.52429999999003,
          -87.79909999999882,
          -87.79909999999882,
          -239.5812999999995,
          -239.5812999999995,
          -2378.1989999999983,
          -2523.0378000000005,
          -2523.0378000000005,
          -4661.655499999999,
          -4661.655499999999,
          -4666.3375,
          -4666.3375,
          -6945.112,
          -10761.304400000008,
          -10761.304400000008,
          -11197.694099999995,
          -11197.694099999995,
          -12179.227099999996,
          -12179.227099999996,
          -14340.7242,
          -16775.962900000002,
          -16775.962900000002,
          -18914.5806,
          -18914.5806,
          -21198.0371,
          -21198.0371,
          -35450.9622
         ]
        }
       ],
       "layout": {
        "template": {
         "data": {
          "bar": [
           {
            "error_x": {
             "color": "#2a3f5f"
            },
            "error_y": {
             "color": "#2a3f5f"
            },
            "marker": {
             "line": {
              "color": "#E5ECF6",
              "width": 0.5
             }
            },
            "type": "bar"
           }
          ],
          "barpolar": [
           {
            "marker": {
             "line": {
              "color": "#E5ECF6",
              "width": 0.5
             }
            },
            "type": "barpolar"
           }
          ],
          "carpet": [
           {
            "aaxis": {
             "endlinecolor": "#2a3f5f",
             "gridcolor": "white",
             "linecolor": "white",
             "minorgridcolor": "white",
             "startlinecolor": "#2a3f5f"
            },
            "baxis": {
             "endlinecolor": "#2a3f5f",
             "gridcolor": "white",
             "linecolor": "white",
             "minorgridcolor": "white",
             "startlinecolor": "#2a3f5f"
            },
            "type": "carpet"
           }
          ],
          "choropleth": [
           {
            "colorbar": {
             "outlinewidth": 0,
             "ticks": ""
            },
            "type": "choropleth"
           }
          ],
          "contour": [
           {
            "colorbar": {
             "outlinewidth": 0,
             "ticks": ""
            },
            "colorscale": [
             [
              0,
              "#0d0887"
             ],
             [
              0.1111111111111111,
              "#46039f"
             ],
             [
              0.2222222222222222,
              "#7201a8"
             ],
             [
              0.3333333333333333,
              "#9c179e"
             ],
             [
              0.4444444444444444,
              "#bd3786"
             ],
             [
              0.5555555555555556,
              "#d8576b"
             ],
             [
              0.6666666666666666,
              "#ed7953"
             ],
             [
              0.7777777777777778,
              "#fb9f3a"
             ],
             [
              0.8888888888888888,
              "#fdca26"
             ],
             [
              1,
              "#f0f921"
             ]
            ],
            "type": "contour"
           }
          ],
          "contourcarpet": [
           {
            "colorbar": {
             "outlinewidth": 0,
             "ticks": ""
            },
            "type": "contourcarpet"
           }
          ],
          "heatmap": [
           {
            "colorbar": {
             "outlinewidth": 0,
             "ticks": ""
            },
            "colorscale": [
             [
              0,
              "#0d0887"
             ],
             [
              0.1111111111111111,
              "#46039f"
             ],
             [
              0.2222222222222222,
              "#7201a8"
             ],
             [
              0.3333333333333333,
              "#9c179e"
             ],
             [
              0.4444444444444444,
              "#bd3786"
             ],
             [
              0.5555555555555556,
              "#d8576b"
             ],
             [
              0.6666666666666666,
              "#ed7953"
             ],
             [
              0.7777777777777778,
              "#fb9f3a"
             ],
             [
              0.8888888888888888,
              "#fdca26"
             ],
             [
              1,
              "#f0f921"
             ]
            ],
            "type": "heatmap"
           }
          ],
          "heatmapgl": [
           {
            "colorbar": {
             "outlinewidth": 0,
             "ticks": ""
            },
            "colorscale": [
             [
              0,
              "#0d0887"
             ],
             [
              0.1111111111111111,
              "#46039f"
             ],
             [
              0.2222222222222222,
              "#7201a8"
             ],
             [
              0.3333333333333333,
              "#9c179e"
             ],
             [
              0.4444444444444444,
              "#bd3786"
             ],
             [
              0.5555555555555556,
              "#d8576b"
             ],
             [
              0.6666666666666666,
              "#ed7953"
             ],
             [
              0.7777777777777778,
              "#fb9f3a"
             ],
             [
              0.8888888888888888,
              "#fdca26"
             ],
             [
              1,
              "#f0f921"
             ]
            ],
            "type": "heatmapgl"
           }
          ],
          "histogram": [
           {
            "marker": {
             "colorbar": {
              "outlinewidth": 0,
              "ticks": ""
             }
            },
            "type": "histogram"
           }
          ],
          "histogram2d": [
           {
            "colorbar": {
             "outlinewidth": 0,
             "ticks": ""
            },
            "colorscale": [
             [
              0,
              "#0d0887"
             ],
             [
              0.1111111111111111,
              "#46039f"
             ],
             [
              0.2222222222222222,
              "#7201a8"
             ],
             [
              0.3333333333333333,
              "#9c179e"
             ],
             [
              0.4444444444444444,
              "#bd3786"
             ],
             [
              0.5555555555555556,
              "#d8576b"
             ],
             [
              0.6666666666666666,
              "#ed7953"
             ],
             [
              0.7777777777777778,
              "#fb9f3a"
             ],
             [
              0.8888888888888888,
              "#fdca26"
             ],
             [
              1,
              "#f0f921"
             ]
            ],
            "type": "histogram2d"
           }
          ],
          "histogram2dcontour": [
           {
            "colorbar": {
             "outlinewidth": 0,
             "ticks": ""
            },
            "colorscale": [
             [
              0,
              "#0d0887"
             ],
             [
              0.1111111111111111,
              "#46039f"
             ],
             [
              0.2222222222222222,
              "#7201a8"
             ],
             [
              0.3333333333333333,
              "#9c179e"
             ],
             [
              0.4444444444444444,
              "#bd3786"
             ],
             [
              0.5555555555555556,
              "#d8576b"
             ],
             [
              0.6666666666666666,
              "#ed7953"
             ],
             [
              0.7777777777777778,
              "#fb9f3a"
             ],
             [
              0.8888888888888888,
              "#fdca26"
             ],
             [
              1,
              "#f0f921"
             ]
            ],
            "type": "histogram2dcontour"
           }
          ],
          "mesh3d": [
           {
            "colorbar": {
             "outlinewidth": 0,
             "ticks": ""
            },
            "type": "mesh3d"
           }
          ],
          "parcoords": [
           {
            "line": {
             "colorbar": {
              "outlinewidth": 0,
              "ticks": ""
             }
            },
            "type": "parcoords"
           }
          ],
          "scatter": [
           {
            "marker": {
             "colorbar": {
              "outlinewidth": 0,
              "ticks": ""
             }
            },
            "type": "scatter"
           }
          ],
          "scatter3d": [
           {
            "line": {
             "colorbar": {
              "outlinewidth": 0,
              "ticks": ""
             }
            },
            "marker": {
             "colorbar": {
              "outlinewidth": 0,
              "ticks": ""
             }
            },
            "type": "scatter3d"
           }
          ],
          "scattercarpet": [
           {
            "marker": {
             "colorbar": {
              "outlinewidth": 0,
              "ticks": ""
             }
            },
            "type": "scattercarpet"
           }
          ],
          "scattergeo": [
           {
            "marker": {
             "colorbar": {
              "outlinewidth": 0,
              "ticks": ""
             }
            },
            "type": "scattergeo"
           }
          ],
          "scattergl": [
           {
            "marker": {
             "colorbar": {
              "outlinewidth": 0,
              "ticks": ""
             }
            },
            "type": "scattergl"
           }
          ],
          "scattermapbox": [
           {
            "marker": {
             "colorbar": {
              "outlinewidth": 0,
              "ticks": ""
             }
            },
            "type": "scattermapbox"
           }
          ],
          "scatterpolar": [
           {
            "marker": {
             "colorbar": {
              "outlinewidth": 0,
              "ticks": ""
             }
            },
            "type": "scatterpolar"
           }
          ],
          "scatterpolargl": [
           {
            "marker": {
             "colorbar": {
              "outlinewidth": 0,
              "ticks": ""
             }
            },
            "type": "scatterpolargl"
           }
          ],
          "scatterternary": [
           {
            "marker": {
             "colorbar": {
              "outlinewidth": 0,
              "ticks": ""
             }
            },
            "type": "scatterternary"
           }
          ],
          "surface": [
           {
            "colorbar": {
             "outlinewidth": 0,
             "ticks": ""
            },
            "colorscale": [
             [
              0,
              "#0d0887"
             ],
             [
              0.1111111111111111,
              "#46039f"
             ],
             [
              0.2222222222222222,
              "#7201a8"
             ],
             [
              0.3333333333333333,
              "#9c179e"
             ],
             [
              0.4444444444444444,
              "#bd3786"
             ],
             [
              0.5555555555555556,
              "#d8576b"
             ],
             [
              0.6666666666666666,
              "#ed7953"
             ],
             [
              0.7777777777777778,
              "#fb9f3a"
             ],
             [
              0.8888888888888888,
              "#fdca26"
             ],
             [
              1,
              "#f0f921"
             ]
            ],
            "type": "surface"
           }
          ],
          "table": [
           {
            "cells": {
             "fill": {
              "color": "#EBF0F8"
             },
             "line": {
              "color": "white"
             }
            },
            "header": {
             "fill": {
              "color": "#C8D4E3"
             },
             "line": {
              "color": "white"
             }
            },
            "type": "table"
           }
          ]
         },
         "layout": {
          "annotationdefaults": {
           "arrowcolor": "#2a3f5f",
           "arrowhead": 0,
           "arrowwidth": 1
          },
          "colorscale": {
           "diverging": [
            [
             0,
             "#8e0152"
            ],
            [
             0.1,
             "#c51b7d"
            ],
            [
             0.2,
             "#de77ae"
            ],
            [
             0.3,
             "#f1b6da"
            ],
            [
             0.4,
             "#fde0ef"
            ],
            [
             0.5,
             "#f7f7f7"
            ],
            [
             0.6,
             "#e6f5d0"
            ],
            [
             0.7,
             "#b8e186"
            ],
            [
             0.8,
             "#7fbc41"
            ],
            [
             0.9,
             "#4d9221"
            ],
            [
             1,
             "#276419"
            ]
           ],
           "sequential": [
            [
             0,
             "#0d0887"
            ],
            [
             0.1111111111111111,
             "#46039f"
            ],
            [
             0.2222222222222222,
             "#7201a8"
            ],
            [
             0.3333333333333333,
             "#9c179e"
            ],
            [
             0.4444444444444444,
             "#bd3786"
            ],
            [
             0.5555555555555556,
             "#d8576b"
            ],
            [
             0.6666666666666666,
             "#ed7953"
            ],
            [
             0.7777777777777778,
             "#fb9f3a"
            ],
            [
             0.8888888888888888,
             "#fdca26"
            ],
            [
             1,
             "#f0f921"
            ]
           ],
           "sequentialminus": [
            [
             0,
             "#0d0887"
            ],
            [
             0.1111111111111111,
             "#46039f"
            ],
            [
             0.2222222222222222,
             "#7201a8"
            ],
            [
             0.3333333333333333,
             "#9c179e"
            ],
            [
             0.4444444444444444,
             "#bd3786"
            ],
            [
             0.5555555555555556,
             "#d8576b"
            ],
            [
             0.6666666666666666,
             "#ed7953"
            ],
            [
             0.7777777777777778,
             "#fb9f3a"
            ],
            [
             0.8888888888888888,
             "#fdca26"
            ],
            [
             1,
             "#f0f921"
            ]
           ]
          },
          "colorway": [
           "#636efa",
           "#EF553B",
           "#00cc96",
           "#ab63fa",
           "#FFA15A",
           "#19d3f3",
           "#FF6692",
           "#B6E880",
           "#FF97FF",
           "#FECB52"
          ],
          "font": {
           "color": "#2a3f5f"
          },
          "geo": {
           "bgcolor": "white",
           "lakecolor": "white",
           "landcolor": "#E5ECF6",
           "showlakes": true,
           "showland": true,
           "subunitcolor": "white"
          },
          "hoverlabel": {
           "align": "left"
          },
          "hovermode": "closest",
          "mapbox": {
           "style": "light"
          },
          "paper_bgcolor": "white",
          "plot_bgcolor": "#E5ECF6",
          "polar": {
           "angularaxis": {
            "gridcolor": "white",
            "linecolor": "white",
            "ticks": ""
           },
           "bgcolor": "#E5ECF6",
           "radialaxis": {
            "gridcolor": "white",
            "linecolor": "white",
            "ticks": ""
           }
          },
          "scene": {
           "xaxis": {
            "backgroundcolor": "#E5ECF6",
            "gridcolor": "white",
            "gridwidth": 2,
            "linecolor": "white",
            "showbackground": true,
            "ticks": "",
            "zerolinecolor": "white"
           },
           "yaxis": {
            "backgroundcolor": "#E5ECF6",
            "gridcolor": "white",
            "gridwidth": 2,
            "linecolor": "white",
            "showbackground": true,
            "ticks": "",
            "zerolinecolor": "white"
           },
           "zaxis": {
            "backgroundcolor": "#E5ECF6",
            "gridcolor": "white",
            "gridwidth": 2,
            "linecolor": "white",
            "showbackground": true,
            "ticks": "",
            "zerolinecolor": "white"
           }
          },
          "shapedefaults": {
           "line": {
            "color": "#2a3f5f"
           }
          },
          "ternary": {
           "aaxis": {
            "gridcolor": "white",
            "linecolor": "white",
            "ticks": ""
           },
           "baxis": {
            "gridcolor": "white",
            "linecolor": "white",
            "ticks": ""
           },
           "bgcolor": "#E5ECF6",
           "caxis": {
            "gridcolor": "white",
            "linecolor": "white",
            "ticks": ""
           }
          },
          "title": {
           "x": 0.05
          },
          "xaxis": {
           "automargin": true,
           "gridcolor": "white",
           "linecolor": "white",
           "ticks": "",
           "zerolinecolor": "white",
           "zerolinewidth": 2
          },
          "yaxis": {
           "automargin": true,
           "gridcolor": "white",
           "linecolor": "white",
           "ticks": "",
           "zerolinecolor": "white",
           "zerolinewidth": 2
          }
         }
        }
       }
      },
      "text/html": [
       "<div>\n",
       "        \n",
       "        \n",
       "            <div id=\"63b4683b-896d-4fd7-a4ff-f24dac913009\" class=\"plotly-graph-div\" style=\"height:525px; width:100%;\"></div>\n",
       "            <script type=\"text/javascript\">\n",
       "                require([\"plotly\"], function(Plotly) {\n",
       "                    window.PLOTLYENV=window.PLOTLYENV || {};\n",
       "                    \n",
       "                if (document.getElementById(\"63b4683b-896d-4fd7-a4ff-f24dac913009\")) {\n",
       "                    Plotly.newPlot(\n",
       "                        '63b4683b-896d-4fd7-a4ff-f24dac913009',\n",
       "                        [{\"marker\": {\"color\": [0.1545556805399334, 0.1617647058823529, 0.07845161290322622, 0.1617647058823529, 0.1617647058823529, 0.07489051094890578, 0.1545556805399334, 0.07845161290322622, 0.1545556805399334, 0.3722915298752451, 0.1617647058823529, 0.07845161290322622, 0.17017828200972462, 0.1617647058823529, 0.07489051094890578, 0.1545556805399334, 0.1617647058823529, 0.07470449172576875, 0.07489051094890578, 0.07845161290322622, 0.3722915298752451, 0.1545556805399334, 0.1617647058823529, 0.16652360515021483, 0.07845161290322622, 0.3722915298752451, 0.17017828200972462, 0.1545556805399334, 0.13834900731452465, 0.1617647058823529, 0.17017828200972462, 0.07845161290322622, 0.07489051094890578, 0.07470449172576875, 0.1545556805399334, 0.3722915298752451, 0.07489051094890578, 0.07845161290322622, 0.07470449172576875, 0.16652360515021483, 0.1545556805399334, 0.0803149606299211, 0.1617647058823529, 0.1617647058823529, 0.07487437185929686, 0.1617647058823529, 0.06868131868131852, 0.17017828200972462, 0.07489051094890578, 0.3722915298752451, 0.07845161290322622, 0.16652360515021483, 0.306086956521739, 0.1545556805399334, 0.13834900731452465, 0.17017828200972462, 0.3722915298752451, 0.1617647058823529, 0.08202764976958511, 0.07470449172576875, 0.07489051094890578, 0.07845161290322622, 0.13834900731452465, 0.0768421052631578, 0.1617647058823529, 0.17017828200972462, 0.16652360515021483, 0.07489051094890578, 0.1617647058823529, 0.21114035087719304, 0.07470449172576875, 0.3722915298752451, 0.0803149606299211, 0.1545556805399334, 0.07487437185929686, 0.1545556805399334, 0.06868131868131852, 0.1545556805399334, 0.0803149606299211, 0.07845161290322622, 0.07487437185929686, 0.07845161290322622, 0.3722915298752451, 0.16652360515021483, 0.1545556805399334, 0.306086956521739, 0.07470449172576875, 0.17017828200972462, 0.07845161290322622, 0.06868131868131852, 0.07489051094890578, 0.13834900731452465, 0.08202764976958511, 0.1545556805399334, 0.07845161290322622, 0.306086956521739, 0.16652360515021483, 0.17017828200972462, 0.1545556805399334, 0.0768421052631578, 0.13834900731452465, 0.3722915298752451, 0.08202764976958511, 0.07845161290322622, 0.07470449172576875, 0.1545556805399334, 0.21114035087719304, 0.07489051094890578, 0.0803149606299211, 0.0768421052631578, 0.07845161290322622, 0.07489051094890578, 0.07487437185929686, 0.13834900731452465, 0.17017828200972462, 0.07489051094890578, 0.06868131868131852, 0.16652360515021483, 0.07470449172576875, 0.21114035087719304, 0.07845161290322622, 0.1617647058823529, 0.306086956521739, 0.07489051094890578, 0.0803149606299211, 0.3722915298752451, 0.07487437185929686, 0.3722915298752451, 0.16652360515021483, 0.3722915298752451, 0.06868131868131852, 0.07489051094890578, 0.08202764976958511, 0.07470449172576875, 0.13834900731452465, 0.306086956521739, 0.3722915298752451, 0.17017828200972462, 0.0803149606299211, 0.17017828200972462, 0.07487437185929686, 0.07489051094890578, 0.0768421052631578, 0.06868131868131852, 0.17017828200972462, 0.13834900731452465, 0.16652360515021483, 0.3722915298752451, 0.08202764976958511, 0.21114035087719304, 0.07489051094890578, 0.306086956521739, 0.17017828200972462, 0.0768421052631578, 0.3722915298752451, 0.0803149606299211, 0.07470449172576875, 0.07470449172576875, 0.07487437185929686, 0.17017828200972462, 0.08202764976958511, 0.06868131868131852, 0.07470449172576875, 0.2612852664576806, 0.1545556805399334, 0.21114035087719304, 0.3722915298752451, 0.13834900731452465, 0.0768421052631578, 0.17017828200972462, 0.16652360515021483, 0.0803149606299211, 0.16652360515021483, 0.07487437185929686, 0.306086956521739, 0.07470449172576875, 0.2612852664576806, 0.07845161290322622, 0.06868131868131852, 0.16652360515021483, 0.21114035087719304, 0.17017828200972462, 0.07470449172576875, 0.08202764976958511, 0.306086956521739, 0.16652360515021483, 0.07470449172576875, 0.0768421052631578, 0.0803149606299211, 0.13834900731452465, 0.07487437185929686, 0.13834900731452465, 0.16652360515021483, 0.08202764976958511, 0.13834900731452465, 0.06868131868131852, 0.21114035087719304, 0.07470449172576875, 0.0768421052631578, 0.16652360515021483, 0.13834900731452465, 0.306086956521739, 0.07489051094890578, 0.2612852664576806, 0.16652360515021483, 0.21114035087719304, 0.13834900731452465, 0.08202764976958511, 0.0803149606299211, 0.0803149606299211, 0.07487437185929686, 0.07487437185929686, 0.06868131868131852, 0.0803149606299211, 0.3722915298752451, 0.2612852664576806, 0.07487437185929686, 0.06868131868131852, 0.13834900731452465, 0.0768421052631578, 0.06868131868131852, 0.0803149606299211, 0.306086956521739, 0.07487437185929686, 0.306086956521739, 0.13834900731452465, 0.21114035087719304, 0.306086956521739, 0.06868131868131852, 0.2612852664576806, 0.17017828200972462, 0.08202764976958511, 0.0803149606299211, 0.08202764976958511, 0.07487437185929686, 0.306086956521739, 0.06868131868131852, 0.08202764976958511, 0.0768421052631578, 0.0803149606299211, 0.0768421052631578, 0.07487437185929686, 0.0768421052631578, 0.06868131868131852, 0.306086956521739, 0.08202764976958511, 0.07470449172576875, 0.2612852664576806, 0.0803149606299211, 0.21114035087719304, 0.07487437185929686, 0.21114035087719304, 0.306086956521739, 0.06868131868131852, 0.21114035087719304, 0.08202764976958511, 0.2612852664576806, 0.16652360515021483, 0.306086956521739, 0.21114035087719304, 0.0768421052631578, 0.08202764976958511, 0.0768421052631578, 0.21114035087719304, 0.08202764976958511, 0.0768421052631578, 0.21114035087719304, 0.13834900731452465, 0.2612852664576806, 0.21114035087719304, 0.2612852664576806, 0.0803149606299211, 0.2612852664576806, 0.07487437185929686, 0.2612852664576806, 0.06868131868131852, 0.2612852664576806, 0.08202764976958511, 0.2612852664576806, 0.0768421052631578, 0.2612852664576806, 0.2612852664576806, 0.21114035087719304, 0.2612852664576806]}, \"mode\": \"markers\", \"type\": \"scatter\", \"x\": [479535.0839999997, 479535.0839999997, 316908.34799999994, 316908.34799999994, 228007.2360000002, 228007.2360000002, 660014.1079999994, 497387.3719999996, 497387.3719999996, 352940.7630000004, 352940.7630000004, 334760.6359999999, 477977.13300000073, 477977.13300000073, 408486.2599999999, 408486.2599999999, 373371.63800000015, 373371.63800000015, 245859.52400000015, 245859.52400000015, 533419.787, 533419.787, 257060.19099999996, 257060.19099999996, 370793.0510000003, 370793.0510000003, 658456.1570000004, 658456.1570000004, 241233.19399999996, 241233.19399999996, 495829.4210000007, 495829.4210000007, 156958.4120000004, 553850.6619999999, 553850.6619999999, 281891.93900000054, 281891.93900000054, 391223.9260000001, 391223.9260000001, 437539.2149999997, 437539.2149999997, 166004.432, 166004.432, 176646.822, 176646.822, 162014.342, 162014.342, 406928.3090000009, 406928.3090000009, 406825.4660000007, 274912.47899999993, 274912.47899999993, 338766.661, 421712.21799999964, 421712.21799999964, 531861.836000001, 531861.836000001, 152552.31, 152552.31, 302322.81400000036, 302322.81400000036, 259085.4819999999, 259085.4819999999, 196201.56800000003, 196201.56800000003, 656898.2060000014, 186011.36700000014, 186011.36700000014, 264408.0263, 264408.0263, 427256.34100000054, 427256.34100000054, 346483.4559999997, 346483.4559999997, 357125.8459999997, 357125.8459999997, 342493.3659999997, 342493.3659999997, 183856.71999999994, 183856.71999999994, 194499.10999999993, 194499.10999999993, 310944.8940000003, 310944.8940000003, 519245.6849999997, 519245.6849999997, 552292.7110000008, 552292.7110000008, 179866.62999999995, 179866.62999999995, 170184.37000000017, 170184.37000000017, 333031.33399999974, 333031.33399999974, 356618.94899999996, 356618.94899999996, 435981.26400000066, 435981.26400000066, 376680.5919999998, 376680.5919999998, 295117.89700000035, 295117.89700000035, 170404.59799999994, 170404.59799999994, 447687.21600000036, 444887.0502999997, 444887.0502999997, 94955.6080000002, 94955.6080000002, 214053.85599999997, 214053.85599999997, 105597.9980000002, 105597.9980000002, 420154.2670000007, 420154.2670000007, 90965.5180000002, 90965.5180000002, 331375.76900000015, 331375.76900000015, 282260.31429999997, 282260.31429999997, 356493.56200000003, 267717.83700000023, 267717.83700000023, 219889.13500000036, 219889.13500000036, 230531.52500000034, 230531.52500000034, 215064.32199999993, 215899.04500000036, 215899.04500000036, 81503.4860000002, 81503.4860000002, 315548.7720000001, 315548.7720000001, 392651.3640000004, 392651.3640000004, 344925.5050000007, 344925.5050000007, 355567.8950000007, 355567.8950000007, 125152.74400000024, 125152.74400000024, 340935.41500000074, 340935.41500000074, 199237.32499999992, 199237.32499999992, 206437.01300000036, 206437.01300000036, 193359.20230000018, 193359.20230000018, 517687.73400000075, 517687.73400000075, 250086.2710000004, 250086.2710000004, 240320.01000000018, 240320.01000000018, 250962.40000000017, 250962.40000000017, 331473.38300000073, 331473.38300000073, 236329.9200000002, 236329.9200000002, 536972.5859999998, 536972.5859999998, 318292.72930000036, 318292.72930000036, 183410.32799999992, 375122.64100000076, 375122.64100000076, 124008.56299999997, 124008.56299999997, 134650.95299999995, 134650.95299999995, 413082.2390000002, 413082.2390000002, 374345.85, 374345.85, 120018.47299999997, 120018.47299999997, 443329.0993000007, 443329.0993000007, 226867.88800000018, 226867.88800000018, 296770.792, 296770.792, 270517.14600000024, 270517.14600000024, 108181.56599999996, 108181.56599999996, 118823.95599999995, 118823.95599999995, 110556.44099999996, 110556.44099999996, 104191.47599999997, 104191.47599999997, 338723.6043000002, 338723.6043000002, 154205.699, 154205.699, 280943.795, 280943.795, 285444.73800000024, 285444.73800000024, 222412.15729999996, 222412.15729999996, 94729.44399999996, 94729.44399999996, 32952.804, 43595.19399999999, 43595.19399999999, 54237.58399999999, 28962.714000000004, 28962.714000000004, 410378.26500000036, 410378.26500000036, 39605.104, 39605.104, 138378.702, 138378.702, 24972.62400000001, 205715.03300000002, 205715.03300000002, 216357.423, 216357.423, 206585.16029999996, 206585.16029999996, 201724.94300000003, 201724.94300000003, 535414.6350000007, 535414.6350000007, 19500.682, 19500.682, 30143.071999999996, 30143.071999999996, 378477.26200000005, 15510.592000000008, 15510.592000000008, 63149.94000000003, 63149.94000000003, 73792.33000000003, 73792.33000000003, 59159.85000000004, 59159.85000000004, 192262.91100000002, 192262.91100000002, 430809.14000000025, 430809.14000000025, 131356.3983, 131356.3983, 141998.7883, 141998.7883, 235912.16900000005, 127366.3083, 127366.3083, 6048.560000000003, 314497.69299999997, 314497.69299999997, 304118.62730000005, 304118.62730000005, 49697.818000000036, 49697.818000000036, 93347.07600000007, 117904.2763, 117904.2763, 161553.53430000003, 161553.53430000003, 298670.696, 298670.696, 229759.9926, 223441.93400000004, 223441.93400000004, 234084.32400000002, 234084.32400000002, 219451.84400000004, 219451.84400000004, 396204.16300000006, 209989.81200000003, 209989.81200000003, 253639.07000000007, 253639.07000000007, 321845.5283, 321845.5283, 413931.0640000001], \"y\": [100133.55549999996, 100133.55549999996, 97554.46060000002, 97554.46060000002, 89671.39420000005, 89671.39420000005, 89031.46119999989, 86452.36629999997, 86452.36629999997, 85839.58820000006, 85839.58820000006, 83873.27140000003, 82207.99120000005, 82207.99120000005, 78569.29989999998, 78569.29989999998, 76896.65129999998, 76896.65129999998, 75990.20500000006, 75990.20500000006, 74737.49389999999, 74737.49389999999, 73755.8303, 73755.8303, 72158.39900000006, 72158.39900000006, 71105.89689999999, 71105.89689999999, 68676.9685, 68676.9685, 68526.80200000005, 68526.80200000005, 68107.1386000001, 65794.55699999991, 65794.55699999991, 64275.33260000009, 64275.33260000009, 63215.46209999999, 63215.46209999999, 62653.73599999993, 62653.73599999993, 62582.0016, 62582.0016, 62145.61190000001, 62145.61190000001, 61164.078900000015, 61164.078900000015, 60643.73560000009, 60643.73560000009, 60443.526600000085, 60074.64110000001, 60074.64110000001, 59002.58180000001, 57574.87419999995, 57574.87419999995, 56811.92960000008, 56811.92960000008, 56567.343100000006, 56567.343100000006, 55332.39570000002, 55332.39570000002, 54995.77930000002, 54995.77930000002, 54428.72540000001, 54428.72540000001, 53180.33260000008, 52191.57470000004, 52191.57470000004, 52145.26890000001, 52145.26890000001, 51500.58970000001, 51500.58970000001, 51479.90729999994, 51479.90729999994, 51043.51759999995, 51043.51759999995, 50061.98459999995, 50061.98459999995, 48900.81240000001, 48900.81240000001, 48464.42270000002, 48464.42270000002, 48359.76870000003, 48359.76870000003, 47900.487499999945, 47900.487499999945, 47868.99270000002, 47868.99270000002, 47482.88970000002, 47482.88970000002, 47112.71290000005, 47112.71290000005, 45465.24879999994, 45465.24879999994, 45321.392600000014, 45321.392600000014, 44728.171700000035, 44728.171700000035, 43326.63109999995, 43326.63109999995, 43280.906900000045, 43280.906900000045, 42886.15390000001, 42886.15390000001, 42557.652799999945, 41043.17459999995, 41043.17459999995, 41017.74600000004, 41017.74600000004, 40747.53620000002, 40747.53620000002, 40581.35630000005, 40581.35630000005, 39649.309900000044, 39649.309900000044, 39599.823300000055, 39599.823300000055, 39416.83179999996, 39416.83179999996, 38464.07970000002, 38464.07970000002, 37892.3438, 37438.32620000005, 37438.32620000005, 37185.94000000004, 37185.94000000004, 36749.550300000046, 36749.550300000046, 36276.01079999998, 35768.01730000005, 35768.01730000005, 35003.087500000045, 35003.087500000045, 34337.96999999997, 34337.96999999997, 33606.52020000004, 33606.52020000004, 33554.34300000004, 33554.34300000004, 33117.953300000045, 33117.953300000045, 32864.46980000005, 32864.46980000005, 32136.420300000045, 32136.420300000045, 31197.14899999999, 31197.14899999999, 31171.28150000004, 31171.28150000004, 30581.013300000046, 30581.013300000046, 29974.92320000004, 29974.92320000004, 29032.663800000042, 29032.663800000042, 28243.003099999965, 28243.003099999965, 27806.61339999998, 27806.61339999998, 27539.68450000004, 27539.68450000004, 26825.080399999977, 26825.080399999977, 26790.249499999944, 26790.249499999944, 26749.207300000042, 26749.207300000042, 26118.287200000002, 25401.06680000004, 25401.06680000004, 25102.182099999984, 25102.182099999984, 24665.7924, 24665.7924, 24663.583299999973, 24663.583299999973, 24211.154600000013, 24211.154600000013, 23684.259399999995, 23684.259399999995, 23117.61030000004, 23117.61030000004, 22228.34459999997, 22228.34459999997, 21522.76229999999, 21522.76229999999, 20089.726899999972, 20089.726899999972, 20023.320299999996, 20023.320299999996, 19586.930600000007, 19586.930600000007, 19087.52359999999, 19087.52359999999, 18605.397600000008, 18605.397600000008, 17806.270399999972, 17806.270399999972, 16948.90589999999, 16948.90589999999, 16443.900500000003, 16443.900500000003, 16328.088200000046, 16328.088200000046, 14665.44939999999, 14665.44939999999, 14008.661800000002, 14008.661800000002, 13928.353399999987, 13491.9637, 13491.9637, 13055.574000000011, 12510.430699999999, 12510.430699999999, 12496.282200000041, 12496.282200000041, 12074.041000000012, 12074.041000000012, 11870.044100000003, 11870.044100000003, 11092.50800000001, 10348.933599999995, 10348.933599999995, 9912.543900000008, 9912.543900000008, 9586.5876, 9586.5876, 8931.010900000007, 8931.010900000007, 8864.68520000004, 8864.68520000004, 7913.694899999993, 7913.694899999993, 7477.305200000005, 7477.305200000005, 6769.513800000002, 6495.772200000005, 6495.772200000005, 5775.077199999994, 5775.077199999994, 5338.687500000006, 5338.687500000006, 4357.154500000006, 4357.154500000006, 4334.275100000001, 4334.275100000001, 3553.3452999999718, 3553.3452999999718, 3491.6206999999936, 3491.6206999999936, 3055.2310000000057, 3055.2310000000057, 2195.657400000002, 2073.6980000000053, 2073.6980000000053, 1899.0363999999993, 412.52429999999003, 412.52429999999003, -87.79909999999882, -87.79909999999882, -239.5812999999995, -239.5812999999995, -2378.1989999999983, -2523.0378000000005, -2523.0378000000005, -4661.655499999999, -4661.655499999999, -4666.3375, -4666.3375, -6945.112, -10761.304400000008, -10761.304400000008, -11197.694099999995, -11197.694099999995, -12179.227099999996, -12179.227099999996, -14340.7242, -16775.962900000002, -16775.962900000002, -18914.5806, -18914.5806, -21198.0371, -21198.0371, -35450.9622]}],\n",
       "                        {\"template\": {\"data\": {\"bar\": [{\"error_x\": {\"color\": \"#2a3f5f\"}, \"error_y\": {\"color\": \"#2a3f5f\"}, \"marker\": {\"line\": {\"color\": \"#E5ECF6\", \"width\": 0.5}}, \"type\": \"bar\"}], \"barpolar\": [{\"marker\": {\"line\": {\"color\": \"#E5ECF6\", \"width\": 0.5}}, \"type\": \"barpolar\"}], \"carpet\": [{\"aaxis\": {\"endlinecolor\": \"#2a3f5f\", \"gridcolor\": \"white\", \"linecolor\": \"white\", \"minorgridcolor\": \"white\", \"startlinecolor\": \"#2a3f5f\"}, \"baxis\": {\"endlinecolor\": \"#2a3f5f\", \"gridcolor\": \"white\", \"linecolor\": \"white\", \"minorgridcolor\": \"white\", \"startlinecolor\": \"#2a3f5f\"}, \"type\": \"carpet\"}], \"choropleth\": [{\"colorbar\": {\"outlinewidth\": 0, \"ticks\": \"\"}, \"type\": \"choropleth\"}], \"contour\": [{\"colorbar\": {\"outlinewidth\": 0, \"ticks\": \"\"}, \"colorscale\": [[0.0, \"#0d0887\"], [0.1111111111111111, \"#46039f\"], [0.2222222222222222, \"#7201a8\"], [0.3333333333333333, \"#9c179e\"], [0.4444444444444444, \"#bd3786\"], [0.5555555555555556, \"#d8576b\"], [0.6666666666666666, \"#ed7953\"], [0.7777777777777778, \"#fb9f3a\"], [0.8888888888888888, \"#fdca26\"], [1.0, \"#f0f921\"]], \"type\": \"contour\"}], \"contourcarpet\": [{\"colorbar\": {\"outlinewidth\": 0, \"ticks\": \"\"}, \"type\": \"contourcarpet\"}], \"heatmap\": [{\"colorbar\": {\"outlinewidth\": 0, \"ticks\": \"\"}, \"colorscale\": [[0.0, \"#0d0887\"], [0.1111111111111111, \"#46039f\"], [0.2222222222222222, \"#7201a8\"], [0.3333333333333333, \"#9c179e\"], [0.4444444444444444, \"#bd3786\"], [0.5555555555555556, \"#d8576b\"], [0.6666666666666666, \"#ed7953\"], [0.7777777777777778, \"#fb9f3a\"], [0.8888888888888888, \"#fdca26\"], [1.0, \"#f0f921\"]], \"type\": \"heatmap\"}], \"heatmapgl\": [{\"colorbar\": {\"outlinewidth\": 0, \"ticks\": \"\"}, \"colorscale\": [[0.0, \"#0d0887\"], [0.1111111111111111, \"#46039f\"], [0.2222222222222222, \"#7201a8\"], [0.3333333333333333, \"#9c179e\"], [0.4444444444444444, \"#bd3786\"], [0.5555555555555556, \"#d8576b\"], [0.6666666666666666, \"#ed7953\"], [0.7777777777777778, \"#fb9f3a\"], [0.8888888888888888, \"#fdca26\"], [1.0, \"#f0f921\"]], \"type\": \"heatmapgl\"}], \"histogram\": [{\"marker\": {\"colorbar\": {\"outlinewidth\": 0, \"ticks\": \"\"}}, \"type\": \"histogram\"}], \"histogram2d\": [{\"colorbar\": {\"outlinewidth\": 0, \"ticks\": \"\"}, \"colorscale\": [[0.0, \"#0d0887\"], [0.1111111111111111, \"#46039f\"], [0.2222222222222222, \"#7201a8\"], [0.3333333333333333, \"#9c179e\"], [0.4444444444444444, \"#bd3786\"], [0.5555555555555556, \"#d8576b\"], [0.6666666666666666, \"#ed7953\"], [0.7777777777777778, \"#fb9f3a\"], [0.8888888888888888, \"#fdca26\"], [1.0, \"#f0f921\"]], \"type\": \"histogram2d\"}], \"histogram2dcontour\": [{\"colorbar\": {\"outlinewidth\": 0, \"ticks\": \"\"}, \"colorscale\": [[0.0, \"#0d0887\"], [0.1111111111111111, \"#46039f\"], [0.2222222222222222, \"#7201a8\"], [0.3333333333333333, \"#9c179e\"], [0.4444444444444444, \"#bd3786\"], [0.5555555555555556, \"#d8576b\"], [0.6666666666666666, \"#ed7953\"], [0.7777777777777778, \"#fb9f3a\"], [0.8888888888888888, \"#fdca26\"], [1.0, \"#f0f921\"]], \"type\": \"histogram2dcontour\"}], \"mesh3d\": [{\"colorbar\": {\"outlinewidth\": 0, \"ticks\": \"\"}, \"type\": \"mesh3d\"}], \"parcoords\": [{\"line\": {\"colorbar\": {\"outlinewidth\": 0, \"ticks\": \"\"}}, \"type\": \"parcoords\"}], \"scatter\": [{\"marker\": {\"colorbar\": {\"outlinewidth\": 0, \"ticks\": \"\"}}, \"type\": \"scatter\"}], \"scatter3d\": [{\"line\": {\"colorbar\": {\"outlinewidth\": 0, \"ticks\": \"\"}}, \"marker\": {\"colorbar\": {\"outlinewidth\": 0, \"ticks\": \"\"}}, \"type\": \"scatter3d\"}], \"scattercarpet\": [{\"marker\": {\"colorbar\": {\"outlinewidth\": 0, \"ticks\": \"\"}}, \"type\": \"scattercarpet\"}], \"scattergeo\": [{\"marker\": {\"colorbar\": {\"outlinewidth\": 0, \"ticks\": \"\"}}, \"type\": \"scattergeo\"}], \"scattergl\": [{\"marker\": {\"colorbar\": {\"outlinewidth\": 0, \"ticks\": \"\"}}, \"type\": \"scattergl\"}], \"scattermapbox\": [{\"marker\": {\"colorbar\": {\"outlinewidth\": 0, \"ticks\": \"\"}}, \"type\": \"scattermapbox\"}], \"scatterpolar\": [{\"marker\": {\"colorbar\": {\"outlinewidth\": 0, \"ticks\": \"\"}}, \"type\": \"scatterpolar\"}], \"scatterpolargl\": [{\"marker\": {\"colorbar\": {\"outlinewidth\": 0, \"ticks\": \"\"}}, \"type\": \"scatterpolargl\"}], \"scatterternary\": [{\"marker\": {\"colorbar\": {\"outlinewidth\": 0, \"ticks\": \"\"}}, \"type\": \"scatterternary\"}], \"surface\": [{\"colorbar\": {\"outlinewidth\": 0, \"ticks\": \"\"}, \"colorscale\": [[0.0, \"#0d0887\"], [0.1111111111111111, \"#46039f\"], [0.2222222222222222, \"#7201a8\"], [0.3333333333333333, \"#9c179e\"], [0.4444444444444444, \"#bd3786\"], [0.5555555555555556, \"#d8576b\"], [0.6666666666666666, \"#ed7953\"], [0.7777777777777778, \"#fb9f3a\"], [0.8888888888888888, \"#fdca26\"], [1.0, \"#f0f921\"]], \"type\": \"surface\"}], \"table\": [{\"cells\": {\"fill\": {\"color\": \"#EBF0F8\"}, \"line\": {\"color\": \"white\"}}, \"header\": {\"fill\": {\"color\": \"#C8D4E3\"}, \"line\": {\"color\": \"white\"}}, \"type\": \"table\"}]}, \"layout\": {\"annotationdefaults\": {\"arrowcolor\": \"#2a3f5f\", \"arrowhead\": 0, \"arrowwidth\": 1}, \"colorscale\": {\"diverging\": [[0, \"#8e0152\"], [0.1, \"#c51b7d\"], [0.2, \"#de77ae\"], [0.3, \"#f1b6da\"], [0.4, \"#fde0ef\"], [0.5, \"#f7f7f7\"], [0.6, \"#e6f5d0\"], [0.7, \"#b8e186\"], [0.8, \"#7fbc41\"], [0.9, \"#4d9221\"], [1, \"#276419\"]], \"sequential\": [[0.0, \"#0d0887\"], [0.1111111111111111, \"#46039f\"], [0.2222222222222222, \"#7201a8\"], [0.3333333333333333, \"#9c179e\"], [0.4444444444444444, \"#bd3786\"], [0.5555555555555556, \"#d8576b\"], [0.6666666666666666, \"#ed7953\"], [0.7777777777777778, \"#fb9f3a\"], [0.8888888888888888, \"#fdca26\"], [1.0, \"#f0f921\"]], \"sequentialminus\": [[0.0, \"#0d0887\"], [0.1111111111111111, \"#46039f\"], [0.2222222222222222, \"#7201a8\"], [0.3333333333333333, \"#9c179e\"], [0.4444444444444444, \"#bd3786\"], [0.5555555555555556, \"#d8576b\"], [0.6666666666666666, \"#ed7953\"], [0.7777777777777778, \"#fb9f3a\"], [0.8888888888888888, \"#fdca26\"], [1.0, \"#f0f921\"]]}, \"colorway\": [\"#636efa\", \"#EF553B\", \"#00cc96\", \"#ab63fa\", \"#FFA15A\", \"#19d3f3\", \"#FF6692\", \"#B6E880\", \"#FF97FF\", \"#FECB52\"], \"font\": {\"color\": \"#2a3f5f\"}, \"geo\": {\"bgcolor\": \"white\", \"lakecolor\": \"white\", \"landcolor\": \"#E5ECF6\", \"showlakes\": true, \"showland\": true, \"subunitcolor\": \"white\"}, \"hoverlabel\": {\"align\": \"left\"}, \"hovermode\": \"closest\", \"mapbox\": {\"style\": \"light\"}, \"paper_bgcolor\": \"white\", \"plot_bgcolor\": \"#E5ECF6\", \"polar\": {\"angularaxis\": {\"gridcolor\": \"white\", \"linecolor\": \"white\", \"ticks\": \"\"}, \"bgcolor\": \"#E5ECF6\", \"radialaxis\": {\"gridcolor\": \"white\", \"linecolor\": \"white\", \"ticks\": \"\"}}, \"scene\": {\"xaxis\": {\"backgroundcolor\": \"#E5ECF6\", \"gridcolor\": \"white\", \"gridwidth\": 2, \"linecolor\": \"white\", \"showbackground\": true, \"ticks\": \"\", \"zerolinecolor\": \"white\"}, \"yaxis\": {\"backgroundcolor\": \"#E5ECF6\", \"gridcolor\": \"white\", \"gridwidth\": 2, \"linecolor\": \"white\", \"showbackground\": true, \"ticks\": \"\", \"zerolinecolor\": \"white\"}, \"zaxis\": {\"backgroundcolor\": \"#E5ECF6\", \"gridcolor\": \"white\", \"gridwidth\": 2, \"linecolor\": \"white\", \"showbackground\": true, \"ticks\": \"\", \"zerolinecolor\": \"white\"}}, \"shapedefaults\": {\"line\": {\"color\": \"#2a3f5f\"}}, \"ternary\": {\"aaxis\": {\"gridcolor\": \"white\", \"linecolor\": \"white\", \"ticks\": \"\"}, \"baxis\": {\"gridcolor\": \"white\", \"linecolor\": \"white\", \"ticks\": \"\"}, \"bgcolor\": \"#E5ECF6\", \"caxis\": {\"gridcolor\": \"white\", \"linecolor\": \"white\", \"ticks\": \"\"}}, \"title\": {\"x\": 0.05}, \"xaxis\": {\"automargin\": true, \"gridcolor\": \"white\", \"linecolor\": \"white\", \"ticks\": \"\", \"zerolinecolor\": \"white\", \"zerolinewidth\": 2}, \"yaxis\": {\"automargin\": true, \"gridcolor\": \"white\", \"linecolor\": \"white\", \"ticks\": \"\", \"zerolinecolor\": \"white\", \"zerolinewidth\": 2}}}},\n",
       "                        {\"responsive\": true}\n",
       "                    ).then(function(){\n",
       "                            \n",
       "var gd = document.getElementById('63b4683b-896d-4fd7-a4ff-f24dac913009');\n",
       "var x = new MutationObserver(function (mutations, observer) {{\n",
       "        var display = window.getComputedStyle(gd).display;\n",
       "        if (!display || display === 'none') {{\n",
       "            console.log([gd, 'removed!']);\n",
       "            Plotly.purge(gd);\n",
       "            observer.disconnect();\n",
       "        }}\n",
       "}});\n",
       "\n",
       "// Listen for the removal of the full notebook cells\n",
       "var notebookContainer = gd.closest('#notebook-container');\n",
       "if (notebookContainer) {{\n",
       "    x.observe(notebookContainer, {childList: true});\n",
       "}}\n",
       "\n",
       "// Listen for the clearing of the current output cell\n",
       "var outputEl = gd.closest('.output');\n",
       "if (outputEl) {{\n",
       "    x.observe(outputEl, {childList: true});\n",
       "}}\n",
       "\n",
       "                        })\n",
       "                };\n",
       "                });\n",
       "            </script>\n",
       "        </div>"
      ]
     },
     "metadata": {},
     "output_type": "display_data"
    }
   ],
   "source": [
    "from plotly.offline import download_plotlyjs, init_notebook_mode, plot, iplot \n",
    "import plotly.graph_objs as go\n",
    "\n",
    "init_notebook_mode(connected=True)\n",
    "\n",
    "trace0 = go.Scatter(\n",
    "    x = p2['pairSales'],\n",
    "    y = p2['pairProfit'],\n",
    "    mode='markers',\n",
    "    marker=dict(\n",
    "        color = p2['Discount_mean_item1']\n",
    "    )\n",
    ")\n",
    "\n",
    "data = [trace0]\n",
    "iplot(data, filename='bubblechart-color')"
   ]
  },
  {
   "cell_type": "code",
   "execution_count": 32,
   "metadata": {},
   "outputs": [
    {
     "data": {
      "application/vnd.plotly.v1+json": {
       "config": {
        "linkText": "Export to plot.ly",
        "plotlyServerURL": "https://plot.ly",
        "showLink": false
       },
       "data": [
        {
         "mode": "markers",
         "type": "scatter",
         "x": [
          479535.0839999997,
          479535.0839999997,
          316908.34799999994,
          316908.34799999994,
          228007.2360000002,
          228007.2360000002,
          660014.1079999994,
          497387.3719999996,
          497387.3719999996,
          352940.7630000004,
          352940.7630000004,
          334760.6359999999,
          477977.13300000073,
          477977.13300000073,
          408486.2599999999,
          408486.2599999999,
          373371.63800000015,
          373371.63800000015,
          245859.52400000015,
          245859.52400000015,
          533419.787,
          533419.787,
          257060.19099999996,
          257060.19099999996,
          370793.0510000003,
          370793.0510000003,
          658456.1570000004,
          658456.1570000004,
          241233.19399999996,
          241233.19399999996,
          495829.4210000007,
          495829.4210000007,
          156958.4120000004,
          553850.6619999999,
          553850.6619999999,
          281891.93900000054,
          281891.93900000054,
          391223.9260000001,
          391223.9260000001,
          437539.2149999997,
          437539.2149999997,
          166004.432,
          166004.432,
          176646.822,
          176646.822,
          162014.342,
          162014.342,
          406928.3090000009,
          406928.3090000009,
          406825.4660000007,
          274912.47899999993,
          274912.47899999993,
          338766.661,
          421712.21799999964,
          421712.21799999964,
          531861.836000001,
          531861.836000001,
          152552.31,
          152552.31,
          302322.81400000036,
          302322.81400000036,
          259085.4819999999,
          259085.4819999999,
          196201.56800000003,
          196201.56800000003,
          656898.2060000014,
          186011.36700000014,
          186011.36700000014,
          264408.0263,
          264408.0263,
          427256.34100000054,
          427256.34100000054,
          346483.4559999997,
          346483.4559999997,
          357125.8459999997,
          357125.8459999997,
          342493.3659999997,
          342493.3659999997,
          183856.71999999994,
          183856.71999999994,
          194499.10999999993,
          194499.10999999993,
          310944.8940000003,
          310944.8940000003,
          519245.6849999997,
          519245.6849999997,
          552292.7110000008,
          552292.7110000008,
          179866.62999999995,
          179866.62999999995,
          170184.37000000017,
          170184.37000000017,
          333031.33399999974,
          333031.33399999974,
          356618.94899999996,
          356618.94899999996,
          435981.26400000066,
          435981.26400000066,
          376680.5919999998,
          376680.5919999998,
          295117.89700000035,
          295117.89700000035,
          170404.59799999994,
          170404.59799999994,
          447687.21600000036,
          444887.0502999997,
          444887.0502999997,
          94955.6080000002,
          94955.6080000002,
          214053.85599999997,
          214053.85599999997,
          105597.9980000002,
          105597.9980000002,
          420154.2670000007,
          420154.2670000007,
          90965.5180000002,
          90965.5180000002,
          331375.76900000015,
          331375.76900000015,
          282260.31429999997,
          282260.31429999997,
          356493.56200000003,
          267717.83700000023,
          267717.83700000023,
          219889.13500000036,
          219889.13500000036,
          230531.52500000034,
          230531.52500000034,
          215064.32199999993,
          215899.04500000036,
          215899.04500000036,
          81503.4860000002,
          81503.4860000002,
          315548.7720000001,
          315548.7720000001,
          392651.3640000004,
          392651.3640000004,
          344925.5050000007,
          344925.5050000007,
          355567.8950000007,
          355567.8950000007,
          125152.74400000024,
          125152.74400000024,
          340935.41500000074,
          340935.41500000074,
          199237.32499999992,
          199237.32499999992,
          206437.01300000036,
          206437.01300000036,
          193359.20230000018,
          193359.20230000018,
          517687.73400000075,
          517687.73400000075,
          250086.2710000004,
          250086.2710000004,
          240320.01000000018,
          240320.01000000018,
          250962.40000000017,
          250962.40000000017,
          331473.38300000073,
          331473.38300000073,
          236329.9200000002,
          236329.9200000002,
          536972.5859999998,
          536972.5859999998,
          318292.72930000036,
          318292.72930000036,
          183410.32799999992,
          375122.64100000076,
          375122.64100000076,
          124008.56299999997,
          124008.56299999997,
          134650.95299999995,
          134650.95299999995,
          413082.2390000002,
          413082.2390000002,
          374345.85,
          374345.85,
          120018.47299999997,
          120018.47299999997,
          443329.0993000007,
          443329.0993000007,
          226867.88800000018,
          226867.88800000018,
          296770.792,
          296770.792,
          270517.14600000024,
          270517.14600000024,
          108181.56599999996,
          108181.56599999996,
          118823.95599999995,
          118823.95599999995,
          110556.44099999996,
          110556.44099999996,
          104191.47599999997,
          104191.47599999997,
          338723.6043000002,
          338723.6043000002,
          154205.699,
          154205.699,
          280943.795,
          280943.795,
          285444.73800000024,
          285444.73800000024,
          222412.15729999996,
          222412.15729999996,
          94729.44399999996,
          94729.44399999996,
          32952.804,
          43595.19399999999,
          43595.19399999999,
          54237.58399999999,
          28962.714000000004,
          28962.714000000004,
          410378.26500000036,
          410378.26500000036,
          39605.104,
          39605.104,
          138378.702,
          138378.702,
          24972.62400000001,
          205715.03300000002,
          205715.03300000002,
          216357.423,
          216357.423,
          206585.16029999996,
          206585.16029999996,
          201724.94300000003,
          201724.94300000003,
          535414.6350000007,
          535414.6350000007,
          19500.682,
          19500.682,
          30143.071999999996,
          30143.071999999996,
          378477.26200000005,
          15510.592000000008,
          15510.592000000008,
          63149.94000000003,
          63149.94000000003,
          73792.33000000003,
          73792.33000000003,
          59159.85000000004,
          59159.85000000004,
          192262.91100000002,
          192262.91100000002,
          430809.14000000025,
          430809.14000000025,
          131356.3983,
          131356.3983,
          141998.7883,
          141998.7883,
          235912.16900000005,
          127366.3083,
          127366.3083,
          6048.560000000003,
          314497.69299999997,
          314497.69299999997,
          304118.62730000005,
          304118.62730000005,
          49697.818000000036,
          49697.818000000036,
          93347.07600000007,
          117904.2763,
          117904.2763,
          161553.53430000003,
          161553.53430000003,
          298670.696,
          298670.696,
          229759.9926,
          223441.93400000004,
          223441.93400000004,
          234084.32400000002,
          234084.32400000002,
          219451.84400000004,
          219451.84400000004,
          396204.16300000006,
          209989.81200000003,
          209989.81200000003,
          253639.07000000007,
          253639.07000000007,
          321845.5283,
          321845.5283,
          413931.0640000001
         ],
         "y": [
          0.1545556805399334,
          0.1617647058823529,
          0.07845161290322622,
          0.1617647058823529,
          0.1617647058823529,
          0.07489051094890578,
          0.1545556805399334,
          0.07845161290322622,
          0.1545556805399334,
          0.3722915298752451,
          0.1617647058823529,
          0.07845161290322622,
          0.17017828200972462,
          0.1617647058823529,
          0.07489051094890578,
          0.1545556805399334,
          0.1617647058823529,
          0.07470449172576875,
          0.07489051094890578,
          0.07845161290322622,
          0.3722915298752451,
          0.1545556805399334,
          0.1617647058823529,
          0.16652360515021483,
          0.07845161290322622,
          0.3722915298752451,
          0.17017828200972462,
          0.1545556805399334,
          0.13834900731452465,
          0.1617647058823529,
          0.17017828200972462,
          0.07845161290322622,
          0.07489051094890578,
          0.07470449172576875,
          0.1545556805399334,
          0.3722915298752451,
          0.07489051094890578,
          0.07845161290322622,
          0.07470449172576875,
          0.16652360515021483,
          0.1545556805399334,
          0.0803149606299211,
          0.1617647058823529,
          0.1617647058823529,
          0.07487437185929686,
          0.1617647058823529,
          0.06868131868131852,
          0.17017828200972462,
          0.07489051094890578,
          0.3722915298752451,
          0.07845161290322622,
          0.16652360515021483,
          0.306086956521739,
          0.1545556805399334,
          0.13834900731452465,
          0.17017828200972462,
          0.3722915298752451,
          0.1617647058823529,
          0.08202764976958511,
          0.07470449172576875,
          0.07489051094890578,
          0.07845161290322622,
          0.13834900731452465,
          0.0768421052631578,
          0.1617647058823529,
          0.17017828200972462,
          0.16652360515021483,
          0.07489051094890578,
          0.1617647058823529,
          0.21114035087719304,
          0.07470449172576875,
          0.3722915298752451,
          0.0803149606299211,
          0.1545556805399334,
          0.07487437185929686,
          0.1545556805399334,
          0.06868131868131852,
          0.1545556805399334,
          0.0803149606299211,
          0.07845161290322622,
          0.07487437185929686,
          0.07845161290322622,
          0.3722915298752451,
          0.16652360515021483,
          0.1545556805399334,
          0.306086956521739,
          0.07470449172576875,
          0.17017828200972462,
          0.07845161290322622,
          0.06868131868131852,
          0.07489051094890578,
          0.13834900731452465,
          0.08202764976958511,
          0.1545556805399334,
          0.07845161290322622,
          0.306086956521739,
          0.16652360515021483,
          0.17017828200972462,
          0.1545556805399334,
          0.0768421052631578,
          0.13834900731452465,
          0.3722915298752451,
          0.08202764976958511,
          0.07845161290322622,
          0.07470449172576875,
          0.1545556805399334,
          0.21114035087719304,
          0.07489051094890578,
          0.0803149606299211,
          0.0768421052631578,
          0.07845161290322622,
          0.07489051094890578,
          0.07487437185929686,
          0.13834900731452465,
          0.17017828200972462,
          0.07489051094890578,
          0.06868131868131852,
          0.16652360515021483,
          0.07470449172576875,
          0.21114035087719304,
          0.07845161290322622,
          0.1617647058823529,
          0.306086956521739,
          0.07489051094890578,
          0.0803149606299211,
          0.3722915298752451,
          0.07487437185929686,
          0.3722915298752451,
          0.16652360515021483,
          0.3722915298752451,
          0.06868131868131852,
          0.07489051094890578,
          0.08202764976958511,
          0.07470449172576875,
          0.13834900731452465,
          0.306086956521739,
          0.3722915298752451,
          0.17017828200972462,
          0.0803149606299211,
          0.17017828200972462,
          0.07487437185929686,
          0.07489051094890578,
          0.0768421052631578,
          0.06868131868131852,
          0.17017828200972462,
          0.13834900731452465,
          0.16652360515021483,
          0.3722915298752451,
          0.08202764976958511,
          0.21114035087719304,
          0.07489051094890578,
          0.306086956521739,
          0.17017828200972462,
          0.0768421052631578,
          0.3722915298752451,
          0.0803149606299211,
          0.07470449172576875,
          0.07470449172576875,
          0.07487437185929686,
          0.17017828200972462,
          0.08202764976958511,
          0.06868131868131852,
          0.07470449172576875,
          0.2612852664576806,
          0.1545556805399334,
          0.21114035087719304,
          0.3722915298752451,
          0.13834900731452465,
          0.0768421052631578,
          0.17017828200972462,
          0.16652360515021483,
          0.0803149606299211,
          0.16652360515021483,
          0.07487437185929686,
          0.306086956521739,
          0.07470449172576875,
          0.2612852664576806,
          0.07845161290322622,
          0.06868131868131852,
          0.16652360515021483,
          0.21114035087719304,
          0.17017828200972462,
          0.07470449172576875,
          0.08202764976958511,
          0.306086956521739,
          0.16652360515021483,
          0.07470449172576875,
          0.0768421052631578,
          0.0803149606299211,
          0.13834900731452465,
          0.07487437185929686,
          0.13834900731452465,
          0.16652360515021483,
          0.08202764976958511,
          0.13834900731452465,
          0.06868131868131852,
          0.21114035087719304,
          0.07470449172576875,
          0.0768421052631578,
          0.16652360515021483,
          0.13834900731452465,
          0.306086956521739,
          0.07489051094890578,
          0.2612852664576806,
          0.16652360515021483,
          0.21114035087719304,
          0.13834900731452465,
          0.08202764976958511,
          0.0803149606299211,
          0.0803149606299211,
          0.07487437185929686,
          0.07487437185929686,
          0.06868131868131852,
          0.0803149606299211,
          0.3722915298752451,
          0.2612852664576806,
          0.07487437185929686,
          0.06868131868131852,
          0.13834900731452465,
          0.0768421052631578,
          0.06868131868131852,
          0.0803149606299211,
          0.306086956521739,
          0.07487437185929686,
          0.306086956521739,
          0.13834900731452465,
          0.21114035087719304,
          0.306086956521739,
          0.06868131868131852,
          0.2612852664576806,
          0.17017828200972462,
          0.08202764976958511,
          0.0803149606299211,
          0.08202764976958511,
          0.07487437185929686,
          0.306086956521739,
          0.06868131868131852,
          0.08202764976958511,
          0.0768421052631578,
          0.0803149606299211,
          0.0768421052631578,
          0.07487437185929686,
          0.0768421052631578,
          0.06868131868131852,
          0.306086956521739,
          0.08202764976958511,
          0.07470449172576875,
          0.2612852664576806,
          0.0803149606299211,
          0.21114035087719304,
          0.07487437185929686,
          0.21114035087719304,
          0.306086956521739,
          0.06868131868131852,
          0.21114035087719304,
          0.08202764976958511,
          0.2612852664576806,
          0.16652360515021483,
          0.306086956521739,
          0.21114035087719304,
          0.0768421052631578,
          0.08202764976958511,
          0.0768421052631578,
          0.21114035087719304,
          0.08202764976958511,
          0.0768421052631578,
          0.21114035087719304,
          0.13834900731452465,
          0.2612852664576806,
          0.21114035087719304,
          0.2612852664576806,
          0.0803149606299211,
          0.2612852664576806,
          0.07487437185929686,
          0.2612852664576806,
          0.06868131868131852,
          0.2612852664576806,
          0.08202764976958511,
          0.2612852664576806,
          0.0768421052631578,
          0.2612852664576806,
          0.2612852664576806,
          0.21114035087719304,
          0.2612852664576806
         ]
        }
       ],
       "layout": {
        "template": {
         "data": {
          "bar": [
           {
            "error_x": {
             "color": "#2a3f5f"
            },
            "error_y": {
             "color": "#2a3f5f"
            },
            "marker": {
             "line": {
              "color": "#E5ECF6",
              "width": 0.5
             }
            },
            "type": "bar"
           }
          ],
          "barpolar": [
           {
            "marker": {
             "line": {
              "color": "#E5ECF6",
              "width": 0.5
             }
            },
            "type": "barpolar"
           }
          ],
          "carpet": [
           {
            "aaxis": {
             "endlinecolor": "#2a3f5f",
             "gridcolor": "white",
             "linecolor": "white",
             "minorgridcolor": "white",
             "startlinecolor": "#2a3f5f"
            },
            "baxis": {
             "endlinecolor": "#2a3f5f",
             "gridcolor": "white",
             "linecolor": "white",
             "minorgridcolor": "white",
             "startlinecolor": "#2a3f5f"
            },
            "type": "carpet"
           }
          ],
          "choropleth": [
           {
            "colorbar": {
             "outlinewidth": 0,
             "ticks": ""
            },
            "type": "choropleth"
           }
          ],
          "contour": [
           {
            "colorbar": {
             "outlinewidth": 0,
             "ticks": ""
            },
            "colorscale": [
             [
              0,
              "#0d0887"
             ],
             [
              0.1111111111111111,
              "#46039f"
             ],
             [
              0.2222222222222222,
              "#7201a8"
             ],
             [
              0.3333333333333333,
              "#9c179e"
             ],
             [
              0.4444444444444444,
              "#bd3786"
             ],
             [
              0.5555555555555556,
              "#d8576b"
             ],
             [
              0.6666666666666666,
              "#ed7953"
             ],
             [
              0.7777777777777778,
              "#fb9f3a"
             ],
             [
              0.8888888888888888,
              "#fdca26"
             ],
             [
              1,
              "#f0f921"
             ]
            ],
            "type": "contour"
           }
          ],
          "contourcarpet": [
           {
            "colorbar": {
             "outlinewidth": 0,
             "ticks": ""
            },
            "type": "contourcarpet"
           }
          ],
          "heatmap": [
           {
            "colorbar": {
             "outlinewidth": 0,
             "ticks": ""
            },
            "colorscale": [
             [
              0,
              "#0d0887"
             ],
             [
              0.1111111111111111,
              "#46039f"
             ],
             [
              0.2222222222222222,
              "#7201a8"
             ],
             [
              0.3333333333333333,
              "#9c179e"
             ],
             [
              0.4444444444444444,
              "#bd3786"
             ],
             [
              0.5555555555555556,
              "#d8576b"
             ],
             [
              0.6666666666666666,
              "#ed7953"
             ],
             [
              0.7777777777777778,
              "#fb9f3a"
             ],
             [
              0.8888888888888888,
              "#fdca26"
             ],
             [
              1,
              "#f0f921"
             ]
            ],
            "type": "heatmap"
           }
          ],
          "heatmapgl": [
           {
            "colorbar": {
             "outlinewidth": 0,
             "ticks": ""
            },
            "colorscale": [
             [
              0,
              "#0d0887"
             ],
             [
              0.1111111111111111,
              "#46039f"
             ],
             [
              0.2222222222222222,
              "#7201a8"
             ],
             [
              0.3333333333333333,
              "#9c179e"
             ],
             [
              0.4444444444444444,
              "#bd3786"
             ],
             [
              0.5555555555555556,
              "#d8576b"
             ],
             [
              0.6666666666666666,
              "#ed7953"
             ],
             [
              0.7777777777777778,
              "#fb9f3a"
             ],
             [
              0.8888888888888888,
              "#fdca26"
             ],
             [
              1,
              "#f0f921"
             ]
            ],
            "type": "heatmapgl"
           }
          ],
          "histogram": [
           {
            "marker": {
             "colorbar": {
              "outlinewidth": 0,
              "ticks": ""
             }
            },
            "type": "histogram"
           }
          ],
          "histogram2d": [
           {
            "colorbar": {
             "outlinewidth": 0,
             "ticks": ""
            },
            "colorscale": [
             [
              0,
              "#0d0887"
             ],
             [
              0.1111111111111111,
              "#46039f"
             ],
             [
              0.2222222222222222,
              "#7201a8"
             ],
             [
              0.3333333333333333,
              "#9c179e"
             ],
             [
              0.4444444444444444,
              "#bd3786"
             ],
             [
              0.5555555555555556,
              "#d8576b"
             ],
             [
              0.6666666666666666,
              "#ed7953"
             ],
             [
              0.7777777777777778,
              "#fb9f3a"
             ],
             [
              0.8888888888888888,
              "#fdca26"
             ],
             [
              1,
              "#f0f921"
             ]
            ],
            "type": "histogram2d"
           }
          ],
          "histogram2dcontour": [
           {
            "colorbar": {
             "outlinewidth": 0,
             "ticks": ""
            },
            "colorscale": [
             [
              0,
              "#0d0887"
             ],
             [
              0.1111111111111111,
              "#46039f"
             ],
             [
              0.2222222222222222,
              "#7201a8"
             ],
             [
              0.3333333333333333,
              "#9c179e"
             ],
             [
              0.4444444444444444,
              "#bd3786"
             ],
             [
              0.5555555555555556,
              "#d8576b"
             ],
             [
              0.6666666666666666,
              "#ed7953"
             ],
             [
              0.7777777777777778,
              "#fb9f3a"
             ],
             [
              0.8888888888888888,
              "#fdca26"
             ],
             [
              1,
              "#f0f921"
             ]
            ],
            "type": "histogram2dcontour"
           }
          ],
          "mesh3d": [
           {
            "colorbar": {
             "outlinewidth": 0,
             "ticks": ""
            },
            "type": "mesh3d"
           }
          ],
          "parcoords": [
           {
            "line": {
             "colorbar": {
              "outlinewidth": 0,
              "ticks": ""
             }
            },
            "type": "parcoords"
           }
          ],
          "scatter": [
           {
            "marker": {
             "colorbar": {
              "outlinewidth": 0,
              "ticks": ""
             }
            },
            "type": "scatter"
           }
          ],
          "scatter3d": [
           {
            "line": {
             "colorbar": {
              "outlinewidth": 0,
              "ticks": ""
             }
            },
            "marker": {
             "colorbar": {
              "outlinewidth": 0,
              "ticks": ""
             }
            },
            "type": "scatter3d"
           }
          ],
          "scattercarpet": [
           {
            "marker": {
             "colorbar": {
              "outlinewidth": 0,
              "ticks": ""
             }
            },
            "type": "scattercarpet"
           }
          ],
          "scattergeo": [
           {
            "marker": {
             "colorbar": {
              "outlinewidth": 0,
              "ticks": ""
             }
            },
            "type": "scattergeo"
           }
          ],
          "scattergl": [
           {
            "marker": {
             "colorbar": {
              "outlinewidth": 0,
              "ticks": ""
             }
            },
            "type": "scattergl"
           }
          ],
          "scattermapbox": [
           {
            "marker": {
             "colorbar": {
              "outlinewidth": 0,
              "ticks": ""
             }
            },
            "type": "scattermapbox"
           }
          ],
          "scatterpolar": [
           {
            "marker": {
             "colorbar": {
              "outlinewidth": 0,
              "ticks": ""
             }
            },
            "type": "scatterpolar"
           }
          ],
          "scatterpolargl": [
           {
            "marker": {
             "colorbar": {
              "outlinewidth": 0,
              "ticks": ""
             }
            },
            "type": "scatterpolargl"
           }
          ],
          "scatterternary": [
           {
            "marker": {
             "colorbar": {
              "outlinewidth": 0,
              "ticks": ""
             }
            },
            "type": "scatterternary"
           }
          ],
          "surface": [
           {
            "colorbar": {
             "outlinewidth": 0,
             "ticks": ""
            },
            "colorscale": [
             [
              0,
              "#0d0887"
             ],
             [
              0.1111111111111111,
              "#46039f"
             ],
             [
              0.2222222222222222,
              "#7201a8"
             ],
             [
              0.3333333333333333,
              "#9c179e"
             ],
             [
              0.4444444444444444,
              "#bd3786"
             ],
             [
              0.5555555555555556,
              "#d8576b"
             ],
             [
              0.6666666666666666,
              "#ed7953"
             ],
             [
              0.7777777777777778,
              "#fb9f3a"
             ],
             [
              0.8888888888888888,
              "#fdca26"
             ],
             [
              1,
              "#f0f921"
             ]
            ],
            "type": "surface"
           }
          ],
          "table": [
           {
            "cells": {
             "fill": {
              "color": "#EBF0F8"
             },
             "line": {
              "color": "white"
             }
            },
            "header": {
             "fill": {
              "color": "#C8D4E3"
             },
             "line": {
              "color": "white"
             }
            },
            "type": "table"
           }
          ]
         },
         "layout": {
          "annotationdefaults": {
           "arrowcolor": "#2a3f5f",
           "arrowhead": 0,
           "arrowwidth": 1
          },
          "colorscale": {
           "diverging": [
            [
             0,
             "#8e0152"
            ],
            [
             0.1,
             "#c51b7d"
            ],
            [
             0.2,
             "#de77ae"
            ],
            [
             0.3,
             "#f1b6da"
            ],
            [
             0.4,
             "#fde0ef"
            ],
            [
             0.5,
             "#f7f7f7"
            ],
            [
             0.6,
             "#e6f5d0"
            ],
            [
             0.7,
             "#b8e186"
            ],
            [
             0.8,
             "#7fbc41"
            ],
            [
             0.9,
             "#4d9221"
            ],
            [
             1,
             "#276419"
            ]
           ],
           "sequential": [
            [
             0,
             "#0d0887"
            ],
            [
             0.1111111111111111,
             "#46039f"
            ],
            [
             0.2222222222222222,
             "#7201a8"
            ],
            [
             0.3333333333333333,
             "#9c179e"
            ],
            [
             0.4444444444444444,
             "#bd3786"
            ],
            [
             0.5555555555555556,
             "#d8576b"
            ],
            [
             0.6666666666666666,
             "#ed7953"
            ],
            [
             0.7777777777777778,
             "#fb9f3a"
            ],
            [
             0.8888888888888888,
             "#fdca26"
            ],
            [
             1,
             "#f0f921"
            ]
           ],
           "sequentialminus": [
            [
             0,
             "#0d0887"
            ],
            [
             0.1111111111111111,
             "#46039f"
            ],
            [
             0.2222222222222222,
             "#7201a8"
            ],
            [
             0.3333333333333333,
             "#9c179e"
            ],
            [
             0.4444444444444444,
             "#bd3786"
            ],
            [
             0.5555555555555556,
             "#d8576b"
            ],
            [
             0.6666666666666666,
             "#ed7953"
            ],
            [
             0.7777777777777778,
             "#fb9f3a"
            ],
            [
             0.8888888888888888,
             "#fdca26"
            ],
            [
             1,
             "#f0f921"
            ]
           ]
          },
          "colorway": [
           "#636efa",
           "#EF553B",
           "#00cc96",
           "#ab63fa",
           "#FFA15A",
           "#19d3f3",
           "#FF6692",
           "#B6E880",
           "#FF97FF",
           "#FECB52"
          ],
          "font": {
           "color": "#2a3f5f"
          },
          "geo": {
           "bgcolor": "white",
           "lakecolor": "white",
           "landcolor": "#E5ECF6",
           "showlakes": true,
           "showland": true,
           "subunitcolor": "white"
          },
          "hoverlabel": {
           "align": "left"
          },
          "hovermode": "closest",
          "mapbox": {
           "style": "light"
          },
          "paper_bgcolor": "white",
          "plot_bgcolor": "#E5ECF6",
          "polar": {
           "angularaxis": {
            "gridcolor": "white",
            "linecolor": "white",
            "ticks": ""
           },
           "bgcolor": "#E5ECF6",
           "radialaxis": {
            "gridcolor": "white",
            "linecolor": "white",
            "ticks": ""
           }
          },
          "scene": {
           "xaxis": {
            "backgroundcolor": "#E5ECF6",
            "gridcolor": "white",
            "gridwidth": 2,
            "linecolor": "white",
            "showbackground": true,
            "ticks": "",
            "zerolinecolor": "white"
           },
           "yaxis": {
            "backgroundcolor": "#E5ECF6",
            "gridcolor": "white",
            "gridwidth": 2,
            "linecolor": "white",
            "showbackground": true,
            "ticks": "",
            "zerolinecolor": "white"
           },
           "zaxis": {
            "backgroundcolor": "#E5ECF6",
            "gridcolor": "white",
            "gridwidth": 2,
            "linecolor": "white",
            "showbackground": true,
            "ticks": "",
            "zerolinecolor": "white"
           }
          },
          "shapedefaults": {
           "line": {
            "color": "#2a3f5f"
           }
          },
          "ternary": {
           "aaxis": {
            "gridcolor": "white",
            "linecolor": "white",
            "ticks": ""
           },
           "baxis": {
            "gridcolor": "white",
            "linecolor": "white",
            "ticks": ""
           },
           "bgcolor": "#E5ECF6",
           "caxis": {
            "gridcolor": "white",
            "linecolor": "white",
            "ticks": ""
           }
          },
          "title": {
           "x": 0.05
          },
          "xaxis": {
           "automargin": true,
           "gridcolor": "white",
           "linecolor": "white",
           "ticks": "",
           "zerolinecolor": "white",
           "zerolinewidth": 2
          },
          "yaxis": {
           "automargin": true,
           "gridcolor": "white",
           "linecolor": "white",
           "ticks": "",
           "zerolinecolor": "white",
           "zerolinewidth": 2
          }
         }
        }
       }
      },
      "text/html": [
       "<div>\n",
       "        \n",
       "        \n",
       "            <div id=\"ff19e37f-556c-4f7f-9ccf-487650909678\" class=\"plotly-graph-div\" style=\"height:525px; width:100%;\"></div>\n",
       "            <script type=\"text/javascript\">\n",
       "                require([\"plotly\"], function(Plotly) {\n",
       "                    window.PLOTLYENV=window.PLOTLYENV || {};\n",
       "                    \n",
       "                if (document.getElementById(\"ff19e37f-556c-4f7f-9ccf-487650909678\")) {\n",
       "                    Plotly.newPlot(\n",
       "                        'ff19e37f-556c-4f7f-9ccf-487650909678',\n",
       "                        [{\"mode\": \"markers\", \"type\": \"scatter\", \"x\": [479535.0839999997, 479535.0839999997, 316908.34799999994, 316908.34799999994, 228007.2360000002, 228007.2360000002, 660014.1079999994, 497387.3719999996, 497387.3719999996, 352940.7630000004, 352940.7630000004, 334760.6359999999, 477977.13300000073, 477977.13300000073, 408486.2599999999, 408486.2599999999, 373371.63800000015, 373371.63800000015, 245859.52400000015, 245859.52400000015, 533419.787, 533419.787, 257060.19099999996, 257060.19099999996, 370793.0510000003, 370793.0510000003, 658456.1570000004, 658456.1570000004, 241233.19399999996, 241233.19399999996, 495829.4210000007, 495829.4210000007, 156958.4120000004, 553850.6619999999, 553850.6619999999, 281891.93900000054, 281891.93900000054, 391223.9260000001, 391223.9260000001, 437539.2149999997, 437539.2149999997, 166004.432, 166004.432, 176646.822, 176646.822, 162014.342, 162014.342, 406928.3090000009, 406928.3090000009, 406825.4660000007, 274912.47899999993, 274912.47899999993, 338766.661, 421712.21799999964, 421712.21799999964, 531861.836000001, 531861.836000001, 152552.31, 152552.31, 302322.81400000036, 302322.81400000036, 259085.4819999999, 259085.4819999999, 196201.56800000003, 196201.56800000003, 656898.2060000014, 186011.36700000014, 186011.36700000014, 264408.0263, 264408.0263, 427256.34100000054, 427256.34100000054, 346483.4559999997, 346483.4559999997, 357125.8459999997, 357125.8459999997, 342493.3659999997, 342493.3659999997, 183856.71999999994, 183856.71999999994, 194499.10999999993, 194499.10999999993, 310944.8940000003, 310944.8940000003, 519245.6849999997, 519245.6849999997, 552292.7110000008, 552292.7110000008, 179866.62999999995, 179866.62999999995, 170184.37000000017, 170184.37000000017, 333031.33399999974, 333031.33399999974, 356618.94899999996, 356618.94899999996, 435981.26400000066, 435981.26400000066, 376680.5919999998, 376680.5919999998, 295117.89700000035, 295117.89700000035, 170404.59799999994, 170404.59799999994, 447687.21600000036, 444887.0502999997, 444887.0502999997, 94955.6080000002, 94955.6080000002, 214053.85599999997, 214053.85599999997, 105597.9980000002, 105597.9980000002, 420154.2670000007, 420154.2670000007, 90965.5180000002, 90965.5180000002, 331375.76900000015, 331375.76900000015, 282260.31429999997, 282260.31429999997, 356493.56200000003, 267717.83700000023, 267717.83700000023, 219889.13500000036, 219889.13500000036, 230531.52500000034, 230531.52500000034, 215064.32199999993, 215899.04500000036, 215899.04500000036, 81503.4860000002, 81503.4860000002, 315548.7720000001, 315548.7720000001, 392651.3640000004, 392651.3640000004, 344925.5050000007, 344925.5050000007, 355567.8950000007, 355567.8950000007, 125152.74400000024, 125152.74400000024, 340935.41500000074, 340935.41500000074, 199237.32499999992, 199237.32499999992, 206437.01300000036, 206437.01300000036, 193359.20230000018, 193359.20230000018, 517687.73400000075, 517687.73400000075, 250086.2710000004, 250086.2710000004, 240320.01000000018, 240320.01000000018, 250962.40000000017, 250962.40000000017, 331473.38300000073, 331473.38300000073, 236329.9200000002, 236329.9200000002, 536972.5859999998, 536972.5859999998, 318292.72930000036, 318292.72930000036, 183410.32799999992, 375122.64100000076, 375122.64100000076, 124008.56299999997, 124008.56299999997, 134650.95299999995, 134650.95299999995, 413082.2390000002, 413082.2390000002, 374345.85, 374345.85, 120018.47299999997, 120018.47299999997, 443329.0993000007, 443329.0993000007, 226867.88800000018, 226867.88800000018, 296770.792, 296770.792, 270517.14600000024, 270517.14600000024, 108181.56599999996, 108181.56599999996, 118823.95599999995, 118823.95599999995, 110556.44099999996, 110556.44099999996, 104191.47599999997, 104191.47599999997, 338723.6043000002, 338723.6043000002, 154205.699, 154205.699, 280943.795, 280943.795, 285444.73800000024, 285444.73800000024, 222412.15729999996, 222412.15729999996, 94729.44399999996, 94729.44399999996, 32952.804, 43595.19399999999, 43595.19399999999, 54237.58399999999, 28962.714000000004, 28962.714000000004, 410378.26500000036, 410378.26500000036, 39605.104, 39605.104, 138378.702, 138378.702, 24972.62400000001, 205715.03300000002, 205715.03300000002, 216357.423, 216357.423, 206585.16029999996, 206585.16029999996, 201724.94300000003, 201724.94300000003, 535414.6350000007, 535414.6350000007, 19500.682, 19500.682, 30143.071999999996, 30143.071999999996, 378477.26200000005, 15510.592000000008, 15510.592000000008, 63149.94000000003, 63149.94000000003, 73792.33000000003, 73792.33000000003, 59159.85000000004, 59159.85000000004, 192262.91100000002, 192262.91100000002, 430809.14000000025, 430809.14000000025, 131356.3983, 131356.3983, 141998.7883, 141998.7883, 235912.16900000005, 127366.3083, 127366.3083, 6048.560000000003, 314497.69299999997, 314497.69299999997, 304118.62730000005, 304118.62730000005, 49697.818000000036, 49697.818000000036, 93347.07600000007, 117904.2763, 117904.2763, 161553.53430000003, 161553.53430000003, 298670.696, 298670.696, 229759.9926, 223441.93400000004, 223441.93400000004, 234084.32400000002, 234084.32400000002, 219451.84400000004, 219451.84400000004, 396204.16300000006, 209989.81200000003, 209989.81200000003, 253639.07000000007, 253639.07000000007, 321845.5283, 321845.5283, 413931.0640000001], \"y\": [0.1545556805399334, 0.1617647058823529, 0.07845161290322622, 0.1617647058823529, 0.1617647058823529, 0.07489051094890578, 0.1545556805399334, 0.07845161290322622, 0.1545556805399334, 0.3722915298752451, 0.1617647058823529, 0.07845161290322622, 0.17017828200972462, 0.1617647058823529, 0.07489051094890578, 0.1545556805399334, 0.1617647058823529, 0.07470449172576875, 0.07489051094890578, 0.07845161290322622, 0.3722915298752451, 0.1545556805399334, 0.1617647058823529, 0.16652360515021483, 0.07845161290322622, 0.3722915298752451, 0.17017828200972462, 0.1545556805399334, 0.13834900731452465, 0.1617647058823529, 0.17017828200972462, 0.07845161290322622, 0.07489051094890578, 0.07470449172576875, 0.1545556805399334, 0.3722915298752451, 0.07489051094890578, 0.07845161290322622, 0.07470449172576875, 0.16652360515021483, 0.1545556805399334, 0.0803149606299211, 0.1617647058823529, 0.1617647058823529, 0.07487437185929686, 0.1617647058823529, 0.06868131868131852, 0.17017828200972462, 0.07489051094890578, 0.3722915298752451, 0.07845161290322622, 0.16652360515021483, 0.306086956521739, 0.1545556805399334, 0.13834900731452465, 0.17017828200972462, 0.3722915298752451, 0.1617647058823529, 0.08202764976958511, 0.07470449172576875, 0.07489051094890578, 0.07845161290322622, 0.13834900731452465, 0.0768421052631578, 0.1617647058823529, 0.17017828200972462, 0.16652360515021483, 0.07489051094890578, 0.1617647058823529, 0.21114035087719304, 0.07470449172576875, 0.3722915298752451, 0.0803149606299211, 0.1545556805399334, 0.07487437185929686, 0.1545556805399334, 0.06868131868131852, 0.1545556805399334, 0.0803149606299211, 0.07845161290322622, 0.07487437185929686, 0.07845161290322622, 0.3722915298752451, 0.16652360515021483, 0.1545556805399334, 0.306086956521739, 0.07470449172576875, 0.17017828200972462, 0.07845161290322622, 0.06868131868131852, 0.07489051094890578, 0.13834900731452465, 0.08202764976958511, 0.1545556805399334, 0.07845161290322622, 0.306086956521739, 0.16652360515021483, 0.17017828200972462, 0.1545556805399334, 0.0768421052631578, 0.13834900731452465, 0.3722915298752451, 0.08202764976958511, 0.07845161290322622, 0.07470449172576875, 0.1545556805399334, 0.21114035087719304, 0.07489051094890578, 0.0803149606299211, 0.0768421052631578, 0.07845161290322622, 0.07489051094890578, 0.07487437185929686, 0.13834900731452465, 0.17017828200972462, 0.07489051094890578, 0.06868131868131852, 0.16652360515021483, 0.07470449172576875, 0.21114035087719304, 0.07845161290322622, 0.1617647058823529, 0.306086956521739, 0.07489051094890578, 0.0803149606299211, 0.3722915298752451, 0.07487437185929686, 0.3722915298752451, 0.16652360515021483, 0.3722915298752451, 0.06868131868131852, 0.07489051094890578, 0.08202764976958511, 0.07470449172576875, 0.13834900731452465, 0.306086956521739, 0.3722915298752451, 0.17017828200972462, 0.0803149606299211, 0.17017828200972462, 0.07487437185929686, 0.07489051094890578, 0.0768421052631578, 0.06868131868131852, 0.17017828200972462, 0.13834900731452465, 0.16652360515021483, 0.3722915298752451, 0.08202764976958511, 0.21114035087719304, 0.07489051094890578, 0.306086956521739, 0.17017828200972462, 0.0768421052631578, 0.3722915298752451, 0.0803149606299211, 0.07470449172576875, 0.07470449172576875, 0.07487437185929686, 0.17017828200972462, 0.08202764976958511, 0.06868131868131852, 0.07470449172576875, 0.2612852664576806, 0.1545556805399334, 0.21114035087719304, 0.3722915298752451, 0.13834900731452465, 0.0768421052631578, 0.17017828200972462, 0.16652360515021483, 0.0803149606299211, 0.16652360515021483, 0.07487437185929686, 0.306086956521739, 0.07470449172576875, 0.2612852664576806, 0.07845161290322622, 0.06868131868131852, 0.16652360515021483, 0.21114035087719304, 0.17017828200972462, 0.07470449172576875, 0.08202764976958511, 0.306086956521739, 0.16652360515021483, 0.07470449172576875, 0.0768421052631578, 0.0803149606299211, 0.13834900731452465, 0.07487437185929686, 0.13834900731452465, 0.16652360515021483, 0.08202764976958511, 0.13834900731452465, 0.06868131868131852, 0.21114035087719304, 0.07470449172576875, 0.0768421052631578, 0.16652360515021483, 0.13834900731452465, 0.306086956521739, 0.07489051094890578, 0.2612852664576806, 0.16652360515021483, 0.21114035087719304, 0.13834900731452465, 0.08202764976958511, 0.0803149606299211, 0.0803149606299211, 0.07487437185929686, 0.07487437185929686, 0.06868131868131852, 0.0803149606299211, 0.3722915298752451, 0.2612852664576806, 0.07487437185929686, 0.06868131868131852, 0.13834900731452465, 0.0768421052631578, 0.06868131868131852, 0.0803149606299211, 0.306086956521739, 0.07487437185929686, 0.306086956521739, 0.13834900731452465, 0.21114035087719304, 0.306086956521739, 0.06868131868131852, 0.2612852664576806, 0.17017828200972462, 0.08202764976958511, 0.0803149606299211, 0.08202764976958511, 0.07487437185929686, 0.306086956521739, 0.06868131868131852, 0.08202764976958511, 0.0768421052631578, 0.0803149606299211, 0.0768421052631578, 0.07487437185929686, 0.0768421052631578, 0.06868131868131852, 0.306086956521739, 0.08202764976958511, 0.07470449172576875, 0.2612852664576806, 0.0803149606299211, 0.21114035087719304, 0.07487437185929686, 0.21114035087719304, 0.306086956521739, 0.06868131868131852, 0.21114035087719304, 0.08202764976958511, 0.2612852664576806, 0.16652360515021483, 0.306086956521739, 0.21114035087719304, 0.0768421052631578, 0.08202764976958511, 0.0768421052631578, 0.21114035087719304, 0.08202764976958511, 0.0768421052631578, 0.21114035087719304, 0.13834900731452465, 0.2612852664576806, 0.21114035087719304, 0.2612852664576806, 0.0803149606299211, 0.2612852664576806, 0.07487437185929686, 0.2612852664576806, 0.06868131868131852, 0.2612852664576806, 0.08202764976958511, 0.2612852664576806, 0.0768421052631578, 0.2612852664576806, 0.2612852664576806, 0.21114035087719304, 0.2612852664576806]}],\n",
       "                        {\"template\": {\"data\": {\"bar\": [{\"error_x\": {\"color\": \"#2a3f5f\"}, \"error_y\": {\"color\": \"#2a3f5f\"}, \"marker\": {\"line\": {\"color\": \"#E5ECF6\", \"width\": 0.5}}, \"type\": \"bar\"}], \"barpolar\": [{\"marker\": {\"line\": {\"color\": \"#E5ECF6\", \"width\": 0.5}}, \"type\": \"barpolar\"}], \"carpet\": [{\"aaxis\": {\"endlinecolor\": \"#2a3f5f\", \"gridcolor\": \"white\", \"linecolor\": \"white\", \"minorgridcolor\": \"white\", \"startlinecolor\": \"#2a3f5f\"}, \"baxis\": {\"endlinecolor\": \"#2a3f5f\", \"gridcolor\": \"white\", \"linecolor\": \"white\", \"minorgridcolor\": \"white\", \"startlinecolor\": \"#2a3f5f\"}, \"type\": \"carpet\"}], \"choropleth\": [{\"colorbar\": {\"outlinewidth\": 0, \"ticks\": \"\"}, \"type\": \"choropleth\"}], \"contour\": [{\"colorbar\": {\"outlinewidth\": 0, \"ticks\": \"\"}, \"colorscale\": [[0.0, \"#0d0887\"], [0.1111111111111111, \"#46039f\"], [0.2222222222222222, \"#7201a8\"], [0.3333333333333333, \"#9c179e\"], [0.4444444444444444, \"#bd3786\"], [0.5555555555555556, \"#d8576b\"], [0.6666666666666666, \"#ed7953\"], [0.7777777777777778, \"#fb9f3a\"], [0.8888888888888888, \"#fdca26\"], [1.0, \"#f0f921\"]], \"type\": \"contour\"}], \"contourcarpet\": [{\"colorbar\": {\"outlinewidth\": 0, \"ticks\": \"\"}, \"type\": \"contourcarpet\"}], \"heatmap\": [{\"colorbar\": {\"outlinewidth\": 0, \"ticks\": \"\"}, \"colorscale\": [[0.0, \"#0d0887\"], [0.1111111111111111, \"#46039f\"], [0.2222222222222222, \"#7201a8\"], [0.3333333333333333, \"#9c179e\"], [0.4444444444444444, \"#bd3786\"], [0.5555555555555556, \"#d8576b\"], [0.6666666666666666, \"#ed7953\"], [0.7777777777777778, \"#fb9f3a\"], [0.8888888888888888, \"#fdca26\"], [1.0, \"#f0f921\"]], \"type\": \"heatmap\"}], \"heatmapgl\": [{\"colorbar\": {\"outlinewidth\": 0, \"ticks\": \"\"}, \"colorscale\": [[0.0, \"#0d0887\"], [0.1111111111111111, \"#46039f\"], [0.2222222222222222, \"#7201a8\"], [0.3333333333333333, \"#9c179e\"], [0.4444444444444444, \"#bd3786\"], [0.5555555555555556, \"#d8576b\"], [0.6666666666666666, \"#ed7953\"], [0.7777777777777778, \"#fb9f3a\"], [0.8888888888888888, \"#fdca26\"], [1.0, \"#f0f921\"]], \"type\": \"heatmapgl\"}], \"histogram\": [{\"marker\": {\"colorbar\": {\"outlinewidth\": 0, \"ticks\": \"\"}}, \"type\": \"histogram\"}], \"histogram2d\": [{\"colorbar\": {\"outlinewidth\": 0, \"ticks\": \"\"}, \"colorscale\": [[0.0, \"#0d0887\"], [0.1111111111111111, \"#46039f\"], [0.2222222222222222, \"#7201a8\"], [0.3333333333333333, \"#9c179e\"], [0.4444444444444444, \"#bd3786\"], [0.5555555555555556, \"#d8576b\"], [0.6666666666666666, \"#ed7953\"], [0.7777777777777778, \"#fb9f3a\"], [0.8888888888888888, \"#fdca26\"], [1.0, \"#f0f921\"]], \"type\": \"histogram2d\"}], \"histogram2dcontour\": [{\"colorbar\": {\"outlinewidth\": 0, \"ticks\": \"\"}, \"colorscale\": [[0.0, \"#0d0887\"], [0.1111111111111111, \"#46039f\"], [0.2222222222222222, \"#7201a8\"], [0.3333333333333333, \"#9c179e\"], [0.4444444444444444, \"#bd3786\"], [0.5555555555555556, \"#d8576b\"], [0.6666666666666666, \"#ed7953\"], [0.7777777777777778, \"#fb9f3a\"], [0.8888888888888888, \"#fdca26\"], [1.0, \"#f0f921\"]], \"type\": \"histogram2dcontour\"}], \"mesh3d\": [{\"colorbar\": {\"outlinewidth\": 0, \"ticks\": \"\"}, \"type\": \"mesh3d\"}], \"parcoords\": [{\"line\": {\"colorbar\": {\"outlinewidth\": 0, \"ticks\": \"\"}}, \"type\": \"parcoords\"}], \"scatter\": [{\"marker\": {\"colorbar\": {\"outlinewidth\": 0, \"ticks\": \"\"}}, \"type\": \"scatter\"}], \"scatter3d\": [{\"line\": {\"colorbar\": {\"outlinewidth\": 0, \"ticks\": \"\"}}, \"marker\": {\"colorbar\": {\"outlinewidth\": 0, \"ticks\": \"\"}}, \"type\": \"scatter3d\"}], \"scattercarpet\": [{\"marker\": {\"colorbar\": {\"outlinewidth\": 0, \"ticks\": \"\"}}, \"type\": \"scattercarpet\"}], \"scattergeo\": [{\"marker\": {\"colorbar\": {\"outlinewidth\": 0, \"ticks\": \"\"}}, \"type\": \"scattergeo\"}], \"scattergl\": [{\"marker\": {\"colorbar\": {\"outlinewidth\": 0, \"ticks\": \"\"}}, \"type\": \"scattergl\"}], \"scattermapbox\": [{\"marker\": {\"colorbar\": {\"outlinewidth\": 0, \"ticks\": \"\"}}, \"type\": \"scattermapbox\"}], \"scatterpolar\": [{\"marker\": {\"colorbar\": {\"outlinewidth\": 0, \"ticks\": \"\"}}, \"type\": \"scatterpolar\"}], \"scatterpolargl\": [{\"marker\": {\"colorbar\": {\"outlinewidth\": 0, \"ticks\": \"\"}}, \"type\": \"scatterpolargl\"}], \"scatterternary\": [{\"marker\": {\"colorbar\": {\"outlinewidth\": 0, \"ticks\": \"\"}}, \"type\": \"scatterternary\"}], \"surface\": [{\"colorbar\": {\"outlinewidth\": 0, \"ticks\": \"\"}, \"colorscale\": [[0.0, \"#0d0887\"], [0.1111111111111111, \"#46039f\"], [0.2222222222222222, \"#7201a8\"], [0.3333333333333333, \"#9c179e\"], [0.4444444444444444, \"#bd3786\"], [0.5555555555555556, \"#d8576b\"], [0.6666666666666666, \"#ed7953\"], [0.7777777777777778, \"#fb9f3a\"], [0.8888888888888888, \"#fdca26\"], [1.0, \"#f0f921\"]], \"type\": \"surface\"}], \"table\": [{\"cells\": {\"fill\": {\"color\": \"#EBF0F8\"}, \"line\": {\"color\": \"white\"}}, \"header\": {\"fill\": {\"color\": \"#C8D4E3\"}, \"line\": {\"color\": \"white\"}}, \"type\": \"table\"}]}, \"layout\": {\"annotationdefaults\": {\"arrowcolor\": \"#2a3f5f\", \"arrowhead\": 0, \"arrowwidth\": 1}, \"colorscale\": {\"diverging\": [[0, \"#8e0152\"], [0.1, \"#c51b7d\"], [0.2, \"#de77ae\"], [0.3, \"#f1b6da\"], [0.4, \"#fde0ef\"], [0.5, \"#f7f7f7\"], [0.6, \"#e6f5d0\"], [0.7, \"#b8e186\"], [0.8, \"#7fbc41\"], [0.9, \"#4d9221\"], [1, \"#276419\"]], \"sequential\": [[0.0, \"#0d0887\"], [0.1111111111111111, \"#46039f\"], [0.2222222222222222, \"#7201a8\"], [0.3333333333333333, \"#9c179e\"], [0.4444444444444444, \"#bd3786\"], [0.5555555555555556, \"#d8576b\"], [0.6666666666666666, \"#ed7953\"], [0.7777777777777778, \"#fb9f3a\"], [0.8888888888888888, \"#fdca26\"], [1.0, \"#f0f921\"]], \"sequentialminus\": [[0.0, \"#0d0887\"], [0.1111111111111111, \"#46039f\"], [0.2222222222222222, \"#7201a8\"], [0.3333333333333333, \"#9c179e\"], [0.4444444444444444, \"#bd3786\"], [0.5555555555555556, \"#d8576b\"], [0.6666666666666666, \"#ed7953\"], [0.7777777777777778, \"#fb9f3a\"], [0.8888888888888888, \"#fdca26\"], [1.0, \"#f0f921\"]]}, \"colorway\": [\"#636efa\", \"#EF553B\", \"#00cc96\", \"#ab63fa\", \"#FFA15A\", \"#19d3f3\", \"#FF6692\", \"#B6E880\", \"#FF97FF\", \"#FECB52\"], \"font\": {\"color\": \"#2a3f5f\"}, \"geo\": {\"bgcolor\": \"white\", \"lakecolor\": \"white\", \"landcolor\": \"#E5ECF6\", \"showlakes\": true, \"showland\": true, \"subunitcolor\": \"white\"}, \"hoverlabel\": {\"align\": \"left\"}, \"hovermode\": \"closest\", \"mapbox\": {\"style\": \"light\"}, \"paper_bgcolor\": \"white\", \"plot_bgcolor\": \"#E5ECF6\", \"polar\": {\"angularaxis\": {\"gridcolor\": \"white\", \"linecolor\": \"white\", \"ticks\": \"\"}, \"bgcolor\": \"#E5ECF6\", \"radialaxis\": {\"gridcolor\": \"white\", \"linecolor\": \"white\", \"ticks\": \"\"}}, \"scene\": {\"xaxis\": {\"backgroundcolor\": \"#E5ECF6\", \"gridcolor\": \"white\", \"gridwidth\": 2, \"linecolor\": \"white\", \"showbackground\": true, \"ticks\": \"\", \"zerolinecolor\": \"white\"}, \"yaxis\": {\"backgroundcolor\": \"#E5ECF6\", \"gridcolor\": \"white\", \"gridwidth\": 2, \"linecolor\": \"white\", \"showbackground\": true, \"ticks\": \"\", \"zerolinecolor\": \"white\"}, \"zaxis\": {\"backgroundcolor\": \"#E5ECF6\", \"gridcolor\": \"white\", \"gridwidth\": 2, \"linecolor\": \"white\", \"showbackground\": true, \"ticks\": \"\", \"zerolinecolor\": \"white\"}}, \"shapedefaults\": {\"line\": {\"color\": \"#2a3f5f\"}}, \"ternary\": {\"aaxis\": {\"gridcolor\": \"white\", \"linecolor\": \"white\", \"ticks\": \"\"}, \"baxis\": {\"gridcolor\": \"white\", \"linecolor\": \"white\", \"ticks\": \"\"}, \"bgcolor\": \"#E5ECF6\", \"caxis\": {\"gridcolor\": \"white\", \"linecolor\": \"white\", \"ticks\": \"\"}}, \"title\": {\"x\": 0.05}, \"xaxis\": {\"automargin\": true, \"gridcolor\": \"white\", \"linecolor\": \"white\", \"ticks\": \"\", \"zerolinecolor\": \"white\", \"zerolinewidth\": 2}, \"yaxis\": {\"automargin\": true, \"gridcolor\": \"white\", \"linecolor\": \"white\", \"ticks\": \"\", \"zerolinecolor\": \"white\", \"zerolinewidth\": 2}}}},\n",
       "                        {\"responsive\": true}\n",
       "                    ).then(function(){\n",
       "                            \n",
       "var gd = document.getElementById('ff19e37f-556c-4f7f-9ccf-487650909678');\n",
       "var x = new MutationObserver(function (mutations, observer) {{\n",
       "        var display = window.getComputedStyle(gd).display;\n",
       "        if (!display || display === 'none') {{\n",
       "            console.log([gd, 'removed!']);\n",
       "            Plotly.purge(gd);\n",
       "            observer.disconnect();\n",
       "        }}\n",
       "}});\n",
       "\n",
       "// Listen for the removal of the full notebook cells\n",
       "var notebookContainer = gd.closest('#notebook-container');\n",
       "if (notebookContainer) {{\n",
       "    x.observe(notebookContainer, {childList: true});\n",
       "}}\n",
       "\n",
       "// Listen for the clearing of the current output cell\n",
       "var outputEl = gd.closest('.output');\n",
       "if (outputEl) {{\n",
       "    x.observe(outputEl, {childList: true});\n",
       "}}\n",
       "\n",
       "                        })\n",
       "                };\n",
       "                });\n",
       "            </script>\n",
       "        </div>"
      ]
     },
     "metadata": {},
     "output_type": "display_data"
    }
   ],
   "source": [
    "trace0 = go.Scatter(\n",
    "    x = p2['pairSales'],\n",
    "    y = p2['Discount_mean_item1'],\n",
    "    mode='markers'\n",
    ")\n",
    "\n",
    "data = [trace0]\n",
    "iplot(data, filename='bubblechart-color')"
   ]
  }
 ],
 "metadata": {
  "kernel_info": {
   "name": "python3"
  },
  "kernelspec": {
   "display_name": "Python 3",
   "language": "python",
   "name": "python3"
  },
  "language_info": {
   "codemirror_mode": {
    "name": "ipython",
    "version": 3
   },
   "file_extension": ".py",
   "mimetype": "text/x-python",
   "name": "python",
   "nbconvert_exporter": "python",
   "pygments_lexer": "ipython3",
   "version": "3.7.3"
  },
  "nteract": {
   "version": "0.7.1"
  }
 },
 "nbformat": 4,
 "nbformat_minor": 4
}
