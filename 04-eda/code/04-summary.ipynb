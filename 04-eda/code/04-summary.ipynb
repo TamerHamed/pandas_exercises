{
 "cells": [
  {
   "cell_type": "code",
   "execution_count": 28,
   "metadata": {},
   "outputs": [],
   "source": [
    "import pandas as pd\n",
    "import numpy as np"
   ]
  },
  {
   "cell_type": "code",
   "execution_count": 70,
   "metadata": {},
   "outputs": [],
   "source": [
    "path2data='../data/drinks.csv'\n",
    "drinks = pd.read_csv(path2data)\n",
    "drinks.head()\n",
    "drinks['beer_servings'].mean()\n",
    "drinks['continent'].value_counts().sort_index()\n",
    "drinks[drinks['continent'] == 'EU']\n",
    "drinks[(drinks['continent'] == 'EU') & (drinks['wine_servings'] > 300)]\n",
    "drinks.rename(columns={'beer_servings':'beer', \n",
    "                       'wine_servings':'wine',\n",
    "                       'spirit_servings':'spirit'}, inplace=True)\n",
    "drinks['servings'] = drinks['beer'] + drinks['spirit'] + drinks['wine']\n",
    "drinks['mL'] = drinks['total_litres_of_pure_alcohol'] * 1000\n",
    "drinks.drop('mL', axis=1)  \n",
    "drinks['continent'].isnull().sum()\n",
    "drinks['continent'].fillna(value='NA', inplace=True) \n",
    "drinks.groupby(['continent', 'country'])['beer'].mean()\n",
    "# Mapping to a new variable.\n",
    "drinks['cont'] = drinks['continent'].map({'AS':'Asia', \n",
    "                         'EU':'Europe', \n",
    "                         'AF':'Africa', \n",
    "                         'SA':'South America',\n",
    "                         'NA':'North America'\n",
    "                        })\n",
    "# Mapping to a new variable.\n",
    "drinks['beer_level'] = 'low'    \n",
    "drinks.loc[drinks['beer'].between(101, 200), 'beer_level'] = 'med'     \n",
    "drinks.loc[drinks['beer'].between(201, 400), 'beer_level'] = 'high'   \n",
    "# outout to a csv file.\n",
    "drinks.to_csv('drinks_updated.csv') "
   ]
  },
  {
   "cell_type": "markdown",
   "metadata": {},
   "source": [
    "### Four ways to recode a variable."
   ]
  },
  {
   "cell_type": "code",
   "execution_count": 50,
   "metadata": {},
   "outputs": [],
   "source": [
    "imdb_1000_data_url = '../data/imdb_1000.csv'\n",
    "movies = pd.read_csv(imdb_1000_data_url)\n",
    "\n",
    "# what are the content ratings?\n",
    "movies['content_rating'].value_counts()\n",
    "\n",
    "# filter a variable.\n",
    "movies.loc[(movies['content_rating']=='X') |\n",
    "           (movies['content_rating']=='TV-MA'), ['content_rating']]\n",
    "           \n",
    "# recode a variable:\n",
    "movies.loc[(movies['content_rating']=='X') |\n",
    "           (movies['content_rating']=='TV-MA'),\n",
    "           'content_rating']=\"NC-17\"\n",
    "\n",
    "# another way to do this: \n",
    "convert_dict = {'X':'NC-17', 'TV-MA':'NC-17', 'R':'R', 'PG-13':'PG-13', 'UNRATED':'UNRATED', 'PG':'PG', 'G':'G'}\n",
    "movies['content_rating'] = movies['content_rating'].map(convert_dict)\n",
    "\n",
    "# yet another way:\n",
    "movies['content_rating'].replace(['X', 'TV-MA'], 'NC-17', inplace=True)\n",
    "\n",
    "# and yet another way:\n",
    "movies['content_rating']=movies['content_rating'].map({'X':'NC-17','TV-MA':'NC-17'})\n",
    "\n",
    "# recoding into a new, binary variable.\n",
    "movies['new_rating']=np.where(movies['content_rating']=='X', 'NC-17', 'okay')"
   ]
  },
  {
   "cell_type": "code",
   "execution_count": 61,
   "metadata": {},
   "outputs": [
    {
     "data": {
      "text/plain": [
       "Index(['star_rating', 'title', 'content_rating', 'genre', 'duration',\n",
       "       'actors_list'],\n",
       "      dtype='object')"
      ]
     },
     "execution_count": 61,
     "metadata": {},
     "output_type": "execute_result"
    }
   ],
   "source": [
    "movies.columns"
   ]
  },
  {
   "cell_type": "markdown",
   "metadata": {},
   "source": [
    "## How to filter."
   ]
  },
  {
   "cell_type": "code",
   "execution_count": 65,
   "metadata": {},
   "outputs": [
    {
     "data": {
      "text/html": [
       "<div>\n",
       "<style scoped>\n",
       "    .dataframe tbody tr th:only-of-type {\n",
       "        vertical-align: middle;\n",
       "    }\n",
       "\n",
       "    .dataframe tbody tr th {\n",
       "        vertical-align: top;\n",
       "    }\n",
       "\n",
       "    .dataframe thead th {\n",
       "        text-align: right;\n",
       "    }\n",
       "</style>\n",
       "<table border=\"1\" class=\"dataframe\">\n",
       "  <thead>\n",
       "    <tr style=\"text-align: right;\">\n",
       "      <th></th>\n",
       "      <th>content_rating</th>\n",
       "      <th>title</th>\n",
       "      <th>star_rating</th>\n",
       "    </tr>\n",
       "  </thead>\n",
       "  <tbody>\n",
       "    <tr>\n",
       "      <th>913</th>\n",
       "      <td>X</td>\n",
       "      <td>Suspiria</td>\n",
       "      <td>7.5</td>\n",
       "    </tr>\n",
       "    <tr>\n",
       "      <th>486</th>\n",
       "      <td>X</td>\n",
       "      <td>Evil Dead II</td>\n",
       "      <td>7.8</td>\n",
       "    </tr>\n",
       "    <tr>\n",
       "      <th>387</th>\n",
       "      <td>X</td>\n",
       "      <td>Midnight Cowboy</td>\n",
       "      <td>8.0</td>\n",
       "    </tr>\n",
       "    <tr>\n",
       "      <th>219</th>\n",
       "      <td>TV-MA</td>\n",
       "      <td>Who's Afraid of Virginia Woolf?</td>\n",
       "      <td>8.1</td>\n",
       "    </tr>\n",
       "    <tr>\n",
       "      <th>86</th>\n",
       "      <td>X</td>\n",
       "      <td>A Clockwork Orange</td>\n",
       "      <td>8.4</td>\n",
       "    </tr>\n",
       "  </tbody>\n",
       "</table>\n",
       "</div>"
      ],
      "text/plain": [
       "    content_rating                            title  star_rating\n",
       "913              X                         Suspiria          7.5\n",
       "486              X                     Evil Dead II          7.8\n",
       "387              X                  Midnight Cowboy          8.0\n",
       "219          TV-MA  Who's Afraid of Virginia Woolf?          8.1\n",
       "86               X               A Clockwork Orange          8.4"
      ]
     },
     "execution_count": 65,
     "metadata": {},
     "output_type": "execute_result"
    }
   ],
   "source": [
    "imdb_1000_data_url = '../data/imdb_1000.csv'\n",
    "movies = pd.read_csv(imdb_1000_data_url)\n",
    "\n",
    "movies.loc[(movies['content_rating']=='X') |\n",
    "           (movies['content_rating']=='TV-MA'),\n",
    "           ['content_rating', 'title', 'star_rating']].sort_values('star_rating')      "
   ]
  },
  {
   "cell_type": "code",
   "execution_count": 46,
   "metadata": {},
   "outputs": [
    {
     "data": {
      "text/html": [
       "<div>\n",
       "<style scoped>\n",
       "    .dataframe tbody tr th:only-of-type {\n",
       "        vertical-align: middle;\n",
       "    }\n",
       "\n",
       "    .dataframe tbody tr th {\n",
       "        vertical-align: top;\n",
       "    }\n",
       "\n",
       "    .dataframe thead th {\n",
       "        text-align: right;\n",
       "    }\n",
       "</style>\n",
       "<table border=\"1\" class=\"dataframe\">\n",
       "  <thead>\n",
       "    <tr style=\"text-align: right;\">\n",
       "      <th></th>\n",
       "      <th>star_rating</th>\n",
       "      <th>duration</th>\n",
       "    </tr>\n",
       "  </thead>\n",
       "  <tbody>\n",
       "    <tr>\n",
       "      <th>star_rating</th>\n",
       "      <td>1.000000</td>\n",
       "      <td>0.227149</td>\n",
       "    </tr>\n",
       "    <tr>\n",
       "      <th>duration</th>\n",
       "      <td>0.227149</td>\n",
       "      <td>1.000000</td>\n",
       "    </tr>\n",
       "  </tbody>\n",
       "</table>\n",
       "</div>"
      ],
      "text/plain": [
       "             star_rating  duration\n",
       "star_rating     1.000000  0.227149\n",
       "duration        0.227149  1.000000"
      ]
     },
     "execution_count": 46,
     "metadata": {},
     "output_type": "execute_result"
    }
   ],
   "source": [
    "movies.corr()\n",
    "movies['duration'].corr(movies['star_rating'])"
   ]
  },
  {
   "cell_type": "code",
   "execution_count": 47,
   "metadata": {},
   "outputs": [
    {
     "data": {
      "text/html": [
       "<div>\n",
       "<style scoped>\n",
       "    .dataframe tbody tr th:only-of-type {\n",
       "        vertical-align: middle;\n",
       "    }\n",
       "\n",
       "    .dataframe tbody tr th {\n",
       "        vertical-align: top;\n",
       "    }\n",
       "\n",
       "    .dataframe thead th {\n",
       "        text-align: right;\n",
       "    }\n",
       "</style>\n",
       "<table border=\"1\" class=\"dataframe\">\n",
       "  <thead>\n",
       "    <tr style=\"text-align: right;\">\n",
       "      <th></th>\n",
       "      <th>star_rating</th>\n",
       "      <th>title</th>\n",
       "      <th>content_rating</th>\n",
       "      <th>genre</th>\n",
       "      <th>duration</th>\n",
       "      <th>actors_list</th>\n",
       "      <th>new_rating</th>\n",
       "    </tr>\n",
       "  </thead>\n",
       "  <tbody>\n",
       "    <tr>\n",
       "      <th>1</th>\n",
       "      <td>9.2</td>\n",
       "      <td>The Godfather</td>\n",
       "      <td>R</td>\n",
       "      <td>Crime</td>\n",
       "      <td>175</td>\n",
       "      <td>[u'Marlon Brando', u'Al Pacino', u'James Caan']</td>\n",
       "      <td>okay</td>\n",
       "    </tr>\n",
       "    <tr>\n",
       "      <th>51</th>\n",
       "      <td>8.5</td>\n",
       "      <td>Apocalypse Now</td>\n",
       "      <td>R</td>\n",
       "      <td>Drama</td>\n",
       "      <td>153</td>\n",
       "      <td>[u'Martin Sheen', u'Marlon Brando', u'Robert D...</td>\n",
       "      <td>okay</td>\n",
       "    </tr>\n",
       "    <tr>\n",
       "      <th>122</th>\n",
       "      <td>8.3</td>\n",
       "      <td>On the Waterfront</td>\n",
       "      <td>NOT RATED</td>\n",
       "      <td>Crime</td>\n",
       "      <td>108</td>\n",
       "      <td>[u'Marlon Brando', u'Karl Malden', u'Lee J. Co...</td>\n",
       "      <td>okay</td>\n",
       "    </tr>\n",
       "    <tr>\n",
       "      <th>284</th>\n",
       "      <td>8.1</td>\n",
       "      <td>A Streetcar Named Desire</td>\n",
       "      <td>PG</td>\n",
       "      <td>Drama</td>\n",
       "      <td>122</td>\n",
       "      <td>[u'Vivien Leigh', u'Marlon Brando', u'Kim Hunt...</td>\n",
       "      <td>okay</td>\n",
       "    </tr>\n",
       "  </tbody>\n",
       "</table>\n",
       "</div>"
      ],
      "text/plain": [
       "     star_rating                     title content_rating  genre  duration  \\\n",
       "1            9.2             The Godfather              R  Crime       175   \n",
       "51           8.5            Apocalypse Now              R  Drama       153   \n",
       "122          8.3         On the Waterfront      NOT RATED  Crime       108   \n",
       "284          8.1  A Streetcar Named Desire             PG  Drama       122   \n",
       "\n",
       "                                           actors_list new_rating  \n",
       "1      [u'Marlon Brando', u'Al Pacino', u'James Caan']       okay  \n",
       "51   [u'Martin Sheen', u'Marlon Brando', u'Robert D...       okay  \n",
       "122  [u'Marlon Brando', u'Karl Malden', u'Lee J. Co...       okay  \n",
       "284  [u'Vivien Leigh', u'Marlon Brando', u'Kim Hunt...       okay  "
      ]
     },
     "execution_count": 47,
     "metadata": {},
     "output_type": "execute_result"
    }
   ],
   "source": [
    "movies.loc[movies['actors_list'].str.contains('Marlon Brando')]"
   ]
  },
  {
   "cell_type": "code",
   "execution_count": null,
   "metadata": {},
   "outputs": [],
   "source": []
  }
 ],
 "metadata": {
  "kernelspec": {
   "display_name": "Python 3",
   "language": "python",
   "name": "python3"
  },
  "language_info": {
   "codemirror_mode": {
    "name": "ipython",
    "version": 3
   },
   "file_extension": ".py",
   "mimetype": "text/x-python",
   "name": "python",
   "nbconvert_exporter": "python",
   "pygments_lexer": "ipython3",
   "version": "3.7.3"
  }
 },
 "nbformat": 4,
 "nbformat_minor": 2
}
