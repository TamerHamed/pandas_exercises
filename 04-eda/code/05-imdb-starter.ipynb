{
  "nbformat": 4,
  "nbformat_minor": 0,
  "metadata": {
    "kernelspec": {
      "display_name": "Python 3",
      "language": "python",
      "name": "python3"
    },
    "language_info": {
      "codemirror_mode": {
        "name": "ipython",
        "version": 3
      },
      "file_extension": ".py",
      "mimetype": "text/x-python",
      "name": "python",
      "nbconvert_exporter": "python",
      "pygments_lexer": "ipython3",
      "version": "3.7.3"
    },
    "colab": {
      "name": "05-imdb.ipynb",
      "provenance": []
    }
  },
  "cells": [
    {
      "cell_type": "markdown",
      "metadata": {
        "id": "6JU3B0VtHty6",
        "colab_type": "text"
      },
      "source": [
        "# Pandas EDA with IMDb data"
      ]
    },
    {
      "cell_type": "markdown",
      "metadata": {
        "id": "-PbpI_itHty7",
        "colab_type": "text"
      },
      "source": [
        "### BASIC LEVEL"
      ]
    },
    {
      "cell_type": "code",
      "metadata": {
        "id": "3yzyqKzLHty8",
        "colab_type": "code",
        "colab": {}
      },
      "source": [
        "# imports"
      ],
      "execution_count": 1,
      "outputs": []
    },
    {
      "cell_type": "code",
      "metadata": {
        "id": "1mz-JK8UHty_",
        "colab_type": "code",
        "colab": {}
      },
      "source": [
        "# read in 'imdb_1000.csv' and store it in a DataFrame named movies\n"
      ],
      "execution_count": 2,
      "outputs": []
    },
    {
      "cell_type": "code",
      "metadata": {
        "id": "VSrlEg9mHtzD",
        "colab_type": "code",
        "colab": {}
      },
      "source": [
        "# check the number of rows and columns\n"
      ],
      "execution_count": 3,
      "outputs": []
    },
    {
      "cell_type": "code",
      "metadata": {
        "id": "SdxDiFFNHtzG",
        "colab_type": "code",
        "colab": {}
      },
      "source": [
        "# check the data type of each column\n"
      ],
      "execution_count": 4,
      "outputs": []
    },
    {
      "cell_type": "code",
      "metadata": {
        "id": "nJmLAMEwHtzI",
        "colab_type": "code",
        "colab": {}
      },
      "source": [
        "# calculate the average movie duration\n"
      ],
      "execution_count": 5,
      "outputs": []
    },
    {
      "cell_type": "code",
      "metadata": {
        "id": "ubp8SFGUHtzL",
        "colab_type": "code",
        "colab": {}
      },
      "source": [
        "# sort the DataFrame by duration to find the shortest and longest movies\n"
      ],
      "execution_count": 6,
      "outputs": []
    },
    {
      "cell_type": "code",
      "metadata": {
        "id": "uTy9RwstHtzN",
        "colab_type": "code",
        "colab": {}
      },
      "source": [
        "# create a histogram of duration, choosing an \"appropriate\" number of bins\n"
      ],
      "execution_count": 7,
      "outputs": []
    },
    {
      "cell_type": "code",
      "metadata": {
        "id": "8mNnJsYbHtzQ",
        "colab_type": "code",
        "colab": {}
      },
      "source": [
        "# use a box plot to display that same data"
      ],
      "execution_count": 8,
      "outputs": []
    },
    {
      "cell_type": "markdown",
      "metadata": {
        "id": "HUUMu54UHtzS",
        "colab_type": "text"
      },
      "source": [
        "### INTERMEDIATE LEVEL"
      ]
    },
    {
      "cell_type": "code",
      "metadata": {
        "id": "AQVWO8Q_HtzS",
        "colab_type": "code",
        "colab": {}
      },
      "source": [
        "# count how many movies have each of the content ratings"
      ],
      "execution_count": 9,
      "outputs": []
    },
    {
      "cell_type": "code",
      "metadata": {
        "id": "9Vx-lPu2HtzW",
        "colab_type": "code",
        "colab": {}
      },
      "source": [
        "# use a visualization to display that same data, including a title and x and y labels"
      ],
      "execution_count": 10,
      "outputs": []
    },
    {
      "cell_type": "code",
      "metadata": {
        "id": "HD8MlqyaHtzY",
        "colab_type": "code",
        "colab": {}
      },
      "source": [
        "# convert the following content ratings to \"UNRATED\": NOT RATED, APPROVED, PASSED, GP"
      ],
      "execution_count": 11,
      "outputs": []
    },
    {
      "cell_type": "code",
      "metadata": {
        "id": "vF9wr2P_Htzc",
        "colab_type": "code",
        "colab": {}
      },
      "source": [
        "# convert the following content ratings to \"NC-17\": X, TV-MA, NC-17"
      ],
      "execution_count": 12,
      "outputs": []
    },
    {
      "cell_type": "code",
      "metadata": {
        "id": "VpUUjexCHtze",
        "colab_type": "code",
        "colab": {}
      },
      "source": [
        "# check your work"
      ],
      "execution_count": 13,
      "outputs": []
    },
    {
      "cell_type": "code",
      "metadata": {
        "id": "Pxy73YHzHtzg",
        "colab_type": "code",
        "colab": {}
      },
      "source": [
        "# another way to do this: "
      ],
      "execution_count": 14,
      "outputs": []
    },
    {
      "cell_type": "code",
      "metadata": {
        "id": "DEwE9RrSHtzi",
        "colab_type": "code",
        "colab": {}
      },
      "source": [
        "# yet another way:"
      ],
      "execution_count": 15,
      "outputs": []
    },
    {
      "cell_type": "code",
      "metadata": {
        "id": "Nn4Lq18cHtzl",
        "colab_type": "code",
        "colab": {}
      },
      "source": [
        "# check your work"
      ],
      "execution_count": 16,
      "outputs": []
    },
    {
      "cell_type": "code",
      "metadata": {
        "id": "KBl0sif7Htzn",
        "colab_type": "code",
        "colab": {}
      },
      "source": [
        "# count the number of missing values in each column"
      ],
      "execution_count": 17,
      "outputs": []
    },
    {
      "cell_type": "code",
      "metadata": {
        "id": "d5AXjSbbHtzq",
        "colab_type": "code",
        "colab": {}
      },
      "source": [
        "# if there are missing values: examine them, then fill them in with \"reasonable\" values"
      ],
      "execution_count": 18,
      "outputs": []
    },
    {
      "cell_type": "code",
      "metadata": {
        "id": "qHNzLHquHtzs",
        "colab_type": "code",
        "colab": {}
      },
      "source": [
        "# calculate the average star rating for movies 2 hours or longer,\n",
        "# and compare that with the average star rating for movies shorter than 2 hours"
      ],
      "execution_count": 19,
      "outputs": []
    },
    {
      "cell_type": "code",
      "metadata": {
        "id": "pyHLGk-mHtzv",
        "colab_type": "code",
        "colab": {}
      },
      "source": [
        "# use a correlation to detect whether there is a relationship between duration and star rating"
      ],
      "execution_count": 20,
      "outputs": []
    },
    {
      "cell_type": "code",
      "metadata": {
        "id": "0MRlVuEAHtzx",
        "colab_type": "code",
        "colab": {}
      },
      "source": [
        "# calculate the average duration for each genre"
      ],
      "execution_count": 21,
      "outputs": []
    },
    {
      "cell_type": "markdown",
      "metadata": {
        "id": "Lnn57AeYHtzz",
        "colab_type": "text"
      },
      "source": [
        "### ADVANCED LEVEL"
      ]
    },
    {
      "cell_type": "code",
      "metadata": {
        "id": "yd9BYh52Htzz",
        "colab_type": "code",
        "colab": {}
      },
      "source": [
        "# Does duration differ by content rating?"
      ],
      "execution_count": 22,
      "outputs": []
    },
    {
      "cell_type": "code",
      "metadata": {
        "id": "-AX6JyNeHtz3",
        "colab_type": "code",
        "colab": {}
      },
      "source": [
        "# use a visualization to detect whether there is a relationship between duration and star rating"
      ],
      "execution_count": 23,
      "outputs": []
    },
    {
      "cell_type": "code",
      "metadata": {
        "id": "VOoH11Z6Htz5",
        "colab_type": "code",
        "colab": {}
      },
      "source": [
        "# determine the top rated movie (by star rating) for each genre"
      ],
      "execution_count": 24,
      "outputs": []
    },
    {
      "cell_type": "code",
      "metadata": {
        "id": "RCDEb0ZtHtz7",
        "colab_type": "code",
        "colab": {}
      },
      "source": [
        "# check if there are multiple movies with the same title, and if so, determine if they are actually duplicates"
      ],
      "execution_count": 25,
      "outputs": []
    },
    {
      "cell_type": "code",
      "metadata": {
        "id": "R7t2cAtuHtz-",
        "colab_type": "code",
        "colab": {}
      },
      "source": [
        "# calculate the average star rating for each genre, but only include genres with at least 10 movies"
      ],
      "execution_count": 26,
      "outputs": []
    },
    {
      "cell_type": "markdown",
      "metadata": {
        "id": "02gXmG6cHt0A",
        "colab_type": "text"
      },
      "source": [
        "### Bonus level"
      ]
    },
    {
      "cell_type": "code",
      "metadata": {
        "id": "IADbkg1THt0A",
        "colab_type": "code",
        "colab": {}
      },
      "source": [
        "# Figure out something \"interesting\" using the actors data!"
      ],
      "execution_count": 27,
      "outputs": []
    },
    {
      "cell_type": "code",
      "metadata": {
        "id": "sP4EGcXlHt0C",
        "colab_type": "code",
        "colab": {}
      },
      "source": [
        "# Let's display a list of movies that include Marlon Brando."
      ],
      "execution_count": 28,
      "outputs": []
    },
    {
      "cell_type": "code",
      "metadata": {
        "id": "gRf3I2kfHt0E",
        "colab_type": "code",
        "colab": {}
      },
      "source": [
        "# How many movies is Brando in?"
      ],
      "execution_count": 29,
      "outputs": []
    },
    {
      "cell_type": "code",
      "metadata": {
        "id": "9b1MuQOYHt0G",
        "colab_type": "code",
        "colab": {}
      },
      "source": [
        "# Let's explore a little further.\n",
        "\n",
        "# That 'u' is part of the external representation of the string, \n",
        "# meaning it's a Unicode string as opposed to a byte string. \n",
        "\n",
        "# Let's take a look at the first row of the dataframe, and break up that string of actors into its parts.\n",
        "# line = movies.iloc[0]['actors_list']\n",
        "# import re\n",
        "# line = re.sub(\"u'\", \"'\", line)\n",
        "# line = re.sub(\"'\", \"\", line)\n",
        "# line = re.sub('\\[', \"\", line)\n",
        "# line = re.sub(\"\\]\", \"\", line)\n",
        "# actors_list=line.split(', ')\n",
        "# print(actors_list)\n",
        "# print(len(actors_list))\n",
        "# print(actors_list[0])"
      ],
      "execution_count": 30,
      "outputs": []
    },
    {
      "cell_type": "code",
      "metadata": {
        "id": "X70PrfaSHt0J",
        "colab_type": "code",
        "colab": {}
      },
      "source": [
        "# Now let's write a function that displays all the actors in a clean list.\n"
      ],
      "execution_count": 31,
      "outputs": []
    },
    {
      "cell_type": "code",
      "metadata": {
        "id": "HP7a1Ro2Ht0M",
        "colab_type": "code",
        "colab": {}
      },
      "source": [
        "# Let's create a new column with that list."
      ],
      "execution_count": 32,
      "outputs": []
    },
    {
      "cell_type": "code",
      "metadata": {
        "id": "dW2Nr02cHt0O",
        "colab_type": "code",
        "colab": {}
      },
      "source": [
        "# Okay, let's create columns for actors 1, 2, and 3"
      ],
      "execution_count": 33,
      "outputs": []
    },
    {
      "cell_type": "code",
      "metadata": {
        "id": "cJ86GjdXHt0Q",
        "colab_type": "code",
        "colab": {}
      },
      "source": [
        "# Okay, who's the most frequent lead actor?"
      ],
      "execution_count": 34,
      "outputs": []
    },
    {
      "cell_type": "code",
      "metadata": {
        "id": "S6Gwa3ZsHt0S",
        "colab_type": "code",
        "colab": {}
      },
      "source": [
        "# Who are the most frequent supporting actors?"
      ],
      "execution_count": 35,
      "outputs": []
    },
    {
      "cell_type": "code",
      "metadata": {
        "id": "xQIENa1EHt0U",
        "colab_type": "code",
        "colab": {}
      },
      "source": [
        ""
      ],
      "execution_count": 35,
      "outputs": []
    }
  ]
}