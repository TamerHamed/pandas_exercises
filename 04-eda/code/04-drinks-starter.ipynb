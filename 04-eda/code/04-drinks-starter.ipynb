{
  "nbformat": 4,
  "nbformat_minor": 0,
  "metadata": {
    "kernelspec": {
      "display_name": "Python 3",
      "language": "python",
      "name": "python3"
    },
    "language_info": {
      "codemirror_mode": {
        "name": "ipython",
        "version": 3
      },
      "file_extension": ".py",
      "mimetype": "text/x-python",
      "name": "python",
      "nbconvert_exporter": "python",
      "pygments_lexer": "ipython3",
      "version": "3.7.3"
    },
    "colab": {
      "name": "04-drinks.ipynb",
      "provenance": []
    }
  },
  "cells": [
    {
      "cell_type": "markdown",
      "metadata": {
        "id": "85-b0zVzO9zs",
        "colab_type": "text"
      },
      "source": [
        "## Pandas for Exploratory Data Analysis\n",
        "\n",
        "WHO alcohol consumption data:  \n",
        "* article: http://fivethirtyeight.com/datalab/dear-mona-followup-where-do-people-drink-the-most-beer-wine-and-spirits/    \n",
        "* original data: https://github.com/fivethirtyeight/data/tree/master/alcohol-consumption  \n",
        "* file: drinks.csv (with additional 'continent' column)"
      ]
    },
    {
      "cell_type": "code",
      "metadata": {
        "id": "8N2Bk5ovO9zx",
        "colab_type": "code",
        "colab": {}
      },
      "source": [
        "# imports"
      ],
      "execution_count": 1,
      "outputs": []
    },
    {
      "cell_type": "code",
      "metadata": {
        "id": "YQRA8aKRO9zz",
        "colab_type": "code",
        "colab": {}
      },
      "source": [
        "# where are we?\n"
      ],
      "execution_count": 2,
      "outputs": []
    },
    {
      "cell_type": "code",
      "metadata": {
        "id": "jMo98p8nO9z2",
        "colab_type": "code",
        "colab": {}
      },
      "source": [
        "# what's the parent folder?\n"
      ],
      "execution_count": 3,
      "outputs": []
    },
    {
      "cell_type": "code",
      "metadata": {
        "id": "diIO_UNjO9z5",
        "colab_type": "code",
        "colab": {}
      },
      "source": [
        "# what's in the data folder?\n"
      ],
      "execution_count": 4,
      "outputs": []
    },
    {
      "cell_type": "code",
      "metadata": {
        "id": "BivSif17O9z8",
        "colab_type": "code",
        "colab": {}
      },
      "source": [
        "# read in the dataset.\n"
      ],
      "execution_count": 5,
      "outputs": []
    },
    {
      "cell_type": "markdown",
      "metadata": {
        "id": "lFvZ6GZgO9z_",
        "colab_type": "text"
      },
      "source": [
        "# EDA alcohol consumption dataset"
      ]
    },
    {
      "cell_type": "code",
      "metadata": {
        "id": "lLo9W3N7O90A",
        "colab_type": "code",
        "colab": {}
      },
      "source": [
        "# print the head and the tail\n"
      ],
      "execution_count": 6,
      "outputs": []
    },
    {
      "cell_type": "code",
      "metadata": {
        "id": "vvmqchS7O90D",
        "colab_type": "code",
        "colab": {}
      },
      "source": [
        "# examine the default index, data types, and shape\n"
      ],
      "execution_count": 7,
      "outputs": []
    },
    {
      "cell_type": "code",
      "metadata": {
        "id": "u85pCNQRO90F",
        "colab_type": "code",
        "colab": {}
      },
      "source": [
        "# what are the columns?\n"
      ],
      "execution_count": 8,
      "outputs": []
    },
    {
      "cell_type": "code",
      "metadata": {
        "id": "j_S8h7_AO90I",
        "colab_type": "code",
        "colab": {}
      },
      "source": [
        "# print the 'beer_servings' Series\n"
      ],
      "execution_count": 9,
      "outputs": []
    },
    {
      "cell_type": "code",
      "metadata": {
        "id": "oRWuFrPQO90K",
        "colab_type": "code",
        "colab": {}
      },
      "source": [
        "# Remember that there are two ways to call a column title!\n"
      ],
      "execution_count": 10,
      "outputs": []
    },
    {
      "cell_type": "markdown",
      "metadata": {
        "id": "GRje_f3KO90O",
        "colab_type": "text"
      },
      "source": [
        "### Quick note about \"dot notation\" in `pandas`\n",
        "The \"dot notation\", i.e. df.col2 is the attribute access that's exposed as a convenience.\n",
        "\n",
        "A couple of caveats about attribute access:\n",
        "* you cannot add a column (df.new_col = x won't work, worse: it will silently actually create a new attribute rather than a column - think monkey-patching here)\n",
        "* it won't work if you have spaces in the column name or if the column name is an integer."
      ]
    },
    {
      "cell_type": "code",
      "metadata": {
        "id": "SdXcxy8OO90O",
        "colab_type": "code",
        "colab": {}
      },
      "source": [
        "# calculate the average 'beer_servings' for the entire dataset\n"
      ],
      "execution_count": 11,
      "outputs": []
    },
    {
      "cell_type": "code",
      "metadata": {
        "id": "YSR3sOF9O90R",
        "colab_type": "code",
        "colab": {}
      },
      "source": [
        "# count the number of occurrences of each 'continent' value and see if it looks correct\n"
      ],
      "execution_count": 12,
      "outputs": []
    },
    {
      "cell_type": "markdown",
      "metadata": {
        "id": "Bv0lA9XbO90U",
        "colab_type": "text"
      },
      "source": [
        "# EDA"
      ]
    },
    {
      "cell_type": "code",
      "metadata": {
        "id": "XmtRK_a6O90Y",
        "colab_type": "code",
        "colab": {}
      },
      "source": [
        "# filter DataFrame to only include European countries\n"
      ],
      "execution_count": 13,
      "outputs": []
    },
    {
      "cell_type": "code",
      "metadata": {
        "id": "z1Qe9-Q8O90d",
        "colab_type": "code",
        "colab": {}
      },
      "source": [
        "# filter DataFrame to only include European countries with wine_servings > 300\n"
      ],
      "execution_count": 14,
      "outputs": []
    },
    {
      "cell_type": "code",
      "metadata": {
        "id": "kSZ8gwtSO90h",
        "colab_type": "code",
        "colab": {}
      },
      "source": [
        "# calculate the average 'beer_servings' for all of Europe\n"
      ],
      "execution_count": 15,
      "outputs": []
    },
    {
      "cell_type": "code",
      "metadata": {
        "id": "J2hHxHIPO90j",
        "colab_type": "code",
        "colab": {}
      },
      "source": [
        "# determine which 10 countries have the highest total_litres_of_pure_alcohol"
      ],
      "execution_count": 16,
      "outputs": []
    },
    {
      "cell_type": "markdown",
      "metadata": {
        "id": "I3ZTCCd6O90l",
        "colab_type": "text"
      },
      "source": [
        "### Renaming, Adding, and Removing Columns"
      ]
    },
    {
      "cell_type": "code",
      "metadata": {
        "id": "FYrOQDjmO90m",
        "colab_type": "code",
        "colab": {}
      },
      "source": [
        "# renaming one or more columns\n"
      ],
      "execution_count": 17,
      "outputs": []
    },
    {
      "cell_type": "code",
      "metadata": {
        "id": "oECXI_N9O90q",
        "colab_type": "code",
        "colab": {}
      },
      "source": [
        "# but of course you need to use 'inplace' for this to stick.\n"
      ],
      "execution_count": 18,
      "outputs": []
    },
    {
      "cell_type": "code",
      "metadata": {
        "id": "YMK6hJw1O90t",
        "colab_type": "code",
        "colab": {}
      },
      "source": [
        "# what if I want to replace all column names?\n",
        "# first, make a list."
      ],
      "execution_count": 19,
      "outputs": []
    },
    {
      "cell_type": "code",
      "metadata": {
        "id": "1mSqc1o9O90x",
        "colab_type": "code",
        "colab": {}
      },
      "source": [
        "# replace during file reading"
      ],
      "execution_count": 20,
      "outputs": []
    },
    {
      "cell_type": "code",
      "metadata": {
        "id": "6vMMd5bhO900",
        "colab_type": "code",
        "colab": {}
      },
      "source": [
        "# replace after file reading"
      ],
      "execution_count": 21,
      "outputs": []
    },
    {
      "cell_type": "code",
      "metadata": {
        "id": "lhdjIEBoO905",
        "colab_type": "code",
        "colab": {}
      },
      "source": [
        "# add a new column as a function of existing columns\n"
      ],
      "execution_count": 22,
      "outputs": []
    },
    {
      "cell_type": "markdown",
      "metadata": {
        "id": "b_QBhmVNO91A",
        "colab_type": "text"
      },
      "source": [
        "### removing columns"
      ]
    },
    {
      "cell_type": "code",
      "metadata": {
        "id": "359--hEzO91B",
        "colab_type": "code",
        "colab": {}
      },
      "source": [
        "# axis=0 for rows, 1 for columns"
      ],
      "execution_count": 23,
      "outputs": []
    },
    {
      "cell_type": "code",
      "metadata": {
        "id": "3Q2H9lGNO91E",
        "colab_type": "code",
        "colab": {}
      },
      "source": [
        "# drop multiple columns"
      ],
      "execution_count": 24,
      "outputs": []
    },
    {
      "cell_type": "code",
      "metadata": {
        "id": "P4RvXS5pO91H",
        "colab_type": "code",
        "colab": {}
      },
      "source": [
        "# make it permanent\n"
      ],
      "execution_count": 25,
      "outputs": []
    },
    {
      "cell_type": "markdown",
      "metadata": {
        "id": "1wsa5ewnO91K",
        "colab_type": "text"
      },
      "source": [
        "### Handling Missing Values"
      ]
    },
    {
      "cell_type": "markdown",
      "metadata": {
        "id": "HgOq1Rb8O91L",
        "colab_type": "text"
      },
      "source": [
        "#### missing values are usually excluded by default"
      ]
    },
    {
      "cell_type": "code",
      "metadata": {
        "id": "C8ct7opBO91L",
        "colab_type": "code",
        "colab": {}
      },
      "source": [
        "# excludes missing values"
      ],
      "execution_count": 26,
      "outputs": []
    },
    {
      "cell_type": "code",
      "metadata": {
        "id": "z3DLT1zCO91Q",
        "colab_type": "code",
        "colab": {}
      },
      "source": [
        "# includes missing values"
      ],
      "execution_count": 27,
      "outputs": []
    },
    {
      "cell_type": "code",
      "metadata": {
        "id": "UKw9s8-wO91T",
        "colab_type": "code",
        "colab": {}
      },
      "source": [
        "## Hmmm. Something suspicious about those missing values."
      ],
      "execution_count": 28,
      "outputs": []
    },
    {
      "cell_type": "markdown",
      "metadata": {
        "id": "XjmWFaeXO91W",
        "colab_type": "text"
      },
      "source": [
        "#### find missing values in a Series"
      ]
    },
    {
      "cell_type": "code",
      "metadata": {
        "id": "Grahif01O91X",
        "colab_type": "code",
        "colab": {}
      },
      "source": [
        "# True if missing, False if not missing"
      ],
      "execution_count": 29,
      "outputs": []
    },
    {
      "cell_type": "code",
      "metadata": {
        "id": "rCRvAL-9O91a",
        "colab_type": "code",
        "colab": {}
      },
      "source": [
        "# count the missing values"
      ],
      "execution_count": 30,
      "outputs": []
    },
    {
      "cell_type": "code",
      "metadata": {
        "id": "MoDWobF5O91e",
        "colab_type": "code",
        "colab": {}
      },
      "source": [
        "# True if not missing, False if missing"
      ],
      "execution_count": 31,
      "outputs": []
    },
    {
      "cell_type": "code",
      "metadata": {
        "id": "5pB6JGt0O91j",
        "colab_type": "code",
        "colab": {}
      },
      "source": [
        "# only show rows where continent is not missing"
      ],
      "execution_count": 32,
      "outputs": []
    },
    {
      "cell_type": "markdown",
      "metadata": {
        "id": "94ob_73jO91n",
        "colab_type": "text"
      },
      "source": [
        "#### side note: understanding axes"
      ]
    },
    {
      "cell_type": "code",
      "metadata": {
        "id": "Z2eWb0TuO91o",
        "colab_type": "code",
        "colab": {}
      },
      "source": [
        "# sums \"down\" the 0 axis (rows)"
      ],
      "execution_count": 33,
      "outputs": []
    },
    {
      "cell_type": "code",
      "metadata": {
        "id": "dkoCDMYEO91r",
        "colab_type": "code",
        "colab": {}
      },
      "source": [
        "# axis=0 is the default"
      ],
      "execution_count": 34,
      "outputs": []
    },
    {
      "cell_type": "code",
      "metadata": {
        "id": "mYa2Sy_hO91t",
        "colab_type": "code",
        "colab": {}
      },
      "source": [
        "# sums \"across\" the 1 axis (columns)"
      ],
      "execution_count": 35,
      "outputs": []
    },
    {
      "cell_type": "markdown",
      "metadata": {
        "id": "4jubjoedO91x",
        "colab_type": "text"
      },
      "source": [
        "#### find missing values in a DataFrame"
      ]
    },
    {
      "cell_type": "code",
      "metadata": {
        "id": "gOfAmW2TO91x",
        "colab_type": "code",
        "colab": {}
      },
      "source": [
        "# DataFrame of booleans"
      ],
      "execution_count": 36,
      "outputs": []
    },
    {
      "cell_type": "code",
      "metadata": {
        "id": "rorv7N6wO913",
        "colab_type": "code",
        "colab": {}
      },
      "source": [
        "# count the missing values in each column"
      ],
      "execution_count": 37,
      "outputs": []
    },
    {
      "cell_type": "markdown",
      "metadata": {
        "id": "4FSzsUCpO916",
        "colab_type": "text"
      },
      "source": [
        "#### drop missing values"
      ]
    },
    {
      "cell_type": "code",
      "metadata": {
        "id": "psM1K-h8O916",
        "colab_type": "code",
        "colab": {}
      },
      "source": [
        "# How many rows and columns?"
      ],
      "execution_count": 38,
      "outputs": []
    },
    {
      "cell_type": "code",
      "metadata": {
        "id": "_iqp5LH3O918",
        "colab_type": "code",
        "colab": {}
      },
      "source": [
        " # drop a row if ANY values are missing\n"
      ],
      "execution_count": 39,
      "outputs": []
    },
    {
      "cell_type": "code",
      "metadata": {
        "id": "WIEHc32JO91_",
        "colab_type": "code",
        "colab": {}
      },
      "source": [
        "# drop a row only if ALL values are missing"
      ],
      "execution_count": 40,
      "outputs": []
    },
    {
      "cell_type": "markdown",
      "metadata": {
        "id": "Ml5Cm_xMO92C",
        "colab_type": "text"
      },
      "source": [
        "#### fill in missing values"
      ]
    },
    {
      "cell_type": "code",
      "metadata": {
        "id": "NRd2LF3dO92D",
        "colab_type": "code",
        "colab": {}
      },
      "source": [
        "# fill in missing values with 'NA'"
      ],
      "execution_count": 41,
      "outputs": []
    },
    {
      "cell_type": "code",
      "metadata": {
        "id": "b7vgT-oDO92E",
        "colab_type": "code",
        "colab": {}
      },
      "source": [
        "# modifies 'drinks' in-place"
      ],
      "execution_count": 42,
      "outputs": []
    },
    {
      "cell_type": "code",
      "metadata": {
        "id": "zFe5gUcRO92G",
        "colab_type": "code",
        "colab": {}
      },
      "source": [
        "# turn off the missing value filter\n",
        " # Now North America is back!"
      ],
      "execution_count": 43,
      "outputs": []
    },
    {
      "cell_type": "markdown",
      "metadata": {
        "id": "v18jsWhOO92I",
        "colab_type": "text"
      },
      "source": [
        "### Split-Apply-Combine\n",
        "![Split-Apply-Combine diagram](http://i.imgur.com/yjNkiwL.png)"
      ]
    },
    {
      "cell_type": "code",
      "metadata": {
        "id": "PrVm4TmxO92I",
        "colab_type": "code",
        "colab": {}
      },
      "source": [
        "# for each continent, calculate the mean beer servings\\"
      ],
      "execution_count": 44,
      "outputs": []
    },
    {
      "cell_type": "code",
      "metadata": {
        "id": "txFzNvXbO92K",
        "colab_type": "code",
        "colab": {}
      },
      "source": [
        "# for each continent, calculate the mean of all numeric columns"
      ],
      "execution_count": 45,
      "outputs": []
    },
    {
      "cell_type": "code",
      "metadata": {
        "id": "6mrZ1W-dO92L",
        "colab_type": "code",
        "colab": {}
      },
      "source": [
        "# for each continent, describe beer servings"
      ],
      "execution_count": 46,
      "outputs": []
    },
    {
      "cell_type": "code",
      "metadata": {
        "id": "ihhQCTlIO92N",
        "colab_type": "code",
        "colab": {}
      },
      "source": [
        "# similar, but outputs a DataFrame and can be customized"
      ],
      "execution_count": 47,
      "outputs": []
    },
    {
      "cell_type": "code",
      "metadata": {
        "id": "O6i9TJCJO92U",
        "colab_type": "code",
        "colab": {}
      },
      "source": [
        "# for each continent, describe all numeric columns"
      ],
      "execution_count": 48,
      "outputs": []
    },
    {
      "cell_type": "code",
      "metadata": {
        "id": "E5Ai-IEMO92X",
        "colab_type": "code",
        "colab": {}
      },
      "source": [
        "# for each continent, count the number of occurrences"
      ],
      "execution_count": 49,
      "outputs": []
    },
    {
      "cell_type": "markdown",
      "metadata": {
        "id": "zuZ6UOiMO92b",
        "colab_type": "text"
      },
      "source": [
        "### Other Commonly Used Features"
      ]
    },
    {
      "cell_type": "code",
      "metadata": {
        "id": "SHSr99vhO92b",
        "colab_type": "code",
        "colab": {}
      },
      "source": [
        "# change the data type of a column"
      ],
      "execution_count": 50,
      "outputs": []
    },
    {
      "cell_type": "code",
      "metadata": {
        "id": "z3jafZo6O92d",
        "colab_type": "code",
        "colab": {}
      },
      "source": [
        "# create dummy variables for 'continent' and exclude first dummy column"
      ],
      "execution_count": 51,
      "outputs": []
    },
    {
      "cell_type": "code",
      "metadata": {
        "id": "ErNODe3DO92f",
        "colab_type": "code",
        "colab": {}
      },
      "source": [
        "# concatenate two DataFrames (axis=0 for rows, axis=1 for columns)"
      ],
      "execution_count": 52,
      "outputs": []
    },
    {
      "cell_type": "markdown",
      "metadata": {
        "id": "sNK2NF27O92i",
        "colab_type": "text"
      },
      "source": [
        "### Other Less Used Features"
      ]
    },
    {
      "cell_type": "markdown",
      "metadata": {
        "id": "dzihdWvCO92i",
        "colab_type": "text"
      },
      "source": [
        "#### convert a range of values into descriptive groups"
      ]
    },
    {
      "cell_type": "code",
      "metadata": {
        "id": "L41q0MbFO92i",
        "colab_type": "code",
        "colab": {}
      },
      "source": [
        "# initially set all values to 'low'\n",
        " # change 101-200 to 'med'\n",
        "  # change 201-400 to 'high'"
      ],
      "execution_count": 53,
      "outputs": []
    },
    {
      "cell_type": "code",
      "metadata": {
        "id": "A39UuvqVO92k",
        "colab_type": "code",
        "colab": {}
      },
      "source": [
        "# display a cross-tabulation of two Series\\"
      ],
      "execution_count": 54,
      "outputs": []
    },
    {
      "cell_type": "code",
      "metadata": {
        "id": "JyDLEYl8O92m",
        "colab_type": "code",
        "colab": {}
      },
      "source": [
        "# convert 'beer_level' into the 'category' data type\n",
        "# sorts by the categorical ordering (low to high)"
      ],
      "execution_count": 55,
      "outputs": []
    },
    {
      "cell_type": "markdown",
      "metadata": {
        "id": "5BeQbKKBO92o",
        "colab_type": "text"
      },
      "source": [
        "## A few other useful `pandas` tricks"
      ]
    },
    {
      "cell_type": "code",
      "metadata": {
        "id": "CfEv05JNO92o",
        "colab_type": "code",
        "colab": {}
      },
      "source": [
        "# write a DataFrame out to a CSV\n",
        " # index is used as first column\n",
        "    # ignore index"
      ],
      "execution_count": 56,
      "outputs": []
    },
    {
      "cell_type": "code",
      "metadata": {
        "id": "CcbvARyyO92q",
        "colab_type": "code",
        "colab": {}
      },
      "source": [
        "# create a DataFrame from a dictionary"
      ],
      "execution_count": 57,
      "outputs": []
    },
    {
      "cell_type": "code",
      "metadata": {
        "id": "t2S-1a7qO92s",
        "colab_type": "code",
        "colab": {}
      },
      "source": [
        "# create a DataFrame from a list of lists"
      ],
      "execution_count": 58,
      "outputs": []
    },
    {
      "cell_type": "code",
      "metadata": {
        "id": "j20rBdmDO92u",
        "colab_type": "code",
        "colab": {}
      },
      "source": [
        "# limit which rows are read when reading in a file\n",
        "  # only read first 10 rows\n",
        "  \n",
        "   # skip the first two rows of data"
      ],
      "execution_count": 59,
      "outputs": []
    },
    {
      "cell_type": "code",
      "metadata": {
        "id": "KyXj7X3nO92x",
        "colab_type": "code",
        "colab": {}
      },
      "source": [
        "# change the maximum number of rows and columns printed ('None' means unlimited)\n",
        "  # default is 60 rows\n",
        "   # default is 20 columns\n",
        "   "
      ],
      "execution_count": 60,
      "outputs": []
    },
    {
      "cell_type": "code",
      "metadata": {
        "id": "z6qryphmO92y",
        "colab_type": "code",
        "colab": {}
      },
      "source": [
        "# reset options to defaults\n"
      ],
      "execution_count": 61,
      "outputs": []
    },
    {
      "cell_type": "code",
      "metadata": {
        "id": "5QLVuKNJO920",
        "colab_type": "code",
        "colab": {}
      },
      "source": [
        "# change the options temporarily (settings are restored when you exit the 'with' block)\n"
      ],
      "execution_count": 62,
      "outputs": []
    },
    {
      "cell_type": "code",
      "metadata": {
        "id": "Q0IK3bEkO923",
        "colab_type": "code",
        "colab": {}
      },
      "source": [
        ""
      ],
      "execution_count": 62,
      "outputs": []
    }
  ]
}