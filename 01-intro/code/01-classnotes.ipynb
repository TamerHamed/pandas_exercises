{
  "nbformat": 4,
  "nbformat_minor": 0,
  "metadata": {
    "kernelspec": {
      "display_name": "Python 3",
      "language": "python",
      "name": "python3"
    },
    "language_info": {
      "codemirror_mode": {
        "name": "ipython",
        "version": 3
      },
      "file_extension": ".py",
      "mimetype": "text/x-python",
      "name": "python",
      "nbconvert_exporter": "python",
      "pygments_lexer": "ipython3",
      "version": "3.7.3"
    },
    "colab": {
      "name": "01-classnotes.ipynb",
      "provenance": []
    }
  },
  "cells": [
    {
      "cell_type": "code",
      "metadata": {
        "id": "LT-tPFdh9v_7",
        "colab_type": "code",
        "colab": {}
      },
      "source": [
        "# start with imports\n"
      ],
      "execution_count": 30,
      "outputs": []
    },
    {
      "cell_type": "code",
      "metadata": {
        "id": "bfkSYT0I9wAA",
        "colab_type": "code",
        "colab": {}
      },
      "source": [
        "# try this:\n",
        "\n",
        "# pd.read_csv(r'..\\data\\ufo.csv') # windows"
      ],
      "execution_count": 2,
      "outputs": []
    },
    {
      "cell_type": "code",
      "metadata": {
        "id": "BedT5BBZ9wAE",
        "colab_type": "code",
        "colab": {}
      },
      "source": [
        "# show the first 5 rows of your dataframe:\n"
      ],
      "execution_count": 3,
      "outputs": []
    },
    {
      "cell_type": "code",
      "metadata": {
        "id": "COnMdYoJ9wAH",
        "colab_type": "code",
        "colab": {}
      },
      "source": [
        "# what object type is our df?\n"
      ],
      "execution_count": 4,
      "outputs": []
    },
    {
      "cell_type": "code",
      "metadata": {
        "id": "KOm4HBxm9wAM",
        "colab_type": "code",
        "colab": {}
      },
      "source": [
        "# what about the last few rows?\n"
      ],
      "execution_count": 5,
      "outputs": []
    },
    {
      "cell_type": "code",
      "metadata": {
        "id": "yIe3CwPS9wAP",
        "colab_type": "code",
        "colab": {}
      },
      "source": [
        "# what if I just want a random sample of rows?\n"
      ],
      "execution_count": 6,
      "outputs": []
    },
    {
      "cell_type": "code",
      "metadata": {
        "id": "Irb9aCFv9wAT",
        "colab_type": "code",
        "colab": {}
      },
      "source": [
        "# how big is my dataframe?\n",
        "# rows and columns"
      ],
      "execution_count": 7,
      "outputs": []
    },
    {
      "cell_type": "code",
      "metadata": {
        "id": "E_E7XBpp9wAX",
        "colab_type": "code",
        "colab": {}
      },
      "source": [
        "# what are the column (variable) names?\n"
      ],
      "execution_count": 8,
      "outputs": []
    },
    {
      "cell_type": "code",
      "metadata": {
        "id": "nmKQYT7M9wAb",
        "colab_type": "code",
        "colab": {}
      },
      "source": [
        "# this is a python \"variable\" aka an object.\n"
      ],
      "execution_count": 9,
      "outputs": []
    },
    {
      "cell_type": "code",
      "metadata": {
        "id": "2NSAnnOm9wAe",
        "colab_type": "code",
        "colab": {}
      },
      "source": [
        "# this is a pandas \"variable\" aka a Series or a column.\n"
      ],
      "execution_count": 10,
      "outputs": []
    },
    {
      "cell_type": "code",
      "metadata": {
        "id": "WLputoiA9wAi",
        "colab_type": "code",
        "colab": {}
      },
      "source": [
        "# show me some hi-level stats about my dataframe.\n"
      ],
      "execution_count": 11,
      "outputs": []
    },
    {
      "cell_type": "code",
      "metadata": {
        "id": "LWRGqXAa9wAl",
        "colab_type": "code",
        "colab": {}
      },
      "source": [
        "# now we want to save our results!\n"
      ],
      "execution_count": 12,
      "outputs": []
    },
    {
      "cell_type": "markdown",
      "metadata": {
        "id": "xP7s6L_v9wAn",
        "colab_type": "text"
      },
      "source": [
        "## Let's try this some more"
      ]
    },
    {
      "cell_type": "code",
      "metadata": {
        "collapsed": true,
        "id": "Yjn8PSmC9wAo",
        "colab_type": "code",
        "colab": {}
      },
      "source": [
        "# try a new file:\n"
      ],
      "execution_count": 13,
      "outputs": []
    },
    {
      "cell_type": "code",
      "metadata": {
        "id": "IYqO5ZUa9wAs",
        "colab_type": "code",
        "colab": {}
      },
      "source": [
        "# describe your data\n"
      ],
      "execution_count": 14,
      "outputs": []
    },
    {
      "cell_type": "code",
      "metadata": {
        "id": "otMjzRUg9wAu",
        "colab_type": "code",
        "colab": {}
      },
      "source": [
        "# output these results as a new csv\n"
      ],
      "execution_count": 15,
      "outputs": []
    },
    {
      "cell_type": "code",
      "metadata": {
        "id": "RPUfd9dh9wA1",
        "colab_type": "code",
        "colab": {}
      },
      "source": [
        "# try a tab-separated file:\n"
      ],
      "execution_count": 16,
      "outputs": []
    },
    {
      "cell_type": "code",
      "metadata": {
        "id": "S0kz-wW69wA8",
        "colab_type": "code",
        "colab": {}
      },
      "source": [
        "# try reading a json file format:\n"
      ],
      "execution_count": 17,
      "outputs": []
    },
    {
      "cell_type": "code",
      "metadata": {
        "id": "BV0E1Mv79wBB",
        "colab_type": "code",
        "colab": {}
      },
      "source": [
        "# you can also read files directly from the internet as follows:\n",
        "my_url=\"https://raw.githubusercontent.com/austinlasseter/plotly_dash_tutorial/master/00%20resources/titanic.csv\""
      ],
      "execution_count": 18,
      "outputs": []
    },
    {
      "cell_type": "code",
      "metadata": {
        "id": "LyEdKp0z9wBE",
        "colab_type": "code",
        "colab": {}
      },
      "source": [
        "# now read the url\n"
      ],
      "execution_count": 19,
      "outputs": []
    },
    {
      "cell_type": "markdown",
      "metadata": {
        "id": "tDrtoX0F9wBI",
        "colab_type": "text"
      },
      "source": [
        "## Let's also learn to find files on my machine"
      ]
    },
    {
      "cell_type": "code",
      "metadata": {
        "id": "pCH2bqLV9wBI",
        "colab_type": "code",
        "colab": {}
      },
      "source": [
        "# import two new libraries\n"
      ],
      "execution_count": 20,
      "outputs": []
    },
    {
      "cell_type": "code",
      "metadata": {
        "id": "w3xL3RK69wBN",
        "colab_type": "code",
        "colab": {}
      },
      "source": [
        "# what is my current working directory?\n"
      ],
      "execution_count": 21,
      "outputs": []
    },
    {
      "cell_type": "code",
      "metadata": {
        "id": "9FLEmFCL9wBQ",
        "colab_type": "code",
        "colab": {}
      },
      "source": [
        "# what's in that directory?\n"
      ],
      "execution_count": 22,
      "outputs": []
    },
    {
      "cell_type": "code",
      "metadata": {
        "id": "KymhPmf_9wBU",
        "colab_type": "code",
        "colab": {}
      },
      "source": [
        "# what's the dir above that dir?\n"
      ],
      "execution_count": 23,
      "outputs": []
    },
    {
      "cell_type": "code",
      "metadata": {
        "id": "v_-uklhR9wBX",
        "colab_type": "code",
        "colab": {}
      },
      "source": [
        "# where is my data stored?\n"
      ],
      "execution_count": 24,
      "outputs": []
    },
    {
      "cell_type": "code",
      "metadata": {
        "id": "XbmsyfRe9wBZ",
        "colab_type": "code",
        "colab": {}
      },
      "source": [
        "# build a new path to your data folder\n"
      ],
      "execution_count": 25,
      "outputs": []
    },
    {
      "cell_type": "code",
      "metadata": {
        "id": "qlKQFLBP9wBb",
        "colab_type": "code",
        "colab": {}
      },
      "source": [
        "# what's in my data file?\n"
      ],
      "execution_count": 26,
      "outputs": []
    },
    {
      "cell_type": "code",
      "metadata": {
        "id": "2UukUcJo9wBe",
        "colab_type": "code",
        "colab": {}
      },
      "source": [
        "# FINALLY: build a cast-iron path to my data.\n"
      ],
      "execution_count": 27,
      "outputs": []
    },
    {
      "cell_type": "code",
      "metadata": {
        "id": "9SWf3y5W9wBg",
        "colab_type": "code",
        "colab": {}
      },
      "source": [
        "# now i can read that using pandas:\n"
      ],
      "execution_count": 28,
      "outputs": []
    },
    {
      "cell_type": "code",
      "metadata": {
        "id": "35zGbtlj9wBt",
        "colab_type": "code",
        "colab": {}
      },
      "source": [
        "# try writing a function that will do this"
      ],
      "execution_count": 29,
      "outputs": []
    },
    {
      "cell_type": "code",
      "metadata": {
        "id": "KPlDuHVX9wBw",
        "colab_type": "code",
        "colab": {}
      },
      "source": [
        ""
      ],
      "execution_count": 29,
      "outputs": []
    }
  ]
}