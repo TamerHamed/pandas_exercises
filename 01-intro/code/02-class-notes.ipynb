{
  "nbformat": 4,
  "nbformat_minor": 0,
  "metadata": {
    "kernelspec": {
      "display_name": "Python 3",
      "language": "python",
      "name": "python3"
    },
    "language_info": {
      "codemirror_mode": {
        "name": "ipython",
        "version": 3
      },
      "file_extension": ".py",
      "mimetype": "text/x-python",
      "name": "python",
      "nbconvert_exporter": "python",
      "pygments_lexer": "ipython3",
      "version": "3.7.3"
    },
    "colab": {
      "name": "02-class-notes.ipynb",
      "provenance": []
    }
  },
  "cells": [
    {
      "cell_type": "markdown",
      "metadata": {
        "id": "b4Mcym6i-jnP",
        "colab_type": "text"
      },
      "source": [
        "## Introduction to Pandas\n",
        "Pandas is the most prominent Python library for exploratory data analysis (EDA). The functions Pandas supports are integral to understanding, formatting, and preparing our data. Formally, we use Pandas to investigate, wrangle, munge, and clean our data. Pandas is the Swiss Army Knife of data manipulation!\n",
        "\n",
        "\n",
        "We'll have two coding-heavy sessions on Pandas. In this one, we'll use Pandas to:\n",
        " - Read in a dataset\n",
        " - Investigate a dataset's integrity\n",
        " - Filter, sort, and manipulate a DataFrame's series"
      ]
    },
    {
      "cell_type": "markdown",
      "metadata": {
        "id": "W7-BGYIkBVSO",
        "colab_type": "text"
      },
      "source": [
        "## About the Dataset: Adventureworks Cycles\n",
        "\n",
        "<img align=\"right\" src=\"http://lh6.ggpht.com/_XjcDyZkJqHg/TPaaRcaysbI/AAAAAAAAAFo/b1U3q-qbTjY/AdventureWorks%20Logo%5B5%5D.png?imgmax=800\">\n",
        "\n",
        "For today's Pandas exercises, we will be using a dataset developed by Microsoft for training purposes in SQL server, known the [Adventureworks Cycles 2014OLTP Database](https://github.com/Microsoft/sql-server-samples/releases/tag/adventureworks). It is based on a fictitious company called Adventure Works Cycles (AWC), a multinational manufacturer and seller of bicycles and accessories. The company is based in Bothell, Washington, USA and has regional sales offices in several countries. We will be looking at a single table from this database, the Production.Product table, which outlines some of the products this company sells. \n",
        "\n",
        "A full data dictionary can be viewed [here](https://www.sqldatadictionary.com/AdventureWorks2014/).\n"
      ]
    },
    {
      "cell_type": "code",
      "metadata": {
        "id": "feSuXc9K-jnR",
        "colab_type": "code",
        "colab": {}
      },
      "source": [
        "# imports"
      ],
      "execution_count": null,
      "outputs": []
    },
    {
      "cell_type": "code",
      "metadata": {
        "id": "fx6UJyvR-jni",
        "colab_type": "code",
        "colab": {}
      },
      "source": [
        "# where is the data folder?\n",
        "# https://github.com/austinlasseter/pandas_exercises/tree/master/01-intro/data"
      ],
      "execution_count": null,
      "outputs": []
    },
    {
      "cell_type": "code",
      "metadata": {
        "id": "QQdygSh5-jnt",
        "colab_type": "code",
        "colab": {}
      },
      "source": [
        "# use pandas to read in the datafile\n",
        "path = 'https://raw.githubusercontent.com/austinlasseter/pandas_exercises/master/01-intro/data/Production.Product.csv'"
      ],
      "execution_count": null,
      "outputs": []
    },
    {
      "cell_type": "code",
      "metadata": {
        "id": "OuFShqf2-jnw",
        "colab_type": "code",
        "colab": {}
      },
      "source": [
        "# what is prod?\n"
      ],
      "execution_count": null,
      "outputs": []
    },
    {
      "cell_type": "code",
      "metadata": {
        "id": "NxPrLSL5-jnz",
        "colab_type": "code",
        "colab": {}
      },
      "source": [
        "# how big is it?\n"
      ],
      "execution_count": null,
      "outputs": []
    },
    {
      "cell_type": "code",
      "metadata": {
        "id": "uXjWX1ae-jn2",
        "colab_type": "code",
        "colab": {}
      },
      "source": [
        "# what are the columns?\n"
      ],
      "execution_count": null,
      "outputs": []
    },
    {
      "cell_type": "code",
      "metadata": {
        "id": "batDToV5-jn6",
        "colab_type": "code",
        "colab": {}
      },
      "source": [
        "# what is the index length?\n"
      ],
      "execution_count": null,
      "outputs": []
    },
    {
      "cell_type": "markdown",
      "metadata": {
        "id": "2XMmN-z8-jn9",
        "colab_type": "text"
      },
      "source": [
        "### How to call individual columns"
      ]
    },
    {
      "cell_type": "code",
      "metadata": {
        "id": "5PvYJ_-S-jn9",
        "colab_type": "code",
        "colab": {}
      },
      "source": [
        "# column names"
      ],
      "execution_count": null,
      "outputs": []
    },
    {
      "cell_type": "code",
      "metadata": {
        "id": "iEx5Znk1-joA",
        "colab_type": "code",
        "colab": {}
      },
      "source": [
        "# what is the data type in each column?\n"
      ],
      "execution_count": null,
      "outputs": []
    },
    {
      "cell_type": "code",
      "metadata": {
        "id": "jK6zxWmi-joF",
        "colab_type": "code",
        "colab": {}
      },
      "source": [
        "# How to select an individual column\n",
        "# 3 ways to do this.\n",
        "# First way. use brackets\n"
      ],
      "execution_count": null,
      "outputs": []
    },
    {
      "cell_type": "code",
      "metadata": {
        "id": "nUOrTlaX-joI",
        "colab_type": "code",
        "colab": {}
      },
      "source": [
        "# another way."
      ],
      "execution_count": null,
      "outputs": []
    },
    {
      "cell_type": "code",
      "metadata": {
        "id": "vnE8G6KJ-joK",
        "colab_type": "code",
        "colab": {}
      },
      "source": [
        "# Third way (most typing, best results)\n"
      ],
      "execution_count": null,
      "outputs": []
    },
    {
      "cell_type": "code",
      "metadata": {
        "id": "tvDftSlK-joR",
        "colab_type": "code",
        "colab": {}
      },
      "source": [
        "# The third method allows me to select multiple columns!\n",
        " # first bracket indicates \"list\"\n",
        " # second bracket indicates \"dataframe filter\""
      ],
      "execution_count": null,
      "outputs": []
    },
    {
      "cell_type": "code",
      "metadata": {
        "id": "AnaJnN1P-joU",
        "colab_type": "code",
        "colab": {}
      },
      "source": [
        "# Let's create another filter using brackets!\n"
      ],
      "execution_count": null,
      "outputs": []
    },
    {
      "cell_type": "code",
      "metadata": {
        "id": "Gm1139I9-joW",
        "colab_type": "code",
        "colab": {}
      },
      "source": [
        "# Try 2 things:\n",
        "# call a subset of all columns\n",
        "# create your own simple filter\n",
        "# slack out the results as a screenshot."
      ],
      "execution_count": null,
      "outputs": []
    },
    {
      "cell_type": "code",
      "metadata": {
        "id": "pt9_hCUL-joY",
        "colab_type": "code",
        "colab": {}
      },
      "source": [
        "# what exactly is the filter doing?\n",
        "# prod['Color'].head(10) \n"
      ],
      "execution_count": null,
      "outputs": []
    },
    {
      "cell_type": "code",
      "metadata": {
        "id": "LQXBYVtB-job",
        "colab_type": "code",
        "colab": {}
      },
      "source": [
        "# Null values\n",
        " \n",
        "# turn that into a filter"
      ],
      "execution_count": null,
      "outputs": []
    },
    {
      "cell_type": "code",
      "metadata": {
        "id": "C9eR5Zt0-jod",
        "colab_type": "code",
        "colab": {}
      },
      "source": [
        "# Another example of a filter"
      ],
      "execution_count": null,
      "outputs": []
    },
    {
      "cell_type": "code",
      "metadata": {
        "id": "dnPfs5sK-jof",
        "colab_type": "code",
        "colab": {}
      },
      "source": [
        "# You can call a single (or multiple) column(s) from filtered results"
      ],
      "execution_count": null,
      "outputs": []
    },
    {
      "cell_type": "markdown",
      "metadata": {
        "id": "r7qjVp9i-joh",
        "colab_type": "text"
      },
      "source": [
        "### Calculate some simple summary stats on your dataframe"
      ]
    },
    {
      "cell_type": "code",
      "metadata": {
        "id": "QPtLKX6G-joi",
        "colab_type": "code",
        "colab": {}
      },
      "source": [
        "# describe all columns\n"
      ],
      "execution_count": null,
      "outputs": []
    },
    {
      "cell_type": "code",
      "metadata": {
        "id": "bcs4DJQC-jok",
        "colab_type": "code",
        "colab": {}
      },
      "source": [
        "# describe a single column\n"
      ],
      "execution_count": null,
      "outputs": []
    },
    {
      "cell_type": "code",
      "metadata": {
        "id": "0jPO0aF7-jom",
        "colab_type": "code",
        "colab": {}
      },
      "source": [
        "# Describe a subset of columns\n"
      ],
      "execution_count": null,
      "outputs": []
    },
    {
      "cell_type": "code",
      "metadata": {
        "collapsed": true,
        "id": "gdXqG0mH-joo",
        "colab_type": "code",
        "colab": {}
      },
      "source": [
        "# Describe a subset of these 8 statistics (for the entire dataframe)\n"
      ],
      "execution_count": null,
      "outputs": []
    },
    {
      "cell_type": "code",
      "metadata": {
        "id": "lGx32e0D-jor",
        "colab_type": "code",
        "colab": {}
      },
      "source": [
        "# Describe a subset of these 8 statistics (for a single column)\n"
      ],
      "execution_count": null,
      "outputs": []
    },
    {
      "cell_type": "code",
      "metadata": {
        "id": "CImBOo2u-jos",
        "colab_type": "code",
        "colab": {}
      },
      "source": [
        "# Describe a subset of these 8 statistics (for a subset of columns)\n"
      ],
      "execution_count": null,
      "outputs": []
    },
    {
      "cell_type": "markdown",
      "metadata": {
        "id": "HAJ-3yLg-jow",
        "colab_type": "text"
      },
      "source": [
        "## Renaming some columns"
      ]
    },
    {
      "cell_type": "code",
      "metadata": {
        "id": "3lPbvvLh-jow",
        "colab_type": "code",
        "colab": {}
      },
      "source": [
        "# list columns"
      ],
      "execution_count": null,
      "outputs": []
    },
    {
      "cell_type": "code",
      "metadata": {
        "id": "ZPDQxWUs-joy",
        "colab_type": "code",
        "colab": {}
      },
      "source": [
        "# rename them"
      ],
      "execution_count": null,
      "outputs": []
    },
    {
      "cell_type": "code",
      "metadata": {
        "id": "msLGy13q-jo0",
        "colab_type": "code",
        "colab": {}
      },
      "source": [
        "# overwrite file\n"
      ],
      "execution_count": null,
      "outputs": []
    },
    {
      "cell_type": "code",
      "metadata": {
        "id": "p3CICGMJ-jo2",
        "colab_type": "code",
        "colab": {}
      },
      "source": [
        "# do this with multiple columns\n"
      ],
      "execution_count": null,
      "outputs": []
    },
    {
      "cell_type": "markdown",
      "metadata": {
        "id": "FQpKPNlc-jo4",
        "colab_type": "text"
      },
      "source": [
        "## A few common operations with Pandas"
      ]
    },
    {
      "cell_type": "code",
      "metadata": {
        "id": "bhAsXJsR-jo4",
        "colab_type": "code",
        "colab": {}
      },
      "source": [
        "# Show all values of a categorical variable\n",
        "# don't display null\n",
        " # do display nulls"
      ],
      "execution_count": null,
      "outputs": []
    },
    {
      "cell_type": "code",
      "metadata": {
        "id": "6M-49p-O-jo7",
        "colab_type": "code",
        "colab": {}
      },
      "source": [
        "# display frequencies sorted by the index\n"
      ],
      "execution_count": null,
      "outputs": []
    },
    {
      "cell_type": "code",
      "metadata": {
        "id": "BPwIgHRY-jo-",
        "colab_type": "code",
        "colab": {}
      },
      "source": [
        "# What if I just want a list of the colors?\n"
      ],
      "execution_count": null,
      "outputs": []
    },
    {
      "cell_type": "code",
      "metadata": {
        "id": "XrzMidYg-jpA",
        "colab_type": "code",
        "colab": {}
      },
      "source": [
        "# What if I just want the freqs?"
      ],
      "execution_count": null,
      "outputs": []
    },
    {
      "cell_type": "code",
      "metadata": {
        "id": "onO4khcC-jpC",
        "colab_type": "code",
        "colab": {}
      },
      "source": [
        "# How many UNIQUE colors are there?"
      ],
      "execution_count": null,
      "outputs": []
    },
    {
      "cell_type": "code",
      "metadata": {
        "id": "XkwRfm-S-jpE",
        "colab_type": "code",
        "colab": {}
      },
      "source": [
        "# List the unique colors\n"
      ],
      "execution_count": null,
      "outputs": []
    },
    {
      "cell_type": "code",
      "metadata": {
        "id": "Rb3TLAbT-jpH",
        "colab_type": "code",
        "colab": {}
      },
      "source": [
        ""
      ],
      "execution_count": null,
      "outputs": []
    }
  ]
}