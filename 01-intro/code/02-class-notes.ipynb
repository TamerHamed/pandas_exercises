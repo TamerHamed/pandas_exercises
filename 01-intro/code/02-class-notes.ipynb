{
  "nbformat": 4,
  "nbformat_minor": 0,
  "metadata": {
    "kernelspec": {
      "display_name": "Python 3",
      "language": "python",
      "name": "python3"
    },
    "language_info": {
      "codemirror_mode": {
        "name": "ipython",
        "version": 3
      },
      "file_extension": ".py",
      "mimetype": "text/x-python",
      "name": "python",
      "nbconvert_exporter": "python",
      "pygments_lexer": "ipython3",
      "version": "3.7.3"
    },
    "colab": {
      "name": "02-class-notes.ipynb",
      "provenance": []
    }
  },
  "cells": [
    {
      "cell_type": "markdown",
      "metadata": {
        "id": "b4Mcym6i-jnP",
        "colab_type": "text"
      },
      "source": [
        "## Introduction to Pandas"
      ]
    },
    {
      "cell_type": "code",
      "metadata": {
        "id": "feSuXc9K-jnR",
        "colab_type": "code",
        "colab": {}
      },
      "source": [
        "# imports"
      ],
      "execution_count": 2,
      "outputs": []
    },
    {
      "cell_type": "code",
      "metadata": {
        "id": "fx6UJyvR-jni",
        "colab_type": "code",
        "colab": {}
      },
      "source": [
        "# where is the data folder?\n",
        "# https://github.com/austinlasseter/pandas_exercises/tree/master/01-intro/data"
      ],
      "execution_count": 3,
      "outputs": []
    },
    {
      "cell_type": "code",
      "metadata": {
        "id": "QQdygSh5-jnt",
        "colab_type": "code",
        "colab": {}
      },
      "source": [
        "# use pandas to read in the datafile\n",
        "path = 'https://raw.githubusercontent.com/austinlasseter/pandas_exercises/master/01-intro/data/Production.Product.csv'"
      ],
      "execution_count": 4,
      "outputs": []
    },
    {
      "cell_type": "code",
      "metadata": {
        "id": "OuFShqf2-jnw",
        "colab_type": "code",
        "colab": {}
      },
      "source": [
        "# what is prod?\n"
      ],
      "execution_count": 5,
      "outputs": []
    },
    {
      "cell_type": "code",
      "metadata": {
        "id": "NxPrLSL5-jnz",
        "colab_type": "code",
        "colab": {}
      },
      "source": [
        "# how big is it?\n"
      ],
      "execution_count": 6,
      "outputs": []
    },
    {
      "cell_type": "code",
      "metadata": {
        "id": "uXjWX1ae-jn2",
        "colab_type": "code",
        "colab": {}
      },
      "source": [
        "# what are the columns?\n"
      ],
      "execution_count": 7,
      "outputs": []
    },
    {
      "cell_type": "code",
      "metadata": {
        "id": "batDToV5-jn6",
        "colab_type": "code",
        "colab": {}
      },
      "source": [
        "# what is the index length?\n"
      ],
      "execution_count": 8,
      "outputs": []
    },
    {
      "cell_type": "markdown",
      "metadata": {
        "id": "2XMmN-z8-jn9",
        "colab_type": "text"
      },
      "source": [
        "### How to call individual columns"
      ]
    },
    {
      "cell_type": "code",
      "metadata": {
        "id": "5PvYJ_-S-jn9",
        "colab_type": "code",
        "colab": {}
      },
      "source": [
        "# column names"
      ],
      "execution_count": 9,
      "outputs": []
    },
    {
      "cell_type": "code",
      "metadata": {
        "id": "iEx5Znk1-joA",
        "colab_type": "code",
        "colab": {}
      },
      "source": [
        "# what is the data type in each column?\n"
      ],
      "execution_count": 10,
      "outputs": []
    },
    {
      "cell_type": "code",
      "metadata": {
        "id": "jK6zxWmi-joF",
        "colab_type": "code",
        "colab": {}
      },
      "source": [
        "# How to select an individual column\n",
        "# 3 ways to do this.\n",
        "# First way. use brackets\n"
      ],
      "execution_count": 11,
      "outputs": []
    },
    {
      "cell_type": "code",
      "metadata": {
        "id": "nUOrTlaX-joI",
        "colab_type": "code",
        "colab": {}
      },
      "source": [
        "# another way."
      ],
      "execution_count": 12,
      "outputs": []
    },
    {
      "cell_type": "code",
      "metadata": {
        "id": "vnE8G6KJ-joK",
        "colab_type": "code",
        "colab": {}
      },
      "source": [
        "# Third way (most typing, best results)\n"
      ],
      "execution_count": 13,
      "outputs": []
    },
    {
      "cell_type": "code",
      "metadata": {
        "id": "tvDftSlK-joR",
        "colab_type": "code",
        "colab": {}
      },
      "source": [
        "# The third method allows me to select multiple columns!\n",
        " # first bracket indicates \"list\"\n",
        " # second bracket indicates \"dataframe filter\""
      ],
      "execution_count": 14,
      "outputs": []
    },
    {
      "cell_type": "code",
      "metadata": {
        "collapsed": true,
        "id": "AnaJnN1P-joU",
        "colab_type": "code",
        "colab": {}
      },
      "source": [
        "# Let's create another filter using brackets!\n"
      ],
      "execution_count": 15,
      "outputs": []
    },
    {
      "cell_type": "code",
      "metadata": {
        "id": "Gm1139I9-joW",
        "colab_type": "code",
        "colab": {}
      },
      "source": [
        "# Try 2 things:\n",
        "# call a subset of all columns\n",
        "# create your own simple filter\n",
        "# slack out the results as a screenshot."
      ],
      "execution_count": 16,
      "outputs": []
    },
    {
      "cell_type": "code",
      "metadata": {
        "id": "pt9_hCUL-joY",
        "colab_type": "code",
        "colab": {}
      },
      "source": [
        "# what exactly is the filter doing?\n",
        "# prod['Color'].head(10) \n"
      ],
      "execution_count": 17,
      "outputs": []
    },
    {
      "cell_type": "code",
      "metadata": {
        "id": "LQXBYVtB-job",
        "colab_type": "code",
        "colab": {}
      },
      "source": [
        "# Null values\n",
        " \n",
        "# turn that into a filter"
      ],
      "execution_count": 18,
      "outputs": []
    },
    {
      "cell_type": "code",
      "metadata": {
        "collapsed": true,
        "id": "C9eR5Zt0-jod",
        "colab_type": "code",
        "colab": {}
      },
      "source": [
        "# Another example of a filter"
      ],
      "execution_count": 19,
      "outputs": []
    },
    {
      "cell_type": "code",
      "metadata": {
        "id": "dnPfs5sK-jof",
        "colab_type": "code",
        "colab": {}
      },
      "source": [
        "# You can call a single (or multiple) column(s) from filtered results"
      ],
      "execution_count": 20,
      "outputs": []
    },
    {
      "cell_type": "markdown",
      "metadata": {
        "id": "r7qjVp9i-joh",
        "colab_type": "text"
      },
      "source": [
        "### Calculate some simple summary stats on your dataframe"
      ]
    },
    {
      "cell_type": "code",
      "metadata": {
        "id": "QPtLKX6G-joi",
        "colab_type": "code",
        "colab": {}
      },
      "source": [
        "# describe all columns\n"
      ],
      "execution_count": 21,
      "outputs": []
    },
    {
      "cell_type": "code",
      "metadata": {
        "id": "bcs4DJQC-jok",
        "colab_type": "code",
        "colab": {}
      },
      "source": [
        "# describe a single column\n"
      ],
      "execution_count": 22,
      "outputs": []
    },
    {
      "cell_type": "code",
      "metadata": {
        "id": "0jPO0aF7-jom",
        "colab_type": "code",
        "colab": {}
      },
      "source": [
        "# Describe a subset of columns\n"
      ],
      "execution_count": 23,
      "outputs": []
    },
    {
      "cell_type": "code",
      "metadata": {
        "collapsed": true,
        "id": "gdXqG0mH-joo",
        "colab_type": "code",
        "colab": {}
      },
      "source": [
        "# Describe a subset of these 8 statistics (for the entire dataframe)\n"
      ],
      "execution_count": 24,
      "outputs": []
    },
    {
      "cell_type": "code",
      "metadata": {
        "id": "lGx32e0D-jor",
        "colab_type": "code",
        "colab": {}
      },
      "source": [
        "# Describe a subset of these 8 statistics (for a single column)\n"
      ],
      "execution_count": 25,
      "outputs": []
    },
    {
      "cell_type": "code",
      "metadata": {
        "id": "CImBOo2u-jos",
        "colab_type": "code",
        "colab": {}
      },
      "source": [
        "# Describe a subset of these 8 statistics (for a subset of columns)\n"
      ],
      "execution_count": 26,
      "outputs": []
    },
    {
      "cell_type": "markdown",
      "metadata": {
        "id": "HAJ-3yLg-jow",
        "colab_type": "text"
      },
      "source": [
        "## Renaming some columns"
      ]
    },
    {
      "cell_type": "code",
      "metadata": {
        "id": "3lPbvvLh-jow",
        "colab_type": "code",
        "colab": {}
      },
      "source": [
        "# list columns"
      ],
      "execution_count": 27,
      "outputs": []
    },
    {
      "cell_type": "code",
      "metadata": {
        "id": "ZPDQxWUs-joy",
        "colab_type": "code",
        "colab": {}
      },
      "source": [
        "# rename them"
      ],
      "execution_count": 28,
      "outputs": []
    },
    {
      "cell_type": "code",
      "metadata": {
        "id": "msLGy13q-jo0",
        "colab_type": "code",
        "colab": {}
      },
      "source": [
        "# overwrite file\n"
      ],
      "execution_count": 29,
      "outputs": []
    },
    {
      "cell_type": "code",
      "metadata": {
        "collapsed": true,
        "id": "p3CICGMJ-jo2",
        "colab_type": "code",
        "colab": {}
      },
      "source": [
        "# do this with multiple columns\n"
      ],
      "execution_count": 30,
      "outputs": []
    },
    {
      "cell_type": "markdown",
      "metadata": {
        "id": "FQpKPNlc-jo4",
        "colab_type": "text"
      },
      "source": [
        "## A few common operations with Pandas"
      ]
    },
    {
      "cell_type": "code",
      "metadata": {
        "id": "bhAsXJsR-jo4",
        "colab_type": "code",
        "colab": {}
      },
      "source": [
        "# Show all values of a categorical variable\n",
        "# don't display null\n",
        " # do display nulls"
      ],
      "execution_count": 31,
      "outputs": []
    },
    {
      "cell_type": "code",
      "metadata": {
        "id": "6M-49p-O-jo7",
        "colab_type": "code",
        "colab": {}
      },
      "source": [
        "# display frequencies sorted by the index\n"
      ],
      "execution_count": 32,
      "outputs": []
    },
    {
      "cell_type": "code",
      "metadata": {
        "id": "BPwIgHRY-jo-",
        "colab_type": "code",
        "colab": {}
      },
      "source": [
        "# What if I just want a list of the colors?\n"
      ],
      "execution_count": 33,
      "outputs": []
    },
    {
      "cell_type": "code",
      "metadata": {
        "id": "XrzMidYg-jpA",
        "colab_type": "code",
        "colab": {}
      },
      "source": [
        "# What if I just want the freqs?"
      ],
      "execution_count": 34,
      "outputs": []
    },
    {
      "cell_type": "code",
      "metadata": {
        "id": "onO4khcC-jpC",
        "colab_type": "code",
        "colab": {}
      },
      "source": [
        "# How many UNIQUE colors are there?"
      ],
      "execution_count": 35,
      "outputs": []
    },
    {
      "cell_type": "code",
      "metadata": {
        "id": "XkwRfm-S-jpE",
        "colab_type": "code",
        "colab": {}
      },
      "source": [
        "# List the unique colors\n"
      ],
      "execution_count": 36,
      "outputs": []
    },
    {
      "cell_type": "code",
      "metadata": {
        "id": "Rb3TLAbT-jpH",
        "colab_type": "code",
        "colab": {}
      },
      "source": [
        ""
      ],
      "execution_count": 36,
      "outputs": []
    }
  ]
}